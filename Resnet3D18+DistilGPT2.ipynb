{
 "cells": [
  {
   "cell_type": "markdown",
   "id": "3a60a15a",
   "metadata": {
    "papermill": {
     "duration": 0.004575,
     "end_time": "2025-01-26T16:38:40.679636",
     "exception": false,
     "start_time": "2025-01-26T16:38:40.675061",
     "status": "completed"
    },
    "tags": []
   },
   "source": [
    "# Imports"
   ]
  },
  {
   "cell_type": "code",
   "execution_count": 1,
   "id": "2e445392",
   "metadata": {
    "execution": {
     "iopub.execute_input": "2025-01-26T16:38:40.688714Z",
     "iopub.status.busy": "2025-01-26T16:38:40.688375Z",
     "iopub.status.idle": "2025-01-26T16:38:52.459241Z",
     "shell.execute_reply": "2025-01-26T16:38:52.458492Z"
    },
    "papermill": {
     "duration": 11.777146,
     "end_time": "2025-01-26T16:38:52.460853",
     "exception": false,
     "start_time": "2025-01-26T16:38:40.683707",
     "status": "completed"
    },
    "tags": []
   },
   "outputs": [],
   "source": [
    "import torchvision\n",
    "import torch\n",
    "import pandas as pd\n",
    "import numpy as np\n",
    "from torch.utils.data import Dataset, DataLoader\n",
    "from transformers import AutoTokenizer, AutoModelForCausalLM\n",
    "import torch.nn as nn\n",
    "import torch.optim as optim\n",
    "from sklearn.model_selection import train_test_split\n",
    "from tqdm import tqdm\n",
    "import cv2\n",
    "import json\n",
    "import matplotlib.pyplot as plt\n",
    "from nltk.translate.bleu_score import sentence_bleu, SmoothingFunction \n",
    "import os\n",
    "from torchvision.models.video import r3d_18  # Added for 3D ResNet"
   ]
  },
  {
   "cell_type": "markdown",
   "id": "2958bb89",
   "metadata": {
    "papermill": {
     "duration": 0.003609,
     "end_time": "2025-01-26T16:38:52.468647",
     "exception": false,
     "start_time": "2025-01-26T16:38:52.465038",
     "status": "completed"
    },
    "tags": []
   },
   "source": [
    "# Configuration"
   ]
  },
  {
   "cell_type": "code",
   "execution_count": 2,
   "id": "bfcce1f0",
   "metadata": {
    "execution": {
     "iopub.execute_input": "2025-01-26T16:38:52.477053Z",
     "iopub.status.busy": "2025-01-26T16:38:52.476594Z",
     "iopub.status.idle": "2025-01-26T16:38:52.481299Z",
     "shell.execute_reply": "2025-01-26T16:38:52.480462Z"
    },
    "papermill": {
     "duration": 0.010424,
     "end_time": "2025-01-26T16:38:52.482659",
     "exception": false,
     "start_time": "2025-01-26T16:38:52.472235",
     "status": "completed"
    },
    "tags": []
   },
   "outputs": [],
   "source": [
    "class Config:\n",
    "    decoder_id = \"distilbert/distilgpt2\"\n",
    "    max_length = 128\n",
    "    batch_size = 8\n",
    "    num_frames = 10\n",
    "    img_size = 224\n",
    "    num_epochs = 100  \n",
    "    lr = 3e-5\n",
    "    csv_path = \"/kaggle/input/videocap/processed_data.csv\"  \n",
    "    grad_clip = 1.0\n",
    "    train_ratio = 0.7\n",
    "    val_ratio = 0.15\n",
    "    test_ratio = 0.15\n",
    "    seed = 42\n",
    "    model_save_path = \"video_qa_model.pth\"\n",
    "    results_file = \"training_results.json\"\n",
    "    patience = 10 \n",
    "    bleu_smoothing = SmoothingFunction().method1 \n",
    "    checkpoint_dir = \"checkpoints\" \n",
    "    save_every_epoch = False \n",
    "    final_model_path = \"final_video_qa_model.pth\" \n",
    "    best_checkpoint_path = os.path.join(\"checkpoints\", \"best_checkpoint.pth\") "
   ]
  },
  {
   "cell_type": "markdown",
   "id": "766534bb",
   "metadata": {
    "papermill": {
     "duration": 0.003617,
     "end_time": "2025-01-26T16:38:52.490062",
     "exception": false,
     "start_time": "2025-01-26T16:38:52.486445",
     "status": "completed"
    },
    "tags": []
   },
   "source": [
    "# Dataset"
   ]
  },
  {
   "cell_type": "code",
   "execution_count": 3,
   "id": "21f36039",
   "metadata": {
    "execution": {
     "iopub.execute_input": "2025-01-26T16:38:52.498623Z",
     "iopub.status.busy": "2025-01-26T16:38:52.498360Z",
     "iopub.status.idle": "2025-01-26T16:38:52.505699Z",
     "shell.execute_reply": "2025-01-26T16:38:52.505096Z"
    },
    "papermill": {
     "duration": 0.0131,
     "end_time": "2025-01-26T16:38:52.506964",
     "exception": false,
     "start_time": "2025-01-26T16:38:52.493864",
     "status": "completed"
    },
    "tags": []
   },
   "outputs": [],
   "source": [
    "# Cell 2: Dataset Class\n",
    "class VideoQADataset(Dataset):\n",
    "    def __init__(self, df, tokenizer):\n",
    "        self.df = df\n",
    "        self.tokenizer = tokenizer\n",
    "        self.tokenizer.pad_token = self.tokenizer.eos_token\n",
    "\n",
    "    def __len__(self):\n",
    "        return len(self.df)\n",
    "\n",
    "    def __getitem__(self, idx):\n",
    "        row = self.df.iloc[idx]\n",
    "        video_tensor = self._load_video_frames(row['path'])\n",
    "\n",
    "        text = f\"Question: {row['questions']} Answer: {row['refined_answer']}\"\n",
    "        encoding = self.tokenizer(\n",
    "            text,\n",
    "            max_length=Config.max_length-1,\n",
    "            padding='max_length',\n",
    "            truncation=True,\n",
    "            return_tensors='pt'\n",
    "        )\n",
    "\n",
    "        return {\n",
    "            'video': video_tensor,\n",
    "            'input_ids': encoding['input_ids'].squeeze(),\n",
    "            'attention_mask': encoding['attention_mask'].squeeze()\n",
    "        }\n",
    "\n",
    "    def _load_video_frames(self, video_path):\n",
    "        frames = []\n",
    "        try:\n",
    "            cap = cv2.VideoCapture(video_path)\n",
    "            while len(frames) < Config.num_frames:\n",
    "                ret, frame = cap.read()\n",
    "                if not ret: break\n",
    "                frame = cv2.cvtColor(frame, cv2.COLOR_BGR2RGB)\n",
    "                frame = cv2.resize(frame, (Config.img_size, Config.img_size))\n",
    "                frames.append(frame)\n",
    "            cap.release()\n",
    "        except Exception as e:\n",
    "            print(f\"Error loading {video_path}: {e}\")\n",
    "            # Handle corrupted video by returning black frames instead of crashing\n",
    "            return torch.zeros((Config.num_frames, 3, Config.img_size, Config.img_size))\n",
    "\n",
    "\n",
    "        if not frames:\n",
    "            frames = [np.zeros((Config.img_size, Config.img_size, 3), dtype=np.uint8)] * Config.num_frames\n",
    "\n",
    "        frames = frames[:Config.num_frames]\n",
    "        if len(frames) < Config.num_frames:\n",
    "            frames += [frames[-1]] * (Config.num_frames - len(frames))\n",
    "\n",
    "        video_tensor = torch.tensor(np.array(frames)).float() / 255.0\n",
    "        return video_tensor.permute(0, 3, 1, 2)\n"
   ]
  },
  {
   "cell_type": "markdown",
   "id": "d0a7f4a6",
   "metadata": {
    "papermill": {
     "duration": 0.003495,
     "end_time": "2025-01-26T16:38:52.514138",
     "exception": false,
     "start_time": "2025-01-26T16:38:52.510643",
     "status": "completed"
    },
    "tags": []
   },
   "source": [
    "# Model Architecture"
   ]
  },
  {
   "cell_type": "code",
   "execution_count": 4,
   "id": "ba481e76",
   "metadata": {
    "execution": {
     "iopub.execute_input": "2025-01-26T16:38:52.522179Z",
     "iopub.status.busy": "2025-01-26T16:38:52.521968Z",
     "iopub.status.idle": "2025-01-26T16:38:52.529870Z",
     "shell.execute_reply": "2025-01-26T16:38:52.529048Z"
    },
    "papermill": {
     "duration": 0.013177,
     "end_time": "2025-01-26T16:38:52.530994",
     "exception": false,
     "start_time": "2025-01-26T16:38:52.517817",
     "status": "completed"
    },
    "tags": []
   },
   "outputs": [],
   "source": [
    "class VideoEncoder(nn.Module):\n",
    "    def __init__(self):\n",
    "        super().__init__()\n",
    "        # Load 3D ResNet-18 with pretrained weights\n",
    "        self.backbone = r3d_18(pretrained=True)\n",
    "        # Remove avgpool and fc layers\n",
    "        self.backbone = nn.Sequential(*list(self.backbone.children())[:-2])\n",
    "        self.global_pool = nn.AdaptiveAvgPool3d(1)\n",
    "\n",
    "        for param in self.backbone.parameters():\n",
    "            param.requires_grad = False\n",
    "\n",
    "    def forward(self, x):\n",
    "        # Input shape: (B, T, C, H, W)\n",
    "        B, T, C, H, W = x.shape\n",
    "        # Rearrange to (B, C, T, H, W) for 3D CNN\n",
    "        x = x.permute(0, 2, 1, 3, 4)\n",
    "        \n",
    "        # Normalization (ImageNet stats)\n",
    "        mean = torch.tensor([0.485, 0.456, 0.406]).to(x.device).view(1, 3, 1, 1, 1)\n",
    "        std = torch.tensor([0.229, 0.224, 0.225]).to(x.device).view(1, 3, 1, 1, 1)\n",
    "        x = (x - mean) / std\n",
    "        \n",
    "        # Forward pass through 3D CNN\n",
    "        features = self.backbone(x)  # (B, 512, t, h, w)\n",
    "        features = self.global_pool(features)  # (B, 512, 1, 1, 1)\n",
    "        return features.view(B, -1)  # Flatten to (B, 512)\n",
    "\n",
    "class VideoQAModel(nn.Module):\n",
    "    def __init__(self):\n",
    "        super().__init__()\n",
    "        self.encoder = VideoEncoder()\n",
    "        self.decoder = AutoModelForCausalLM.from_pretrained(Config.decoder_id)\n",
    "        self.proj = nn.Linear(512, self.decoder.config.hidden_size)\n",
    "\n",
    "    def forward(self, video, input_ids, attention_mask, labels=None):\n",
    "        video_features = self.encoder(video)\n",
    "        video_features = self.proj(video_features)\n",
    "\n",
    "        text_embeds = self.decoder.get_input_embeddings()(input_ids)\n",
    "        combined_embeds = torch.cat([video_features.unsqueeze(1), text_embeds], dim=1)\n",
    "        combined_mask = torch.cat([\n",
    "            torch.ones(video.size(0), 1).to(attention_mask.device),\n",
    "            attention_mask\n",
    "        ], dim=1)\n",
    "\n",
    "        if labels is not None:\n",
    "            labels = torch.cat([\n",
    "                torch.full((input_ids.size(0), 1), -100, device=labels.device, dtype=torch.long),\n",
    "                input_ids\n",
    "            ], dim=1)\n",
    "\n",
    "        return self.decoder(\n",
    "            inputs_embeds=combined_embeds,\n",
    "            attention_mask=combined_mask,\n",
    "            labels=labels\n",
    "        )"
   ]
  },
  {
   "cell_type": "markdown",
   "id": "c6426f6a",
   "metadata": {
    "papermill": {
     "duration": 0.003604,
     "end_time": "2025-01-26T16:38:52.538346",
     "exception": false,
     "start_time": "2025-01-26T16:38:52.534742",
     "status": "completed"
    },
    "tags": []
   },
   "source": [
    "# Data Preparation"
   ]
  },
  {
   "cell_type": "code",
   "execution_count": 5,
   "id": "964f4088",
   "metadata": {
    "execution": {
     "iopub.execute_input": "2025-01-26T16:38:52.546653Z",
     "iopub.status.busy": "2025-01-26T16:38:52.546368Z",
     "iopub.status.idle": "2025-01-26T16:38:52.751321Z",
     "shell.execute_reply": "2025-01-26T16:38:52.750533Z"
    },
    "papermill": {
     "duration": 0.210787,
     "end_time": "2025-01-26T16:38:52.752895",
     "exception": false,
     "start_time": "2025-01-26T16:38:52.542108",
     "status": "completed"
    },
    "tags": []
   },
   "outputs": [
    {
     "name": "stdout",
     "output_type": "stream",
     "text": [
      "Dataset sizes:\n",
      "Train: 4766\n",
      "Validation: 1022\n",
      "Test: 1022\n"
     ]
    }
   ],
   "source": [
    "df = pd.read_csv(Config.csv_path)\n",
    "train_df, test_df = train_test_split(\n",
    "    df,\n",
    "    test_size=1-Config.train_ratio,\n",
    "    stratify=df['class'],\n",
    "    random_state=Config.seed\n",
    ")\n",
    "\n",
    "val_df, test_df = train_test_split(\n",
    "    test_df,\n",
    "    test_size=Config.test_ratio/(Config.test_ratio+Config.val_ratio),\n",
    "    stratify=test_df['class'],\n",
    "    random_state=Config.seed\n",
    ")\n",
    "\n",
    "print(f\"Dataset sizes:\")\n",
    "print(f\"Train: {len(train_df)}\")\n",
    "print(f\"Validation: {len(val_df)}\")\n",
    "print(f\"Test: {len(test_df)}\")"
   ]
  },
  {
   "cell_type": "markdown",
   "id": "bcb8ac1b",
   "metadata": {
    "papermill": {
     "duration": 0.003619,
     "end_time": "2025-01-26T16:38:52.760778",
     "exception": false,
     "start_time": "2025-01-26T16:38:52.757159",
     "status": "completed"
    },
    "tags": []
   },
   "source": [
    "# Training Setup"
   ]
  },
  {
   "cell_type": "code",
   "execution_count": 6,
   "id": "08adbb70",
   "metadata": {
    "execution": {
     "iopub.execute_input": "2025-01-26T16:38:52.768983Z",
     "iopub.status.busy": "2025-01-26T16:38:52.768757Z",
     "iopub.status.idle": "2025-01-26T16:39:10.835309Z",
     "shell.execute_reply": "2025-01-26T16:39:10.834338Z"
    },
    "papermill": {
     "duration": 18.07225,
     "end_time": "2025-01-26T16:39:10.836705",
     "exception": false,
     "start_time": "2025-01-26T16:38:52.764455",
     "status": "completed"
    },
    "tags": []
   },
   "outputs": [
    {
     "name": "stdout",
     "output_type": "stream",
     "text": [
      "\n",
      "Using device: cuda\n"
     ]
    },
    {
     "data": {
      "application/vnd.jupyter.widget-view+json": {
       "model_id": "352d52aac23c4380a277a7fa8f3d592f",
       "version_major": 2,
       "version_minor": 0
      },
      "text/plain": [
       "tokenizer_config.json:   0%|          | 0.00/26.0 [00:00<?, ?B/s]"
      ]
     },
     "metadata": {},
     "output_type": "display_data"
    },
    {
     "data": {
      "application/vnd.jupyter.widget-view+json": {
       "model_id": "4a8b8ffc2d3640ed8041276b0f700c22",
       "version_major": 2,
       "version_minor": 0
      },
      "text/plain": [
       "config.json:   0%|          | 0.00/762 [00:00<?, ?B/s]"
      ]
     },
     "metadata": {},
     "output_type": "display_data"
    },
    {
     "data": {
      "application/vnd.jupyter.widget-view+json": {
       "model_id": "0892c9eab04c4347b5829cc9ef60f982",
       "version_major": 2,
       "version_minor": 0
      },
      "text/plain": [
       "vocab.json:   0%|          | 0.00/1.04M [00:00<?, ?B/s]"
      ]
     },
     "metadata": {},
     "output_type": "display_data"
    },
    {
     "data": {
      "application/vnd.jupyter.widget-view+json": {
       "model_id": "695390e394fe4242b15cde58aae784cb",
       "version_major": 2,
       "version_minor": 0
      },
      "text/plain": [
       "merges.txt:   0%|          | 0.00/456k [00:00<?, ?B/s]"
      ]
     },
     "metadata": {},
     "output_type": "display_data"
    },
    {
     "data": {
      "application/vnd.jupyter.widget-view+json": {
       "model_id": "65c77b8609814da38fbcd3fedf0aba29",
       "version_major": 2,
       "version_minor": 0
      },
      "text/plain": [
       "tokenizer.json:   0%|          | 0.00/1.36M [00:00<?, ?B/s]"
      ]
     },
     "metadata": {},
     "output_type": "display_data"
    },
    {
     "name": "stderr",
     "output_type": "stream",
     "text": [
      "/usr/local/lib/python3.10/dist-packages/torchvision/models/_utils.py:208: UserWarning: The parameter 'pretrained' is deprecated since 0.13 and may be removed in the future, please use 'weights' instead.\n",
      "  warnings.warn(\n",
      "/usr/local/lib/python3.10/dist-packages/torchvision/models/_utils.py:223: UserWarning: Arguments other than a weight enum or `None` for 'weights' are deprecated since 0.13 and may be removed in the future. The current behavior is equivalent to passing `weights=R3D_18_Weights.KINETICS400_V1`. You can also use `weights=R3D_18_Weights.DEFAULT` to get the most up-to-date weights.\n",
      "  warnings.warn(msg)\n",
      "Downloading: \"https://download.pytorch.org/models/r3d_18-b3b3357e.pth\" to /root/.cache/torch/hub/checkpoints/r3d_18-b3b3357e.pth\n",
      "100%|██████████| 127M/127M [00:01<00:00, 89.0MB/s]\n"
     ]
    },
    {
     "data": {
      "application/vnd.jupyter.widget-view+json": {
       "model_id": "f6d33535096d453fbb51d05dd1a9617b",
       "version_major": 2,
       "version_minor": 0
      },
      "text/plain": [
       "model.safetensors:   0%|          | 0.00/353M [00:00<?, ?B/s]"
      ]
     },
     "metadata": {},
     "output_type": "display_data"
    },
    {
     "data": {
      "application/vnd.jupyter.widget-view+json": {
       "model_id": "6c720c58cba540648a00887cd7af4f33",
       "version_major": 2,
       "version_minor": 0
      },
      "text/plain": [
       "generation_config.json:   0%|          | 0.00/124 [00:00<?, ?B/s]"
      ]
     },
     "metadata": {},
     "output_type": "display_data"
    },
    {
     "name": "stderr",
     "output_type": "stream",
     "text": [
      "<ipython-input-6-2e7f1552e229>:13: FutureWarning: `torch.cuda.amp.GradScaler(args...)` is deprecated. Please use `torch.amp.GradScaler('cuda', args...)` instead.\n",
      "  scaler = torch.cuda.amp.GradScaler()\n"
     ]
    }
   ],
   "source": [
    "device = torch.device('cuda' if torch.cuda.is_available() else 'cpu')\n",
    "print(f\"\\nUsing device: {device}\")\n",
    "\n",
    "tokenizer = AutoTokenizer.from_pretrained(Config.decoder_id)\n",
    "train_dataset = VideoQADataset(train_df, tokenizer)\n",
    "val_dataset = VideoQADataset(val_df, tokenizer)\n",
    "\n",
    "train_loader = DataLoader(train_dataset, batch_size=Config.batch_size, shuffle=True, num_workers=2) \n",
    "val_loader = DataLoader(val_dataset, batch_size=Config.batch_size, num_workers=2)\n",
    "\n",
    "model = VideoQAModel().to(device)\n",
    "optimizer = optim.AdamW(model.parameters(), lr=Config.lr)\n",
    "scaler = torch.cuda.amp.GradScaler()"
   ]
  },
  {
   "cell_type": "markdown",
   "id": "90491473",
   "metadata": {
    "papermill": {
     "duration": 0.005226,
     "end_time": "2025-01-26T16:39:10.848022",
     "exception": false,
     "start_time": "2025-01-26T16:39:10.842796",
     "status": "completed"
    },
    "tags": []
   },
   "source": [
    "# Training "
   ]
  },
  {
   "cell_type": "code",
   "execution_count": 7,
   "id": "c5a847f7",
   "metadata": {
    "execution": {
     "iopub.execute_input": "2025-01-26T16:39:10.859923Z",
     "iopub.status.busy": "2025-01-26T16:39:10.859416Z",
     "iopub.status.idle": "2025-01-26T21:54:04.540296Z",
     "shell.execute_reply": "2025-01-26T21:54:04.539095Z"
    },
    "papermill": {
     "duration": 18893.688363,
     "end_time": "2025-01-26T21:54:04.541723",
     "exception": false,
     "start_time": "2025-01-26T16:39:10.853360",
     "status": "completed"
    },
    "tags": []
   },
   "outputs": [
    {
     "name": "stderr",
     "output_type": "stream",
     "text": [
      "Epoch 1/100 [Training]:   0%|          | 0/596 [00:00<?, ?it/s]<ipython-input-7-718089307c58>:25: FutureWarning: `torch.cuda.amp.autocast(args...)` is deprecated. Please use `torch.amp.autocast('cuda', args...)` instead.\n",
      "  with torch.cuda.amp.autocast():\n",
      "Epoch 1/100 [Training]: 100%|██████████| 596/596 [06:30<00:00,  1.53it/s, loss=0.757]\n",
      "Epoch 1/100 [Validating]: 100%|██████████| 128/128 [01:20<00:00,  1.59it/s, loss=1.21]\n"
     ]
    },
    {
     "name": "stdout",
     "output_type": "stream",
     "text": [
      "\n",
      "Epoch 1: Validation loss improved, saved new best model to video_qa_model.pth and best checkpoint to checkpoints/best_checkpoint.pth\n",
      "\n",
      "Epoch 1 Summary:\n",
      "Train Loss: 1.1523\n",
      "Val Loss: 0.8359\n"
     ]
    },
    {
     "name": "stderr",
     "output_type": "stream",
     "text": [
      "Epoch 2/100 [Training]: 100%|██████████| 596/596 [06:25<00:00,  1.55it/s, loss=0.492]\n",
      "Epoch 2/100 [Validating]: 100%|██████████| 128/128 [01:20<00:00,  1.59it/s, loss=1.12]\n"
     ]
    },
    {
     "name": "stdout",
     "output_type": "stream",
     "text": [
      "\n",
      "Epoch 2: Validation loss improved, saved new best model to video_qa_model.pth and best checkpoint to checkpoints/best_checkpoint.pth\n",
      "\n",
      "Epoch 2 Summary:\n",
      "Train Loss: 0.8201\n",
      "Val Loss: 0.7644\n"
     ]
    },
    {
     "name": "stderr",
     "output_type": "stream",
     "text": [
      "Epoch 3/100 [Training]: 100%|██████████| 596/596 [06:23<00:00,  1.55it/s, loss=1.17]\n",
      "Epoch 3/100 [Validating]: 100%|██████████| 128/128 [01:20<00:00,  1.59it/s, loss=1.08]\n"
     ]
    },
    {
     "name": "stdout",
     "output_type": "stream",
     "text": [
      "\n",
      "Epoch 3: Validation loss improved, saved new best model to video_qa_model.pth and best checkpoint to checkpoints/best_checkpoint.pth\n",
      "\n",
      "Epoch 3 Summary:\n",
      "Train Loss: 0.7552\n",
      "Val Loss: 0.7343\n"
     ]
    },
    {
     "name": "stderr",
     "output_type": "stream",
     "text": [
      "Epoch 4/100 [Training]: 100%|██████████| 596/596 [06:24<00:00,  1.55it/s, loss=0.592]\n",
      "Epoch 4/100 [Validating]: 100%|██████████| 128/128 [01:20<00:00,  1.59it/s, loss=1.05]\n"
     ]
    },
    {
     "name": "stdout",
     "output_type": "stream",
     "text": [
      "\n",
      "Epoch 4: Validation loss improved, saved new best model to video_qa_model.pth and best checkpoint to checkpoints/best_checkpoint.pth\n",
      "\n",
      "Epoch 4 Summary:\n",
      "Train Loss: 0.7127\n",
      "Val Loss: 0.7125\n"
     ]
    },
    {
     "name": "stderr",
     "output_type": "stream",
     "text": [
      "Epoch 5/100 [Training]: 100%|██████████| 596/596 [06:24<00:00,  1.55it/s, loss=0.565]\n",
      "Epoch 5/100 [Validating]: 100%|██████████| 128/128 [01:20<00:00,  1.60it/s, loss=1.03]\n"
     ]
    },
    {
     "name": "stdout",
     "output_type": "stream",
     "text": [
      "\n",
      "Epoch 5: Validation loss improved, saved new best model to video_qa_model.pth and best checkpoint to checkpoints/best_checkpoint.pth\n",
      "\n",
      "Epoch 5 Summary:\n",
      "Train Loss: 0.6898\n",
      "Val Loss: 0.7029\n"
     ]
    },
    {
     "name": "stderr",
     "output_type": "stream",
     "text": [
      "Epoch 6/100 [Training]: 100%|██████████| 596/596 [06:23<00:00,  1.56it/s, loss=0.547]\n",
      "Epoch 6/100 [Validating]: 100%|██████████| 128/128 [01:20<00:00,  1.58it/s, loss=1.02]\n"
     ]
    },
    {
     "name": "stdout",
     "output_type": "stream",
     "text": [
      "\n",
      "Epoch 6: Validation loss improved, saved new best model to video_qa_model.pth and best checkpoint to checkpoints/best_checkpoint.pth\n",
      "\n",
      "Epoch 6 Summary:\n",
      "Train Loss: 0.6724\n",
      "Val Loss: 0.6934\n"
     ]
    },
    {
     "name": "stderr",
     "output_type": "stream",
     "text": [
      "Epoch 7/100 [Training]: 100%|██████████| 596/596 [06:24<00:00,  1.55it/s, loss=0.616]\n",
      "Epoch 7/100 [Validating]: 100%|██████████| 128/128 [01:21<00:00,  1.57it/s, loss=1.02]\n"
     ]
    },
    {
     "name": "stdout",
     "output_type": "stream",
     "text": [
      "\n",
      "Epoch 7: Validation loss improved, saved new best model to video_qa_model.pth and best checkpoint to checkpoints/best_checkpoint.pth\n",
      "\n",
      "Epoch 7 Summary:\n",
      "Train Loss: 0.6564\n",
      "Val Loss: 0.6842\n"
     ]
    },
    {
     "name": "stderr",
     "output_type": "stream",
     "text": [
      "Epoch 8/100 [Training]: 100%|██████████| 596/596 [06:23<00:00,  1.56it/s, loss=0.825]\n",
      "Epoch 8/100 [Validating]: 100%|██████████| 128/128 [01:20<00:00,  1.60it/s, loss=1.01]\n"
     ]
    },
    {
     "name": "stdout",
     "output_type": "stream",
     "text": [
      "\n",
      "Epoch 8: Validation loss improved, saved new best model to video_qa_model.pth and best checkpoint to checkpoints/best_checkpoint.pth\n",
      "\n",
      "Epoch 8 Summary:\n",
      "Train Loss: 0.6390\n",
      "Val Loss: 0.6821\n"
     ]
    },
    {
     "name": "stderr",
     "output_type": "stream",
     "text": [
      "Epoch 9/100 [Training]: 100%|██████████| 596/596 [06:25<00:00,  1.55it/s, loss=0.584]\n",
      "Epoch 9/100 [Validating]: 100%|██████████| 128/128 [01:21<00:00,  1.58it/s, loss=1.01]\n"
     ]
    },
    {
     "name": "stdout",
     "output_type": "stream",
     "text": [
      "\n",
      "Epoch 9: Validation loss improved, saved new best model to video_qa_model.pth and best checkpoint to checkpoints/best_checkpoint.pth\n",
      "\n",
      "Epoch 9 Summary:\n",
      "Train Loss: 0.6312\n",
      "Val Loss: 0.6788\n"
     ]
    },
    {
     "name": "stderr",
     "output_type": "stream",
     "text": [
      "Epoch 10/100 [Training]: 100%|██████████| 596/596 [06:24<00:00,  1.55it/s, loss=0.565]\n",
      "Epoch 10/100 [Validating]: 100%|██████████| 128/128 [01:20<00:00,  1.60it/s, loss=1.01]\n"
     ]
    },
    {
     "name": "stdout",
     "output_type": "stream",
     "text": [
      "\n",
      "Epoch 10: Validation loss improved, saved new best model to video_qa_model.pth and best checkpoint to checkpoints/best_checkpoint.pth\n",
      "\n",
      "Epoch 10 Summary:\n",
      "Train Loss: 0.6228\n",
      "Val Loss: 0.6729\n"
     ]
    },
    {
     "name": "stderr",
     "output_type": "stream",
     "text": [
      "Epoch 11/100 [Training]: 100%|██████████| 596/596 [06:24<00:00,  1.55it/s, loss=0.944]\n",
      "Epoch 11/100 [Validating]: 100%|██████████| 128/128 [01:21<00:00,  1.58it/s, loss=1]\n"
     ]
    },
    {
     "name": "stdout",
     "output_type": "stream",
     "text": [
      "\n",
      "Epoch 11: Validation loss improved, saved new best model to video_qa_model.pth and best checkpoint to checkpoints/best_checkpoint.pth\n",
      "\n",
      "Epoch 11 Summary:\n",
      "Train Loss: 0.6107\n",
      "Val Loss: 0.6696\n"
     ]
    },
    {
     "name": "stderr",
     "output_type": "stream",
     "text": [
      "Epoch 12/100 [Training]: 100%|██████████| 596/596 [06:25<00:00,  1.54it/s, loss=0.909]\n",
      "Epoch 12/100 [Validating]: 100%|██████████| 128/128 [01:20<00:00,  1.59it/s, loss=1.01]\n"
     ]
    },
    {
     "name": "stdout",
     "output_type": "stream",
     "text": [
      "\n",
      "Epoch 12: Validation loss improved, saved new best model to video_qa_model.pth and best checkpoint to checkpoints/best_checkpoint.pth\n",
      "\n",
      "Epoch 12 Summary:\n",
      "Train Loss: 0.6041\n",
      "Val Loss: 0.6680\n"
     ]
    },
    {
     "name": "stderr",
     "output_type": "stream",
     "text": [
      "Epoch 13/100 [Training]: 100%|██████████| 596/596 [06:26<00:00,  1.54it/s, loss=0.554]\n",
      "Epoch 13/100 [Validating]: 100%|██████████| 128/128 [01:21<00:00,  1.57it/s, loss=1]\n"
     ]
    },
    {
     "name": "stdout",
     "output_type": "stream",
     "text": [
      "\n",
      "Epoch 13: Validation loss improved, saved new best model to video_qa_model.pth and best checkpoint to checkpoints/best_checkpoint.pth\n",
      "\n",
      "Epoch 13 Summary:\n",
      "Train Loss: 0.6000\n",
      "Val Loss: 0.6667\n"
     ]
    },
    {
     "name": "stderr",
     "output_type": "stream",
     "text": [
      "Epoch 14/100 [Training]: 100%|██████████| 596/596 [06:30<00:00,  1.53it/s, loss=0.577]\n",
      "Epoch 14/100 [Validating]: 100%|██████████| 128/128 [01:21<00:00,  1.57it/s, loss=1]\n"
     ]
    },
    {
     "name": "stdout",
     "output_type": "stream",
     "text": [
      "\n",
      "Epoch 14: Validation loss improved, saved new best model to video_qa_model.pth and best checkpoint to checkpoints/best_checkpoint.pth\n",
      "\n",
      "Epoch 14 Summary:\n",
      "Train Loss: 0.5934\n",
      "Val Loss: 0.6627\n"
     ]
    },
    {
     "name": "stderr",
     "output_type": "stream",
     "text": [
      "Epoch 15/100 [Training]: 100%|██████████| 596/596 [06:28<00:00,  1.53it/s, loss=0.464]\n",
      "Epoch 15/100 [Validating]: 100%|██████████| 128/128 [01:21<00:00,  1.57it/s, loss=0.999]\n"
     ]
    },
    {
     "name": "stdout",
     "output_type": "stream",
     "text": [
      "\n",
      "Epoch 15: Validation loss improved, saved new best model to video_qa_model.pth and best checkpoint to checkpoints/best_checkpoint.pth\n",
      "\n",
      "Epoch 15 Summary:\n",
      "Train Loss: 0.5864\n",
      "Val Loss: 0.6627\n"
     ]
    },
    {
     "name": "stderr",
     "output_type": "stream",
     "text": [
      "Epoch 16/100 [Training]: 100%|██████████| 596/596 [06:30<00:00,  1.53it/s, loss=0.606]\n",
      "Epoch 16/100 [Validating]: 100%|██████████| 128/128 [01:21<00:00,  1.57it/s, loss=0.994]\n"
     ]
    },
    {
     "name": "stdout",
     "output_type": "stream",
     "text": [
      "\n",
      "Epoch 16: Validation loss did not improve (1/10)\n",
      "\n",
      "Epoch 16 Summary:\n",
      "Train Loss: 0.5878\n",
      "Val Loss: 0.6636\n"
     ]
    },
    {
     "name": "stderr",
     "output_type": "stream",
     "text": [
      "Epoch 17/100 [Training]: 100%|██████████| 596/596 [06:29<00:00,  1.53it/s, loss=0.632]\n",
      "Epoch 17/100 [Validating]: 100%|██████████| 128/128 [01:21<00:00,  1.56it/s, loss=0.999]\n"
     ]
    },
    {
     "name": "stdout",
     "output_type": "stream",
     "text": [
      "\n",
      "Epoch 17: Validation loss did not improve (2/10)\n",
      "\n",
      "Epoch 17 Summary:\n",
      "Train Loss: 0.5826\n",
      "Val Loss: 0.6627\n"
     ]
    },
    {
     "name": "stderr",
     "output_type": "stream",
     "text": [
      "Epoch 18/100 [Training]: 100%|██████████| 596/596 [06:29<00:00,  1.53it/s, loss=0.539]\n",
      "Epoch 18/100 [Validating]: 100%|██████████| 128/128 [01:22<00:00,  1.56it/s, loss=0.999]\n"
     ]
    },
    {
     "name": "stdout",
     "output_type": "stream",
     "text": [
      "\n",
      "Epoch 18: Validation loss improved, saved new best model to video_qa_model.pth and best checkpoint to checkpoints/best_checkpoint.pth\n",
      "\n",
      "Epoch 18 Summary:\n",
      "Train Loss: 0.5754\n",
      "Val Loss: 0.6583\n"
     ]
    },
    {
     "name": "stderr",
     "output_type": "stream",
     "text": [
      "Epoch 19/100 [Training]: 100%|██████████| 596/596 [06:28<00:00,  1.54it/s, loss=0.553]\n",
      "Epoch 19/100 [Validating]: 100%|██████████| 128/128 [01:21<00:00,  1.57it/s, loss=0.992]\n"
     ]
    },
    {
     "name": "stdout",
     "output_type": "stream",
     "text": [
      "\n",
      "Epoch 19: Validation loss improved, saved new best model to video_qa_model.pth and best checkpoint to checkpoints/best_checkpoint.pth\n",
      "\n",
      "Epoch 19 Summary:\n",
      "Train Loss: 0.5677\n",
      "Val Loss: 0.6573\n"
     ]
    },
    {
     "name": "stderr",
     "output_type": "stream",
     "text": [
      "Epoch 20/100 [Training]: 100%|██████████| 596/596 [06:32<00:00,  1.52it/s, loss=0.523]\n",
      "Epoch 20/100 [Validating]: 100%|██████████| 128/128 [01:22<00:00,  1.56it/s, loss=0.995]\n"
     ]
    },
    {
     "name": "stdout",
     "output_type": "stream",
     "text": [
      "\n",
      "Epoch 20: Validation loss improved, saved new best model to video_qa_model.pth and best checkpoint to checkpoints/best_checkpoint.pth\n",
      "\n",
      "Epoch 20 Summary:\n",
      "Train Loss: 0.5608\n",
      "Val Loss: 0.6572\n"
     ]
    },
    {
     "name": "stderr",
     "output_type": "stream",
     "text": [
      "Epoch 21/100 [Training]: 100%|██████████| 596/596 [06:30<00:00,  1.53it/s, loss=0.599]\n",
      "Epoch 21/100 [Validating]: 100%|██████████| 128/128 [01:22<00:00,  1.55it/s, loss=0.994]\n"
     ]
    },
    {
     "name": "stdout",
     "output_type": "stream",
     "text": [
      "\n",
      "Epoch 21: Validation loss improved, saved new best model to video_qa_model.pth and best checkpoint to checkpoints/best_checkpoint.pth\n",
      "\n",
      "Epoch 21 Summary:\n",
      "Train Loss: 0.5580\n",
      "Val Loss: 0.6570\n"
     ]
    },
    {
     "name": "stderr",
     "output_type": "stream",
     "text": [
      "Epoch 22/100 [Training]: 100%|██████████| 596/596 [06:30<00:00,  1.53it/s, loss=0.319]\n",
      "Epoch 22/100 [Validating]: 100%|██████████| 128/128 [01:21<00:00,  1.56it/s, loss=0.994]\n"
     ]
    },
    {
     "name": "stdout",
     "output_type": "stream",
     "text": [
      "\n",
      "Epoch 22: Validation loss improved, saved new best model to video_qa_model.pth and best checkpoint to checkpoints/best_checkpoint.pth\n",
      "\n",
      "Epoch 22 Summary:\n",
      "Train Loss: 0.5541\n",
      "Val Loss: 0.6565\n"
     ]
    },
    {
     "name": "stderr",
     "output_type": "stream",
     "text": [
      "Epoch 23/100 [Training]: 100%|██████████| 596/596 [06:31<00:00,  1.52it/s, loss=0.55]\n",
      "Epoch 23/100 [Validating]: 100%|██████████| 128/128 [01:21<00:00,  1.57it/s, loss=0.984]\n"
     ]
    },
    {
     "name": "stdout",
     "output_type": "stream",
     "text": [
      "\n",
      "Epoch 23: Validation loss did not improve (1/10)\n",
      "\n",
      "Epoch 23 Summary:\n",
      "Train Loss: 0.5510\n",
      "Val Loss: 0.6580\n"
     ]
    },
    {
     "name": "stderr",
     "output_type": "stream",
     "text": [
      "Epoch 24/100 [Training]: 100%|██████████| 596/596 [06:31<00:00,  1.52it/s, loss=0.41]\n",
      "Epoch 24/100 [Validating]: 100%|██████████| 128/128 [01:22<00:00,  1.55it/s, loss=0.984]\n"
     ]
    },
    {
     "name": "stdout",
     "output_type": "stream",
     "text": [
      "\n",
      "Epoch 24: Validation loss improved, saved new best model to video_qa_model.pth and best checkpoint to checkpoints/best_checkpoint.pth\n",
      "\n",
      "Epoch 24 Summary:\n",
      "Train Loss: 0.5489\n",
      "Val Loss: 0.6563\n"
     ]
    },
    {
     "name": "stderr",
     "output_type": "stream",
     "text": [
      "Epoch 25/100 [Training]: 100%|██████████| 596/596 [06:30<00:00,  1.53it/s, loss=0.56]\n",
      "Epoch 25/100 [Validating]: 100%|██████████| 128/128 [01:22<00:00,  1.56it/s, loss=0.992]\n"
     ]
    },
    {
     "name": "stdout",
     "output_type": "stream",
     "text": [
      "\n",
      "Epoch 25: Validation loss did not improve (1/10)\n",
      "\n",
      "Epoch 25 Summary:\n",
      "Train Loss: 0.5463\n",
      "Val Loss: 0.6565\n"
     ]
    },
    {
     "name": "stderr",
     "output_type": "stream",
     "text": [
      "Epoch 26/100 [Training]: 100%|██████████| 596/596 [06:31<00:00,  1.52it/s, loss=0.338]\n",
      "Epoch 26/100 [Validating]: 100%|██████████| 128/128 [01:23<00:00,  1.54it/s, loss=0.987]\n"
     ]
    },
    {
     "name": "stdout",
     "output_type": "stream",
     "text": [
      "\n",
      "Epoch 26: Validation loss improved, saved new best model to video_qa_model.pth and best checkpoint to checkpoints/best_checkpoint.pth\n",
      "\n",
      "Epoch 26 Summary:\n",
      "Train Loss: 0.5422\n",
      "Val Loss: 0.6546\n"
     ]
    },
    {
     "name": "stderr",
     "output_type": "stream",
     "text": [
      "Epoch 27/100 [Training]: 100%|██████████| 596/596 [06:30<00:00,  1.52it/s, loss=0.62]\n",
      "Epoch 27/100 [Validating]: 100%|██████████| 128/128 [01:21<00:00,  1.57it/s, loss=0.988]\n"
     ]
    },
    {
     "name": "stdout",
     "output_type": "stream",
     "text": [
      "\n",
      "Epoch 27: Validation loss did not improve (1/10)\n",
      "\n",
      "Epoch 27 Summary:\n",
      "Train Loss: 0.5363\n",
      "Val Loss: 0.6549\n"
     ]
    },
    {
     "name": "stderr",
     "output_type": "stream",
     "text": [
      "Epoch 28/100 [Training]: 100%|██████████| 596/596 [06:30<00:00,  1.53it/s, loss=0.508]\n",
      "Epoch 28/100 [Validating]: 100%|██████████| 128/128 [01:23<00:00,  1.54it/s, loss=0.986]\n"
     ]
    },
    {
     "name": "stdout",
     "output_type": "stream",
     "text": [
      "\n",
      "Epoch 28: Validation loss did not improve (2/10)\n",
      "\n",
      "Epoch 28 Summary:\n",
      "Train Loss: 0.5344\n",
      "Val Loss: 0.6566\n"
     ]
    },
    {
     "name": "stderr",
     "output_type": "stream",
     "text": [
      "Epoch 29/100 [Training]: 100%|██████████| 596/596 [06:31<00:00,  1.52it/s, loss=0.38]\n",
      "Epoch 29/100 [Validating]: 100%|██████████| 128/128 [01:22<00:00,  1.54it/s, loss=0.992]\n"
     ]
    },
    {
     "name": "stdout",
     "output_type": "stream",
     "text": [
      "\n",
      "Epoch 29: Validation loss did not improve (3/10)\n",
      "\n",
      "Epoch 29 Summary:\n",
      "Train Loss: 0.5350\n",
      "Val Loss: 0.6577\n"
     ]
    },
    {
     "name": "stderr",
     "output_type": "stream",
     "text": [
      "Epoch 30/100 [Training]: 100%|██████████| 596/596 [06:33<00:00,  1.52it/s, loss=0.512]\n",
      "Epoch 30/100 [Validating]: 100%|██████████| 128/128 [01:22<00:00,  1.55it/s, loss=0.989]\n"
     ]
    },
    {
     "name": "stdout",
     "output_type": "stream",
     "text": [
      "\n",
      "Epoch 30: Validation loss improved, saved new best model to video_qa_model.pth and best checkpoint to checkpoints/best_checkpoint.pth\n",
      "\n",
      "Epoch 30 Summary:\n",
      "Train Loss: 0.5345\n",
      "Val Loss: 0.6545\n"
     ]
    },
    {
     "name": "stderr",
     "output_type": "stream",
     "text": [
      "Epoch 31/100 [Training]: 100%|██████████| 596/596 [06:28<00:00,  1.53it/s, loss=0.708]\n",
      "Epoch 31/100 [Validating]: 100%|██████████| 128/128 [01:21<00:00,  1.58it/s, loss=0.993]\n"
     ]
    },
    {
     "name": "stdout",
     "output_type": "stream",
     "text": [
      "\n",
      "Epoch 31: Validation loss did not improve (1/10)\n",
      "\n",
      "Epoch 31 Summary:\n",
      "Train Loss: 0.5311\n",
      "Val Loss: 0.6559\n"
     ]
    },
    {
     "name": "stderr",
     "output_type": "stream",
     "text": [
      "Epoch 32/100 [Training]: 100%|██████████| 596/596 [06:30<00:00,  1.53it/s, loss=0.453]\n",
      "Epoch 32/100 [Validating]: 100%|██████████| 128/128 [01:22<00:00,  1.55it/s, loss=0.995]\n"
     ]
    },
    {
     "name": "stdout",
     "output_type": "stream",
     "text": [
      "\n",
      "Epoch 32: Validation loss did not improve (2/10)\n",
      "\n",
      "Epoch 32 Summary:\n",
      "Train Loss: 0.5259\n",
      "Val Loss: 0.6571\n"
     ]
    },
    {
     "name": "stderr",
     "output_type": "stream",
     "text": [
      "Epoch 33/100 [Training]: 100%|██████████| 596/596 [06:30<00:00,  1.52it/s, loss=0.763]\n",
      "Epoch 33/100 [Validating]: 100%|██████████| 128/128 [01:21<00:00,  1.57it/s, loss=0.995]\n"
     ]
    },
    {
     "name": "stdout",
     "output_type": "stream",
     "text": [
      "\n",
      "Epoch 33: Validation loss did not improve (3/10)\n",
      "\n",
      "Epoch 33 Summary:\n",
      "Train Loss: 0.5195\n",
      "Val Loss: 0.6554\n"
     ]
    },
    {
     "name": "stderr",
     "output_type": "stream",
     "text": [
      "Epoch 34/100 [Training]: 100%|██████████| 596/596 [06:30<00:00,  1.53it/s, loss=0.482]\n",
      "Epoch 34/100 [Validating]: 100%|██████████| 128/128 [01:21<00:00,  1.58it/s, loss=0.991]\n"
     ]
    },
    {
     "name": "stdout",
     "output_type": "stream",
     "text": [
      "\n",
      "Epoch 34: Validation loss did not improve (4/10)\n",
      "\n",
      "Epoch 34 Summary:\n",
      "Train Loss: 0.5187\n",
      "Val Loss: 0.6561\n"
     ]
    },
    {
     "name": "stderr",
     "output_type": "stream",
     "text": [
      "Epoch 35/100 [Training]: 100%|██████████| 596/596 [06:28<00:00,  1.53it/s, loss=0.493]\n",
      "Epoch 35/100 [Validating]: 100%|██████████| 128/128 [01:22<00:00,  1.55it/s, loss=1]\n"
     ]
    },
    {
     "name": "stdout",
     "output_type": "stream",
     "text": [
      "\n",
      "Epoch 35: Validation loss did not improve (5/10)\n",
      "\n",
      "Epoch 35 Summary:\n",
      "Train Loss: 0.5171\n",
      "Val Loss: 0.6570\n"
     ]
    },
    {
     "name": "stderr",
     "output_type": "stream",
     "text": [
      "Epoch 36/100 [Training]: 100%|██████████| 596/596 [06:31<00:00,  1.52it/s, loss=0.466]\n",
      "Epoch 36/100 [Validating]: 100%|██████████| 128/128 [01:21<00:00,  1.56it/s, loss=1]\n"
     ]
    },
    {
     "name": "stdout",
     "output_type": "stream",
     "text": [
      "\n",
      "Epoch 36: Validation loss did not improve (6/10)\n",
      "\n",
      "Epoch 36 Summary:\n",
      "Train Loss: 0.5132\n",
      "Val Loss: 0.6547\n"
     ]
    },
    {
     "name": "stderr",
     "output_type": "stream",
     "text": [
      "Epoch 37/100 [Training]: 100%|██████████| 596/596 [06:32<00:00,  1.52it/s, loss=0.469]\n",
      "Epoch 37/100 [Validating]: 100%|██████████| 128/128 [01:21<00:00,  1.57it/s, loss=0.996]\n"
     ]
    },
    {
     "name": "stdout",
     "output_type": "stream",
     "text": [
      "\n",
      "Epoch 37: Validation loss did not improve (7/10)\n",
      "\n",
      "Epoch 37 Summary:\n",
      "Train Loss: 0.5122\n",
      "Val Loss: 0.6557\n"
     ]
    },
    {
     "name": "stderr",
     "output_type": "stream",
     "text": [
      "Epoch 38/100 [Training]: 100%|██████████| 596/596 [06:29<00:00,  1.53it/s, loss=0.511]\n",
      "Epoch 38/100 [Validating]: 100%|██████████| 128/128 [01:20<00:00,  1.58it/s, loss=1]\n"
     ]
    },
    {
     "name": "stdout",
     "output_type": "stream",
     "text": [
      "\n",
      "Epoch 38: Validation loss did not improve (8/10)\n",
      "\n",
      "Epoch 38 Summary:\n",
      "Train Loss: 0.5110\n",
      "Val Loss: 0.6555\n"
     ]
    },
    {
     "name": "stderr",
     "output_type": "stream",
     "text": [
      "Epoch 39/100 [Training]: 100%|██████████| 596/596 [06:28<00:00,  1.53it/s, loss=0.423]\n",
      "Epoch 39/100 [Validating]: 100%|██████████| 128/128 [01:21<00:00,  1.57it/s, loss=1]\n"
     ]
    },
    {
     "name": "stdout",
     "output_type": "stream",
     "text": [
      "\n",
      "Epoch 39: Validation loss did not improve (9/10)\n",
      "\n",
      "Epoch 39 Summary:\n",
      "Train Loss: 0.5088\n",
      "Val Loss: 0.6569\n"
     ]
    },
    {
     "name": "stderr",
     "output_type": "stream",
     "text": [
      "Epoch 40/100 [Training]: 100%|██████████| 596/596 [06:27<00:00,  1.54it/s, loss=0.448]\n",
      "Epoch 40/100 [Validating]: 100%|██████████| 128/128 [01:20<00:00,  1.60it/s, loss=1]"
     ]
    },
    {
     "name": "stdout",
     "output_type": "stream",
     "text": [
      "\n",
      "Epoch 40: Validation loss did not improve (10/10)\n",
      "Early stopping triggered after 10 epochs without improvement.\n"
     ]
    },
    {
     "name": "stderr",
     "output_type": "stream",
     "text": [
      "\n"
     ]
    }
   ],
   "source": [
    "best_val_loss = float('inf')\n",
    "training_log = []\n",
    "epochs_no_improve = 0 # Counter for early stopping\n",
    "\n",
    "train_losses = [] \n",
    "val_losses = []\n",
    "\n",
    "# Create checkpoint directory if it doesn't exist\n",
    "os.makedirs(Config.checkpoint_dir, exist_ok=True)\n",
    "\n",
    "for epoch in range(Config.num_epochs):\n",
    "    # Training\n",
    "    model.train()\n",
    "    train_loss = 0\n",
    "    progress_bar = tqdm(train_loader, desc=f\"Epoch {epoch+1}/{Config.num_epochs} [Training]\")\n",
    "\n",
    "    for batch in progress_bar:\n",
    "        optimizer.zero_grad()\n",
    "\n",
    "        video = batch['video'].to(device)\n",
    "        input_ids = batch['input_ids'].to(device)\n",
    "        attention_mask = batch['attention_mask'].to(device)\n",
    "\n",
    "\n",
    "        with torch.cuda.amp.autocast():\n",
    "            outputs = model(video, input_ids, attention_mask, labels=input_ids)\n",
    "            loss = outputs.loss\n",
    "\n",
    "        scaler.scale(loss).backward()\n",
    "        torch.nn.utils.clip_grad_norm_(model.parameters(), Config.grad_clip)\n",
    "        scaler.step(optimizer)\n",
    "        scaler.update()\n",
    "\n",
    "        train_loss += loss.item()\n",
    "        progress_bar.set_postfix({'loss': loss.item()})\n",
    "\n",
    "    avg_train_loss = train_loss / len(train_loader)\n",
    "    train_losses.append(avg_train_loss) \n",
    "\n",
    "\n",
    "    # Validation\n",
    "    model.eval()\n",
    "    val_loss = 0\n",
    "    with torch.no_grad():\n",
    "        val_progress_bar = tqdm(val_loader, desc=f\"Epoch {epoch+1}/{Config.num_epochs} [Validating]\")\n",
    "        for batch in val_progress_bar:\n",
    "            video = batch['video'].to(device)\n",
    "            input_ids = batch['input_ids'].to(device)\n",
    "            attention_mask = batch['attention_mask'].to(device)\n",
    "            outputs = model(video, input_ids, attention_mask, labels=input_ids) \n",
    "            val_loss += outputs.loss.item()\n",
    "            val_progress_bar.set_postfix({'loss': outputs.loss.item()})\n",
    "\n",
    "    avg_val_loss = val_loss / len(val_loader)\n",
    "    val_losses.append(avg_val_loss) \n",
    "\n",
    "\n",
    "    # Early stopping check and Best Checkpoint Saving\n",
    "    if avg_val_loss < best_val_loss:\n",
    "        best_val_loss = avg_val_loss\n",
    "        torch.save(model.state_dict(), Config.model_save_path) # Save best model based on validation loss\n",
    "\n",
    "        # Save best checkpoint\n",
    "        checkpoint_path = Config.best_checkpoint_path\n",
    "        torch.save({\n",
    "            'epoch': epoch+1,\n",
    "            'model_state_dict': model.state_dict(),\n",
    "            'optimizer_state_dict': optimizer.state_dict(),\n",
    "            'train_loss': avg_train_loss,\n",
    "            'val_loss': avg_val_loss,\n",
    "            'best_val_loss': best_val_loss\n",
    "        }, checkpoint_path)\n",
    "        print(f\"\\nEpoch {epoch+1}: Validation loss improved, saved new best model to {Config.model_save_path} and best checkpoint to {checkpoint_path}\")\n",
    "\n",
    "        epochs_no_improve = 0 \n",
    "    else:\n",
    "        epochs_no_improve += 1\n",
    "        print(f\"\\nEpoch {epoch+1}: Validation loss did not improve ({epochs_no_improve}/{Config.patience})\")\n",
    "        if epochs_no_improve >= Config.patience:\n",
    "            print(f\"Early stopping triggered after {Config.patience} epochs without improvement.\")\n",
    "            break # Stop training loop\n",
    "\n",
    "    # Log metrics\n",
    "    epoch_log = {\n",
    "        'epoch': epoch+1,\n",
    "        'train_loss': avg_train_loss,\n",
    "        'val_loss': avg_val_loss\n",
    "    }\n",
    "    training_log.append(epoch_log)\n",
    "\n",
    "    print(f\"\\nEpoch {epoch+1} Summary:\")\n",
    "    print(f\"Train Loss: {epoch_log['train_loss']:.4f}\")\n",
    "    print(f\"Val Loss: {epoch_log['val_loss']:.4f}\")"
   ]
  },
  {
   "cell_type": "markdown",
   "id": "8655c099",
   "metadata": {
    "papermill": {
     "duration": 2.771629,
     "end_time": "2025-01-26T21:54:10.079604",
     "exception": false,
     "start_time": "2025-01-26T21:54:07.307975",
     "status": "completed"
    },
    "tags": []
   },
   "source": [
    "# Model Saving"
   ]
  },
  {
   "cell_type": "code",
   "execution_count": 8,
   "id": "42a8739d",
   "metadata": {
    "execution": {
     "iopub.execute_input": "2025-01-26T21:54:15.594092Z",
     "iopub.status.busy": "2025-01-26T21:54:15.593745Z",
     "iopub.status.idle": "2025-01-26T21:54:16.290901Z",
     "shell.execute_reply": "2025-01-26T21:54:16.289907Z"
    },
    "papermill": {
     "duration": 3.452616,
     "end_time": "2025-01-26T21:54:16.292242",
     "exception": false,
     "start_time": "2025-01-26T21:54:12.839626",
     "status": "completed"
    },
    "tags": []
   },
   "outputs": [
    {
     "name": "stdout",
     "output_type": "stream",
     "text": [
      "Final model saved to final_video_qa_model.pth\n"
     ]
    }
   ],
   "source": [
    "torch.save(model.state_dict(), Config.final_model_path)\n",
    "print(f\"Final model saved to {Config.final_model_path}\") "
   ]
  },
  {
   "cell_type": "markdown",
   "id": "9f541d46",
   "metadata": {
    "papermill": {
     "duration": 2.769534,
     "end_time": "2025-01-26T21:54:22.043166",
     "exception": false,
     "start_time": "2025-01-26T21:54:19.273632",
     "status": "completed"
    },
    "tags": []
   },
   "source": [
    "# Loss Graph"
   ]
  },
  {
   "cell_type": "code",
   "execution_count": 9,
   "id": "080b3bfb",
   "metadata": {
    "execution": {
     "iopub.execute_input": "2025-01-26T21:54:27.539886Z",
     "iopub.status.busy": "2025-01-26T21:54:27.539554Z",
     "iopub.status.idle": "2025-01-26T21:54:27.938165Z",
     "shell.execute_reply": "2025-01-26T21:54:27.937333Z"
    },
    "papermill": {
     "duration": 3.146445,
     "end_time": "2025-01-26T21:54:27.939539",
     "exception": false,
     "start_time": "2025-01-26T21:54:24.793094",
     "status": "completed"
    },
    "tags": []
   },
   "outputs": [
    {
     "data": {
      "image/png": "[encoded data removed]",
      "text/plain": [
       "<Figure size 1000x600 with 1 Axes>"
      ]
     },
     "metadata": {},
     "output_type": "display_data"
    }
   ],
   "source": [
    "plt.figure(figsize=(10, 6))\n",
    "plt.plot(train_losses, label='Training Loss')\n",
    "plt.plot(val_losses, label='Validation Loss')\n",
    "plt.xlabel('Epochs')\n",
    "plt.ylabel('Loss')\n",
    "plt.title('Training and Validation Loss Curve')\n",
    "plt.legend()\n",
    "plt.grid(True)\n",
    "plt.savefig('loss_graph.png')\n",
    "plt.show()"
   ]
  },
  {
   "cell_type": "markdown",
   "id": "9703cd8f",
   "metadata": {
    "papermill": {
     "duration": 2.753177,
     "end_time": "2025-01-26T21:54:33.439346",
     "exception": false,
     "start_time": "2025-01-26T21:54:30.686169",
     "status": "completed"
    },
    "tags": []
   },
   "source": [
    "# Testing and Evaluation"
   ]
  },
  {
   "cell_type": "code",
   "execution_count": 10,
   "id": "4cc21395",
   "metadata": {
    "execution": {
     "iopub.execute_input": "2025-01-26T21:54:38.898098Z",
     "iopub.status.busy": "2025-01-26T21:54:38.897747Z",
     "iopub.status.idle": "2025-01-26T21:56:58.629557Z",
     "shell.execute_reply": "2025-01-26T21:56:58.628545Z"
    },
    "papermill": {
     "duration": 142.45768,
     "end_time": "2025-01-26T21:56:58.630784",
     "exception": false,
     "start_time": "2025-01-26T21:54:36.173104",
     "status": "completed"
    },
    "tags": []
   },
   "outputs": [
    {
     "name": "stderr",
     "output_type": "stream",
     "text": [
      "<ipython-input-10-8e62642c04b3>:1: FutureWarning: You are using `torch.load` with `weights_only=False` (the current default value), which uses the default pickle module implicitly. It is possible to construct malicious pickle data which will execute arbitrary code during unpickling (See https://github.com/pytorch/pytorch/blob/main/SECURITY.md#untrusted-models for more details). In a future release, the default value for `weights_only` will be flipped to `True`. This limits the functions that could be executed during unpickling. Arbitrary objects will no longer be allowed to be loaded via this mode unless they are explicitly allowlisted by the user via `torch.serialization.add_safe_globals`. We recommend you start setting `weights_only=True` for any use case where you don't have full control of the loaded file. Please open an issue on GitHub for any issues related to this experimental feature.\n",
      "  model.load_state_dict(torch.load(Config.model_save_path))\n",
      "Testing: 100%|██████████| 128/128 [02:19<00:00,  1.09s/it]"
     ]
    },
    {
     "name": "stdout",
     "output_type": "stream",
     "text": [
      "\n",
      "Test Results:\n",
      "Loss: 0.6594\n",
      "BLEU Score: 0.1911\n",
      "\n",
      "Example Predictions:\n",
      "\n",
      "Question: How many are dancing in the video?\n",
      "Predicted: Question: What many people dancing in the video? Answer: In video showcases multiple individuals performing in the Maruni dance performance,\n",
      "Actual: The video showcases six dancers participating in the Maruni dance performance.\n",
      "\n",
      "Question: What type of area is depicted?\n",
      "Predicted: Question: What is of area is depicted? Answer: The area depicted in the video frames is a traditional space or, likely a cultural or performance community cultural for cultural performances, as indicated by the presence of a instruments andsuchally the the Chyabrung drum) and the dressed in traditional Limbu attire,\n",
      "Actual: The area depicted in the video frames is a performing arts area, likely a stage or a designated space for cultural performances, as evidenced by the presence of musical instruments (specifically, the Chyabrung drum) and performers dressed in traditional Limbu attire.\n",
      "\n",
      "Question: Where is the video set?\n",
      "Predicted: Question: What are the video set? Answer: The video is set in a traditional Kath space, likely a a carpet, enhance a location significant setting of theime Na, The\n",
      "Actual: The video is set in a traditional performance space, likely featuring red curtains to indicate the culturally significant nature of Dhime performances.\n",
      "\n",
      "Saved full results to training_results.json\n",
      "Loss graph saved to loss_graph.png\n",
      "Best checkpoint saved in checkpoints/best_checkpoint.pth\n",
      "Best model saved to video_qa_model.pth\n",
      "Final model saved to final_video_qa_model.pth\n"
     ]
    },
    {
     "name": "stderr",
     "output_type": "stream",
     "text": [
      "\n"
     ]
    }
   ],
   "source": [
    "model.load_state_dict(torch.load(Config.model_save_path))\n",
    "model.eval()\n",
    "\n",
    "test_dataset = VideoQADataset(test_df, tokenizer)\n",
    "test_loader = DataLoader(test_dataset, batch_size=Config.batch_size)\n",
    "\n",
    "all_preds = []\n",
    "all_labels = []\n",
    "test_loss = 0\n",
    "examples = []\n",
    "bleu_scores = [] \n",
    "\n",
    "with torch.no_grad():\n",
    "    test_progress_bar = tqdm(test_loader, desc=\"Testing\")\n",
    "    for batch in test_progress_bar:\n",
    "        video = batch['video'].to(device)\n",
    "        input_ids = batch['input_ids'].to(device)\n",
    "        attention_mask = batch['attention_mask'].to(device)\n",
    "        labels = input_ids \n",
    "\n",
    "        outputs = model(video, input_ids, attention_mask, labels=labels)\n",
    "        test_loss += outputs.loss.item()\n",
    "\n",
    "        preds = torch.argmax(outputs.logits, dim=-1)\n",
    "        predicted_tokens = preds.cpu().numpy()\n",
    "        label_tokens = labels.cpu().numpy()\n",
    "\n",
    "\n",
    "        # Decode tokens and calculate BLEU\n",
    "        for i in range(len(predicted_tokens)):\n",
    "            predicted_answer = tokenizer.decode(predicted_tokens[i], skip_special_tokens=True)\n",
    "            actual_answer = test_df.iloc[test_progress_bar.n * Config.batch_size + i]['refined_answer']\n",
    "\n",
    "            # Calculate BLEU score for each sample\n",
    "            try: \n",
    "                bleu = sentence_bleu([actual_answer.split()], predicted_answer.split(), smoothing_function=Config.bleu_smoothing) # Use smoothing from config\n",
    "                bleu_scores.append(bleu)\n",
    "            except Exception as e:\n",
    "                print(f\"Error calculating BLEU score for example: {e}\")\n",
    "                bleu_scores.append(0.0) \n",
    "\n",
    "        all_preds.extend(predicted_tokens)\n",
    "        all_labels.extend(label_tokens)\n",
    "\n",
    "\n",
    "        # Save first 3 examples\n",
    "        if len(examples) < 3 and test_progress_bar.n < 3 :\n",
    "            for i in range(min(3, len(video))):\n",
    "                examples.append({\n",
    "                    'question': test_df.iloc[test_progress_bar.n * Config.batch_size + i]['questions'],\n",
    "                    'predicted': tokenizer.decode(predicted_tokens[i], skip_special_tokens=True),\n",
    "                    'actual': test_df.iloc[test_progress_bar.n * Config.batch_size + i]['refined_answer']\n",
    "                })\n",
    "\n",
    "# Calculate average BLEU score\n",
    "average_bleu = np.mean(bleu_scores) if bleu_scores else 0.0\n",
    "\n",
    "\n",
    "print(\"\\nTest Results:\")\n",
    "print(f\"Loss: {test_loss/len(test_loader):.4f}\")\n",
    "print(f\"BLEU Score: {average_bleu:.4f}\") \n",
    "\n",
    "\n",
    "print(\"\\nExample Predictions:\")\n",
    "for ex in examples:\n",
    "    print(f\"\\nQuestion: {ex['question']}\")\n",
    "    print(f\"Predicted: {ex['predicted']}\")\n",
    "    print(f\"Actual: {ex['actual']}\")\n",
    "\n",
    "print(f\"\\nSaved full results to {Config.results_file}\")\n",
    "print(f\"Loss graph saved to loss_graph.png\")\n",
    "print(f\"Best checkpoint saved in {Config.best_checkpoint_path}\")\n",
    "print(f\"Best model saved to {Config.model_save_path}\")\n",
    "print(f\"Final model saved to {Config.final_model_path}\")"
   ]
  },
  {
   "cell_type": "code",
   "execution_count": 11,
   "id": "ce2fbde1",
   "metadata": {
    "execution": {
     "iopub.execute_input": "2025-01-26T21:57:04.175420Z",
     "iopub.status.busy": "2025-01-26T21:57:04.175092Z",
     "iopub.status.idle": "2025-01-26T21:57:04.179559Z",
     "shell.execute_reply": "2025-01-26T21:57:04.178880Z"
    },
    "papermill": {
     "duration": 2.758612,
     "end_time": "2025-01-26T21:57:04.180730",
     "exception": false,
     "start_time": "2025-01-26T21:57:01.422118",
     "status": "completed"
    },
    "tags": []
   },
   "outputs": [],
   "source": [
    "results = {\n",
    "    'config': {k: str(v) if not isinstance(v, (int, float, str, bool, list, dict, type(None))) else v for k, v in vars(Config).items()}, # Convert non-serializable config values to strings\n",
    "    'training_log': training_log,\n",
    "    'test_metrics': {\n",
    "        'loss': test_loss/len(test_loader),\n",
    "        'bleu_score': average_bleu # Save BLEU score\n",
    "    },\n",
    "    'examples': examples\n",
    "}\n"
   ]
  },
  {
   "cell_type": "markdown",
   "id": "3cb35c47",
   "metadata": {
    "papermill": {
     "duration": 2.726446,
     "end_time": "2025-01-26T21:57:09.640451",
     "exception": false,
     "start_time": "2025-01-26T21:57:06.914005",
     "status": "completed"
    },
    "tags": []
   },
   "source": [
    "# Saving the results"
   ]
  },
  {
   "cell_type": "code",
   "execution_count": 12,
   "id": "d1344ca6",
   "metadata": {
    "execution": {
     "iopub.execute_input": "2025-01-26T21:57:15.274631Z",
     "iopub.status.busy": "2025-01-26T21:57:15.274260Z",
     "iopub.status.idle": "2025-01-26T21:57:15.280253Z",
     "shell.execute_reply": "2025-01-26T21:57:15.279452Z"
    },
    "papermill": {
     "duration": 2.75537,
     "end_time": "2025-01-26T21:57:15.281464",
     "exception": false,
     "start_time": "2025-01-26T21:57:12.526094",
     "status": "completed"
    },
    "tags": []
   },
   "outputs": [
    {
     "name": "stdout",
     "output_type": "stream",
     "text": [
      "\n",
      "Saved full results to training_results.json\n",
      "Loss graph saved to loss_graph.png\n",
      "Checkpoints saved in checkpoints directory\n",
      "Best model saved to video_qa_model.pth\n",
      "Final model saved to final_video_qa_model.pth\n"
     ]
    }
   ],
   "source": [
    "with open(Config.results_file, 'w') as f:\n",
    "    json.dump(results, f, indent=2)\n",
    "\n",
    "print(f\"\\nSaved full results to {Config.results_file}\")\n",
    "print(f\"Loss graph saved to loss_graph.png\")\n",
    "print(f\"Checkpoints saved in {Config.checkpoint_dir} directory\")\n",
    "print(f\"Best model saved to {Config.model_save_path}\")\n",
    "print(f\"Final model saved to {Config.final_model_path}\")"
   ]
  },
  {
   "cell_type": "code",
   "execution_count": null,
   "id": "a0e56539",
   "metadata": {
    "papermill": {
     "duration": 2.77332,
     "end_time": "2025-01-26T21:57:20.840074",
     "exception": false,
     "start_time": "2025-01-26T21:57:18.066754",
     "status": "completed"
    },
    "tags": []
   },
   "outputs": [],
   "source": []
  }
 ],
 "metadata": {
  "kaggle": {
   "accelerator": "gpu",
   "dataSources": [
    {
     "datasetId": 5189208,
     "sourceId": 10450035,
     "sourceType": "datasetVersion"
    }
   ],
   "dockerImageVersionId": 30840,
   "isGpuEnabled": true,
   "isInternetEnabled": true,
   "language": "python",
   "sourceType": "notebook"
  },
  "kernelspec": {
   "display_name": "Python 3",
   "language": "python",
   "name": "python3"
  },
  "language_info": {
   "codemirror_mode": {
    "name": "ipython",
    "version": 3
   },
   "file_extension": ".py",
   "mimetype": "text/x-python",
   "name": "python",
   "nbconvert_exporter": "python",
   "pygments_lexer": "ipython3",
   "version": "3.10.12"
  },
  "papermill": {
   "default_parameters": {},
   "duration": 19128.971598,
   "end_time": "2025-01-26T21:57:27.034669",
   "environment_variables": {},
   "exception": null,
   "input_path": "__notebook__.ipynb",
   "output_path": "__notebook__.ipynb",
   "parameters": {},
   "start_time": "2025-01-26T16:38:38.063071",
   "version": "2.6.0"
  },
  "widgets": {
   "application/vnd.jupyter.widget-state+json": {
    "state": {
     "0879a62828a64cf4a28d1453d091f70b": {
      "model_module": "@jupyter-widgets/base",
      "model_module_version": "2.0.0",
      "model_name": "LayoutModel",
      "state": {
       "_model_module": "@jupyter-widgets/base",
       "_model_module_version": "2.0.0",
       "_model_name": "LayoutModel",
       "_view_count": null,
       "_view_module": "@jupyter-widgets/base",
       "_view_module_version": "2.0.0",
       "_view_name": "LayoutView",
       "align_content": null,
       "align_items": null,
       "align_self": null,
       "border_bottom": null,
       "border_left": null,
       "border_right": null,
       "border_top": null,
       "bottom": null,
       "display": null,
       "flex": null,
       "flex_flow": null,
       "grid_area": null,
       "grid_auto_columns": null,
       "grid_auto_flow": null,
       "grid_auto_rows": null,
       "grid_column": null,
       "grid_gap": null,
       "grid_row": null,
       "grid_template_areas": null,
       "grid_template_columns": null,
       "grid_template_rows": null,
       "height": null,
       "justify_content": null,
       "justify_items": null,
       "left": null,
       "margin": null,
       "max_height": null,
       "max_width": null,
       "min_height": null,
       "min_width": null,
       "object_fit": null,
       "object_position": null,
       "order": null,
       "overflow": null,
       "padding": null,
       "right": null,
       "top": null,
       "visibility": null,
       "width": null
      }
     },
     "0892c9eab04c4347b5829cc9ef60f982": {
      "model_module": "@jupyter-widgets/controls",
      "model_module_version": "2.0.0",
      "model_name": "HBoxModel",
      "state": {
       "_dom_classes": [],
       "_model_module": "@jupyter-widgets/controls",
       "_model_module_version": "2.0.0",
       "_model_name": "HBoxModel",
       "_view_count": null,
       "_view_module": "@jupyter-widgets/controls",
       "_view_module_version": "2.0.0",
       "_view_name": "HBoxView",
       "box_style": "",
       "children": [
        "IPY_MODEL_80790f2545354001954591794bf7ba34",
        "IPY_MODEL_5bc599c09add4f71937c0bd8fab45ed3",
        "IPY_MODEL_69c57cb1c15745feb8590f8779a1e572"
       ],
       "layout": "IPY_MODEL_0879a62828a64cf4a28d1453d091f70b",
       "tabbable": null,
       "tooltip": null
      }
     },
     "09e4ec232a724909b751bfdbb01d52a2": {
      "model_module": "@jupyter-widgets/base",
      "model_module_version": "2.0.0",
      "model_name": "LayoutModel",
      "state": {
       "_model_module": "@jupyter-widgets/base",
       "_model_module_version": "2.0.0",
       "_model_name": "LayoutModel",
       "_view_count": null,
       "_view_module": "@jupyter-widgets/base",
       "_view_module_version": "2.0.0",
       "_view_name": "LayoutView",
       "align_content": null,
       "align_items": null,
       "align_self": null,
       "border_bottom": null,
       "border_left": null,
       "border_right": null,
       "border_top": null,
       "bottom": null,
       "display": null,
       "flex": null,
       "flex_flow": null,
       "grid_area": null,
       "grid_auto_columns": null,
       "grid_auto_flow": null,
       "grid_auto_rows": null,
       "grid_column": null,
       "grid_gap": null,
       "grid_row": null,
       "grid_template_areas": null,
       "grid_template_columns": null,
       "grid_template_rows": null,
       "height": null,
       "justify_content": null,
       "justify_items": null,
       "left": null,
       "margin": null,
       "max_height": null,
       "max_width": null,
       "min_height": null,
       "min_width": null,
       "object_fit": null,
       "object_position": null,
       "order": null,
       "overflow": null,
       "padding": null,
       "right": null,
       "top": null,
       "visibility": null,
       "width": null
      }
     },
     "0e690bb54ec3496aa2d32a65136508a7": {
      "model_module": "@jupyter-widgets/base",
      "model_module_version": "2.0.0",
      "model_name": "LayoutModel",
      "state": {
       "_model_module": "@jupyter-widgets/base",
       "_model_module_version": "2.0.0",
       "_model_name": "LayoutModel",
       "_view_count": null,
       "_view_module": "@jupyter-widgets/base",
       "_view_module_version": "2.0.0",
       "_view_name": "LayoutView",
       "align_content": null,
       "align_items": null,
       "align_self": null,
       "border_bottom": null,
       "border_left": null,
       "border_right": null,
       "border_top": null,
       "bottom": null,
       "display": null,
       "flex": null,
       "flex_flow": null,
       "grid_area": null,
       "grid_auto_columns": null,
       "grid_auto_flow": null,
       "grid_auto_rows": null,
       "grid_column": null,
       "grid_gap": null,
       "grid_row": null,
       "grid_template_areas": null,
       "grid_template_columns": null,
       "grid_template_rows": null,
       "height": null,
       "justify_content": null,
       "justify_items": null,
       "left": null,
       "margin": null,
       "max_height": null,
       "max_width": null,
       "min_height": null,
       "min_width": null,
       "object_fit": null,
       "object_position": null,
       "order": null,
       "overflow": null,
       "padding": null,
       "right": null,
       "top": null,
       "visibility": null,
       "width": null
      }
     },
     "0f38c677e74d43e3a8b6a07a209426df": {
      "model_module": "@jupyter-widgets/controls",
      "model_module_version": "2.0.0",
      "model_name": "HTMLStyleModel",
      "state": {
       "_model_module": "@jupyter-widgets/controls",
       "_model_module_version": "2.0.0",
       "_model_name": "HTMLStyleModel",
       "_view_count": null,
       "_view_module": "@jupyter-widgets/base",
       "_view_module_version": "2.0.0",
       "_view_name": "StyleView",
       "background": null,
       "description_width": "",
       "font_size": null,
       "text_color": null
      }
     },
     "11606db091684f7ab905bd6d4bfe389d": {
      "model_module": "@jupyter-widgets/controls",
      "model_module_version": "2.0.0",
      "model_name": "ProgressStyleModel",
      "state": {
       "_model_module": "@jupyter-widgets/controls",
       "_model_module_version": "2.0.0",
       "_model_name": "ProgressStyleModel",
       "_view_count": null,
       "_view_module": "@jupyter-widgets/base",
       "_view_module_version": "2.0.0",
       "_view_name": "StyleView",
       "bar_color": null,
       "description_width": ""
      }
     },
     "1e4edc8be1ca43a3bae9cbec258d4a29": {
      "model_module": "@jupyter-widgets/controls",
      "model_module_version": "2.0.0",
      "model_name": "HTMLModel",
      "state": {
       "_dom_classes": [],
       "_model_module": "@jupyter-widgets/controls",
       "_model_module_version": "2.0.0",
       "_model_name": "HTMLModel",
       "_view_count": null,
       "_view_module": "@jupyter-widgets/controls",
       "_view_module_version": "2.0.0",
       "_view_name": "HTMLView",
       "description": "",
       "description_allow_html": false,
       "layout": "IPY_MODEL_51fc8b7db94c4529a7478a6f45a6f39e",
       "placeholder": "​",
       "style": "IPY_MODEL_606a1639c3bf4a75abd1033d45d4eb39",
       "tabbable": null,
       "tooltip": null,
       "value": "generation_config.json: 100%"
      }
     },
     "20b4ba8154494aab8a996ff5f01524d8": {
      "model_module": "@jupyter-widgets/base",
      "model_module_version": "2.0.0",
      "model_name": "LayoutModel",
      "state": {
       "_model_module": "@jupyter-widgets/base",
       "_model_module_version": "2.0.0",
       "_model_name": "LayoutModel",
       "_view_count": null,
       "_view_module": "@jupyter-widgets/base",
       "_view_module_version": "2.0.0",
       "_view_name": "LayoutView",
       "align_content": null,
       "align_items": null,
       "align_self": null,
       "border_bottom": null,
       "border_left": null,
       "border_right": null,
       "border_top": null,
       "bottom": null,
       "display": null,
       "flex": null,
       "flex_flow": null,
       "grid_area": null,
       "grid_auto_columns": null,
       "grid_auto_flow": null,
       "grid_auto_rows": null,
       "grid_column": null,
       "grid_gap": null,
       "grid_row": null,
       "grid_template_areas": null,
       "grid_template_columns": null,
       "grid_template_rows": null,
       "height": null,
       "justify_content": null,
       "justify_items": null,
       "left": null,
       "margin": null,
       "max_height": null,
       "max_width": null,
       "min_height": null,
       "min_width": null,
       "object_fit": null,
       "object_position": null,
       "order": null,
       "overflow": null,
       "padding": null,
       "right": null,
       "top": null,
       "visibility": null,
       "width": null
      }
     },
     "2a50108f5f8d4a26b044a540463eefdb": {
      "model_module": "@jupyter-widgets/controls",
      "model_module_version": "2.0.0",
      "model_name": "HTMLModel",
      "state": {
       "_dom_classes": [],
       "_model_module": "@jupyter-widgets/controls",
       "_model_module_version": "2.0.0",
       "_model_name": "HTMLModel",
       "_view_count": null,
       "_view_module": "@jupyter-widgets/controls",
       "_view_module_version": "2.0.0",
       "_view_name": "HTMLView",
       "description": "",
       "description_allow_html": false,
       "layout": "IPY_MODEL_6795d93ffafd4c2ab5f670c076addb35",
       "placeholder": "​",
       "style": "IPY_MODEL_9da29d96a29f41989f03500f4a1a09bc",
       "tabbable": null,
       "tooltip": null,
       "value": " 124/124 [00:00&lt;00:00, 13.8kB/s]"
      }
     },
     "2abf207b095c4ab18b836172859f9c7e": {
      "model_module": "@jupyter-widgets/base",
      "model_module_version": "2.0.0",
      "model_name": "LayoutModel",
      "state": {
       "_model_module": "@jupyter-widgets/base",
       "_model_module_version": "2.0.0",
       "_model_name": "LayoutModel",
       "_view_count": null,
       "_view_module": "@jupyter-widgets/base",
       "_view_module_version": "2.0.0",
       "_view_name": "LayoutView",
       "align_content": null,
       "align_items": null,
       "align_self": null,
       "border_bottom": null,
       "border_left": null,
       "border_right": null,
       "border_top": null,
       "bottom": null,
       "display": null,
       "flex": null,
       "flex_flow": null,
       "grid_area": null,
       "grid_auto_columns": null,
       "grid_auto_flow": null,
       "grid_auto_rows": null,
       "grid_column": null,
       "grid_gap": null,
       "grid_row": null,
       "grid_template_areas": null,
       "grid_template_columns": null,
       "grid_template_rows": null,
       "height": null,
       "justify_content": null,
       "justify_items": null,
       "left": null,
       "margin": null,
       "max_height": null,
       "max_width": null,
       "min_height": null,
       "min_width": null,
       "object_fit": null,
       "object_position": null,
       "order": null,
       "overflow": null,
       "padding": null,
       "right": null,
       "top": null,
       "visibility": null,
       "width": null
      }
     },
     "352d52aac23c4380a277a7fa8f3d592f": {
      "model_module": "@jupyter-widgets/controls",
      "model_module_version": "2.0.0",
      "model_name": "HBoxModel",
      "state": {
       "_dom_classes": [],
       "_model_module": "@jupyter-widgets/controls",
       "_model_module_version": "2.0.0",
       "_model_name": "HBoxModel",
       "_view_count": null,
       "_view_module": "@jupyter-widgets/controls",
       "_view_module_version": "2.0.0",
       "_view_name": "HBoxView",
       "box_style": "",
       "children": [
        "IPY_MODEL_aeb2058440ca409899946a4a4b476364",
        "IPY_MODEL_d3e7363b1b794c8b9e048ff0002aa018",
        "IPY_MODEL_4c9aaee2ea184ad5948736aec26715a0"
       ],
       "layout": "IPY_MODEL_5b2c152c463c44b1905440b116041122",
       "tabbable": null,
       "tooltip": null
      }
     },
     "384ffba9e6cc4b00b09ab6e936186e9f": {
      "model_module": "@jupyter-widgets/controls",
      "model_module_version": "2.0.0",
      "model_name": "HTMLStyleModel",
      "state": {
       "_model_module": "@jupyter-widgets/controls",
       "_model_module_version": "2.0.0",
       "_model_name": "HTMLStyleModel",
       "_view_count": null,
       "_view_module": "@jupyter-widgets/base",
       "_view_module_version": "2.0.0",
       "_view_name": "StyleView",
       "background": null,
       "description_width": "",
       "font_size": null,
       "text_color": null
      }
     },
     "3ebb9bda1bdb4b3dbb370dd5315142a8": {
      "model_module": "@jupyter-widgets/controls",
      "model_module_version": "2.0.0",
      "model_name": "FloatProgressModel",
      "state": {
       "_dom_classes": [],
       "_model_module": "@jupyter-widgets/controls",
       "_model_module_version": "2.0.0",
       "_model_name": "FloatProgressModel",
       "_view_count": null,
       "_view_module": "@jupyter-widgets/controls",
       "_view_module_version": "2.0.0",
       "_view_name": "ProgressView",
       "bar_style": "success",
       "description": "",
       "description_allow_html": false,
       "layout": "IPY_MODEL_8aab120f01a148d1be7317aba10ca473",
       "max": 762.0,
       "min": 0.0,
       "orientation": "horizontal",
       "style": "IPY_MODEL_904d60cb6f154b768bcf6238939c11d8",
       "tabbable": null,
       "tooltip": null,
       "value": 762.0
      }
     },
     "4085d89109774c5c950a73fc085ccc82": {
      "model_module": "@jupyter-widgets/controls",
      "model_module_version": "2.0.0",
      "model_name": "ProgressStyleModel",
      "state": {
       "_model_module": "@jupyter-widgets/controls",
       "_model_module_version": "2.0.0",
       "_model_name": "ProgressStyleModel",
       "_view_count": null,
       "_view_module": "@jupyter-widgets/base",
       "_view_module_version": "2.0.0",
       "_view_name": "StyleView",
       "bar_color": null,
       "description_width": ""
      }
     },
     "429bdbba06a54790a866f30073a3d198": {
      "model_module": "@jupyter-widgets/controls",
      "model_module_version": "2.0.0",
      "model_name": "HTMLModel",
      "state": {
       "_dom_classes": [],
       "_model_module": "@jupyter-widgets/controls",
       "_model_module_version": "2.0.0",
       "_model_name": "HTMLModel",
       "_view_count": null,
       "_view_module": "@jupyter-widgets/controls",
       "_view_module_version": "2.0.0",
       "_view_name": "HTMLView",
       "description": "",
       "description_allow_html": false,
       "layout": "IPY_MODEL_510651150fb4446892f43d0ceedb4b3f",
       "placeholder": "​",
       "style": "IPY_MODEL_f42e737879b14a2fb77d5d594b70c94a",
       "tabbable": null,
       "tooltip": null,
       "value": "model.safetensors: 100%"
      }
     },
     "4a8b8ffc2d3640ed8041276b0f700c22": {
      "model_module": "@jupyter-widgets/controls",
      "model_module_version": "2.0.0",
      "model_name": "HBoxModel",
      "state": {
       "_dom_classes": [],
       "_model_module": "@jupyter-widgets/controls",
       "_model_module_version": "2.0.0",
       "_model_name": "HBoxModel",
       "_view_count": null,
       "_view_module": "@jupyter-widgets/controls",
       "_view_module_version": "2.0.0",
       "_view_name": "HBoxView",
       "box_style": "",
       "children": [
        "IPY_MODEL_d9687c4c914c49e4a58fe0617ffa377d",
        "IPY_MODEL_3ebb9bda1bdb4b3dbb370dd5315142a8",
        "IPY_MODEL_5fc973fe036f4892a24c1c4174f678b5"
       ],
       "layout": "IPY_MODEL_7263b031ee01426f9a962079189d6e0a",
       "tabbable": null,
       "tooltip": null
      }
     },
     "4c9aaee2ea184ad5948736aec26715a0": {
      "model_module": "@jupyter-widgets/controls",
      "model_module_version": "2.0.0",
      "model_name": "HTMLModel",
      "state": {
       "_dom_classes": [],
       "_model_module": "@jupyter-widgets/controls",
       "_model_module_version": "2.0.0",
       "_model_name": "HTMLModel",
       "_view_count": null,
       "_view_module": "@jupyter-widgets/controls",
       "_view_module_version": "2.0.0",
       "_view_name": "HTMLView",
       "description": "",
       "description_allow_html": false,
       "layout": "IPY_MODEL_c02f6e93166941478a58b8ff90ed1030",
       "placeholder": "​",
       "style": "IPY_MODEL_6c862fc283164cd2980f984af88745ac",
       "tabbable": null,
       "tooltip": null,
       "value": " 26.0/26.0 [00:00&lt;00:00, 2.32kB/s]"
      }
     },
     "4cec32ac6774450991db34fb7b9ed3d1": {
      "model_module": "@jupyter-widgets/base",
      "model_module_version": "2.0.0",
      "model_name": "LayoutModel",
      "state": {
       "_model_module": "@jupyter-widgets/base",
       "_model_module_version": "2.0.0",
       "_model_name": "LayoutModel",
       "_view_count": null,
       "_view_module": "@jupyter-widgets/base",
       "_view_module_version": "2.0.0",
       "_view_name": "LayoutView",
       "align_content": null,
       "align_items": null,
       "align_self": null,
       "border_bottom": null,
       "border_left": null,
       "border_right": null,
       "border_top": null,
       "bottom": null,
       "display": null,
       "flex": null,
       "flex_flow": null,
       "grid_area": null,
       "grid_auto_columns": null,
       "grid_auto_flow": null,
       "grid_auto_rows": null,
       "grid_column": null,
       "grid_gap": null,
       "grid_row": null,
       "grid_template_areas": null,
       "grid_template_columns": null,
       "grid_template_rows": null,
       "height": null,
       "justify_content": null,
       "justify_items": null,
       "left": null,
       "margin": null,
       "max_height": null,
       "max_width": null,
       "min_height": null,
       "min_width": null,
       "object_fit": null,
       "object_position": null,
       "order": null,
       "overflow": null,
       "padding": null,
       "right": null,
       "top": null,
       "visibility": null,
       "width": null
      }
     },
     "510651150fb4446892f43d0ceedb4b3f": {
      "model_module": "@jupyter-widgets/base",
      "model_module_version": "2.0.0",
      "model_name": "LayoutModel",
      "state": {
       "_model_module": "@jupyter-widgets/base",
       "_model_module_version": "2.0.0",
       "_model_name": "LayoutModel",
       "_view_count": null,
       "_view_module": "@jupyter-widgets/base",
       "_view_module_version": "2.0.0",
       "_view_name": "LayoutView",
       "align_content": null,
       "align_items": null,
       "align_self": null,
       "border_bottom": null,
       "border_left": null,
       "border_right": null,
       "border_top": null,
       "bottom": null,
       "display": null,
       "flex": null,
       "flex_flow": null,
       "grid_area": null,
       "grid_auto_columns": null,
       "grid_auto_flow": null,
       "grid_auto_rows": null,
       "grid_column": null,
       "grid_gap": null,
       "grid_row": null,
       "grid_template_areas": null,
       "grid_template_columns": null,
       "grid_template_rows": null,
       "height": null,
       "justify_content": null,
       "justify_items": null,
       "left": null,
       "margin": null,
       "max_height": null,
       "max_width": null,
       "min_height": null,
       "min_width": null,
       "object_fit": null,
       "object_position": null,
       "order": null,
       "overflow": null,
       "padding": null,
       "right": null,
       "top": null,
       "visibility": null,
       "width": null
      }
     },
     "51fc8b7db94c4529a7478a6f45a6f39e": {
      "model_module": "@jupyter-widgets/base",
      "model_module_version": "2.0.0",
      "model_name": "LayoutModel",
      "state": {
       "_model_module": "@jupyter-widgets/base",
       "_model_module_version": "2.0.0",
       "_model_name": "LayoutModel",
       "_view_count": null,
       "_view_module": "@jupyter-widgets/base",
       "_view_module_version": "2.0.0",
       "_view_name": "LayoutView",
       "align_content": null,
       "align_items": null,
       "align_self": null,
       "border_bottom": null,
       "border_left": null,
       "border_right": null,
       "border_top": null,
       "bottom": null,
       "display": null,
       "flex": null,
       "flex_flow": null,
       "grid_area": null,
       "grid_auto_columns": null,
       "grid_auto_flow": null,
       "grid_auto_rows": null,
       "grid_column": null,
       "grid_gap": null,
       "grid_row": null,
       "grid_template_areas": null,
       "grid_template_columns": null,
       "grid_template_rows": null,
       "height": null,
       "justify_content": null,
       "justify_items": null,
       "left": null,
       "margin": null,
       "max_height": null,
       "max_width": null,
       "min_height": null,
       "min_width": null,
       "object_fit": null,
       "object_position": null,
       "order": null,
       "overflow": null,
       "padding": null,
       "right": null,
       "top": null,
       "visibility": null,
       "width": null
      }
     },
     "5751abe26ec340b4a79ac3b9e0adf27d": {
      "model_module": "@jupyter-widgets/controls",
      "model_module_version": "2.0.0",
      "model_name": "ProgressStyleModel",
      "state": {
       "_model_module": "@jupyter-widgets/controls",
       "_model_module_version": "2.0.0",
       "_model_name": "ProgressStyleModel",
       "_view_count": null,
       "_view_module": "@jupyter-widgets/base",
       "_view_module_version": "2.0.0",
       "_view_name": "StyleView",
       "bar_color": null,
       "description_width": ""
      }
     },
     "57ecb0f78e96419dbc20d2bcecea24bd": {
      "model_module": "@jupyter-widgets/controls",
      "model_module_version": "2.0.0",
      "model_name": "HTMLModel",
      "state": {
       "_dom_classes": [],
       "_model_module": "@jupyter-widgets/controls",
       "_model_module_version": "2.0.0",
       "_model_name": "HTMLModel",
       "_view_count": null,
       "_view_module": "@jupyter-widgets/controls",
       "_view_module_version": "2.0.0",
       "_view_name": "HTMLView",
       "description": "",
       "description_allow_html": false,
       "layout": "IPY_MODEL_f041a5b4ea304712878fd3483d046fe6",
       "placeholder": "​",
       "style": "IPY_MODEL_a6174dfb530e4810aefae4e9c34d5a2b",
       "tabbable": null,
       "tooltip": null,
       "value": " 353M/353M [00:01&lt;00:00, 247MB/s]"
      }
     },
     "5b2c152c463c44b1905440b116041122": {
      "model_module": "@jupyter-widgets/base",
      "model_module_version": "2.0.0",
      "model_name": "LayoutModel",
      "state": {
       "_model_module": "@jupyter-widgets/base",
       "_model_module_version": "2.0.0",
       "_model_name": "LayoutModel",
       "_view_count": null,
       "_view_module": "@jupyter-widgets/base",
       "_view_module_version": "2.0.0",
       "_view_name": "LayoutView",
       "align_content": null,
       "align_items": null,
       "align_self": null,
       "border_bottom": null,
       "border_left": null,
       "border_right": null,
       "border_top": null,
       "bottom": null,
       "display": null,
       "flex": null,
       "flex_flow": null,
       "grid_area": null,
       "grid_auto_columns": null,
       "grid_auto_flow": null,
       "grid_auto_rows": null,
       "grid_column": null,
       "grid_gap": null,
       "grid_row": null,
       "grid_template_areas": null,
       "grid_template_columns": null,
       "grid_template_rows": null,
       "height": null,
       "justify_content": null,
       "justify_items": null,
       "left": null,
       "margin": null,
       "max_height": null,
       "max_width": null,
       "min_height": null,
       "min_width": null,
       "object_fit": null,
       "object_position": null,
       "order": null,
       "overflow": null,
       "padding": null,
       "right": null,
       "top": null,
       "visibility": null,
       "width": null
      }
     },
     "5bc599c09add4f71937c0bd8fab45ed3": {
      "model_module": "@jupyter-widgets/controls",
      "model_module_version": "2.0.0",
      "model_name": "FloatProgressModel",
      "state": {
       "_dom_classes": [],
       "_model_module": "@jupyter-widgets/controls",
       "_model_module_version": "2.0.0",
       "_model_name": "FloatProgressModel",
       "_view_count": null,
       "_view_module": "@jupyter-widgets/controls",
       "_view_module_version": "2.0.0",
       "_view_name": "ProgressView",
       "bar_style": "success",
       "description": "",
       "description_allow_html": false,
       "layout": "IPY_MODEL_91761fa5dee8421c8fd2619e04bf893a",
       "max": 1042301.0,
       "min": 0.0,
       "orientation": "horizontal",
       "style": "IPY_MODEL_d915c4b88f8e4d78bbca7faa7b5cd773",
       "tabbable": null,
       "tooltip": null,
       "value": 1042301.0
      }
     },
     "5f50d938e6a7438a9444dadc84dd50ed": {
      "model_module": "@jupyter-widgets/base",
      "model_module_version": "2.0.0",
      "model_name": "LayoutModel",
      "state": {
       "_model_module": "@jupyter-widgets/base",
       "_model_module_version": "2.0.0",
       "_model_name": "LayoutModel",
       "_view_count": null,
       "_view_module": "@jupyter-widgets/base",
       "_view_module_version": "2.0.0",
       "_view_name": "LayoutView",
       "align_content": null,
       "align_items": null,
       "align_self": null,
       "border_bottom": null,
       "border_left": null,
       "border_right": null,
       "border_top": null,
       "bottom": null,
       "display": null,
       "flex": null,
       "flex_flow": null,
       "grid_area": null,
       "grid_auto_columns": null,
       "grid_auto_flow": null,
       "grid_auto_rows": null,
       "grid_column": null,
       "grid_gap": null,
       "grid_row": null,
       "grid_template_areas": null,
       "grid_template_columns": null,
       "grid_template_rows": null,
       "height": null,
       "justify_content": null,
       "justify_items": null,
       "left": null,
       "margin": null,
       "max_height": null,
       "max_width": null,
       "min_height": null,
       "min_width": null,
       "object_fit": null,
       "object_position": null,
       "order": null,
       "overflow": null,
       "padding": null,
       "right": null,
       "top": null,
       "visibility": null,
       "width": null
      }
     },
     "5fb0cbb549e8484ab6ffa9134ec6bd24": {
      "model_module": "@jupyter-widgets/controls",
      "model_module_version": "2.0.0",
      "model_name": "FloatProgressModel",
      "state": {
       "_dom_classes": [],
       "_model_module": "@jupyter-widgets/controls",
       "_model_module_version": "2.0.0",
       "_model_name": "FloatProgressModel",
       "_view_count": null,
       "_view_module": "@jupyter-widgets/controls",
       "_view_module_version": "2.0.0",
       "_view_name": "ProgressView",
       "bar_style": "success",
       "description": "",
       "description_allow_html": false,
       "layout": "IPY_MODEL_7b5ed18103f2450d9de9dddd803e3a4d",
       "max": 1355256.0,
       "min": 0.0,
       "orientation": "horizontal",
       "style": "IPY_MODEL_4085d89109774c5c950a73fc085ccc82",
       "tabbable": null,
       "tooltip": null,
       "value": 1355256.0
      }
     },
     "5fc973fe036f4892a24c1c4174f678b5": {
      "model_module": "@jupyter-widgets/controls",
      "model_module_version": "2.0.0",
      "model_name": "HTMLModel",
      "state": {
       "_dom_classes": [],
       "_model_module": "@jupyter-widgets/controls",
       "_model_module_version": "2.0.0",
       "_model_name": "HTMLModel",
       "_view_count": null,
       "_view_module": "@jupyter-widgets/controls",
       "_view_module_version": "2.0.0",
       "_view_name": "HTMLView",
       "description": "",
       "description_allow_html": false,
       "layout": "IPY_MODEL_e49a060df4144b6b945391ef26313a5c",
       "placeholder": "​",
       "style": "IPY_MODEL_e7d1e7b30f194ee8a507a045bb8b934b",
       "tabbable": null,
       "tooltip": null,
       "value": " 762/762 [00:00&lt;00:00, 79.0kB/s]"
      }
     },
     "606a1639c3bf4a75abd1033d45d4eb39": {
      "model_module": "@jupyter-widgets/controls",
      "model_module_version": "2.0.0",
      "model_name": "HTMLStyleModel",
      "state": {
       "_model_module": "@jupyter-widgets/controls",
       "_model_module_version": "2.0.0",
       "_model_name": "HTMLStyleModel",
       "_view_count": null,
       "_view_module": "@jupyter-widgets/base",
       "_view_module_version": "2.0.0",
       "_view_name": "StyleView",
       "background": null,
       "description_width": "",
       "font_size": null,
       "text_color": null
      }
     },
     "65c77b8609814da38fbcd3fedf0aba29": {
      "model_module": "@jupyter-widgets/controls",
      "model_module_version": "2.0.0",
      "model_name": "HBoxModel",
      "state": {
       "_dom_classes": [],
       "_model_module": "@jupyter-widgets/controls",
       "_model_module_version": "2.0.0",
       "_model_name": "HBoxModel",
       "_view_count": null,
       "_view_module": "@jupyter-widgets/controls",
       "_view_module_version": "2.0.0",
       "_view_name": "HBoxView",
       "box_style": "",
       "children": [
        "IPY_MODEL_ca26f63929c846929387369703e87496",
        "IPY_MODEL_5fb0cbb549e8484ab6ffa9134ec6bd24",
        "IPY_MODEL_e29795fa2a3c4553b8b9a78ef4f1981c"
       ],
       "layout": "IPY_MODEL_2abf207b095c4ab18b836172859f9c7e",
       "tabbable": null,
       "tooltip": null
      }
     },
     "6795d93ffafd4c2ab5f670c076addb35": {
      "model_module": "@jupyter-widgets/base",
      "model_module_version": "2.0.0",
      "model_name": "LayoutModel",
      "state": {
       "_model_module": "@jupyter-widgets/base",
       "_model_module_version": "2.0.0",
       "_model_name": "LayoutModel",
       "_view_count": null,
       "_view_module": "@jupyter-widgets/base",
       "_view_module_version": "2.0.0",
       "_view_name": "LayoutView",
       "align_content": null,
       "align_items": null,
       "align_self": null,
       "border_bottom": null,
       "border_left": null,
       "border_right": null,
       "border_top": null,
       "bottom": null,
       "display": null,
       "flex": null,
       "flex_flow": null,
       "grid_area": null,
       "grid_auto_columns": null,
       "grid_auto_flow": null,
       "grid_auto_rows": null,
       "grid_column": null,
       "grid_gap": null,
       "grid_row": null,
       "grid_template_areas": null,
       "grid_template_columns": null,
       "grid_template_rows": null,
       "height": null,
       "justify_content": null,
       "justify_items": null,
       "left": null,
       "margin": null,
       "max_height": null,
       "max_width": null,
       "min_height": null,
       "min_width": null,
       "object_fit": null,
       "object_position": null,
       "order": null,
       "overflow": null,
       "padding": null,
       "right": null,
       "top": null,
       "visibility": null,
       "width": null
      }
     },
     "695390e394fe4242b15cde58aae784cb": {
      "model_module": "@jupyter-widgets/controls",
      "model_module_version": "2.0.0",
      "model_name": "HBoxModel",
      "state": {
       "_dom_classes": [],
       "_model_module": "@jupyter-widgets/controls",
       "_model_module_version": "2.0.0",
       "_model_name": "HBoxModel",
       "_view_count": null,
       "_view_module": "@jupyter-widgets/controls",
       "_view_module_version": "2.0.0",
       "_view_name": "HBoxView",
       "box_style": "",
       "children": [
        "IPY_MODEL_6f7c43f5d4d54c2cbf7409a4caac4aa1",
        "IPY_MODEL_fb11c3095c134a548936e9a03fc6ca28",
        "IPY_MODEL_8b3a14c8c77e4207bfeac5945caa39bb"
       ],
       "layout": "IPY_MODEL_0e690bb54ec3496aa2d32a65136508a7",
       "tabbable": null,
       "tooltip": null
      }
     },
     "69c57cb1c15745feb8590f8779a1e572": {
      "model_module": "@jupyter-widgets/controls",
      "model_module_version": "2.0.0",
      "model_name": "HTMLModel",
      "state": {
       "_dom_classes": [],
       "_model_module": "@jupyter-widgets/controls",
       "_model_module_version": "2.0.0",
       "_model_name": "HTMLModel",
       "_view_count": null,
       "_view_module": "@jupyter-widgets/controls",
       "_view_module_version": "2.0.0",
       "_view_name": "HTMLView",
       "description": "",
       "description_allow_html": false,
       "layout": "IPY_MODEL_d96a3a146d1243d4b5c2b44646932f23",
       "placeholder": "​",
       "style": "IPY_MODEL_0f38c677e74d43e3a8b6a07a209426df",
       "tabbable": null,
       "tooltip": null,
       "value": " 1.04M/1.04M [00:00&lt;00:00, 5.43MB/s]"
      }
     },
     "6c720c58cba540648a00887cd7af4f33": {
      "model_module": "@jupyter-widgets/controls",
      "model_module_version": "2.0.0",
      "model_name": "HBoxModel",
      "state": {
       "_dom_classes": [],
       "_model_module": "@jupyter-widgets/controls",
       "_model_module_version": "2.0.0",
       "_model_name": "HBoxModel",
       "_view_count": null,
       "_view_module": "@jupyter-widgets/controls",
       "_view_module_version": "2.0.0",
       "_view_name": "HBoxView",
       "box_style": "",
       "children": [
        "IPY_MODEL_1e4edc8be1ca43a3bae9cbec258d4a29",
        "IPY_MODEL_aa8f58dc377a4fa08b4a2a3957e0cf55",
        "IPY_MODEL_2a50108f5f8d4a26b044a540463eefdb"
       ],
       "layout": "IPY_MODEL_09e4ec232a724909b751bfdbb01d52a2",
       "tabbable": null,
       "tooltip": null
      }
     },
     "6c862fc283164cd2980f984af88745ac": {
      "model_module": "@jupyter-widgets/controls",
      "model_module_version": "2.0.0",
      "model_name": "HTMLStyleModel",
      "state": {
       "_model_module": "@jupyter-widgets/controls",
       "_model_module_version": "2.0.0",
       "_model_name": "HTMLStyleModel",
       "_view_count": null,
       "_view_module": "@jupyter-widgets/base",
       "_view_module_version": "2.0.0",
       "_view_name": "StyleView",
       "background": null,
       "description_width": "",
       "font_size": null,
       "text_color": null
      }
     },
     "6f7c43f5d4d54c2cbf7409a4caac4aa1": {
      "model_module": "@jupyter-widgets/controls",
      "model_module_version": "2.0.0",
      "model_name": "HTMLModel",
      "state": {
       "_dom_classes": [],
       "_model_module": "@jupyter-widgets/controls",
       "_model_module_version": "2.0.0",
       "_model_name": "HTMLModel",
       "_view_count": null,
       "_view_module": "@jupyter-widgets/controls",
       "_view_module_version": "2.0.0",
       "_view_name": "HTMLView",
       "description": "",
       "description_allow_html": false,
       "layout": "IPY_MODEL_e5d102e63cb04930af85cf2b2affffcd",
       "placeholder": "​",
       "style": "IPY_MODEL_b129153503c34673b3fdc95ebe34389e",
       "tabbable": null,
       "tooltip": null,
       "value": "merges.txt: 100%"
      }
     },
     "7263b031ee01426f9a962079189d6e0a": {
      "model_module": "@jupyter-widgets/base",
      "model_module_version": "2.0.0",
      "model_name": "LayoutModel",
      "state": {
       "_model_module": "@jupyter-widgets/base",
       "_model_module_version": "2.0.0",
       "_model_name": "LayoutModel",
       "_view_count": null,
       "_view_module": "@jupyter-widgets/base",
       "_view_module_version": "2.0.0",
       "_view_name": "LayoutView",
       "align_content": null,
       "align_items": null,
       "align_self": null,
       "border_bottom": null,
       "border_left": null,
       "border_right": null,
       "border_top": null,
       "bottom": null,
       "display": null,
       "flex": null,
       "flex_flow": null,
       "grid_area": null,
       "grid_auto_columns": null,
       "grid_auto_flow": null,
       "grid_auto_rows": null,
       "grid_column": null,
       "grid_gap": null,
       "grid_row": null,
       "grid_template_areas": null,
       "grid_template_columns": null,
       "grid_template_rows": null,
       "height": null,
       "justify_content": null,
       "justify_items": null,
       "left": null,
       "margin": null,
       "max_height": null,
       "max_width": null,
       "min_height": null,
       "min_width": null,
       "object_fit": null,
       "object_position": null,
       "order": null,
       "overflow": null,
       "padding": null,
       "right": null,
       "top": null,
       "visibility": null,
       "width": null
      }
     },
     "743681ed7d1a4734bf597b257b0364f1": {
      "model_module": "@jupyter-widgets/controls",
      "model_module_version": "2.0.0",
      "model_name": "HTMLStyleModel",
      "state": {
       "_model_module": "@jupyter-widgets/controls",
       "_model_module_version": "2.0.0",
       "_model_name": "HTMLStyleModel",
       "_view_count": null,
       "_view_module": "@jupyter-widgets/base",
       "_view_module_version": "2.0.0",
       "_view_name": "StyleView",
       "background": null,
       "description_width": "",
       "font_size": null,
       "text_color": null
      }
     },
     "7b5ed18103f2450d9de9dddd803e3a4d": {
      "model_module": "@jupyter-widgets/base",
      "model_module_version": "2.0.0",
      "model_name": "LayoutModel",
      "state": {
       "_model_module": "@jupyter-widgets/base",
       "_model_module_version": "2.0.0",
       "_model_name": "LayoutModel",
       "_view_count": null,
       "_view_module": "@jupyter-widgets/base",
       "_view_module_version": "2.0.0",
       "_view_name": "LayoutView",
       "align_content": null,
       "align_items": null,
       "align_self": null,
       "border_bottom": null,
       "border_left": null,
       "border_right": null,
       "border_top": null,
       "bottom": null,
       "display": null,
       "flex": null,
       "flex_flow": null,
       "grid_area": null,
       "grid_auto_columns": null,
       "grid_auto_flow": null,
       "grid_auto_rows": null,
       "grid_column": null,
       "grid_gap": null,
       "grid_row": null,
       "grid_template_areas": null,
       "grid_template_columns": null,
       "grid_template_rows": null,
       "height": null,
       "justify_content": null,
       "justify_items": null,
       "left": null,
       "margin": null,
       "max_height": null,
       "max_width": null,
       "min_height": null,
       "min_width": null,
       "object_fit": null,
       "object_position": null,
       "order": null,
       "overflow": null,
       "padding": null,
       "right": null,
       "top": null,
       "visibility": null,
       "width": null
      }
     },
     "80790f2545354001954591794bf7ba34": {
      "model_module": "@jupyter-widgets/controls",
      "model_module_version": "2.0.0",
      "model_name": "HTMLModel",
      "state": {
       "_dom_classes": [],
       "_model_module": "@jupyter-widgets/controls",
       "_model_module_version": "2.0.0",
       "_model_name": "HTMLModel",
       "_view_count": null,
       "_view_module": "@jupyter-widgets/controls",
       "_view_module_version": "2.0.0",
       "_view_name": "HTMLView",
       "description": "",
       "description_allow_html": false,
       "layout": "IPY_MODEL_9c74e00fc4394ecb90fb59c0c54dd332",
       "placeholder": "​",
       "style": "IPY_MODEL_8b95e3bb8f9e4c82915fc62b43b8b691",
       "tabbable": null,
       "tooltip": null,
       "value": "vocab.json: 100%"
      }
     },
     "8aab120f01a148d1be7317aba10ca473": {
      "model_module": "@jupyter-widgets/base",
      "model_module_version": "2.0.0",
      "model_name": "LayoutModel",
      "state": {
       "_model_module": "@jupyter-widgets/base",
       "_model_module_version": "2.0.0",
       "_model_name": "LayoutModel",
       "_view_count": null,
       "_view_module": "@jupyter-widgets/base",
       "_view_module_version": "2.0.0",
       "_view_name": "LayoutView",
       "align_content": null,
       "align_items": null,
       "align_self": null,
       "border_bottom": null,
       "border_left": null,
       "border_right": null,
       "border_top": null,
       "bottom": null,
       "display": null,
       "flex": null,
       "flex_flow": null,
       "grid_area": null,
       "grid_auto_columns": null,
       "grid_auto_flow": null,
       "grid_auto_rows": null,
       "grid_column": null,
       "grid_gap": null,
       "grid_row": null,
       "grid_template_areas": null,
       "grid_template_columns": null,
       "grid_template_rows": null,
       "height": null,
       "justify_content": null,
       "justify_items": null,
       "left": null,
       "margin": null,
       "max_height": null,
       "max_width": null,
       "min_height": null,
       "min_width": null,
       "object_fit": null,
       "object_position": null,
       "order": null,
       "overflow": null,
       "padding": null,
       "right": null,
       "top": null,
       "visibility": null,
       "width": null
      }
     },
     "8b3a14c8c77e4207bfeac5945caa39bb": {
      "model_module": "@jupyter-widgets/controls",
      "model_module_version": "2.0.0",
      "model_name": "HTMLModel",
      "state": {
       "_dom_classes": [],
       "_model_module": "@jupyter-widgets/controls",
       "_model_module_version": "2.0.0",
       "_model_name": "HTMLModel",
       "_view_count": null,
       "_view_module": "@jupyter-widgets/controls",
       "_view_module_version": "2.0.0",
       "_view_name": "HTMLView",
       "description": "",
       "description_allow_html": false,
       "layout": "IPY_MODEL_f664303c611744d7bf52c44d2604e404",
       "placeholder": "​",
       "style": "IPY_MODEL_f0579e92d61f4ab0b123a668b9bac63b",
       "tabbable": null,
       "tooltip": null,
       "value": " 456k/456k [00:00&lt;00:00, 36.2MB/s]"
      }
     },
     "8b95e3bb8f9e4c82915fc62b43b8b691": {
      "model_module": "@jupyter-widgets/controls",
      "model_module_version": "2.0.0",
      "model_name": "HTMLStyleModel",
      "state": {
       "_model_module": "@jupyter-widgets/controls",
       "_model_module_version": "2.0.0",
       "_model_name": "HTMLStyleModel",
       "_view_count": null,
       "_view_module": "@jupyter-widgets/base",
       "_view_module_version": "2.0.0",
       "_view_name": "StyleView",
       "background": null,
       "description_width": "",
       "font_size": null,
       "text_color": null
      }
     },
     "8e4c003e127b41adbeefb817bd7ef46e": {
      "model_module": "@jupyter-widgets/base",
      "model_module_version": "2.0.0",
      "model_name": "LayoutModel",
      "state": {
       "_model_module": "@jupyter-widgets/base",
       "_model_module_version": "2.0.0",
       "_model_name": "LayoutModel",
       "_view_count": null,
       "_view_module": "@jupyter-widgets/base",
       "_view_module_version": "2.0.0",
       "_view_name": "LayoutView",
       "align_content": null,
       "align_items": null,
       "align_self": null,
       "border_bottom": null,
       "border_left": null,
       "border_right": null,
       "border_top": null,
       "bottom": null,
       "display": null,
       "flex": null,
       "flex_flow": null,
       "grid_area": null,
       "grid_auto_columns": null,
       "grid_auto_flow": null,
       "grid_auto_rows": null,
       "grid_column": null,
       "grid_gap": null,
       "grid_row": null,
       "grid_template_areas": null,
       "grid_template_columns": null,
       "grid_template_rows": null,
       "height": null,
       "justify_content": null,
       "justify_items": null,
       "left": null,
       "margin": null,
       "max_height": null,
       "max_width": null,
       "min_height": null,
       "min_width": null,
       "object_fit": null,
       "object_position": null,
       "order": null,
       "overflow": null,
       "padding": null,
       "right": null,
       "top": null,
       "visibility": null,
       "width": null
      }
     },
     "8fc53d8941b747bd8c8d2495d4758dd9": {
      "model_module": "@jupyter-widgets/controls",
      "model_module_version": "2.0.0",
      "model_name": "FloatProgressModel",
      "state": {
       "_dom_classes": [],
       "_model_module": "@jupyter-widgets/controls",
       "_model_module_version": "2.0.0",
       "_model_name": "FloatProgressModel",
       "_view_count": null,
       "_view_module": "@jupyter-widgets/controls",
       "_view_module_version": "2.0.0",
       "_view_name": "ProgressView",
       "bar_style": "success",
       "description": "",
       "description_allow_html": false,
       "layout": "IPY_MODEL_97f31002c198436da017975209deb090",
       "max": 352824413.0,
       "min": 0.0,
       "orientation": "horizontal",
       "style": "IPY_MODEL_5751abe26ec340b4a79ac3b9e0adf27d",
       "tabbable": null,
       "tooltip": null,
       "value": 352824413.0
      }
     },
     "90395abb026c4973ab8e9e38cad5c3b5": {
      "model_module": "@jupyter-widgets/controls",
      "model_module_version": "2.0.0",
      "model_name": "ProgressStyleModel",
      "state": {
       "_model_module": "@jupyter-widgets/controls",
       "_model_module_version": "2.0.0",
       "_model_name": "ProgressStyleModel",
       "_view_count": null,
       "_view_module": "@jupyter-widgets/base",
       "_view_module_version": "2.0.0",
       "_view_name": "StyleView",
       "bar_color": null,
       "description_width": ""
      }
     },
     "904d60cb6f154b768bcf6238939c11d8": {
      "model_module": "@jupyter-widgets/controls",
      "model_module_version": "2.0.0",
      "model_name": "ProgressStyleModel",
      "state": {
       "_model_module": "@jupyter-widgets/controls",
       "_model_module_version": "2.0.0",
       "_model_name": "ProgressStyleModel",
       "_view_count": null,
       "_view_module": "@jupyter-widgets/base",
       "_view_module_version": "2.0.0",
       "_view_name": "StyleView",
       "bar_color": null,
       "description_width": ""
      }
     },
     "91761fa5dee8421c8fd2619e04bf893a": {
      "model_module": "@jupyter-widgets/base",
      "model_module_version": "2.0.0",
      "model_name": "LayoutModel",
      "state": {
       "_model_module": "@jupyter-widgets/base",
       "_model_module_version": "2.0.0",
       "_model_name": "LayoutModel",
       "_view_count": null,
       "_view_module": "@jupyter-widgets/base",
       "_view_module_version": "2.0.0",
       "_view_name": "LayoutView",
       "align_content": null,
       "align_items": null,
       "align_self": null,
       "border_bottom": null,
       "border_left": null,
       "border_right": null,
       "border_top": null,
       "bottom": null,
       "display": null,
       "flex": null,
       "flex_flow": null,
       "grid_area": null,
       "grid_auto_columns": null,
       "grid_auto_flow": null,
       "grid_auto_rows": null,
       "grid_column": null,
       "grid_gap": null,
       "grid_row": null,
       "grid_template_areas": null,
       "grid_template_columns": null,
       "grid_template_rows": null,
       "height": null,
       "justify_content": null,
       "justify_items": null,
       "left": null,
       "margin": null,
       "max_height": null,
       "max_width": null,
       "min_height": null,
       "min_width": null,
       "object_fit": null,
       "object_position": null,
       "order": null,
       "overflow": null,
       "padding": null,
       "right": null,
       "top": null,
       "visibility": null,
       "width": null
      }
     },
     "97f31002c198436da017975209deb090": {
      "model_module": "@jupyter-widgets/base",
      "model_module_version": "2.0.0",
      "model_name": "LayoutModel",
      "state": {
       "_model_module": "@jupyter-widgets/base",
       "_model_module_version": "2.0.0",
       "_model_name": "LayoutModel",
       "_view_count": null,
       "_view_module": "@jupyter-widgets/base",
       "_view_module_version": "2.0.0",
       "_view_name": "LayoutView",
       "align_content": null,
       "align_items": null,
       "align_self": null,
       "border_bottom": null,
       "border_left": null,
       "border_right": null,
       "border_top": null,
       "bottom": null,
       "display": null,
       "flex": null,
       "flex_flow": null,
       "grid_area": null,
       "grid_auto_columns": null,
       "grid_auto_flow": null,
       "grid_auto_rows": null,
       "grid_column": null,
       "grid_gap": null,
       "grid_row": null,
       "grid_template_areas": null,
       "grid_template_columns": null,
       "grid_template_rows": null,
       "height": null,
       "justify_content": null,
       "justify_items": null,
       "left": null,
       "margin": null,
       "max_height": null,
       "max_width": null,
       "min_height": null,
       "min_width": null,
       "object_fit": null,
       "object_position": null,
       "order": null,
       "overflow": null,
       "padding": null,
       "right": null,
       "top": null,
       "visibility": null,
       "width": null
      }
     },
     "9c74e00fc4394ecb90fb59c0c54dd332": {
      "model_module": "@jupyter-widgets/base",
      "model_module_version": "2.0.0",
      "model_name": "LayoutModel",
      "state": {
       "_model_module": "@jupyter-widgets/base",
       "_model_module_version": "2.0.0",
       "_model_name": "LayoutModel",
       "_view_count": null,
       "_view_module": "@jupyter-widgets/base",
       "_view_module_version": "2.0.0",
       "_view_name": "LayoutView",
       "align_content": null,
       "align_items": null,
       "align_self": null,
       "border_bottom": null,
       "border_left": null,
       "border_right": null,
       "border_top": null,
       "bottom": null,
       "display": null,
       "flex": null,
       "flex_flow": null,
       "grid_area": null,
       "grid_auto_columns": null,
       "grid_auto_flow": null,
       "grid_auto_rows": null,
       "grid_column": null,
       "grid_gap": null,
       "grid_row": null,
       "grid_template_areas": null,
       "grid_template_columns": null,
       "grid_template_rows": null,
       "height": null,
       "justify_content": null,
       "justify_items": null,
       "left": null,
       "margin": null,
       "max_height": null,
       "max_width": null,
       "min_height": null,
       "min_width": null,
       "object_fit": null,
       "object_position": null,
       "order": null,
       "overflow": null,
       "padding": null,
       "right": null,
       "top": null,
       "visibility": null,
       "width": null
      }
     },
     "9da29d96a29f41989f03500f4a1a09bc": {
      "model_module": "@jupyter-widgets/controls",
      "model_module_version": "2.0.0",
      "model_name": "HTMLStyleModel",
      "state": {
       "_model_module": "@jupyter-widgets/controls",
       "_model_module_version": "2.0.0",
       "_model_name": "HTMLStyleModel",
       "_view_count": null,
       "_view_module": "@jupyter-widgets/base",
       "_view_module_version": "2.0.0",
       "_view_name": "StyleView",
       "background": null,
       "description_width": "",
       "font_size": null,
       "text_color": null
      }
     },
     "a11a5d0b33ef4d8ebcd81e5451724673": {
      "model_module": "@jupyter-widgets/base",
      "model_module_version": "2.0.0",
      "model_name": "LayoutModel",
      "state": {
       "_model_module": "@jupyter-widgets/base",
       "_model_module_version": "2.0.0",
       "_model_name": "LayoutModel",
       "_view_count": null,
       "_view_module": "@jupyter-widgets/base",
       "_view_module_version": "2.0.0",
       "_view_name": "LayoutView",
       "align_content": null,
       "align_items": null,
       "align_self": null,
       "border_bottom": null,
       "border_left": null,
       "border_right": null,
       "border_top": null,
       "bottom": null,
       "display": null,
       "flex": null,
       "flex_flow": null,
       "grid_area": null,
       "grid_auto_columns": null,
       "grid_auto_flow": null,
       "grid_auto_rows": null,
       "grid_column": null,
       "grid_gap": null,
       "grid_row": null,
       "grid_template_areas": null,
       "grid_template_columns": null,
       "grid_template_rows": null,
       "height": null,
       "justify_content": null,
       "justify_items": null,
       "left": null,
       "margin": null,
       "max_height": null,
       "max_width": null,
       "min_height": null,
       "min_width": null,
       "object_fit": null,
       "object_position": null,
       "order": null,
       "overflow": null,
       "padding": null,
       "right": null,
       "top": null,
       "visibility": null,
       "width": null
      }
     },
     "a6174dfb530e4810aefae4e9c34d5a2b": {
      "model_module": "@jupyter-widgets/controls",
      "model_module_version": "2.0.0",
      "model_name": "HTMLStyleModel",
      "state": {
       "_model_module": "@jupyter-widgets/controls",
       "_model_module_version": "2.0.0",
       "_model_name": "HTMLStyleModel",
       "_view_count": null,
       "_view_module": "@jupyter-widgets/base",
       "_view_module_version": "2.0.0",
       "_view_name": "StyleView",
       "background": null,
       "description_width": "",
       "font_size": null,
       "text_color": null
      }
     },
     "aa8f58dc377a4fa08b4a2a3957e0cf55": {
      "model_module": "@jupyter-widgets/controls",
      "model_module_version": "2.0.0",
      "model_name": "FloatProgressModel",
      "state": {
       "_dom_classes": [],
       "_model_module": "@jupyter-widgets/controls",
       "_model_module_version": "2.0.0",
       "_model_name": "FloatProgressModel",
       "_view_count": null,
       "_view_module": "@jupyter-widgets/controls",
       "_view_module_version": "2.0.0",
       "_view_name": "ProgressView",
       "bar_style": "success",
       "description": "",
       "description_allow_html": false,
       "layout": "IPY_MODEL_8e4c003e127b41adbeefb817bd7ef46e",
       "max": 124.0,
       "min": 0.0,
       "orientation": "horizontal",
       "style": "IPY_MODEL_11606db091684f7ab905bd6d4bfe389d",
       "tabbable": null,
       "tooltip": null,
       "value": 124.0
      }
     },
     "aeb2058440ca409899946a4a4b476364": {
      "model_module": "@jupyter-widgets/controls",
      "model_module_version": "2.0.0",
      "model_name": "HTMLModel",
      "state": {
       "_dom_classes": [],
       "_model_module": "@jupyter-widgets/controls",
       "_model_module_version": "2.0.0",
       "_model_name": "HTMLModel",
       "_view_count": null,
       "_view_module": "@jupyter-widgets/controls",
       "_view_module_version": "2.0.0",
       "_view_name": "HTMLView",
       "description": "",
       "description_allow_html": false,
       "layout": "IPY_MODEL_4cec32ac6774450991db34fb7b9ed3d1",
       "placeholder": "​",
       "style": "IPY_MODEL_743681ed7d1a4734bf597b257b0364f1",
       "tabbable": null,
       "tooltip": null,
       "value": "tokenizer_config.json: 100%"
      }
     },
     "b129153503c34673b3fdc95ebe34389e": {
      "model_module": "@jupyter-widgets/controls",
      "model_module_version": "2.0.0",
      "model_name": "HTMLStyleModel",
      "state": {
       "_model_module": "@jupyter-widgets/controls",
       "_model_module_version": "2.0.0",
       "_model_name": "HTMLStyleModel",
       "_view_count": null,
       "_view_module": "@jupyter-widgets/base",
       "_view_module_version": "2.0.0",
       "_view_name": "StyleView",
       "background": null,
       "description_width": "",
       "font_size": null,
       "text_color": null
      }
     },
     "b6e3c267087b4ef1a0d8dcd14d6e1fe4": {
      "model_module": "@jupyter-widgets/controls",
      "model_module_version": "2.0.0",
      "model_name": "HTMLStyleModel",
      "state": {
       "_model_module": "@jupyter-widgets/controls",
       "_model_module_version": "2.0.0",
       "_model_name": "HTMLStyleModel",
       "_view_count": null,
       "_view_module": "@jupyter-widgets/base",
       "_view_module_version": "2.0.0",
       "_view_name": "StyleView",
       "background": null,
       "description_width": "",
       "font_size": null,
       "text_color": null
      }
     },
     "befa3c80328149909eb7d199fb368416": {
      "model_module": "@jupyter-widgets/controls",
      "model_module_version": "2.0.0",
      "model_name": "ProgressStyleModel",
      "state": {
       "_model_module": "@jupyter-widgets/controls",
       "_model_module_version": "2.0.0",
       "_model_name": "ProgressStyleModel",
       "_view_count": null,
       "_view_module": "@jupyter-widgets/base",
       "_view_module_version": "2.0.0",
       "_view_name": "StyleView",
       "bar_color": null,
       "description_width": ""
      }
     },
     "c02f6e93166941478a58b8ff90ed1030": {
      "model_module": "@jupyter-widgets/base",
      "model_module_version": "2.0.0",
      "model_name": "LayoutModel",
      "state": {
       "_model_module": "@jupyter-widgets/base",
       "_model_module_version": "2.0.0",
       "_model_name": "LayoutModel",
       "_view_count": null,
       "_view_module": "@jupyter-widgets/base",
       "_view_module_version": "2.0.0",
       "_view_name": "LayoutView",
       "align_content": null,
       "align_items": null,
       "align_self": null,
       "border_bottom": null,
       "border_left": null,
       "border_right": null,
       "border_top": null,
       "bottom": null,
       "display": null,
       "flex": null,
       "flex_flow": null,
       "grid_area": null,
       "grid_auto_columns": null,
       "grid_auto_flow": null,
       "grid_auto_rows": null,
       "grid_column": null,
       "grid_gap": null,
       "grid_row": null,
       "grid_template_areas": null,
       "grid_template_columns": null,
       "grid_template_rows": null,
       "height": null,
       "justify_content": null,
       "justify_items": null,
       "left": null,
       "margin": null,
       "max_height": null,
       "max_width": null,
       "min_height": null,
       "min_width": null,
       "object_fit": null,
       "object_position": null,
       "order": null,
       "overflow": null,
       "padding": null,
       "right": null,
       "top": null,
       "visibility": null,
       "width": null
      }
     },
     "ca26f63929c846929387369703e87496": {
      "model_module": "@jupyter-widgets/controls",
      "model_module_version": "2.0.0",
      "model_name": "HTMLModel",
      "state": {
       "_dom_classes": [],
       "_model_module": "@jupyter-widgets/controls",
       "_model_module_version": "2.0.0",
       "_model_name": "HTMLModel",
       "_view_count": null,
       "_view_module": "@jupyter-widgets/controls",
       "_view_module_version": "2.0.0",
       "_view_name": "HTMLView",
       "description": "",
       "description_allow_html": false,
       "layout": "IPY_MODEL_f1bdd94c24324941a34b5ce3e1d6a863",
       "placeholder": "​",
       "style": "IPY_MODEL_b6e3c267087b4ef1a0d8dcd14d6e1fe4",
       "tabbable": null,
       "tooltip": null,
       "value": "tokenizer.json: 100%"
      }
     },
     "d3e7363b1b794c8b9e048ff0002aa018": {
      "model_module": "@jupyter-widgets/controls",
      "model_module_version": "2.0.0",
      "model_name": "FloatProgressModel",
      "state": {
       "_dom_classes": [],
       "_model_module": "@jupyter-widgets/controls",
       "_model_module_version": "2.0.0",
       "_model_name": "FloatProgressModel",
       "_view_count": null,
       "_view_module": "@jupyter-widgets/controls",
       "_view_module_version": "2.0.0",
       "_view_name": "ProgressView",
       "bar_style": "success",
       "description": "",
       "description_allow_html": false,
       "layout": "IPY_MODEL_e7f59ed9fbdf43c7a5a4498517802282",
       "max": 26.0,
       "min": 0.0,
       "orientation": "horizontal",
       "style": "IPY_MODEL_90395abb026c4973ab8e9e38cad5c3b5",
       "tabbable": null,
       "tooltip": null,
       "value": 26.0
      }
     },
     "d915c4b88f8e4d78bbca7faa7b5cd773": {
      "model_module": "@jupyter-widgets/controls",
      "model_module_version": "2.0.0",
      "model_name": "ProgressStyleModel",
      "state": {
       "_model_module": "@jupyter-widgets/controls",
       "_model_module_version": "2.0.0",
       "_model_name": "ProgressStyleModel",
       "_view_count": null,
       "_view_module": "@jupyter-widgets/base",
       "_view_module_version": "2.0.0",
       "_view_name": "StyleView",
       "bar_color": null,
       "description_width": ""
      }
     },
     "d9687c4c914c49e4a58fe0617ffa377d": {
      "model_module": "@jupyter-widgets/controls",
      "model_module_version": "2.0.0",
      "model_name": "HTMLModel",
      "state": {
       "_dom_classes": [],
       "_model_module": "@jupyter-widgets/controls",
       "_model_module_version": "2.0.0",
       "_model_name": "HTMLModel",
       "_view_count": null,
       "_view_module": "@jupyter-widgets/controls",
       "_view_module_version": "2.0.0",
       "_view_name": "HTMLView",
       "description": "",
       "description_allow_html": false,
       "layout": "IPY_MODEL_f19ca92fc739458aaa43c4b4d57f625e",
       "placeholder": "​",
       "style": "IPY_MODEL_384ffba9e6cc4b00b09ab6e936186e9f",
       "tabbable": null,
       "tooltip": null,
       "value": "config.json: 100%"
      }
     },
     "d96a3a146d1243d4b5c2b44646932f23": {
      "model_module": "@jupyter-widgets/base",
      "model_module_version": "2.0.0",
      "model_name": "LayoutModel",
      "state": {
       "_model_module": "@jupyter-widgets/base",
       "_model_module_version": "2.0.0",
       "_model_name": "LayoutModel",
       "_view_count": null,
       "_view_module": "@jupyter-widgets/base",
       "_view_module_version": "2.0.0",
       "_view_name": "LayoutView",
       "align_content": null,
       "align_items": null,
       "align_self": null,
       "border_bottom": null,
       "border_left": null,
       "border_right": null,
       "border_top": null,
       "bottom": null,
       "display": null,
       "flex": null,
       "flex_flow": null,
       "grid_area": null,
       "grid_auto_columns": null,
       "grid_auto_flow": null,
       "grid_auto_rows": null,
       "grid_column": null,
       "grid_gap": null,
       "grid_row": null,
       "grid_template_areas": null,
       "grid_template_columns": null,
       "grid_template_rows": null,
       "height": null,
       "justify_content": null,
       "justify_items": null,
       "left": null,
       "margin": null,
       "max_height": null,
       "max_width": null,
       "min_height": null,
       "min_width": null,
       "object_fit": null,
       "object_position": null,
       "order": null,
       "overflow": null,
       "padding": null,
       "right": null,
       "top": null,
       "visibility": null,
       "width": null
      }
     },
     "e29795fa2a3c4553b8b9a78ef4f1981c": {
      "model_module": "@jupyter-widgets/controls",
      "model_module_version": "2.0.0",
      "model_name": "HTMLModel",
      "state": {
       "_dom_classes": [],
       "_model_module": "@jupyter-widgets/controls",
       "_model_module_version": "2.0.0",
       "_model_name": "HTMLModel",
       "_view_count": null,
       "_view_module": "@jupyter-widgets/controls",
       "_view_module_version": "2.0.0",
       "_view_name": "HTMLView",
       "description": "",
       "description_allow_html": false,
       "layout": "IPY_MODEL_5f50d938e6a7438a9444dadc84dd50ed",
       "placeholder": "​",
       "style": "IPY_MODEL_e4812aa7adaa418898ebc4ba7881cdb7",
       "tabbable": null,
       "tooltip": null,
       "value": " 1.36M/1.36M [00:00&lt;00:00, 20.6MB/s]"
      }
     },
     "e4812aa7adaa418898ebc4ba7881cdb7": {
      "model_module": "@jupyter-widgets/controls",
      "model_module_version": "2.0.0",
      "model_name": "HTMLStyleModel",
      "state": {
       "_model_module": "@jupyter-widgets/controls",
       "_model_module_version": "2.0.0",
       "_model_name": "HTMLStyleModel",
       "_view_count": null,
       "_view_module": "@jupyter-widgets/base",
       "_view_module_version": "2.0.0",
       "_view_name": "StyleView",
       "background": null,
       "description_width": "",
       "font_size": null,
       "text_color": null
      }
     },
     "e49a060df4144b6b945391ef26313a5c": {
      "model_module": "@jupyter-widgets/base",
      "model_module_version": "2.0.0",
      "model_name": "LayoutModel",
      "state": {
       "_model_module": "@jupyter-widgets/base",
       "_model_module_version": "2.0.0",
       "_model_name": "LayoutModel",
       "_view_count": null,
       "_view_module": "@jupyter-widgets/base",
       "_view_module_version": "2.0.0",
       "_view_name": "LayoutView",
       "align_content": null,
       "align_items": null,
       "align_self": null,
       "border_bottom": null,
       "border_left": null,
       "border_right": null,
       "border_top": null,
       "bottom": null,
       "display": null,
       "flex": null,
       "flex_flow": null,
       "grid_area": null,
       "grid_auto_columns": null,
       "grid_auto_flow": null,
       "grid_auto_rows": null,
       "grid_column": null,
       "grid_gap": null,
       "grid_row": null,
       "grid_template_areas": null,
       "grid_template_columns": null,
       "grid_template_rows": null,
       "height": null,
       "justify_content": null,
       "justify_items": null,
       "left": null,
       "margin": null,
       "max_height": null,
       "max_width": null,
       "min_height": null,
       "min_width": null,
       "object_fit": null,
       "object_position": null,
       "order": null,
       "overflow": null,
       "padding": null,
       "right": null,
       "top": null,
       "visibility": null,
       "width": null
      }
     },
     "e5d102e63cb04930af85cf2b2affffcd": {
      "model_module": "@jupyter-widgets/base",
      "model_module_version": "2.0.0",
      "model_name": "LayoutModel",
      "state": {
       "_model_module": "@jupyter-widgets/base",
       "_model_module_version": "2.0.0",
       "_model_name": "LayoutModel",
       "_view_count": null,
       "_view_module": "@jupyter-widgets/base",
       "_view_module_version": "2.0.0",
       "_view_name": "LayoutView",
       "align_content": null,
       "align_items": null,
       "align_self": null,
       "border_bottom": null,
       "border_left": null,
       "border_right": null,
       "border_top": null,
       "bottom": null,
       "display": null,
       "flex": null,
       "flex_flow": null,
       "grid_area": null,
       "grid_auto_columns": null,
       "grid_auto_flow": null,
       "grid_auto_rows": null,
       "grid_column": null,
       "grid_gap": null,
       "grid_row": null,
       "grid_template_areas": null,
       "grid_template_columns": null,
       "grid_template_rows": null,
       "height": null,
       "justify_content": null,
       "justify_items": null,
       "left": null,
       "margin": null,
       "max_height": null,
       "max_width": null,
       "min_height": null,
       "min_width": null,
       "object_fit": null,
       "object_position": null,
       "order": null,
       "overflow": null,
       "padding": null,
       "right": null,
       "top": null,
       "visibility": null,
       "width": null
      }
     },
     "e7d1e7b30f194ee8a507a045bb8b934b": {
      "model_module": "@jupyter-widgets/controls",
      "model_module_version": "2.0.0",
      "model_name": "HTMLStyleModel",
      "state": {
       "_model_module": "@jupyter-widgets/controls",
       "_model_module_version": "2.0.0",
       "_model_name": "HTMLStyleModel",
       "_view_count": null,
       "_view_module": "@jupyter-widgets/base",
       "_view_module_version": "2.0.0",
       "_view_name": "StyleView",
       "background": null,
       "description_width": "",
       "font_size": null,
       "text_color": null
      }
     },
     "e7f59ed9fbdf43c7a5a4498517802282": {
      "model_module": "@jupyter-widgets/base",
      "model_module_version": "2.0.0",
      "model_name": "LayoutModel",
      "state": {
       "_model_module": "@jupyter-widgets/base",
       "_model_module_version": "2.0.0",
       "_model_name": "LayoutModel",
       "_view_count": null,
       "_view_module": "@jupyter-widgets/base",
       "_view_module_version": "2.0.0",
       "_view_name": "LayoutView",
       "align_content": null,
       "align_items": null,
       "align_self": null,
       "border_bottom": null,
       "border_left": null,
       "border_right": null,
       "border_top": null,
       "bottom": null,
       "display": null,
       "flex": null,
       "flex_flow": null,
       "grid_area": null,
       "grid_auto_columns": null,
       "grid_auto_flow": null,
       "grid_auto_rows": null,
       "grid_column": null,
       "grid_gap": null,
       "grid_row": null,
       "grid_template_areas": null,
       "grid_template_columns": null,
       "grid_template_rows": null,
       "height": null,
       "justify_content": null,
       "justify_items": null,
       "left": null,
       "margin": null,
       "max_height": null,
       "max_width": null,
       "min_height": null,
       "min_width": null,
       "object_fit": null,
       "object_position": null,
       "order": null,
       "overflow": null,
       "padding": null,
       "right": null,
       "top": null,
       "visibility": null,
       "width": null
      }
     },
     "f041a5b4ea304712878fd3483d046fe6": {
      "model_module": "@jupyter-widgets/base",
      "model_module_version": "2.0.0",
      "model_name": "LayoutModel",
      "state": {
       "_model_module": "@jupyter-widgets/base",
       "_model_module_version": "2.0.0",
       "_model_name": "LayoutModel",
       "_view_count": null,
       "_view_module": "@jupyter-widgets/base",
       "_view_module_version": "2.0.0",
       "_view_name": "LayoutView",
       "align_content": null,
       "align_items": null,
       "align_self": null,
       "border_bottom": null,
       "border_left": null,
       "border_right": null,
       "border_top": null,
       "bottom": null,
       "display": null,
       "flex": null,
       "flex_flow": null,
       "grid_area": null,
       "grid_auto_columns": null,
       "grid_auto_flow": null,
       "grid_auto_rows": null,
       "grid_column": null,
       "grid_gap": null,
       "grid_row": null,
       "grid_template_areas": null,
       "grid_template_columns": null,
       "grid_template_rows": null,
       "height": null,
       "justify_content": null,
       "justify_items": null,
       "left": null,
       "margin": null,
       "max_height": null,
       "max_width": null,
       "min_height": null,
       "min_width": null,
       "object_fit": null,
       "object_position": null,
       "order": null,
       "overflow": null,
       "padding": null,
       "right": null,
       "top": null,
       "visibility": null,
       "width": null
      }
     },
     "f0579e92d61f4ab0b123a668b9bac63b": {
      "model_module": "@jupyter-widgets/controls",
      "model_module_version": "2.0.0",
      "model_name": "HTMLStyleModel",
      "state": {
       "_model_module": "@jupyter-widgets/controls",
       "_model_module_version": "2.0.0",
       "_model_name": "HTMLStyleModel",
       "_view_count": null,
       "_view_module": "@jupyter-widgets/base",
       "_view_module_version": "2.0.0",
       "_view_name": "StyleView",
       "background": null,
       "description_width": "",
       "font_size": null,
       "text_color": null
      }
     },
     "f19ca92fc739458aaa43c4b4d57f625e": {
      "model_module": "@jupyter-widgets/base",
      "model_module_version": "2.0.0",
      "model_name": "LayoutModel",
      "state": {
       "_model_module": "@jupyter-widgets/base",
       "_model_module_version": "2.0.0",
       "_model_name": "LayoutModel",
       "_view_count": null,
       "_view_module": "@jupyter-widgets/base",
       "_view_module_version": "2.0.0",
       "_view_name": "LayoutView",
       "align_content": null,
       "align_items": null,
       "align_self": null,
       "border_bottom": null,
       "border_left": null,
       "border_right": null,
       "border_top": null,
       "bottom": null,
       "display": null,
       "flex": null,
       "flex_flow": null,
       "grid_area": null,
       "grid_auto_columns": null,
       "grid_auto_flow": null,
       "grid_auto_rows": null,
       "grid_column": null,
       "grid_gap": null,
       "grid_row": null,
       "grid_template_areas": null,
       "grid_template_columns": null,
       "grid_template_rows": null,
       "height": null,
       "justify_content": null,
       "justify_items": null,
       "left": null,
       "margin": null,
       "max_height": null,
       "max_width": null,
       "min_height": null,
       "min_width": null,
       "object_fit": null,
       "object_position": null,
       "order": null,
       "overflow": null,
       "padding": null,
       "right": null,
       "top": null,
       "visibility": null,
       "width": null
      }
     },
     "f1bdd94c24324941a34b5ce3e1d6a863": {
      "model_module": "@jupyter-widgets/base",
      "model_module_version": "2.0.0",
      "model_name": "LayoutModel",
      "state": {
       "_model_module": "@jupyter-widgets/base",
       "_model_module_version": "2.0.0",
       "_model_name": "LayoutModel",
       "_view_count": null,
       "_view_module": "@jupyter-widgets/base",
       "_view_module_version": "2.0.0",
       "_view_name": "LayoutView",
       "align_content": null,
       "align_items": null,
       "align_self": null,
       "border_bottom": null,
       "border_left": null,
       "border_right": null,
       "border_top": null,
       "bottom": null,
       "display": null,
       "flex": null,
       "flex_flow": null,
       "grid_area": null,
       "grid_auto_columns": null,
       "grid_auto_flow": null,
       "grid_auto_rows": null,
       "grid_column": null,
       "grid_gap": null,
       "grid_row": null,
       "grid_template_areas": null,
       "grid_template_columns": null,
       "grid_template_rows": null,
       "height": null,
       "justify_content": null,
       "justify_items": null,
       "left": null,
       "margin": null,
       "max_height": null,
       "max_width": null,
       "min_height": null,
       "min_width": null,
       "object_fit": null,
       "object_position": null,
       "order": null,
       "overflow": null,
       "padding": null,
       "right": null,
       "top": null,
       "visibility": null,
       "width": null
      }
     },
     "f42e737879b14a2fb77d5d594b70c94a": {
      "model_module": "@jupyter-widgets/controls",
      "model_module_version": "2.0.0",
      "model_name": "HTMLStyleModel",
      "state": {
       "_model_module": "@jupyter-widgets/controls",
       "_model_module_version": "2.0.0",
       "_model_name": "HTMLStyleModel",
       "_view_count": null,
       "_view_module": "@jupyter-widgets/base",
       "_view_module_version": "2.0.0",
       "_view_name": "StyleView",
       "background": null,
       "description_width": "",
       "font_size": null,
       "text_color": null
      }
     },
     "f664303c611744d7bf52c44d2604e404": {
      "model_module": "@jupyter-widgets/base",
      "model_module_version": "2.0.0",
      "model_name": "LayoutModel",
      "state": {
       "_model_module": "@jupyter-widgets/base",
       "_model_module_version": "2.0.0",
       "_model_name": "LayoutModel",
       "_view_count": null,
       "_view_module": "@jupyter-widgets/base",
       "_view_module_version": "2.0.0",
       "_view_name": "LayoutView",
       "align_content": null,
       "align_items": null,
       "align_self": null,
       "border_bottom": null,
       "border_left": null,
       "border_right": null,
       "border_top": null,
       "bottom": null,
       "display": null,
       "flex": null,
       "flex_flow": null,
       "grid_area": null,
       "grid_auto_columns": null,
       "grid_auto_flow": null,
       "grid_auto_rows": null,
       "grid_column": null,
       "grid_gap": null,
       "grid_row": null,
       "grid_template_areas": null,
       "grid_template_columns": null,
       "grid_template_rows": null,
       "height": null,
       "justify_content": null,
       "justify_items": null,
       "left": null,
       "margin": null,
       "max_height": null,
       "max_width": null,
       "min_height": null,
       "min_width": null,
       "object_fit": null,
       "object_position": null,
       "order": null,
       "overflow": null,
       "padding": null,
       "right": null,
       "top": null,
       "visibility": null,
       "width": null
      }
     },
     "f6d33535096d453fbb51d05dd1a9617b": {
      "model_module": "@jupyter-widgets/controls",
      "model_module_version": "2.0.0",
      "model_name": "HBoxModel",
      "state": {
       "_dom_classes": [],
       "_model_module": "@jupyter-widgets/controls",
       "_model_module_version": "2.0.0",
       "_model_name": "HBoxModel",
       "_view_count": null,
       "_view_module": "@jupyter-widgets/controls",
       "_view_module_version": "2.0.0",
       "_view_name": "HBoxView",
       "box_style": "",
       "children": [
        "IPY_MODEL_429bdbba06a54790a866f30073a3d198",
        "IPY_MODEL_8fc53d8941b747bd8c8d2495d4758dd9",
        "IPY_MODEL_57ecb0f78e96419dbc20d2bcecea24bd"
       ],
       "layout": "IPY_MODEL_a11a5d0b33ef4d8ebcd81e5451724673",
       "tabbable": null,
       "tooltip": null
      }
     },
     "fb11c3095c134a548936e9a03fc6ca28": {
      "model_module": "@jupyter-widgets/controls",
      "model_module_version": "2.0.0",
      "model_name": "FloatProgressModel",
      "state": {
       "_dom_classes": [],
       "_model_module": "@jupyter-widgets/controls",
       "_model_module_version": "2.0.0",
       "_model_name": "FloatProgressModel",
       "_view_count": null,
       "_view_module": "@jupyter-widgets/controls",
       "_view_module_version": "2.0.0",
       "_view_name": "ProgressView",
       "bar_style": "success",
       "description": "",
       "description_allow_html": false,
       "layout": "IPY_MODEL_20b4ba8154494aab8a996ff5f01524d8",
       "max": 456318.0,
       "min": 0.0,
       "orientation": "horizontal",
       "style": "IPY_MODEL_befa3c80328149909eb7d199fb368416",
       "tabbable": null,
       "tooltip": null,
       "value": 456318.0
      }
     }
    },
    "version_major": 2,
    "version_minor": 0
   }
  }
 },
 "nbformat": 4,
 "nbformat_minor": 5
}

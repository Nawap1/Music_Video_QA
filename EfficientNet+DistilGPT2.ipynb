{
 "cells": [
  {
   "cell_type": "markdown",
   "id": "11bb88a8",
   "metadata": {
    "papermill": {
     "duration": 0.004427,
     "end_time": "2025-01-25T18:21:32.995894",
     "exception": false,
     "start_time": "2025-01-25T18:21:32.991467",
     "status": "completed"
    },
    "tags": []
   },
   "source": [
    "# Imports"
   ]
  },
  {
   "cell_type": "code",
   "execution_count": 1,
   "id": "411a875c",
   "metadata": {
    "execution": {
     "iopub.execute_input": "2025-01-25T18:21:33.004282Z",
     "iopub.status.busy": "2025-01-25T18:21:33.004044Z",
     "iopub.status.idle": "2025-01-25T18:21:44.946205Z",
     "shell.execute_reply": "2025-01-25T18:21:44.945234Z"
    },
    "papermill": {
     "duration": 11.948136,
     "end_time": "2025-01-25T18:21:44.947876",
     "exception": false,
     "start_time": "2025-01-25T18:21:32.999740",
     "status": "completed"
    },
    "tags": []
   },
   "outputs": [],
   "source": [
    "import torchvision\n",
    "import torch\n",
    "import pandas as pd\n",
    "import numpy as np\n",
    "from torch.utils.data import Dataset, DataLoader\n",
    "from transformers import AutoTokenizer, AutoModelForCausalLM\n",
    "import torch.nn as nn\n",
    "import torch.optim as optim\n",
    "from sklearn.model_selection import train_test_split\n",
    "from tqdm import tqdm\n",
    "import cv2\n",
    "import json\n",
    "import matplotlib.pyplot as plt\n",
    "from nltk.translate.bleu_score import sentence_bleu, SmoothingFunction \n",
    "import os "
   ]
  },
  {
   "cell_type": "markdown",
   "id": "9494a4c2",
   "metadata": {
    "papermill": {
     "duration": 0.003542,
     "end_time": "2025-01-25T18:21:44.955784",
     "exception": false,
     "start_time": "2025-01-25T18:21:44.952242",
     "status": "completed"
    },
    "tags": []
   },
   "source": [
    "# Configuration"
   ]
  },
  {
   "cell_type": "code",
   "execution_count": 2,
   "id": "c53e2e6f",
   "metadata": {
    "execution": {
     "iopub.execute_input": "2025-01-25T18:21:44.964272Z",
     "iopub.status.busy": "2025-01-25T18:21:44.963763Z",
     "iopub.status.idle": "2025-01-25T18:21:44.968703Z",
     "shell.execute_reply": "2025-01-25T18:21:44.967856Z"
    },
    "papermill": {
     "duration": 0.01054,
     "end_time": "2025-01-25T18:21:44.969918",
     "exception": false,
     "start_time": "2025-01-25T18:21:44.959378",
     "status": "completed"
    },
    "tags": []
   },
   "outputs": [],
   "source": [
    "class Config:\n",
    "    decoder_id = \"distilbert/distilgpt2\"\n",
    "    max_length = 128\n",
    "    batch_size = 8\n",
    "    num_frames = 10\n",
    "    img_size = 224\n",
    "    num_epochs = 100  \n",
    "    lr = 3e-5\n",
    "    csv_path = \"/kaggle/input/videocap/processed_data.csv\"  \n",
    "    grad_clip = 1.0\n",
    "    train_ratio = 0.7\n",
    "    val_ratio = 0.15\n",
    "    test_ratio = 0.15\n",
    "    seed = 42\n",
    "    model_save_path = \"video_qa_model.pth\"\n",
    "    results_file = \"training_results.json\"\n",
    "    patience = 10 \n",
    "    bleu_smoothing = SmoothingFunction().method1 \n",
    "    checkpoint_dir = \"checkpoints\" \n",
    "    save_every_epoch = False \n",
    "    final_model_path = \"final_video_qa_model.pth\" \n",
    "    best_checkpoint_path = os.path.join(\"checkpoints\", \"best_checkpoint.pth\") "
   ]
  },
  {
   "cell_type": "markdown",
   "id": "0abfa7f1",
   "metadata": {
    "papermill": {
     "duration": 0.003445,
     "end_time": "2025-01-25T18:21:44.977237",
     "exception": false,
     "start_time": "2025-01-25T18:21:44.973792",
     "status": "completed"
    },
    "tags": []
   },
   "source": [
    "# Dataset"
   ]
  },
  {
   "cell_type": "code",
   "execution_count": 3,
   "id": "c84df411",
   "metadata": {
    "execution": {
     "iopub.execute_input": "2025-01-25T18:21:44.985581Z",
     "iopub.status.busy": "2025-01-25T18:21:44.985285Z",
     "iopub.status.idle": "2025-01-25T18:21:44.993281Z",
     "shell.execute_reply": "2025-01-25T18:21:44.992414Z"
    },
    "papermill": {
     "duration": 0.014002,
     "end_time": "2025-01-25T18:21:44.994846",
     "exception": false,
     "start_time": "2025-01-25T18:21:44.980844",
     "status": "completed"
    },
    "tags": []
   },
   "outputs": [],
   "source": [
    "# Cell 2: Dataset Class\n",
    "class VideoQADataset(Dataset):\n",
    "    def __init__(self, df, tokenizer):\n",
    "        self.df = df\n",
    "        self.tokenizer = tokenizer\n",
    "        self.tokenizer.pad_token = self.tokenizer.eos_token\n",
    "\n",
    "    def __len__(self):\n",
    "        return len(self.df)\n",
    "\n",
    "    def __getitem__(self, idx):\n",
    "        row = self.df.iloc[idx]\n",
    "        video_tensor = self._load_video_frames(row['path'])\n",
    "\n",
    "        text = f\"Question: {row['questions']} Answer: {row['refined_answer']}\"\n",
    "        encoding = self.tokenizer(\n",
    "            text,\n",
    "            max_length=Config.max_length-1,\n",
    "            padding='max_length',\n",
    "            truncation=True,\n",
    "            return_tensors='pt'\n",
    "        )\n",
    "\n",
    "        return {\n",
    "            'video': video_tensor,\n",
    "            'input_ids': encoding['input_ids'].squeeze(),\n",
    "            'attention_mask': encoding['attention_mask'].squeeze()\n",
    "        }\n",
    "\n",
    "    def _load_video_frames(self, video_path):\n",
    "        frames = []\n",
    "        try:\n",
    "            cap = cv2.VideoCapture(video_path)\n",
    "            while len(frames) < Config.num_frames:\n",
    "                ret, frame = cap.read()\n",
    "                if not ret: break\n",
    "                frame = cv2.cvtColor(frame, cv2.COLOR_BGR2RGB)\n",
    "                frame = cv2.resize(frame, (Config.img_size, Config.img_size))\n",
    "                frames.append(frame)\n",
    "            cap.release()\n",
    "        except Exception as e:\n",
    "            print(f\"Error loading {video_path}: {e}\")\n",
    "            # Handle corrupted video by returning black frames instead of crashing\n",
    "            return torch.zeros((Config.num_frames, 3, Config.img_size, Config.img_size))\n",
    "\n",
    "\n",
    "        if not frames:\n",
    "            frames = [np.zeros((Config.img_size, Config.img_size, 3), dtype=np.uint8)] * Config.num_frames\n",
    "\n",
    "        frames = frames[:Config.num_frames]\n",
    "        if len(frames) < Config.num_frames:\n",
    "            frames += [frames[-1]] * (Config.num_frames - len(frames))\n",
    "\n",
    "        video_tensor = torch.tensor(np.array(frames)).float() / 255.0\n",
    "        return video_tensor.permute(0, 3, 1, 2)\n"
   ]
  },
  {
   "cell_type": "markdown",
   "id": "b169248c",
   "metadata": {
    "papermill": {
     "duration": 0.003722,
     "end_time": "2025-01-25T18:21:45.002449",
     "exception": false,
     "start_time": "2025-01-25T18:21:44.998727",
     "status": "completed"
    },
    "tags": []
   },
   "source": [
    "# Model Architecture"
   ]
  },
  {
   "cell_type": "code",
   "execution_count": 4,
   "id": "3370e807",
   "metadata": {
    "execution": {
     "iopub.execute_input": "2025-01-25T18:21:45.010758Z",
     "iopub.status.busy": "2025-01-25T18:21:45.010468Z",
     "iopub.status.idle": "2025-01-25T18:21:45.018964Z",
     "shell.execute_reply": "2025-01-25T18:21:45.018165Z"
    },
    "papermill": {
     "duration": 0.014293,
     "end_time": "2025-01-25T18:21:45.020422",
     "exception": false,
     "start_time": "2025-01-25T18:21:45.006129",
     "status": "completed"
    },
    "tags": []
   },
   "outputs": [],
   "source": [
    "class VideoEncoder(nn.Module):\n",
    "    def __init__(self):\n",
    "        super().__init__()\n",
    "        # Load EfficientNet with correct feature extraction\n",
    "        self.backbone = torch.hub.load('NVIDIA/DeepLearningExamples:torchhub', \n",
    "                                     'nvidia_efficientnet_b0', \n",
    "                                     pretrained=True)\n",
    "        \n",
    "        # Remove classification head while preserving final features\n",
    "        self.backbone = nn.Sequential(\n",
    "            *list(self.backbone.children())[:-1],  # Keep features before final pooling\n",
    "            nn.AdaptiveAvgPool2d(1)  # Add proper spatial pooling\n",
    "        )\n",
    "        \n",
    "        # Freeze all backbone parameters\n",
    "        for param in self.backbone.parameters():\n",
    "            param.requires_grad = False\n",
    "            \n",
    "        # Verify feature dimension\n",
    "        with torch.no_grad():\n",
    "            dummy_input = torch.randn(1, 3, 224, 224)\n",
    "            features = self.backbone(dummy_input)\n",
    "            self.feature_dim = features.view(-1).shape[0]\n",
    "        \n",
    "        # Temporal aggregation\n",
    "        self.temporal_pool = nn.AdaptiveAvgPool1d(1)\n",
    "\n",
    "    def forward(self, x):\n",
    "        B, T, C, H, W = x.shape\n",
    "        x = x.view(B*T, C, H, W)\n",
    "        \n",
    "        # Normalization (now handled in dataset class)\n",
    "        features = self.backbone(x).squeeze()\n",
    "        \n",
    "        # Reshape and temporal pooling\n",
    "        features = features.view(B, T, -1).permute(0, 2, 1)\n",
    "        return self.temporal_pool(features).squeeze(-1)\n",
    "\n",
    "class VideoQAModel(nn.Module):\n",
    "    def __init__(self):\n",
    "        super().__init__()\n",
    "        self.encoder = VideoEncoder()\n",
    "        self.decoder = AutoModelForCausalLM.from_pretrained(Config.decoder_id)\n",
    "        \n",
    "        # Dynamic projection based on actual encoder output\n",
    "        self.proj = nn.Linear(self.encoder.feature_dim, self.decoder.config.hidden_size)\n",
    "\n",
    "    def forward(self, video, input_ids, attention_mask, labels=None):\n",
    "        video_features = self.encoder(video)\n",
    "        video_features = self.proj(video_features)\n",
    "\n",
    "        text_embeds = self.decoder.get_input_embeddings()(input_ids)\n",
    "        combined_embeds = torch.cat([video_features.unsqueeze(1), text_embeds], dim=1)\n",
    "        combined_mask = torch.cat([\n",
    "            torch.ones(video.size(0), 1).to(attention_mask.device),\n",
    "            attention_mask\n",
    "        ], dim=1)\n",
    "\n",
    "        if labels is not None:\n",
    "            labels = torch.cat([\n",
    "                torch.full((input_ids.size(0), 1), -100,\n",
    "                          device=labels.device,\n",
    "                          dtype=torch.long),\n",
    "                input_ids\n",
    "            ], dim=1)\n",
    "\n",
    "        return self.decoder(\n",
    "            inputs_embeds=combined_embeds,\n",
    "            attention_mask=combined_mask,\n",
    "            labels=labels\n",
    "        )"
   ]
  },
  {
   "cell_type": "markdown",
   "id": "fe93bee9",
   "metadata": {
    "papermill": {
     "duration": 0.003396,
     "end_time": "2025-01-25T18:21:45.027792",
     "exception": false,
     "start_time": "2025-01-25T18:21:45.024396",
     "status": "completed"
    },
    "tags": []
   },
   "source": [
    "# Data Preparation"
   ]
  },
  {
   "cell_type": "code",
   "execution_count": 5,
   "id": "6127d6d6",
   "metadata": {
    "execution": {
     "iopub.execute_input": "2025-01-25T18:21:45.035921Z",
     "iopub.status.busy": "2025-01-25T18:21:45.035677Z",
     "iopub.status.idle": "2025-01-25T18:21:45.184921Z",
     "shell.execute_reply": "2025-01-25T18:21:45.183953Z"
    },
    "papermill": {
     "duration": 0.15478,
     "end_time": "2025-01-25T18:21:45.186314",
     "exception": false,
     "start_time": "2025-01-25T18:21:45.031534",
     "status": "completed"
    },
    "tags": []
   },
   "outputs": [
    {
     "name": "stdout",
     "output_type": "stream",
     "text": [
      "Dataset sizes:\n",
      "Train: 4766\n",
      "Validation: 1022\n",
      "Test: 1022\n"
     ]
    }
   ],
   "source": [
    "df = pd.read_csv(Config.csv_path)\n",
    "train_df, test_df = train_test_split(\n",
    "    df,\n",
    "    test_size=1-Config.train_ratio,\n",
    "    stratify=df['class'],\n",
    "    random_state=Config.seed\n",
    ")\n",
    "\n",
    "val_df, test_df = train_test_split(\n",
    "    test_df,\n",
    "    test_size=Config.test_ratio/(Config.test_ratio+Config.val_ratio),\n",
    "    stratify=test_df['class'],\n",
    "    random_state=Config.seed\n",
    ")\n",
    "\n",
    "print(f\"Dataset sizes:\")\n",
    "print(f\"Train: {len(train_df)}\")\n",
    "print(f\"Validation: {len(val_df)}\")\n",
    "print(f\"Test: {len(test_df)}\")"
   ]
  },
  {
   "cell_type": "markdown",
   "id": "a80f19b4",
   "metadata": {
    "papermill": {
     "duration": 0.003503,
     "end_time": "2025-01-25T18:21:45.193817",
     "exception": false,
     "start_time": "2025-01-25T18:21:45.190314",
     "status": "completed"
    },
    "tags": []
   },
   "source": [
    "# Training Setup"
   ]
  },
  {
   "cell_type": "code",
   "execution_count": 6,
   "id": "d69808d4",
   "metadata": {
    "execution": {
     "iopub.execute_input": "2025-01-25T18:21:45.202209Z",
     "iopub.status.busy": "2025-01-25T18:21:45.201883Z",
     "iopub.status.idle": "2025-01-25T18:22:09.877148Z",
     "shell.execute_reply": "2025-01-25T18:22:09.876178Z"
    },
    "papermill": {
     "duration": 24.681049,
     "end_time": "2025-01-25T18:22:09.878587",
     "exception": false,
     "start_time": "2025-01-25T18:21:45.197538",
     "status": "completed"
    },
    "tags": []
   },
   "outputs": [
    {
     "name": "stdout",
     "output_type": "stream",
     "text": [
      "\n",
      "Using device: cuda\n"
     ]
    },
    {
     "data": {
      "application/vnd.jupyter.widget-view+json": {
       "model_id": "6c76b5d47fa5461890e40409f9e7635c",
       "version_major": 2,
       "version_minor": 0
      },
      "text/plain": [
       "tokenizer_config.json:   0%|          | 0.00/26.0 [00:00<?, ?B/s]"
      ]
     },
     "metadata": {},
     "output_type": "display_data"
    },
    {
     "data": {
      "application/vnd.jupyter.widget-view+json": {
       "model_id": "89c6f66c4e6d495588c1382924521b33",
       "version_major": 2,
       "version_minor": 0
      },
      "text/plain": [
       "config.json:   0%|          | 0.00/762 [00:00<?, ?B/s]"
      ]
     },
     "metadata": {},
     "output_type": "display_data"
    },
    {
     "data": {
      "application/vnd.jupyter.widget-view+json": {
       "model_id": "83f2a953c5564ca89c244f17e31216d9",
       "version_major": 2,
       "version_minor": 0
      },
      "text/plain": [
       "vocab.json:   0%|          | 0.00/1.04M [00:00<?, ?B/s]"
      ]
     },
     "metadata": {},
     "output_type": "display_data"
    },
    {
     "data": {
      "application/vnd.jupyter.widget-view+json": {
       "model_id": "0c9a37abf2d3496eafc2bc2e9f0bb65a",
       "version_major": 2,
       "version_minor": 0
      },
      "text/plain": [
       "merges.txt:   0%|          | 0.00/456k [00:00<?, ?B/s]"
      ]
     },
     "metadata": {},
     "output_type": "display_data"
    },
    {
     "data": {
      "application/vnd.jupyter.widget-view+json": {
       "model_id": "6c84008762434840b9f1427ee995c383",
       "version_major": 2,
       "version_minor": 0
      },
      "text/plain": [
       "tokenizer.json:   0%|          | 0.00/1.36M [00:00<?, ?B/s]"
      ]
     },
     "metadata": {},
     "output_type": "display_data"
    },
    {
     "name": "stderr",
     "output_type": "stream",
     "text": [
      "/usr/local/lib/python3.10/dist-packages/torch/hub.py:330: UserWarning: You are about to download and run code from an untrusted repository. In a future release, this won't be allowed. To add the repository to your trusted list, change the command to {calling_fn}(..., trust_repo=False) and a command prompt will appear asking for an explicit confirmation of trust, or load(..., trust_repo=True), which will assume that the prompt is to be answered with 'yes'. You can also use load(..., trust_repo='check') which will only prompt for confirmation if the repo is not already trusted. This will eventually be the default behaviour\n",
      "  warnings.warn(\n",
      "Downloading: \"https://github.com/NVIDIA/DeepLearningExamples/zipball/torchhub\" to /root/.cache/torch/hub/torchhub.zip\n",
      "/root/.cache/torch/hub/NVIDIA_DeepLearningExamples_torchhub/PyTorch/Classification/ConvNets/image_classification/models/common.py:13: UserWarning: pytorch_quantization module not found, quantization will not be available\n",
      "  warnings.warn(\n",
      "/root/.cache/torch/hub/NVIDIA_DeepLearningExamples_torchhub/PyTorch/Classification/ConvNets/image_classification/models/efficientnet.py:17: UserWarning: pytorch_quantization module not found, quantization will not be available\n",
      "  warnings.warn(\n",
      "Downloading: \"https://api.ngc.nvidia.com/v2/models/nvidia/efficientnet_b0_pyt_amp/versions/20.12.0/files/nvidia_efficientnet-b0_210412.pth\" to /root/.cache/torch/hub/checkpoints/nvidia_efficientnet-b0_210412.pth\n",
      "100%|██████████| 20.5M/20.5M [00:00<00:00, 249MB/s]\n"
     ]
    },
    {
     "data": {
      "application/vnd.jupyter.widget-view+json": {
       "model_id": "4c103bdd6c6743e98f83873129adc1ad",
       "version_major": 2,
       "version_minor": 0
      },
      "text/plain": [
       "model.safetensors:   0%|          | 0.00/353M [00:00<?, ?B/s]"
      ]
     },
     "metadata": {},
     "output_type": "display_data"
    },
    {
     "data": {
      "application/vnd.jupyter.widget-view+json": {
       "model_id": "7e617079785c4574bdd36625d1561212",
       "version_major": 2,
       "version_minor": 0
      },
      "text/plain": [
       "generation_config.json:   0%|          | 0.00/124 [00:00<?, ?B/s]"
      ]
     },
     "metadata": {},
     "output_type": "display_data"
    },
    {
     "name": "stderr",
     "output_type": "stream",
     "text": [
      "<ipython-input-6-2e7f1552e229>:13: FutureWarning: `torch.cuda.amp.GradScaler(args...)` is deprecated. Please use `torch.amp.GradScaler('cuda', args...)` instead.\n",
      "  scaler = torch.cuda.amp.GradScaler()\n"
     ]
    }
   ],
   "source": [
    "device = torch.device('cuda' if torch.cuda.is_available() else 'cpu')\n",
    "print(f\"\\nUsing device: {device}\")\n",
    "\n",
    "tokenizer = AutoTokenizer.from_pretrained(Config.decoder_id)\n",
    "train_dataset = VideoQADataset(train_df, tokenizer)\n",
    "val_dataset = VideoQADataset(val_df, tokenizer)\n",
    "\n",
    "train_loader = DataLoader(train_dataset, batch_size=Config.batch_size, shuffle=True, num_workers=2) \n",
    "val_loader = DataLoader(val_dataset, batch_size=Config.batch_size, num_workers=2)\n",
    "\n",
    "model = VideoQAModel().to(device)\n",
    "optimizer = optim.AdamW(model.parameters(), lr=Config.lr)\n",
    "scaler = torch.cuda.amp.GradScaler()"
   ]
  },
  {
   "cell_type": "markdown",
   "id": "40d17ceb",
   "metadata": {
    "papermill": {
     "duration": 0.004793,
     "end_time": "2025-01-25T18:22:09.888931",
     "exception": false,
     "start_time": "2025-01-25T18:22:09.884138",
     "status": "completed"
    },
    "tags": []
   },
   "source": [
    "# Training "
   ]
  },
  {
   "cell_type": "code",
   "execution_count": 7,
   "id": "9ca11228",
   "metadata": {
    "execution": {
     "iopub.execute_input": "2025-01-25T18:22:09.899698Z",
     "iopub.status.busy": "2025-01-25T18:22:09.899201Z",
     "iopub.status.idle": "2025-01-26T00:37:06.580203Z",
     "shell.execute_reply": "2025-01-26T00:37:06.578936Z"
    },
    "papermill": {
     "duration": 22496.687832,
     "end_time": "2025-01-26T00:37:06.581527",
     "exception": false,
     "start_time": "2025-01-25T18:22:09.893695",
     "status": "completed"
    },
    "tags": []
   },
   "outputs": [
    {
     "name": "stderr",
     "output_type": "stream",
     "text": [
      "Epoch 1/100 [Training]:   0%|          | 0/596 [00:00<?, ?it/s]<ipython-input-7-718089307c58>:25: FutureWarning: `torch.cuda.amp.autocast(args...)` is deprecated. Please use `torch.amp.autocast('cuda', args...)` instead.\n",
      "  with torch.cuda.amp.autocast():\n",
      "Epoch 1/100 [Training]: 100%|██████████| 596/596 [06:08<00:00,  1.62it/s, loss=0.737]\n",
      "Epoch 1/100 [Validating]: 100%|██████████| 128/128 [01:15<00:00,  1.69it/s, loss=1.2]\n"
     ]
    },
    {
     "name": "stdout",
     "output_type": "stream",
     "text": [
      "\n",
      "Epoch 1: Validation loss improved, saved new best model to video_qa_model.pth and best checkpoint to checkpoints/best_checkpoint.pth\n",
      "\n",
      "Epoch 1 Summary:\n",
      "Train Loss: 1.1625\n",
      "Val Loss: 0.8349\n"
     ]
    },
    {
     "name": "stderr",
     "output_type": "stream",
     "text": [
      "Epoch 2/100 [Training]: 100%|██████████| 596/596 [06:05<00:00,  1.63it/s, loss=0.844]\n",
      "Epoch 2/100 [Validating]: 100%|██████████| 128/128 [01:16<00:00,  1.67it/s, loss=1.11]\n"
     ]
    },
    {
     "name": "stdout",
     "output_type": "stream",
     "text": [
      "\n",
      "Epoch 2: Validation loss improved, saved new best model to video_qa_model.pth and best checkpoint to checkpoints/best_checkpoint.pth\n",
      "\n",
      "Epoch 2 Summary:\n",
      "Train Loss: 0.8185\n",
      "Val Loss: 0.7640\n"
     ]
    },
    {
     "name": "stderr",
     "output_type": "stream",
     "text": [
      "Epoch 3/100 [Training]: 100%|██████████| 596/596 [06:06<00:00,  1.62it/s, loss=0.853]\n",
      "Epoch 3/100 [Validating]: 100%|██████████| 128/128 [01:16<00:00,  1.68it/s, loss=1.08]\n"
     ]
    },
    {
     "name": "stdout",
     "output_type": "stream",
     "text": [
      "\n",
      "Epoch 3: Validation loss improved, saved new best model to video_qa_model.pth and best checkpoint to checkpoints/best_checkpoint.pth\n",
      "\n",
      "Epoch 3 Summary:\n",
      "Train Loss: 0.7526\n",
      "Val Loss: 0.7304\n"
     ]
    },
    {
     "name": "stderr",
     "output_type": "stream",
     "text": [
      "Epoch 4/100 [Training]: 100%|██████████| 596/596 [06:04<00:00,  1.64it/s, loss=0.633]\n",
      "Epoch 4/100 [Validating]: 100%|██████████| 128/128 [01:16<00:00,  1.68it/s, loss=1.06]\n"
     ]
    },
    {
     "name": "stdout",
     "output_type": "stream",
     "text": [
      "\n",
      "Epoch 4: Validation loss improved, saved new best model to video_qa_model.pth and best checkpoint to checkpoints/best_checkpoint.pth\n",
      "\n",
      "Epoch 4 Summary:\n",
      "Train Loss: 0.7104\n",
      "Val Loss: 0.7110\n"
     ]
    },
    {
     "name": "stderr",
     "output_type": "stream",
     "text": [
      "Epoch 5/100 [Training]: 100%|██████████| 596/596 [06:04<00:00,  1.63it/s, loss=0.586]\n",
      "Epoch 5/100 [Validating]: 100%|██████████| 128/128 [01:16<00:00,  1.67it/s, loss=1.05]\n"
     ]
    },
    {
     "name": "stdout",
     "output_type": "stream",
     "text": [
      "\n",
      "Epoch 5: Validation loss improved, saved new best model to video_qa_model.pth and best checkpoint to checkpoints/best_checkpoint.pth\n",
      "\n",
      "Epoch 5 Summary:\n",
      "Train Loss: 0.6857\n",
      "Val Loss: 0.7017\n"
     ]
    },
    {
     "name": "stderr",
     "output_type": "stream",
     "text": [
      "Epoch 6/100 [Training]: 100%|██████████| 596/596 [06:05<00:00,  1.63it/s, loss=0.425]\n",
      "Epoch 6/100 [Validating]: 100%|██████████| 128/128 [01:16<00:00,  1.67it/s, loss=1.04]\n"
     ]
    },
    {
     "name": "stdout",
     "output_type": "stream",
     "text": [
      "\n",
      "Epoch 6: Validation loss improved, saved new best model to video_qa_model.pth and best checkpoint to checkpoints/best_checkpoint.pth\n",
      "\n",
      "Epoch 6 Summary:\n",
      "Train Loss: 0.6692\n",
      "Val Loss: 0.6914\n"
     ]
    },
    {
     "name": "stderr",
     "output_type": "stream",
     "text": [
      "Epoch 7/100 [Training]: 100%|██████████| 596/596 [06:09<00:00,  1.61it/s, loss=0.523]\n",
      "Epoch 7/100 [Validating]: 100%|██████████| 128/128 [01:16<00:00,  1.68it/s, loss=1.02]\n"
     ]
    },
    {
     "name": "stdout",
     "output_type": "stream",
     "text": [
      "\n",
      "Epoch 7: Validation loss improved, saved new best model to video_qa_model.pth and best checkpoint to checkpoints/best_checkpoint.pth\n",
      "\n",
      "Epoch 7 Summary:\n",
      "Train Loss: 0.6528\n",
      "Val Loss: 0.6830\n"
     ]
    },
    {
     "name": "stderr",
     "output_type": "stream",
     "text": [
      "Epoch 8/100 [Training]: 100%|██████████| 596/596 [06:07<00:00,  1.62it/s, loss=0.559]\n",
      "Epoch 8/100 [Validating]: 100%|██████████| 128/128 [01:16<00:00,  1.68it/s, loss=1.01]\n"
     ]
    },
    {
     "name": "stdout",
     "output_type": "stream",
     "text": [
      "\n",
      "Epoch 8: Validation loss improved, saved new best model to video_qa_model.pth and best checkpoint to checkpoints/best_checkpoint.pth\n",
      "\n",
      "Epoch 8 Summary:\n",
      "Train Loss: 0.6355\n",
      "Val Loss: 0.6777\n"
     ]
    },
    {
     "name": "stderr",
     "output_type": "stream",
     "text": [
      "Epoch 9/100 [Training]: 100%|██████████| 596/596 [06:05<00:00,  1.63it/s, loss=0.731]\n",
      "Epoch 9/100 [Validating]: 100%|██████████| 128/128 [01:17<00:00,  1.66it/s, loss=1.01]\n"
     ]
    },
    {
     "name": "stdout",
     "output_type": "stream",
     "text": [
      "\n",
      "Epoch 9: Validation loss improved, saved new best model to video_qa_model.pth and best checkpoint to checkpoints/best_checkpoint.pth\n",
      "\n",
      "Epoch 9 Summary:\n",
      "Train Loss: 0.6277\n",
      "Val Loss: 0.6735\n"
     ]
    },
    {
     "name": "stderr",
     "output_type": "stream",
     "text": [
      "Epoch 10/100 [Training]: 100%|██████████| 596/596 [06:06<00:00,  1.63it/s, loss=0.445]\n",
      "Epoch 10/100 [Validating]: 100%|██████████| 128/128 [01:17<00:00,  1.66it/s, loss=1]\n"
     ]
    },
    {
     "name": "stdout",
     "output_type": "stream",
     "text": [
      "\n",
      "Epoch 10: Validation loss improved, saved new best model to video_qa_model.pth and best checkpoint to checkpoints/best_checkpoint.pth\n",
      "\n",
      "Epoch 10 Summary:\n",
      "Train Loss: 0.6184\n",
      "Val Loss: 0.6699\n"
     ]
    },
    {
     "name": "stderr",
     "output_type": "stream",
     "text": [
      "Epoch 11/100 [Training]: 100%|██████████| 596/596 [06:06<00:00,  1.63it/s, loss=0.699]\n",
      "Epoch 11/100 [Validating]: 100%|██████████| 128/128 [01:16<00:00,  1.67it/s, loss=1]\n"
     ]
    },
    {
     "name": "stdout",
     "output_type": "stream",
     "text": [
      "\n",
      "Epoch 11: Validation loss improved, saved new best model to video_qa_model.pth and best checkpoint to checkpoints/best_checkpoint.pth\n",
      "\n",
      "Epoch 11 Summary:\n",
      "Train Loss: 0.6064\n",
      "Val Loss: 0.6664\n"
     ]
    },
    {
     "name": "stderr",
     "output_type": "stream",
     "text": [
      "Epoch 12/100 [Training]: 100%|██████████| 596/596 [06:11<00:00,  1.60it/s, loss=0.489]\n",
      "Epoch 12/100 [Validating]: 100%|██████████| 128/128 [01:16<00:00,  1.68it/s, loss=1]\n"
     ]
    },
    {
     "name": "stdout",
     "output_type": "stream",
     "text": [
      "\n",
      "Epoch 12: Validation loss improved, saved new best model to video_qa_model.pth and best checkpoint to checkpoints/best_checkpoint.pth\n",
      "\n",
      "Epoch 12 Summary:\n",
      "Train Loss: 0.5999\n",
      "Val Loss: 0.6659\n"
     ]
    },
    {
     "name": "stderr",
     "output_type": "stream",
     "text": [
      "Epoch 13/100 [Training]: 100%|██████████| 596/596 [06:08<00:00,  1.62it/s, loss=0.456]\n",
      "Epoch 13/100 [Validating]: 100%|██████████| 128/128 [01:16<00:00,  1.68it/s, loss=0.999]\n"
     ]
    },
    {
     "name": "stdout",
     "output_type": "stream",
     "text": [
      "\n",
      "Epoch 13: Validation loss improved, saved new best model to video_qa_model.pth and best checkpoint to checkpoints/best_checkpoint.pth\n",
      "\n",
      "Epoch 13 Summary:\n",
      "Train Loss: 0.5948\n",
      "Val Loss: 0.6657\n"
     ]
    },
    {
     "name": "stderr",
     "output_type": "stream",
     "text": [
      "Epoch 14/100 [Training]: 100%|██████████| 596/596 [06:08<00:00,  1.62it/s, loss=0.611]\n",
      "Epoch 14/100 [Validating]: 100%|██████████| 128/128 [01:16<00:00,  1.66it/s, loss=0.999]\n"
     ]
    },
    {
     "name": "stdout",
     "output_type": "stream",
     "text": [
      "\n",
      "Epoch 14: Validation loss improved, saved new best model to video_qa_model.pth and best checkpoint to checkpoints/best_checkpoint.pth\n",
      "\n",
      "Epoch 14 Summary:\n",
      "Train Loss: 0.5883\n",
      "Val Loss: 0.6630\n"
     ]
    },
    {
     "name": "stderr",
     "output_type": "stream",
     "text": [
      "Epoch 15/100 [Training]: 100%|██████████| 596/596 [06:09<00:00,  1.61it/s, loss=0.603]\n",
      "Epoch 15/100 [Validating]: 100%|██████████| 128/128 [01:16<00:00,  1.67it/s, loss=0.996]\n"
     ]
    },
    {
     "name": "stdout",
     "output_type": "stream",
     "text": [
      "\n",
      "Epoch 15: Validation loss did not improve (1/10)\n",
      "\n",
      "Epoch 15 Summary:\n",
      "Train Loss: 0.5817\n",
      "Val Loss: 0.6632\n"
     ]
    },
    {
     "name": "stderr",
     "output_type": "stream",
     "text": [
      "Epoch 16/100 [Training]: 100%|██████████| 596/596 [06:08<00:00,  1.62it/s, loss=0.621]\n",
      "Epoch 16/100 [Validating]: 100%|██████████| 128/128 [01:18<00:00,  1.63it/s, loss=0.99]\n"
     ]
    },
    {
     "name": "stdout",
     "output_type": "stream",
     "text": [
      "\n",
      "Epoch 16: Validation loss improved, saved new best model to video_qa_model.pth and best checkpoint to checkpoints/best_checkpoint.pth\n",
      "\n",
      "Epoch 16 Summary:\n",
      "Train Loss: 0.5795\n",
      "Val Loss: 0.6611\n"
     ]
    },
    {
     "name": "stderr",
     "output_type": "stream",
     "text": [
      "Epoch 17/100 [Training]: 100%|██████████| 596/596 [06:14<00:00,  1.59it/s, loss=0.512]\n",
      "Epoch 17/100 [Validating]: 100%|██████████| 128/128 [01:18<00:00,  1.64it/s, loss=0.992]\n"
     ]
    },
    {
     "name": "stdout",
     "output_type": "stream",
     "text": [
      "\n",
      "Epoch 17: Validation loss improved, saved new best model to video_qa_model.pth and best checkpoint to checkpoints/best_checkpoint.pth\n",
      "\n",
      "Epoch 17 Summary:\n",
      "Train Loss: 0.5764\n",
      "Val Loss: 0.6600\n"
     ]
    },
    {
     "name": "stderr",
     "output_type": "stream",
     "text": [
      "Epoch 18/100 [Training]: 100%|██████████| 596/596 [06:08<00:00,  1.62it/s, loss=0.643]\n",
      "Epoch 18/100 [Validating]: 100%|██████████| 128/128 [01:17<00:00,  1.64it/s, loss=0.993]\n"
     ]
    },
    {
     "name": "stdout",
     "output_type": "stream",
     "text": [
      "\n",
      "Epoch 18: Validation loss improved, saved new best model to video_qa_model.pth and best checkpoint to checkpoints/best_checkpoint.pth\n",
      "\n",
      "Epoch 18 Summary:\n",
      "Train Loss: 0.5705\n",
      "Val Loss: 0.6594\n"
     ]
    },
    {
     "name": "stderr",
     "output_type": "stream",
     "text": [
      "Epoch 19/100 [Training]: 100%|██████████| 596/596 [06:07<00:00,  1.62it/s, loss=0.655]\n",
      "Epoch 19/100 [Validating]: 100%|██████████| 128/128 [01:16<00:00,  1.68it/s, loss=0.992]\n"
     ]
    },
    {
     "name": "stdout",
     "output_type": "stream",
     "text": [
      "\n",
      "Epoch 19: Validation loss did not improve (1/10)\n",
      "\n",
      "Epoch 19 Summary:\n",
      "Train Loss: 0.5687\n",
      "Val Loss: 0.6617\n"
     ]
    },
    {
     "name": "stderr",
     "output_type": "stream",
     "text": [
      "Epoch 20/100 [Training]: 100%|██████████| 596/596 [06:08<00:00,  1.62it/s, loss=0.648]\n",
      "Epoch 20/100 [Validating]: 100%|██████████| 128/128 [01:16<00:00,  1.68it/s, loss=0.991]\n"
     ]
    },
    {
     "name": "stdout",
     "output_type": "stream",
     "text": [
      "\n",
      "Epoch 20: Validation loss improved, saved new best model to video_qa_model.pth and best checkpoint to checkpoints/best_checkpoint.pth\n",
      "\n",
      "Epoch 20 Summary:\n",
      "Train Loss: 0.5693\n",
      "Val Loss: 0.6578\n"
     ]
    },
    {
     "name": "stderr",
     "output_type": "stream",
     "text": [
      "Epoch 21/100 [Training]: 100%|██████████| 596/596 [06:09<00:00,  1.62it/s, loss=0.514]\n",
      "Epoch 21/100 [Validating]: 100%|██████████| 128/128 [01:16<00:00,  1.66it/s, loss=0.993]\n"
     ]
    },
    {
     "name": "stdout",
     "output_type": "stream",
     "text": [
      "\n",
      "Epoch 21: Validation loss improved, saved new best model to video_qa_model.pth and best checkpoint to checkpoints/best_checkpoint.pth\n",
      "\n",
      "Epoch 21 Summary:\n",
      "Train Loss: 0.5661\n",
      "Val Loss: 0.6577\n"
     ]
    },
    {
     "name": "stderr",
     "output_type": "stream",
     "text": [
      "Epoch 22/100 [Training]: 100%|██████████| 596/596 [06:12<00:00,  1.60it/s, loss=0.418]\n",
      "Epoch 22/100 [Validating]: 100%|██████████| 128/128 [01:16<00:00,  1.67it/s, loss=0.992]\n"
     ]
    },
    {
     "name": "stdout",
     "output_type": "stream",
     "text": [
      "\n",
      "Epoch 22: Validation loss did not improve (1/10)\n",
      "\n",
      "Epoch 22 Summary:\n",
      "Train Loss: 0.5620\n",
      "Val Loss: 0.6579\n"
     ]
    },
    {
     "name": "stderr",
     "output_type": "stream",
     "text": [
      "Epoch 23/100 [Training]: 100%|██████████| 596/596 [06:09<00:00,  1.61it/s, loss=0.591]\n",
      "Epoch 23/100 [Validating]: 100%|██████████| 128/128 [01:16<00:00,  1.66it/s, loss=0.994]\n"
     ]
    },
    {
     "name": "stdout",
     "output_type": "stream",
     "text": [
      "\n",
      "Epoch 23: Validation loss did not improve (2/10)\n",
      "\n",
      "Epoch 23 Summary:\n",
      "Train Loss: 0.5557\n",
      "Val Loss: 0.6583\n"
     ]
    },
    {
     "name": "stderr",
     "output_type": "stream",
     "text": [
      "Epoch 24/100 [Training]: 100%|██████████| 596/596 [06:12<00:00,  1.60it/s, loss=0.67]\n",
      "Epoch 24/100 [Validating]: 100%|██████████| 128/128 [01:17<00:00,  1.65it/s, loss=0.991]\n"
     ]
    },
    {
     "name": "stdout",
     "output_type": "stream",
     "text": [
      "\n",
      "Epoch 24: Validation loss improved, saved new best model to video_qa_model.pth and best checkpoint to checkpoints/best_checkpoint.pth\n",
      "\n",
      "Epoch 24 Summary:\n",
      "Train Loss: 0.5528\n",
      "Val Loss: 0.6573\n"
     ]
    },
    {
     "name": "stderr",
     "output_type": "stream",
     "text": [
      "Epoch 25/100 [Training]: 100%|██████████| 596/596 [06:11<00:00,  1.61it/s, loss=0.469]\n",
      "Epoch 25/100 [Validating]: 100%|██████████| 128/128 [01:17<00:00,  1.66it/s, loss=0.989]\n"
     ]
    },
    {
     "name": "stdout",
     "output_type": "stream",
     "text": [
      "\n",
      "Epoch 25: Validation loss improved, saved new best model to video_qa_model.pth and best checkpoint to checkpoints/best_checkpoint.pth\n",
      "\n",
      "Epoch 25 Summary:\n",
      "Train Loss: 0.5504\n",
      "Val Loss: 0.6558\n"
     ]
    },
    {
     "name": "stderr",
     "output_type": "stream",
     "text": [
      "Epoch 26/100 [Training]: 100%|██████████| 596/596 [06:18<00:00,  1.58it/s, loss=0.625]\n",
      "Epoch 26/100 [Validating]: 100%|██████████| 128/128 [01:18<00:00,  1.63it/s, loss=0.992]\n"
     ]
    },
    {
     "name": "stdout",
     "output_type": "stream",
     "text": [
      "\n",
      "Epoch 26: Validation loss did not improve (1/10)\n",
      "\n",
      "Epoch 26 Summary:\n",
      "Train Loss: 0.5488\n",
      "Val Loss: 0.6577\n"
     ]
    },
    {
     "name": "stderr",
     "output_type": "stream",
     "text": [
      "Epoch 27/100 [Training]: 100%|██████████| 596/596 [06:19<00:00,  1.57it/s, loss=0.591]\n",
      "Epoch 27/100 [Validating]: 100%|██████████| 128/128 [01:18<00:00,  1.62it/s, loss=0.999]\n"
     ]
    },
    {
     "name": "stdout",
     "output_type": "stream",
     "text": [
      "\n",
      "Epoch 27: Validation loss did not improve (2/10)\n",
      "\n",
      "Epoch 27 Summary:\n",
      "Train Loss: 0.5467\n",
      "Val Loss: 0.6574\n"
     ]
    },
    {
     "name": "stderr",
     "output_type": "stream",
     "text": [
      "Epoch 28/100 [Training]: 100%|██████████| 596/596 [06:18<00:00,  1.57it/s, loss=0.431]\n",
      "Epoch 28/100 [Validating]: 100%|██████████| 128/128 [01:19<00:00,  1.61it/s, loss=0.998]\n"
     ]
    },
    {
     "name": "stdout",
     "output_type": "stream",
     "text": [
      "\n",
      "Epoch 28: Validation loss did not improve (3/10)\n",
      "\n",
      "Epoch 28 Summary:\n",
      "Train Loss: 0.5444\n",
      "Val Loss: 0.6575\n"
     ]
    },
    {
     "name": "stderr",
     "output_type": "stream",
     "text": [
      "Epoch 29/100 [Training]: 100%|██████████| 596/596 [06:15<00:00,  1.59it/s, loss=0.588]\n",
      "Epoch 29/100 [Validating]: 100%|██████████| 128/128 [01:17<00:00,  1.66it/s, loss=0.995]\n"
     ]
    },
    {
     "name": "stdout",
     "output_type": "stream",
     "text": [
      "\n",
      "Epoch 29: Validation loss did not improve (4/10)\n",
      "\n",
      "Epoch 29 Summary:\n",
      "Train Loss: 0.5421\n",
      "Val Loss: 0.6559\n"
     ]
    },
    {
     "name": "stderr",
     "output_type": "stream",
     "text": [
      "Epoch 30/100 [Training]: 100%|██████████| 596/596 [06:11<00:00,  1.61it/s, loss=0.334]\n",
      "Epoch 30/100 [Validating]: 100%|██████████| 128/128 [01:17<00:00,  1.66it/s, loss=0.995]\n"
     ]
    },
    {
     "name": "stdout",
     "output_type": "stream",
     "text": [
      "\n",
      "Epoch 30: Validation loss improved, saved new best model to video_qa_model.pth and best checkpoint to checkpoints/best_checkpoint.pth\n",
      "\n",
      "Epoch 30 Summary:\n",
      "Train Loss: 0.5401\n",
      "Val Loss: 0.6557\n"
     ]
    },
    {
     "name": "stderr",
     "output_type": "stream",
     "text": [
      "Epoch 31/100 [Training]: 100%|██████████| 596/596 [06:13<00:00,  1.60it/s, loss=0.424]\n",
      "Epoch 31/100 [Validating]: 100%|██████████| 128/128 [01:17<00:00,  1.64it/s, loss=0.994]\n"
     ]
    },
    {
     "name": "stdout",
     "output_type": "stream",
     "text": [
      "\n",
      "Epoch 31: Validation loss did not improve (1/10)\n",
      "\n",
      "Epoch 31 Summary:\n",
      "Train Loss: 0.5378\n",
      "Val Loss: 0.6568\n"
     ]
    },
    {
     "name": "stderr",
     "output_type": "stream",
     "text": [
      "Epoch 32/100 [Training]: 100%|██████████| 596/596 [06:15<00:00,  1.59it/s, loss=0.664]\n",
      "Epoch 32/100 [Validating]: 100%|██████████| 128/128 [01:17<00:00,  1.65it/s, loss=1]\n"
     ]
    },
    {
     "name": "stdout",
     "output_type": "stream",
     "text": [
      "\n",
      "Epoch 32: Validation loss did not improve (2/10)\n",
      "\n",
      "Epoch 32 Summary:\n",
      "Train Loss: 0.5357\n",
      "Val Loss: 0.6559\n"
     ]
    },
    {
     "name": "stderr",
     "output_type": "stream",
     "text": [
      "Epoch 33/100 [Training]: 100%|██████████| 596/596 [06:15<00:00,  1.59it/s, loss=0.458]\n",
      "Epoch 33/100 [Validating]: 100%|██████████| 128/128 [01:17<00:00,  1.65it/s, loss=0.998]\n"
     ]
    },
    {
     "name": "stdout",
     "output_type": "stream",
     "text": [
      "\n",
      "Epoch 33: Validation loss improved, saved new best model to video_qa_model.pth and best checkpoint to checkpoints/best_checkpoint.pth\n",
      "\n",
      "Epoch 33 Summary:\n",
      "Train Loss: 0.5334\n",
      "Val Loss: 0.6552\n"
     ]
    },
    {
     "name": "stderr",
     "output_type": "stream",
     "text": [
      "Epoch 34/100 [Training]: 100%|██████████| 596/596 [06:16<00:00,  1.58it/s, loss=0.486]\n",
      "Epoch 34/100 [Validating]: 100%|██████████| 128/128 [01:18<00:00,  1.63it/s, loss=0.99]\n"
     ]
    },
    {
     "name": "stdout",
     "output_type": "stream",
     "text": [
      "\n",
      "Epoch 34: Validation loss did not improve (1/10)\n",
      "\n",
      "Epoch 34 Summary:\n",
      "Train Loss: 0.5322\n",
      "Val Loss: 0.6558\n"
     ]
    },
    {
     "name": "stderr",
     "output_type": "stream",
     "text": [
      "Epoch 35/100 [Training]: 100%|██████████| 596/596 [06:13<00:00,  1.60it/s, loss=0.6]\n",
      "Epoch 35/100 [Validating]: 100%|██████████| 128/128 [01:18<00:00,  1.63it/s, loss=0.999]\n"
     ]
    },
    {
     "name": "stdout",
     "output_type": "stream",
     "text": [
      "\n",
      "Epoch 35: Validation loss did not improve (2/10)\n",
      "\n",
      "Epoch 35 Summary:\n",
      "Train Loss: 0.5295\n",
      "Val Loss: 0.6557\n"
     ]
    },
    {
     "name": "stderr",
     "output_type": "stream",
     "text": [
      "Epoch 36/100 [Training]: 100%|██████████| 596/596 [06:12<00:00,  1.60it/s, loss=0.359]\n",
      "Epoch 36/100 [Validating]: 100%|██████████| 128/128 [01:18<00:00,  1.63it/s, loss=0.989]\n"
     ]
    },
    {
     "name": "stdout",
     "output_type": "stream",
     "text": [
      "\n",
      "Epoch 36: Validation loss improved, saved new best model to video_qa_model.pth and best checkpoint to checkpoints/best_checkpoint.pth\n",
      "\n",
      "Epoch 36 Summary:\n",
      "Train Loss: 0.5275\n",
      "Val Loss: 0.6551\n"
     ]
    },
    {
     "name": "stderr",
     "output_type": "stream",
     "text": [
      "Epoch 37/100 [Training]: 100%|██████████| 596/596 [06:15<00:00,  1.59it/s, loss=0.621]\n",
      "Epoch 37/100 [Validating]: 100%|██████████| 128/128 [01:18<00:00,  1.62it/s, loss=0.992]\n"
     ]
    },
    {
     "name": "stdout",
     "output_type": "stream",
     "text": [
      "\n",
      "Epoch 37: Validation loss did not improve (1/10)\n",
      "\n",
      "Epoch 37 Summary:\n",
      "Train Loss: 0.5259\n",
      "Val Loss: 0.6552\n"
     ]
    },
    {
     "name": "stderr",
     "output_type": "stream",
     "text": [
      "Epoch 38/100 [Training]: 100%|██████████| 596/596 [06:15<00:00,  1.59it/s, loss=0.351]\n",
      "Epoch 38/100 [Validating]: 100%|██████████| 128/128 [01:18<00:00,  1.63it/s, loss=0.997]\n"
     ]
    },
    {
     "name": "stdout",
     "output_type": "stream",
     "text": [
      "\n",
      "Epoch 38: Validation loss did not improve (2/10)\n",
      "\n",
      "Epoch 38 Summary:\n",
      "Train Loss: 0.5228\n",
      "Val Loss: 0.6563\n"
     ]
    },
    {
     "name": "stderr",
     "output_type": "stream",
     "text": [
      "Epoch 39/100 [Training]: 100%|██████████| 596/596 [06:11<00:00,  1.60it/s, loss=0.386]\n",
      "Epoch 39/100 [Validating]: 100%|██████████| 128/128 [01:16<00:00,  1.67it/s, loss=0.999]\n"
     ]
    },
    {
     "name": "stdout",
     "output_type": "stream",
     "text": [
      "\n",
      "Epoch 39: Validation loss did not improve (3/10)\n",
      "\n",
      "Epoch 39 Summary:\n",
      "Train Loss: 0.5216\n",
      "Val Loss: 0.6570\n"
     ]
    },
    {
     "name": "stderr",
     "output_type": "stream",
     "text": [
      "Epoch 40/100 [Training]: 100%|██████████| 596/596 [06:09<00:00,  1.61it/s, loss=0.604]\n",
      "Epoch 40/100 [Validating]: 100%|██████████| 128/128 [01:17<00:00,  1.66it/s, loss=0.997]\n"
     ]
    },
    {
     "name": "stdout",
     "output_type": "stream",
     "text": [
      "\n",
      "Epoch 40: Validation loss improved, saved new best model to video_qa_model.pth and best checkpoint to checkpoints/best_checkpoint.pth\n",
      "\n",
      "Epoch 40 Summary:\n",
      "Train Loss: 0.5205\n",
      "Val Loss: 0.6549\n"
     ]
    },
    {
     "name": "stderr",
     "output_type": "stream",
     "text": [
      "Epoch 41/100 [Training]: 100%|██████████| 596/596 [06:10<00:00,  1.61it/s, loss=0.652]\n",
      "Epoch 41/100 [Validating]: 100%|██████████| 128/128 [01:16<00:00,  1.67it/s, loss=0.997]\n"
     ]
    },
    {
     "name": "stdout",
     "output_type": "stream",
     "text": [
      "\n",
      "Epoch 41: Validation loss did not improve (1/10)\n",
      "\n",
      "Epoch 41 Summary:\n",
      "Train Loss: 0.5179\n",
      "Val Loss: 0.6560\n"
     ]
    },
    {
     "name": "stderr",
     "output_type": "stream",
     "text": [
      "Epoch 42/100 [Training]: 100%|██████████| 596/596 [06:09<00:00,  1.61it/s, loss=0.782]\n",
      "Epoch 42/100 [Validating]: 100%|██████████| 128/128 [01:18<00:00,  1.64it/s, loss=0.999]\n"
     ]
    },
    {
     "name": "stdout",
     "output_type": "stream",
     "text": [
      "\n",
      "Epoch 42: Validation loss did not improve (2/10)\n",
      "\n",
      "Epoch 42 Summary:\n",
      "Train Loss: 0.5155\n",
      "Val Loss: 0.6572\n"
     ]
    },
    {
     "name": "stderr",
     "output_type": "stream",
     "text": [
      "Epoch 43/100 [Training]: 100%|██████████| 596/596 [06:09<00:00,  1.61it/s, loss=0.467]\n",
      "Epoch 43/100 [Validating]: 100%|██████████| 128/128 [01:17<00:00,  1.66it/s, loss=1.01]\n"
     ]
    },
    {
     "name": "stdout",
     "output_type": "stream",
     "text": [
      "\n",
      "Epoch 43: Validation loss did not improve (3/10)\n",
      "\n",
      "Epoch 43 Summary:\n",
      "Train Loss: 0.5128\n",
      "Val Loss: 0.6585\n"
     ]
    },
    {
     "name": "stderr",
     "output_type": "stream",
     "text": [
      "Epoch 44/100 [Training]: 100%|██████████| 596/596 [06:10<00:00,  1.61it/s, loss=0.553]\n",
      "Epoch 44/100 [Validating]: 100%|██████████| 128/128 [01:17<00:00,  1.66it/s, loss=1]\n"
     ]
    },
    {
     "name": "stdout",
     "output_type": "stream",
     "text": [
      "\n",
      "Epoch 44: Validation loss did not improve (4/10)\n",
      "\n",
      "Epoch 44 Summary:\n",
      "Train Loss: 0.5113\n",
      "Val Loss: 0.6571\n"
     ]
    },
    {
     "name": "stderr",
     "output_type": "stream",
     "text": [
      "Epoch 45/100 [Training]: 100%|██████████| 596/596 [06:10<00:00,  1.61it/s, loss=0.378]\n",
      "Epoch 45/100 [Validating]: 100%|██████████| 128/128 [01:17<00:00,  1.65it/s, loss=0.998]\n"
     ]
    },
    {
     "name": "stdout",
     "output_type": "stream",
     "text": [
      "\n",
      "Epoch 45: Validation loss did not improve (5/10)\n",
      "\n",
      "Epoch 45 Summary:\n",
      "Train Loss: 0.5093\n",
      "Val Loss: 0.6592\n"
     ]
    },
    {
     "name": "stderr",
     "output_type": "stream",
     "text": [
      "Epoch 46/100 [Training]: 100%|██████████| 596/596 [06:12<00:00,  1.60it/s, loss=0.675]\n",
      "Epoch 46/100 [Validating]: 100%|██████████| 128/128 [01:18<00:00,  1.64it/s, loss=1]\n"
     ]
    },
    {
     "name": "stdout",
     "output_type": "stream",
     "text": [
      "\n",
      "Epoch 46: Validation loss did not improve (6/10)\n",
      "\n",
      "Epoch 46 Summary:\n",
      "Train Loss: 0.5076\n",
      "Val Loss: 0.6575\n"
     ]
    },
    {
     "name": "stderr",
     "output_type": "stream",
     "text": [
      "Epoch 47/100 [Training]: 100%|██████████| 596/596 [06:12<00:00,  1.60it/s, loss=0.341]\n",
      "Epoch 47/100 [Validating]: 100%|██████████| 128/128 [01:17<00:00,  1.65it/s, loss=1.01]\n"
     ]
    },
    {
     "name": "stdout",
     "output_type": "stream",
     "text": [
      "\n",
      "Epoch 47: Validation loss did not improve (7/10)\n",
      "\n",
      "Epoch 47 Summary:\n",
      "Train Loss: 0.5051\n",
      "Val Loss: 0.6575\n"
     ]
    },
    {
     "name": "stderr",
     "output_type": "stream",
     "text": [
      "Epoch 48/100 [Training]: 100%|██████████| 596/596 [06:14<00:00,  1.59it/s, loss=0.564]\n",
      "Epoch 48/100 [Validating]: 100%|██████████| 128/128 [01:17<00:00,  1.64it/s, loss=1]\n"
     ]
    },
    {
     "name": "stdout",
     "output_type": "stream",
     "text": [
      "\n",
      "Epoch 48: Validation loss did not improve (8/10)\n",
      "\n",
      "Epoch 48 Summary:\n",
      "Train Loss: 0.5039\n",
      "Val Loss: 0.6590\n"
     ]
    },
    {
     "name": "stderr",
     "output_type": "stream",
     "text": [
      "Epoch 49/100 [Training]: 100%|██████████| 596/596 [06:11<00:00,  1.60it/s, loss=0.583]\n",
      "Epoch 49/100 [Validating]: 100%|██████████| 128/128 [01:17<00:00,  1.66it/s, loss=1.01]\n"
     ]
    },
    {
     "name": "stdout",
     "output_type": "stream",
     "text": [
      "\n",
      "Epoch 49: Validation loss did not improve (9/10)\n",
      "\n",
      "Epoch 49 Summary:\n",
      "Train Loss: 0.5023\n",
      "Val Loss: 0.6600\n"
     ]
    },
    {
     "name": "stderr",
     "output_type": "stream",
     "text": [
      "Epoch 50/100 [Training]: 100%|██████████| 596/596 [06:11<00:00,  1.60it/s, loss=0.476]\n",
      "Epoch 50/100 [Validating]: 100%|██████████| 128/128 [01:17<00:00,  1.65it/s, loss=1]"
     ]
    },
    {
     "name": "stdout",
     "output_type": "stream",
     "text": [
      "\n",
      "Epoch 50: Validation loss did not improve (10/10)\n",
      "Early stopping triggered after 10 epochs without improvement.\n"
     ]
    },
    {
     "name": "stderr",
     "output_type": "stream",
     "text": [
      "\n"
     ]
    }
   ],
   "source": [
    "best_val_loss = float('inf')\n",
    "training_log = []\n",
    "epochs_no_improve = 0 # Counter for early stopping\n",
    "\n",
    "train_losses = [] \n",
    "val_losses = []\n",
    "\n",
    "# Create checkpoint directory if it doesn't exist\n",
    "os.makedirs(Config.checkpoint_dir, exist_ok=True)\n",
    "\n",
    "for epoch in range(Config.num_epochs):\n",
    "    # Training\n",
    "    model.train()\n",
    "    train_loss = 0\n",
    "    progress_bar = tqdm(train_loader, desc=f\"Epoch {epoch+1}/{Config.num_epochs} [Training]\")\n",
    "\n",
    "    for batch in progress_bar:\n",
    "        optimizer.zero_grad()\n",
    "\n",
    "        video = batch['video'].to(device)\n",
    "        input_ids = batch['input_ids'].to(device)\n",
    "        attention_mask = batch['attention_mask'].to(device)\n",
    "\n",
    "\n",
    "        with torch.cuda.amp.autocast():\n",
    "            outputs = model(video, input_ids, attention_mask, labels=input_ids)\n",
    "            loss = outputs.loss\n",
    "\n",
    "        scaler.scale(loss).backward()\n",
    "        torch.nn.utils.clip_grad_norm_(model.parameters(), Config.grad_clip)\n",
    "        scaler.step(optimizer)\n",
    "        scaler.update()\n",
    "\n",
    "        train_loss += loss.item()\n",
    "        progress_bar.set_postfix({'loss': loss.item()})\n",
    "\n",
    "    avg_train_loss = train_loss / len(train_loader)\n",
    "    train_losses.append(avg_train_loss) \n",
    "\n",
    "\n",
    "    # Validation\n",
    "    model.eval()\n",
    "    val_loss = 0\n",
    "    with torch.no_grad():\n",
    "        val_progress_bar = tqdm(val_loader, desc=f\"Epoch {epoch+1}/{Config.num_epochs} [Validating]\")\n",
    "        for batch in val_progress_bar:\n",
    "            video = batch['video'].to(device)\n",
    "            input_ids = batch['input_ids'].to(device)\n",
    "            attention_mask = batch['attention_mask'].to(device)\n",
    "            outputs = model(video, input_ids, attention_mask, labels=input_ids) \n",
    "            val_loss += outputs.loss.item()\n",
    "            val_progress_bar.set_postfix({'loss': outputs.loss.item()})\n",
    "\n",
    "    avg_val_loss = val_loss / len(val_loader)\n",
    "    val_losses.append(avg_val_loss) \n",
    "\n",
    "\n",
    "    # Early stopping check and Best Checkpoint Saving\n",
    "    if avg_val_loss < best_val_loss:\n",
    "        best_val_loss = avg_val_loss\n",
    "        torch.save(model.state_dict(), Config.model_save_path) # Save best model based on validation loss\n",
    "\n",
    "        # Save best checkpoint\n",
    "        checkpoint_path = Config.best_checkpoint_path\n",
    "        torch.save({\n",
    "            'epoch': epoch+1,\n",
    "            'model_state_dict': model.state_dict(),\n",
    "            'optimizer_state_dict': optimizer.state_dict(),\n",
    "            'train_loss': avg_train_loss,\n",
    "            'val_loss': avg_val_loss,\n",
    "            'best_val_loss': best_val_loss\n",
    "        }, checkpoint_path)\n",
    "        print(f\"\\nEpoch {epoch+1}: Validation loss improved, saved new best model to {Config.model_save_path} and best checkpoint to {checkpoint_path}\")\n",
    "\n",
    "        epochs_no_improve = 0 \n",
    "    else:\n",
    "        epochs_no_improve += 1\n",
    "        print(f\"\\nEpoch {epoch+1}: Validation loss did not improve ({epochs_no_improve}/{Config.patience})\")\n",
    "        if epochs_no_improve >= Config.patience:\n",
    "            print(f\"Early stopping triggered after {Config.patience} epochs without improvement.\")\n",
    "            break # Stop training loop\n",
    "\n",
    "    # Log metrics\n",
    "    epoch_log = {\n",
    "        'epoch': epoch+1,\n",
    "        'train_loss': avg_train_loss,\n",
    "        'val_loss': avg_val_loss\n",
    "    }\n",
    "    training_log.append(epoch_log)\n",
    "\n",
    "    print(f\"\\nEpoch {epoch+1} Summary:\")\n",
    "    print(f\"Train Loss: {epoch_log['train_loss']:.4f}\")\n",
    "    print(f\"Val Loss: {epoch_log['val_loss']:.4f}\")"
   ]
  },
  {
   "cell_type": "markdown",
   "id": "e1ef2f1f",
   "metadata": {
    "papermill": {
     "duration": 3.627442,
     "end_time": "2025-01-26T00:37:13.725984",
     "exception": false,
     "start_time": "2025-01-26T00:37:10.098542",
     "status": "completed"
    },
    "tags": []
   },
   "source": [
    "# Model Saving"
   ]
  },
  {
   "cell_type": "code",
   "execution_count": 8,
   "id": "0f78e046",
   "metadata": {
    "execution": {
     "iopub.execute_input": "2025-01-26T00:37:20.740958Z",
     "iopub.status.busy": "2025-01-26T00:37:20.740613Z",
     "iopub.status.idle": "2025-01-26T00:37:21.320082Z",
     "shell.execute_reply": "2025-01-26T00:37:21.319127Z"
    },
    "papermill": {
     "duration": 4.065746,
     "end_time": "2025-01-26T00:37:21.321427",
     "exception": false,
     "start_time": "2025-01-26T00:37:17.255681",
     "status": "completed"
    },
    "tags": []
   },
   "outputs": [
    {
     "name": "stdout",
     "output_type": "stream",
     "text": [
      "Final model saved to final_video_qa_model.pth\n"
     ]
    }
   ],
   "source": [
    "torch.save(model.state_dict(), Config.final_model_path)\n",
    "print(f\"Final model saved to {Config.final_model_path}\") "
   ]
  },
  {
   "cell_type": "markdown",
   "id": "f712c90d",
   "metadata": {
    "papermill": {
     "duration": 3.498807,
     "end_time": "2025-01-26T00:37:28.417633",
     "exception": false,
     "start_time": "2025-01-26T00:37:24.918826",
     "status": "completed"
    },
    "tags": []
   },
   "source": [
    "# Loss Graph"
   ]
  },
  {
   "cell_type": "code",
   "execution_count": 9,
   "id": "42b3cc31",
   "metadata": {
    "execution": {
     "iopub.execute_input": "2025-01-26T00:37:35.290247Z",
     "iopub.status.busy": "2025-01-26T00:37:35.289685Z",
     "iopub.status.idle": "2025-01-26T00:37:35.662928Z",
     "shell.execute_reply": "2025-01-26T00:37:35.662038Z"
    },
    "papermill": {
     "duration": 3.820694,
     "end_time": "2025-01-26T00:37:35.664358",
     "exception": false,
     "start_time": "2025-01-26T00:37:31.843664",
     "status": "completed"
    },
    "tags": []
   },
   "outputs": [
    {
     "data": {
      "image/png": "[encoded data removed]",
      "text/plain": [
       "<Figure size 1000x600 with 1 Axes>"
      ]
     },
     "metadata": {},
     "output_type": "display_data"
    }
   ],
   "source": [
    "plt.figure(figsize=(10, 6))\n",
    "plt.plot(train_losses, label='Training Loss')\n",
    "plt.plot(val_losses, label='Validation Loss')\n",
    "plt.xlabel('Epochs')\n",
    "plt.ylabel('Loss')\n",
    "plt.title('Training and Validation Loss Curve')\n",
    "plt.legend()\n",
    "plt.grid(True)\n",
    "plt.savefig('loss_graph.png')\n",
    "plt.show()"
   ]
  },
  {
   "cell_type": "markdown",
   "id": "f8a2c9aa",
   "metadata": {
    "papermill": {
     "duration": 3.425341,
     "end_time": "2025-01-26T00:37:42.728355",
     "exception": false,
     "start_time": "2025-01-26T00:37:39.303014",
     "status": "completed"
    },
    "tags": []
   },
   "source": [
    "# Testing and Evaluation"
   ]
  },
  {
   "cell_type": "code",
   "execution_count": 10,
   "id": "6e1d467a",
   "metadata": {
    "execution": {
     "iopub.execute_input": "2025-01-26T00:37:49.823244Z",
     "iopub.status.busy": "2025-01-26T00:37:49.822913Z",
     "iopub.status.idle": "2025-01-26T00:39:34.291000Z",
     "shell.execute_reply": "2025-01-26T00:39:34.290050Z"
    },
    "papermill": {
     "duration": 108.080433,
     "end_time": "2025-01-26T00:39:34.292235",
     "exception": false,
     "start_time": "2025-01-26T00:37:46.211802",
     "status": "completed"
    },
    "tags": []
   },
   "outputs": [
    {
     "name": "stderr",
     "output_type": "stream",
     "text": [
      "<ipython-input-10-8e62642c04b3>:1: FutureWarning: You are using `torch.load` with `weights_only=False` (the current default value), which uses the default pickle module implicitly. It is possible to construct malicious pickle data which will execute arbitrary code during unpickling (See https://github.com/pytorch/pytorch/blob/main/SECURITY.md#untrusted-models for more details). In a future release, the default value for `weights_only` will be flipped to `True`. This limits the functions that could be executed during unpickling. Arbitrary objects will no longer be allowed to be loaded via this mode unless they are explicitly allowlisted by the user via `torch.serialization.add_safe_globals`. We recommend you start setting `weights_only=True` for any use case where you don't have full control of the loaded file. Please open an issue on GitHub for any issues related to this experimental feature.\n",
      "  model.load_state_dict(torch.load(Config.model_save_path))\n",
      "Testing: 100%|██████████| 128/128 [01:44<00:00,  1.23it/s]"
     ]
    },
    {
     "name": "stdout",
     "output_type": "stream",
     "text": [
      "\n",
      "Test Results:\n",
      "Loss: 0.6599\n",
      "BLEU Score: 0.1895\n",
      "\n",
      "Example Predictions:\n",
      "\n",
      "Question: How many are dancing in the video?\n",
      "Predicted: Question: What many people dancing in the video? Answer: In video showcases a individuals performing in the Kumuni dance performance,\n",
      "Actual: The video showcases six dancers participating in the Maruni dance performance.\n",
      "\n",
      "Question: What type of area is depicted?\n",
      "Predicted: Question: What is of area is depicted? Answer: The area depicted in the video frames is a traditional space or, likely a rural or a community area for cultural performances, as indicated by the presence of a instruments andtheally the the Chyabrung drum) and the dressed in traditional Limbu attire,\n",
      "Actual: The area depicted in the video frames is a performing arts area, likely a stage or a designated space for cultural performances, as evidenced by the presence of musical instruments (specifically, the Chyabrung drum) and performers dressed in traditional Limbu attire.\n",
      "\n",
      "Question: Where is the video set?\n",
      "Predicted: Question: What are the video set? Answer: The video is set in a traditional Dh space, likely a a brick, enhance a location significant setting of theime Na. The\n",
      "Actual: The video is set in a traditional performance space, likely featuring red curtains to indicate the culturally significant nature of Dhime performances.\n",
      "\n",
      "Saved full results to training_results.json\n",
      "Loss graph saved to loss_graph.png\n",
      "Best checkpoint saved in checkpoints/best_checkpoint.pth\n",
      "Best model saved to video_qa_model.pth\n",
      "Final model saved to final_video_qa_model.pth\n"
     ]
    },
    {
     "name": "stderr",
     "output_type": "stream",
     "text": [
      "\n"
     ]
    }
   ],
   "source": [
    "model.load_state_dict(torch.load(Config.model_save_path))\n",
    "model.eval()\n",
    "\n",
    "test_dataset = VideoQADataset(test_df, tokenizer)\n",
    "test_loader = DataLoader(test_dataset, batch_size=Config.batch_size)\n",
    "\n",
    "all_preds = []\n",
    "all_labels = []\n",
    "test_loss = 0\n",
    "examples = []\n",
    "bleu_scores = [] \n",
    "\n",
    "with torch.no_grad():\n",
    "    test_progress_bar = tqdm(test_loader, desc=\"Testing\")\n",
    "    for batch in test_progress_bar:\n",
    "        video = batch['video'].to(device)\n",
    "        input_ids = batch['input_ids'].to(device)\n",
    "        attention_mask = batch['attention_mask'].to(device)\n",
    "        labels = input_ids \n",
    "\n",
    "        outputs = model(video, input_ids, attention_mask, labels=labels)\n",
    "        test_loss += outputs.loss.item()\n",
    "\n",
    "        preds = torch.argmax(outputs.logits, dim=-1)\n",
    "        predicted_tokens = preds.cpu().numpy()\n",
    "        label_tokens = labels.cpu().numpy()\n",
    "\n",
    "\n",
    "        # Decode tokens and calculate BLEU\n",
    "        for i in range(len(predicted_tokens)):\n",
    "            predicted_answer = tokenizer.decode(predicted_tokens[i], skip_special_tokens=True)\n",
    "            actual_answer = test_df.iloc[test_progress_bar.n * Config.batch_size + i]['refined_answer']\n",
    "\n",
    "            # Calculate BLEU score for each sample\n",
    "            try: \n",
    "                bleu = sentence_bleu([actual_answer.split()], predicted_answer.split(), smoothing_function=Config.bleu_smoothing) # Use smoothing from config\n",
    "                bleu_scores.append(bleu)\n",
    "            except Exception as e:\n",
    "                print(f\"Error calculating BLEU score for example: {e}\")\n",
    "                bleu_scores.append(0.0) \n",
    "\n",
    "        all_preds.extend(predicted_tokens)\n",
    "        all_labels.extend(label_tokens)\n",
    "\n",
    "\n",
    "        # Save first 3 examples\n",
    "        if len(examples) < 3 and test_progress_bar.n < 3 :\n",
    "            for i in range(min(3, len(video))):\n",
    "                examples.append({\n",
    "                    'question': test_df.iloc[test_progress_bar.n * Config.batch_size + i]['questions'],\n",
    "                    'predicted': tokenizer.decode(predicted_tokens[i], skip_special_tokens=True),\n",
    "                    'actual': test_df.iloc[test_progress_bar.n * Config.batch_size + i]['refined_answer']\n",
    "                })\n",
    "\n",
    "# Calculate average BLEU score\n",
    "average_bleu = np.mean(bleu_scores) if bleu_scores else 0.0\n",
    "\n",
    "\n",
    "print(\"\\nTest Results:\")\n",
    "print(f\"Loss: {test_loss/len(test_loader):.4f}\")\n",
    "print(f\"BLEU Score: {average_bleu:.4f}\") \n",
    "\n",
    "\n",
    "print(\"\\nExample Predictions:\")\n",
    "for ex in examples:\n",
    "    print(f\"\\nQuestion: {ex['question']}\")\n",
    "    print(f\"Predicted: {ex['predicted']}\")\n",
    "    print(f\"Actual: {ex['actual']}\")\n",
    "\n",
    "print(f\"\\nSaved full results to {Config.results_file}\")\n",
    "print(f\"Loss graph saved to loss_graph.png\")\n",
    "print(f\"Best checkpoint saved in {Config.best_checkpoint_path}\")\n",
    "print(f\"Best model saved to {Config.model_save_path}\")\n",
    "print(f\"Final model saved to {Config.final_model_path}\")"
   ]
  },
  {
   "cell_type": "code",
   "execution_count": 11,
   "id": "354b15c7",
   "metadata": {
    "execution": {
     "iopub.execute_input": "2025-01-26T00:39:41.291291Z",
     "iopub.status.busy": "2025-01-26T00:39:41.290696Z",
     "iopub.status.idle": "2025-01-26T00:39:41.295802Z",
     "shell.execute_reply": "2025-01-26T00:39:41.295151Z"
    },
    "papermill": {
     "duration": 3.505494,
     "end_time": "2025-01-26T00:39:41.297056",
     "exception": false,
     "start_time": "2025-01-26T00:39:37.791562",
     "status": "completed"
    },
    "tags": []
   },
   "outputs": [],
   "source": [
    "results = {\n",
    "    'config': {k: str(v) if not isinstance(v, (int, float, str, bool, list, dict, type(None))) else v for k, v in vars(Config).items()}, # Convert non-serializable config values to strings\n",
    "    'training_log': training_log,\n",
    "    'test_metrics': {\n",
    "        'loss': test_loss/len(test_loader),\n",
    "        'bleu_score': average_bleu # Save BLEU score\n",
    "    },\n",
    "    'examples': examples\n",
    "}\n"
   ]
  },
  {
   "cell_type": "markdown",
   "id": "e5510d4b",
   "metadata": {
    "papermill": {
     "duration": 3.684663,
     "end_time": "2025-01-26T00:39:48.477500",
     "exception": false,
     "start_time": "2025-01-26T00:39:44.792837",
     "status": "completed"
    },
    "tags": []
   },
   "source": [
    "# Saving the results"
   ]
  },
  {
   "cell_type": "code",
   "execution_count": 12,
   "id": "4ce46c51",
   "metadata": {
    "execution": {
     "iopub.execute_input": "2025-01-26T00:39:55.420476Z",
     "iopub.status.busy": "2025-01-26T00:39:55.420124Z",
     "iopub.status.idle": "2025-01-26T00:39:55.427229Z",
     "shell.execute_reply": "2025-01-26T00:39:55.426387Z"
    },
    "papermill": {
     "duration": 3.511564,
     "end_time": "2025-01-26T00:39:55.428441",
     "exception": false,
     "start_time": "2025-01-26T00:39:51.916877",
     "status": "completed"
    },
    "tags": []
   },
   "outputs": [
    {
     "name": "stdout",
     "output_type": "stream",
     "text": [
      "\n",
      "Saved full results to training_results.json\n",
      "Loss graph saved to loss_graph.png\n",
      "Checkpoints saved in checkpoints directory\n",
      "Best model saved to video_qa_model.pth\n",
      "Final model saved to final_video_qa_model.pth\n"
     ]
    }
   ],
   "source": [
    "with open(Config.results_file, 'w') as f:\n",
    "    json.dump(results, f, indent=2)\n",
    "\n",
    "print(f\"\\nSaved full results to {Config.results_file}\")\n",
    "print(f\"Loss graph saved to loss_graph.png\")\n",
    "print(f\"Checkpoints saved in {Config.checkpoint_dir} directory\")\n",
    "print(f\"Best model saved to {Config.model_save_path}\")\n",
    "print(f\"Final model saved to {Config.final_model_path}\")"
   ]
  },
  {
   "cell_type": "code",
   "execution_count": null,
   "id": "28127e19",
   "metadata": {
    "papermill": {
     "duration": 3.56804,
     "end_time": "2025-01-26T00:40:02.484733",
     "exception": false,
     "start_time": "2025-01-26T00:39:58.916693",
     "status": "completed"
    },
    "tags": []
   },
   "outputs": [],
   "source": []
  }
 ],
 "metadata": {
  "kaggle": {
   "accelerator": "gpu",
   "dataSources": [
    {
     "datasetId": 5189208,
     "sourceId": 10450035,
     "sourceType": "datasetVersion"
    }
   ],
   "dockerImageVersionId": 30840,
   "isGpuEnabled": true,
   "isInternetEnabled": true,
   "language": "python",
   "sourceType": "notebook"
  },
  "kernelspec": {
   "display_name": "Python 3",
   "language": "python",
   "name": "python3"
  },
  "language_info": {
   "codemirror_mode": {
    "name": "ipython",
    "version": 3
   },
   "file_extension": ".py",
   "mimetype": "text/x-python",
   "name": "python",
   "nbconvert_exporter": "python",
   "pygments_lexer": "ipython3",
   "version": "3.10.12"
  },
  "papermill": {
   "default_parameters": {},
   "duration": 22719.146392,
   "end_time": "2025-01-26T00:40:09.489458",
   "environment_variables": {},
   "exception": null,
   "input_path": "__notebook__.ipynb",
   "output_path": "__notebook__.ipynb",
   "parameters": {},
   "start_time": "2025-01-25T18:21:30.343066",
   "version": "2.6.0"
  },
  "widgets": {
   "application/vnd.jupyter.widget-state+json": {
    "state": {
     "03825416027c4b1082651d5d6fc94256": {
      "model_module": "@jupyter-widgets/controls",
      "model_module_version": "2.0.0",
      "model_name": "ProgressStyleModel",
      "state": {
       "_model_module": "@jupyter-widgets/controls",
       "_model_module_version": "2.0.0",
       "_model_name": "ProgressStyleModel",
       "_view_count": null,
       "_view_module": "@jupyter-widgets/base",
       "_view_module_version": "2.0.0",
       "_view_name": "StyleView",
       "bar_color": null,
       "description_width": ""
      }
     },
     "04b1b560a6cb4c1db9657c3677dd1658": {
      "model_module": "@jupyter-widgets/base",
      "model_module_version": "2.0.0",
      "model_name": "LayoutModel",
      "state": {
       "_model_module": "@jupyter-widgets/base",
       "_model_module_version": "2.0.0",
       "_model_name": "LayoutModel",
       "_view_count": null,
       "_view_module": "@jupyter-widgets/base",
       "_view_module_version": "2.0.0",
       "_view_name": "LayoutView",
       "align_content": null,
       "align_items": null,
       "align_self": null,
       "border_bottom": null,
       "border_left": null,
       "border_right": null,
       "border_top": null,
       "bottom": null,
       "display": null,
       "flex": null,
       "flex_flow": null,
       "grid_area": null,
       "grid_auto_columns": null,
       "grid_auto_flow": null,
       "grid_auto_rows": null,
       "grid_column": null,
       "grid_gap": null,
       "grid_row": null,
       "grid_template_areas": null,
       "grid_template_columns": null,
       "grid_template_rows": null,
       "height": null,
       "justify_content": null,
       "justify_items": null,
       "left": null,
       "margin": null,
       "max_height": null,
       "max_width": null,
       "min_height": null,
       "min_width": null,
       "object_fit": null,
       "object_position": null,
       "order": null,
       "overflow": null,
       "padding": null,
       "right": null,
       "top": null,
       "visibility": null,
       "width": null
      }
     },
     "06c64ba855904d89adfb57fc5ed1314f": {
      "model_module": "@jupyter-widgets/controls",
      "model_module_version": "2.0.0",
      "model_name": "HTMLStyleModel",
      "state": {
       "_model_module": "@jupyter-widgets/controls",
       "_model_module_version": "2.0.0",
       "_model_name": "HTMLStyleModel",
       "_view_count": null,
       "_view_module": "@jupyter-widgets/base",
       "_view_module_version": "2.0.0",
       "_view_name": "StyleView",
       "background": null,
       "description_width": "",
       "font_size": null,
       "text_color": null
      }
     },
     "08856010f3bf431e9e0e737f548e2d83": {
      "model_module": "@jupyter-widgets/base",
      "model_module_version": "2.0.0",
      "model_name": "LayoutModel",
      "state": {
       "_model_module": "@jupyter-widgets/base",
       "_model_module_version": "2.0.0",
       "_model_name": "LayoutModel",
       "_view_count": null,
       "_view_module": "@jupyter-widgets/base",
       "_view_module_version": "2.0.0",
       "_view_name": "LayoutView",
       "align_content": null,
       "align_items": null,
       "align_self": null,
       "border_bottom": null,
       "border_left": null,
       "border_right": null,
       "border_top": null,
       "bottom": null,
       "display": null,
       "flex": null,
       "flex_flow": null,
       "grid_area": null,
       "grid_auto_columns": null,
       "grid_auto_flow": null,
       "grid_auto_rows": null,
       "grid_column": null,
       "grid_gap": null,
       "grid_row": null,
       "grid_template_areas": null,
       "grid_template_columns": null,
       "grid_template_rows": null,
       "height": null,
       "justify_content": null,
       "justify_items": null,
       "left": null,
       "margin": null,
       "max_height": null,
       "max_width": null,
       "min_height": null,
       "min_width": null,
       "object_fit": null,
       "object_position": null,
       "order": null,
       "overflow": null,
       "padding": null,
       "right": null,
       "top": null,
       "visibility": null,
       "width": null
      }
     },
     "0c9a37abf2d3496eafc2bc2e9f0bb65a": {
      "model_module": "@jupyter-widgets/controls",
      "model_module_version": "2.0.0",
      "model_name": "HBoxModel",
      "state": {
       "_dom_classes": [],
       "_model_module": "@jupyter-widgets/controls",
       "_model_module_version": "2.0.0",
       "_model_name": "HBoxModel",
       "_view_count": null,
       "_view_module": "@jupyter-widgets/controls",
       "_view_module_version": "2.0.0",
       "_view_name": "HBoxView",
       "box_style": "",
       "children": [
        "IPY_MODEL_21836108b9f94cddbcc92a3bd2796956",
        "IPY_MODEL_c2cf7aed9b484123ac522bbbca678bd1",
        "IPY_MODEL_6232a26027f04c4d89af4cc9da3b32fb"
       ],
       "layout": "IPY_MODEL_eb4f4c513d8f461eb1b2f49791d30a59",
       "tabbable": null,
       "tooltip": null
      }
     },
     "156b12c8b7184e528e3d2141169905ae": {
      "model_module": "@jupyter-widgets/controls",
      "model_module_version": "2.0.0",
      "model_name": "ProgressStyleModel",
      "state": {
       "_model_module": "@jupyter-widgets/controls",
       "_model_module_version": "2.0.0",
       "_model_name": "ProgressStyleModel",
       "_view_count": null,
       "_view_module": "@jupyter-widgets/base",
       "_view_module_version": "2.0.0",
       "_view_name": "StyleView",
       "bar_color": null,
       "description_width": ""
      }
     },
     "1bc7665f569941298f3a47b9c5838e35": {
      "model_module": "@jupyter-widgets/controls",
      "model_module_version": "2.0.0",
      "model_name": "FloatProgressModel",
      "state": {
       "_dom_classes": [],
       "_model_module": "@jupyter-widgets/controls",
       "_model_module_version": "2.0.0",
       "_model_name": "FloatProgressModel",
       "_view_count": null,
       "_view_module": "@jupyter-widgets/controls",
       "_view_module_version": "2.0.0",
       "_view_name": "ProgressView",
       "bar_style": "success",
       "description": "",
       "description_allow_html": false,
       "layout": "IPY_MODEL_b875a8554dec4c1dbf91f08cf220262a",
       "max": 1355256.0,
       "min": 0.0,
       "orientation": "horizontal",
       "style": "IPY_MODEL_03825416027c4b1082651d5d6fc94256",
       "tabbable": null,
       "tooltip": null,
       "value": 1355256.0
      }
     },
     "1e7450f1223a420f88b3136863563163": {
      "model_module": "@jupyter-widgets/controls",
      "model_module_version": "2.0.0",
      "model_name": "HTMLModel",
      "state": {
       "_dom_classes": [],
       "_model_module": "@jupyter-widgets/controls",
       "_model_module_version": "2.0.0",
       "_model_name": "HTMLModel",
       "_view_count": null,
       "_view_module": "@jupyter-widgets/controls",
       "_view_module_version": "2.0.0",
       "_view_name": "HTMLView",
       "description": "",
       "description_allow_html": false,
       "layout": "IPY_MODEL_78a2693253db441191a0ef18f98fc083",
       "placeholder": "​",
       "style": "IPY_MODEL_75e5145152b44751bdb6cc74a80bfb75",
       "tabbable": null,
       "tooltip": null,
       "value": " 124/124 [00:00&lt;00:00, 12.8kB/s]"
      }
     },
     "21836108b9f94cddbcc92a3bd2796956": {
      "model_module": "@jupyter-widgets/controls",
      "model_module_version": "2.0.0",
      "model_name": "HTMLModel",
      "state": {
       "_dom_classes": [],
       "_model_module": "@jupyter-widgets/controls",
       "_model_module_version": "2.0.0",
       "_model_name": "HTMLModel",
       "_view_count": null,
       "_view_module": "@jupyter-widgets/controls",
       "_view_module_version": "2.0.0",
       "_view_name": "HTMLView",
       "description": "",
       "description_allow_html": false,
       "layout": "IPY_MODEL_49e7cf5a0d64432e92b5c819c4f310fc",
       "placeholder": "​",
       "style": "IPY_MODEL_53ea9921160e40df8fe2f6279376a62b",
       "tabbable": null,
       "tooltip": null,
       "value": "merges.txt: 100%"
      }
     },
     "2df8a68bb06f45c9bb602c7b355d631d": {
      "model_module": "@jupyter-widgets/controls",
      "model_module_version": "2.0.0",
      "model_name": "HTMLModel",
      "state": {
       "_dom_classes": [],
       "_model_module": "@jupyter-widgets/controls",
       "_model_module_version": "2.0.0",
       "_model_name": "HTMLModel",
       "_view_count": null,
       "_view_module": "@jupyter-widgets/controls",
       "_view_module_version": "2.0.0",
       "_view_name": "HTMLView",
       "description": "",
       "description_allow_html": false,
       "layout": "IPY_MODEL_08856010f3bf431e9e0e737f548e2d83",
       "placeholder": "​",
       "style": "IPY_MODEL_06c64ba855904d89adfb57fc5ed1314f",
       "tabbable": null,
       "tooltip": null,
       "value": "model.safetensors: 100%"
      }
     },
     "2f22af215ed14c25a622dcfae56c5837": {
      "model_module": "@jupyter-widgets/controls",
      "model_module_version": "2.0.0",
      "model_name": "HTMLModel",
      "state": {
       "_dom_classes": [],
       "_model_module": "@jupyter-widgets/controls",
       "_model_module_version": "2.0.0",
       "_model_name": "HTMLModel",
       "_view_count": null,
       "_view_module": "@jupyter-widgets/controls",
       "_view_module_version": "2.0.0",
       "_view_name": "HTMLView",
       "description": "",
       "description_allow_html": false,
       "layout": "IPY_MODEL_8b572f076bd94917860b5db46fcc7eb0",
       "placeholder": "​",
       "style": "IPY_MODEL_fef58582bbff45a08f81f8353f20c39e",
       "tabbable": null,
       "tooltip": null,
       "value": " 1.36M/1.36M [00:00&lt;00:00, 8.36MB/s]"
      }
     },
     "31d2c31edc434208a92a3923340acd36": {
      "model_module": "@jupyter-widgets/controls",
      "model_module_version": "2.0.0",
      "model_name": "HTMLModel",
      "state": {
       "_dom_classes": [],
       "_model_module": "@jupyter-widgets/controls",
       "_model_module_version": "2.0.0",
       "_model_name": "HTMLModel",
       "_view_count": null,
       "_view_module": "@jupyter-widgets/controls",
       "_view_module_version": "2.0.0",
       "_view_name": "HTMLView",
       "description": "",
       "description_allow_html": false,
       "layout": "IPY_MODEL_39ecc43905b44546a73ef50c8c4b4f6a",
       "placeholder": "​",
       "style": "IPY_MODEL_df7e5c4dfdf9493cb5bbb1ece848866b",
       "tabbable": null,
       "tooltip": null,
       "value": "tokenizer.json: 100%"
      }
     },
     "31ffd105705d4bf3a1fb3ff9bbd293d5": {
      "model_module": "@jupyter-widgets/controls",
      "model_module_version": "2.0.0",
      "model_name": "HTMLStyleModel",
      "state": {
       "_model_module": "@jupyter-widgets/controls",
       "_model_module_version": "2.0.0",
       "_model_name": "HTMLStyleModel",
       "_view_count": null,
       "_view_module": "@jupyter-widgets/base",
       "_view_module_version": "2.0.0",
       "_view_name": "StyleView",
       "background": null,
       "description_width": "",
       "font_size": null,
       "text_color": null
      }
     },
     "39ecc43905b44546a73ef50c8c4b4f6a": {
      "model_module": "@jupyter-widgets/base",
      "model_module_version": "2.0.0",
      "model_name": "LayoutModel",
      "state": {
       "_model_module": "@jupyter-widgets/base",
       "_model_module_version": "2.0.0",
       "_model_name": "LayoutModel",
       "_view_count": null,
       "_view_module": "@jupyter-widgets/base",
       "_view_module_version": "2.0.0",
       "_view_name": "LayoutView",
       "align_content": null,
       "align_items": null,
       "align_self": null,
       "border_bottom": null,
       "border_left": null,
       "border_right": null,
       "border_top": null,
       "bottom": null,
       "display": null,
       "flex": null,
       "flex_flow": null,
       "grid_area": null,
       "grid_auto_columns": null,
       "grid_auto_flow": null,
       "grid_auto_rows": null,
       "grid_column": null,
       "grid_gap": null,
       "grid_row": null,
       "grid_template_areas": null,
       "grid_template_columns": null,
       "grid_template_rows": null,
       "height": null,
       "justify_content": null,
       "justify_items": null,
       "left": null,
       "margin": null,
       "max_height": null,
       "max_width": null,
       "min_height": null,
       "min_width": null,
       "object_fit": null,
       "object_position": null,
       "order": null,
       "overflow": null,
       "padding": null,
       "right": null,
       "top": null,
       "visibility": null,
       "width": null
      }
     },
     "3b18d86a818043738c0275d23020e411": {
      "model_module": "@jupyter-widgets/controls",
      "model_module_version": "2.0.0",
      "model_name": "HTMLStyleModel",
      "state": {
       "_model_module": "@jupyter-widgets/controls",
       "_model_module_version": "2.0.0",
       "_model_name": "HTMLStyleModel",
       "_view_count": null,
       "_view_module": "@jupyter-widgets/base",
       "_view_module_version": "2.0.0",
       "_view_name": "StyleView",
       "background": null,
       "description_width": "",
       "font_size": null,
       "text_color": null
      }
     },
     "3b238cbd7ae14baebd0a66670237bc6a": {
      "model_module": "@jupyter-widgets/controls",
      "model_module_version": "2.0.0",
      "model_name": "HTMLModel",
      "state": {
       "_dom_classes": [],
       "_model_module": "@jupyter-widgets/controls",
       "_model_module_version": "2.0.0",
       "_model_name": "HTMLModel",
       "_view_count": null,
       "_view_module": "@jupyter-widgets/controls",
       "_view_module_version": "2.0.0",
       "_view_name": "HTMLView",
       "description": "",
       "description_allow_html": false,
       "layout": "IPY_MODEL_616e5fd003fb4ed183cd6a1971ef9f39",
       "placeholder": "​",
       "style": "IPY_MODEL_58dff65913304e14b5e41e0d4f4f8019",
       "tabbable": null,
       "tooltip": null,
       "value": "tokenizer_config.json: 100%"
      }
     },
     "3cba8d92cbf04a0985c42e2d7e5f7b77": {
      "model_module": "@jupyter-widgets/controls",
      "model_module_version": "2.0.0",
      "model_name": "HTMLModel",
      "state": {
       "_dom_classes": [],
       "_model_module": "@jupyter-widgets/controls",
       "_model_module_version": "2.0.0",
       "_model_name": "HTMLModel",
       "_view_count": null,
       "_view_module": "@jupyter-widgets/controls",
       "_view_module_version": "2.0.0",
       "_view_name": "HTMLView",
       "description": "",
       "description_allow_html": false,
       "layout": "IPY_MODEL_fd7ee858c5934c27a87fc3cb43c9b3e2",
       "placeholder": "​",
       "style": "IPY_MODEL_31ffd105705d4bf3a1fb3ff9bbd293d5",
       "tabbable": null,
       "tooltip": null,
       "value": " 762/762 [00:00&lt;00:00, 79.9kB/s]"
      }
     },
     "415e678a187c446ab0648ee4d27ba816": {
      "model_module": "@jupyter-widgets/controls",
      "model_module_version": "2.0.0",
      "model_name": "HTMLModel",
      "state": {
       "_dom_classes": [],
       "_model_module": "@jupyter-widgets/controls",
       "_model_module_version": "2.0.0",
       "_model_name": "HTMLModel",
       "_view_count": null,
       "_view_module": "@jupyter-widgets/controls",
       "_view_module_version": "2.0.0",
       "_view_name": "HTMLView",
       "description": "",
       "description_allow_html": false,
       "layout": "IPY_MODEL_5746d212858b4b79bc9b49f19794dcff",
       "placeholder": "​",
       "style": "IPY_MODEL_aeae55f630b742f9a0dc79789e399c58",
       "tabbable": null,
       "tooltip": null,
       "value": "config.json: 100%"
      }
     },
     "437d107449f14f48aa4558d7cb6bfc5e": {
      "model_module": "@jupyter-widgets/controls",
      "model_module_version": "2.0.0",
      "model_name": "HTMLStyleModel",
      "state": {
       "_model_module": "@jupyter-widgets/controls",
       "_model_module_version": "2.0.0",
       "_model_name": "HTMLStyleModel",
       "_view_count": null,
       "_view_module": "@jupyter-widgets/base",
       "_view_module_version": "2.0.0",
       "_view_name": "StyleView",
       "background": null,
       "description_width": "",
       "font_size": null,
       "text_color": null
      }
     },
     "455d738543e149e993712a35ecea1961": {
      "model_module": "@jupyter-widgets/base",
      "model_module_version": "2.0.0",
      "model_name": "LayoutModel",
      "state": {
       "_model_module": "@jupyter-widgets/base",
       "_model_module_version": "2.0.0",
       "_model_name": "LayoutModel",
       "_view_count": null,
       "_view_module": "@jupyter-widgets/base",
       "_view_module_version": "2.0.0",
       "_view_name": "LayoutView",
       "align_content": null,
       "align_items": null,
       "align_self": null,
       "border_bottom": null,
       "border_left": null,
       "border_right": null,
       "border_top": null,
       "bottom": null,
       "display": null,
       "flex": null,
       "flex_flow": null,
       "grid_area": null,
       "grid_auto_columns": null,
       "grid_auto_flow": null,
       "grid_auto_rows": null,
       "grid_column": null,
       "grid_gap": null,
       "grid_row": null,
       "grid_template_areas": null,
       "grid_template_columns": null,
       "grid_template_rows": null,
       "height": null,
       "justify_content": null,
       "justify_items": null,
       "left": null,
       "margin": null,
       "max_height": null,
       "max_width": null,
       "min_height": null,
       "min_width": null,
       "object_fit": null,
       "object_position": null,
       "order": null,
       "overflow": null,
       "padding": null,
       "right": null,
       "top": null,
       "visibility": null,
       "width": null
      }
     },
     "49e7cf5a0d64432e92b5c819c4f310fc": {
      "model_module": "@jupyter-widgets/base",
      "model_module_version": "2.0.0",
      "model_name": "LayoutModel",
      "state": {
       "_model_module": "@jupyter-widgets/base",
       "_model_module_version": "2.0.0",
       "_model_name": "LayoutModel",
       "_view_count": null,
       "_view_module": "@jupyter-widgets/base",
       "_view_module_version": "2.0.0",
       "_view_name": "LayoutView",
       "align_content": null,
       "align_items": null,
       "align_self": null,
       "border_bottom": null,
       "border_left": null,
       "border_right": null,
       "border_top": null,
       "bottom": null,
       "display": null,
       "flex": null,
       "flex_flow": null,
       "grid_area": null,
       "grid_auto_columns": null,
       "grid_auto_flow": null,
       "grid_auto_rows": null,
       "grid_column": null,
       "grid_gap": null,
       "grid_row": null,
       "grid_template_areas": null,
       "grid_template_columns": null,
       "grid_template_rows": null,
       "height": null,
       "justify_content": null,
       "justify_items": null,
       "left": null,
       "margin": null,
       "max_height": null,
       "max_width": null,
       "min_height": null,
       "min_width": null,
       "object_fit": null,
       "object_position": null,
       "order": null,
       "overflow": null,
       "padding": null,
       "right": null,
       "top": null,
       "visibility": null,
       "width": null
      }
     },
     "4c103bdd6c6743e98f83873129adc1ad": {
      "model_module": "@jupyter-widgets/controls",
      "model_module_version": "2.0.0",
      "model_name": "HBoxModel",
      "state": {
       "_dom_classes": [],
       "_model_module": "@jupyter-widgets/controls",
       "_model_module_version": "2.0.0",
       "_model_name": "HBoxModel",
       "_view_count": null,
       "_view_module": "@jupyter-widgets/controls",
       "_view_module_version": "2.0.0",
       "_view_name": "HBoxView",
       "box_style": "",
       "children": [
        "IPY_MODEL_2df8a68bb06f45c9bb602c7b355d631d",
        "IPY_MODEL_8904d2327fdf490da2fef3592e72052b",
        "IPY_MODEL_a73707edd1b44ecfb31043d0d1beaf07"
       ],
       "layout": "IPY_MODEL_b372e43e3e7b488e9e50844ad1e11697",
       "tabbable": null,
       "tooltip": null
      }
     },
     "53ea9921160e40df8fe2f6279376a62b": {
      "model_module": "@jupyter-widgets/controls",
      "model_module_version": "2.0.0",
      "model_name": "HTMLStyleModel",
      "state": {
       "_model_module": "@jupyter-widgets/controls",
       "_model_module_version": "2.0.0",
       "_model_name": "HTMLStyleModel",
       "_view_count": null,
       "_view_module": "@jupyter-widgets/base",
       "_view_module_version": "2.0.0",
       "_view_name": "StyleView",
       "background": null,
       "description_width": "",
       "font_size": null,
       "text_color": null
      }
     },
     "55a05bd2f90f4243a5da67f52ba76618": {
      "model_module": "@jupyter-widgets/base",
      "model_module_version": "2.0.0",
      "model_name": "LayoutModel",
      "state": {
       "_model_module": "@jupyter-widgets/base",
       "_model_module_version": "2.0.0",
       "_model_name": "LayoutModel",
       "_view_count": null,
       "_view_module": "@jupyter-widgets/base",
       "_view_module_version": "2.0.0",
       "_view_name": "LayoutView",
       "align_content": null,
       "align_items": null,
       "align_self": null,
       "border_bottom": null,
       "border_left": null,
       "border_right": null,
       "border_top": null,
       "bottom": null,
       "display": null,
       "flex": null,
       "flex_flow": null,
       "grid_area": null,
       "grid_auto_columns": null,
       "grid_auto_flow": null,
       "grid_auto_rows": null,
       "grid_column": null,
       "grid_gap": null,
       "grid_row": null,
       "grid_template_areas": null,
       "grid_template_columns": null,
       "grid_template_rows": null,
       "height": null,
       "justify_content": null,
       "justify_items": null,
       "left": null,
       "margin": null,
       "max_height": null,
       "max_width": null,
       "min_height": null,
       "min_width": null,
       "object_fit": null,
       "object_position": null,
       "order": null,
       "overflow": null,
       "padding": null,
       "right": null,
       "top": null,
       "visibility": null,
       "width": null
      }
     },
     "5746d212858b4b79bc9b49f19794dcff": {
      "model_module": "@jupyter-widgets/base",
      "model_module_version": "2.0.0",
      "model_name": "LayoutModel",
      "state": {
       "_model_module": "@jupyter-widgets/base",
       "_model_module_version": "2.0.0",
       "_model_name": "LayoutModel",
       "_view_count": null,
       "_view_module": "@jupyter-widgets/base",
       "_view_module_version": "2.0.0",
       "_view_name": "LayoutView",
       "align_content": null,
       "align_items": null,
       "align_self": null,
       "border_bottom": null,
       "border_left": null,
       "border_right": null,
       "border_top": null,
       "bottom": null,
       "display": null,
       "flex": null,
       "flex_flow": null,
       "grid_area": null,
       "grid_auto_columns": null,
       "grid_auto_flow": null,
       "grid_auto_rows": null,
       "grid_column": null,
       "grid_gap": null,
       "grid_row": null,
       "grid_template_areas": null,
       "grid_template_columns": null,
       "grid_template_rows": null,
       "height": null,
       "justify_content": null,
       "justify_items": null,
       "left": null,
       "margin": null,
       "max_height": null,
       "max_width": null,
       "min_height": null,
       "min_width": null,
       "object_fit": null,
       "object_position": null,
       "order": null,
       "overflow": null,
       "padding": null,
       "right": null,
       "top": null,
       "visibility": null,
       "width": null
      }
     },
     "57e9cba6502e47f1b8fce496b44f6334": {
      "model_module": "@jupyter-widgets/base",
      "model_module_version": "2.0.0",
      "model_name": "LayoutModel",
      "state": {
       "_model_module": "@jupyter-widgets/base",
       "_model_module_version": "2.0.0",
       "_model_name": "LayoutModel",
       "_view_count": null,
       "_view_module": "@jupyter-widgets/base",
       "_view_module_version": "2.0.0",
       "_view_name": "LayoutView",
       "align_content": null,
       "align_items": null,
       "align_self": null,
       "border_bottom": null,
       "border_left": null,
       "border_right": null,
       "border_top": null,
       "bottom": null,
       "display": null,
       "flex": null,
       "flex_flow": null,
       "grid_area": null,
       "grid_auto_columns": null,
       "grid_auto_flow": null,
       "grid_auto_rows": null,
       "grid_column": null,
       "grid_gap": null,
       "grid_row": null,
       "grid_template_areas": null,
       "grid_template_columns": null,
       "grid_template_rows": null,
       "height": null,
       "justify_content": null,
       "justify_items": null,
       "left": null,
       "margin": null,
       "max_height": null,
       "max_width": null,
       "min_height": null,
       "min_width": null,
       "object_fit": null,
       "object_position": null,
       "order": null,
       "overflow": null,
       "padding": null,
       "right": null,
       "top": null,
       "visibility": null,
       "width": null
      }
     },
     "58dff65913304e14b5e41e0d4f4f8019": {
      "model_module": "@jupyter-widgets/controls",
      "model_module_version": "2.0.0",
      "model_name": "HTMLStyleModel",
      "state": {
       "_model_module": "@jupyter-widgets/controls",
       "_model_module_version": "2.0.0",
       "_model_name": "HTMLStyleModel",
       "_view_count": null,
       "_view_module": "@jupyter-widgets/base",
       "_view_module_version": "2.0.0",
       "_view_name": "StyleView",
       "background": null,
       "description_width": "",
       "font_size": null,
       "text_color": null
      }
     },
     "5e6ae6ac94b7408994c1ea2574928e04": {
      "model_module": "@jupyter-widgets/controls",
      "model_module_version": "2.0.0",
      "model_name": "FloatProgressModel",
      "state": {
       "_dom_classes": [],
       "_model_module": "@jupyter-widgets/controls",
       "_model_module_version": "2.0.0",
       "_model_name": "FloatProgressModel",
       "_view_count": null,
       "_view_module": "@jupyter-widgets/controls",
       "_view_module_version": "2.0.0",
       "_view_name": "ProgressView",
       "bar_style": "success",
       "description": "",
       "description_allow_html": false,
       "layout": "IPY_MODEL_8745a61d8283429cb19643816345f0e1",
       "max": 1042301.0,
       "min": 0.0,
       "orientation": "horizontal",
       "style": "IPY_MODEL_70deed40f5934c3aa159c0c20d4ec31e",
       "tabbable": null,
       "tooltip": null,
       "value": 1042301.0
      }
     },
     "5f82155f8da64b8286da894062935f21": {
      "model_module": "@jupyter-widgets/base",
      "model_module_version": "2.0.0",
      "model_name": "LayoutModel",
      "state": {
       "_model_module": "@jupyter-widgets/base",
       "_model_module_version": "2.0.0",
       "_model_name": "LayoutModel",
       "_view_count": null,
       "_view_module": "@jupyter-widgets/base",
       "_view_module_version": "2.0.0",
       "_view_name": "LayoutView",
       "align_content": null,
       "align_items": null,
       "align_self": null,
       "border_bottom": null,
       "border_left": null,
       "border_right": null,
       "border_top": null,
       "bottom": null,
       "display": null,
       "flex": null,
       "flex_flow": null,
       "grid_area": null,
       "grid_auto_columns": null,
       "grid_auto_flow": null,
       "grid_auto_rows": null,
       "grid_column": null,
       "grid_gap": null,
       "grid_row": null,
       "grid_template_areas": null,
       "grid_template_columns": null,
       "grid_template_rows": null,
       "height": null,
       "justify_content": null,
       "justify_items": null,
       "left": null,
       "margin": null,
       "max_height": null,
       "max_width": null,
       "min_height": null,
       "min_width": null,
       "object_fit": null,
       "object_position": null,
       "order": null,
       "overflow": null,
       "padding": null,
       "right": null,
       "top": null,
       "visibility": null,
       "width": null
      }
     },
     "616e5fd003fb4ed183cd6a1971ef9f39": {
      "model_module": "@jupyter-widgets/base",
      "model_module_version": "2.0.0",
      "model_name": "LayoutModel",
      "state": {
       "_model_module": "@jupyter-widgets/base",
       "_model_module_version": "2.0.0",
       "_model_name": "LayoutModel",
       "_view_count": null,
       "_view_module": "@jupyter-widgets/base",
       "_view_module_version": "2.0.0",
       "_view_name": "LayoutView",
       "align_content": null,
       "align_items": null,
       "align_self": null,
       "border_bottom": null,
       "border_left": null,
       "border_right": null,
       "border_top": null,
       "bottom": null,
       "display": null,
       "flex": null,
       "flex_flow": null,
       "grid_area": null,
       "grid_auto_columns": null,
       "grid_auto_flow": null,
       "grid_auto_rows": null,
       "grid_column": null,
       "grid_gap": null,
       "grid_row": null,
       "grid_template_areas": null,
       "grid_template_columns": null,
       "grid_template_rows": null,
       "height": null,
       "justify_content": null,
       "justify_items": null,
       "left": null,
       "margin": null,
       "max_height": null,
       "max_width": null,
       "min_height": null,
       "min_width": null,
       "object_fit": null,
       "object_position": null,
       "order": null,
       "overflow": null,
       "padding": null,
       "right": null,
       "top": null,
       "visibility": null,
       "width": null
      }
     },
     "6232a26027f04c4d89af4cc9da3b32fb": {
      "model_module": "@jupyter-widgets/controls",
      "model_module_version": "2.0.0",
      "model_name": "HTMLModel",
      "state": {
       "_dom_classes": [],
       "_model_module": "@jupyter-widgets/controls",
       "_model_module_version": "2.0.0",
       "_model_name": "HTMLModel",
       "_view_count": null,
       "_view_module": "@jupyter-widgets/controls",
       "_view_module_version": "2.0.0",
       "_view_name": "HTMLView",
       "description": "",
       "description_allow_html": false,
       "layout": "IPY_MODEL_f2a9c21c0b8d4c1882ffff93a17fcaf9",
       "placeholder": "​",
       "style": "IPY_MODEL_437d107449f14f48aa4558d7cb6bfc5e",
       "tabbable": null,
       "tooltip": null,
       "value": " 456k/456k [00:00&lt;00:00, 2.75MB/s]"
      }
     },
     "629b84d2828f4a1891a80cffedc86249": {
      "model_module": "@jupyter-widgets/base",
      "model_module_version": "2.0.0",
      "model_name": "LayoutModel",
      "state": {
       "_model_module": "@jupyter-widgets/base",
       "_model_module_version": "2.0.0",
       "_model_name": "LayoutModel",
       "_view_count": null,
       "_view_module": "@jupyter-widgets/base",
       "_view_module_version": "2.0.0",
       "_view_name": "LayoutView",
       "align_content": null,
       "align_items": null,
       "align_self": null,
       "border_bottom": null,
       "border_left": null,
       "border_right": null,
       "border_top": null,
       "bottom": null,
       "display": null,
       "flex": null,
       "flex_flow": null,
       "grid_area": null,
       "grid_auto_columns": null,
       "grid_auto_flow": null,
       "grid_auto_rows": null,
       "grid_column": null,
       "grid_gap": null,
       "grid_row": null,
       "grid_template_areas": null,
       "grid_template_columns": null,
       "grid_template_rows": null,
       "height": null,
       "justify_content": null,
       "justify_items": null,
       "left": null,
       "margin": null,
       "max_height": null,
       "max_width": null,
       "min_height": null,
       "min_width": null,
       "object_fit": null,
       "object_position": null,
       "order": null,
       "overflow": null,
       "padding": null,
       "right": null,
       "top": null,
       "visibility": null,
       "width": null
      }
     },
     "6c76b5d47fa5461890e40409f9e7635c": {
      "model_module": "@jupyter-widgets/controls",
      "model_module_version": "2.0.0",
      "model_name": "HBoxModel",
      "state": {
       "_dom_classes": [],
       "_model_module": "@jupyter-widgets/controls",
       "_model_module_version": "2.0.0",
       "_model_name": "HBoxModel",
       "_view_count": null,
       "_view_module": "@jupyter-widgets/controls",
       "_view_module_version": "2.0.0",
       "_view_name": "HBoxView",
       "box_style": "",
       "children": [
        "IPY_MODEL_3b238cbd7ae14baebd0a66670237bc6a",
        "IPY_MODEL_7ac2e5b2f7954559b74d57b25b3ded4a",
        "IPY_MODEL_762b81c30f0d4e56a137a92bd87247f8"
       ],
       "layout": "IPY_MODEL_bbf1139aa429408fb3a95602eedc8945",
       "tabbable": null,
       "tooltip": null
      }
     },
     "6c84008762434840b9f1427ee995c383": {
      "model_module": "@jupyter-widgets/controls",
      "model_module_version": "2.0.0",
      "model_name": "HBoxModel",
      "state": {
       "_dom_classes": [],
       "_model_module": "@jupyter-widgets/controls",
       "_model_module_version": "2.0.0",
       "_model_name": "HBoxModel",
       "_view_count": null,
       "_view_module": "@jupyter-widgets/controls",
       "_view_module_version": "2.0.0",
       "_view_name": "HBoxView",
       "box_style": "",
       "children": [
        "IPY_MODEL_31d2c31edc434208a92a3923340acd36",
        "IPY_MODEL_1bc7665f569941298f3a47b9c5838e35",
        "IPY_MODEL_2f22af215ed14c25a622dcfae56c5837"
       ],
       "layout": "IPY_MODEL_55a05bd2f90f4243a5da67f52ba76618",
       "tabbable": null,
       "tooltip": null
      }
     },
     "70deed40f5934c3aa159c0c20d4ec31e": {
      "model_module": "@jupyter-widgets/controls",
      "model_module_version": "2.0.0",
      "model_name": "ProgressStyleModel",
      "state": {
       "_model_module": "@jupyter-widgets/controls",
       "_model_module_version": "2.0.0",
       "_model_name": "ProgressStyleModel",
       "_view_count": null,
       "_view_module": "@jupyter-widgets/base",
       "_view_module_version": "2.0.0",
       "_view_name": "StyleView",
       "bar_color": null,
       "description_width": ""
      }
     },
     "75e5145152b44751bdb6cc74a80bfb75": {
      "model_module": "@jupyter-widgets/controls",
      "model_module_version": "2.0.0",
      "model_name": "HTMLStyleModel",
      "state": {
       "_model_module": "@jupyter-widgets/controls",
       "_model_module_version": "2.0.0",
       "_model_name": "HTMLStyleModel",
       "_view_count": null,
       "_view_module": "@jupyter-widgets/base",
       "_view_module_version": "2.0.0",
       "_view_name": "StyleView",
       "background": null,
       "description_width": "",
       "font_size": null,
       "text_color": null
      }
     },
     "762b81c30f0d4e56a137a92bd87247f8": {
      "model_module": "@jupyter-widgets/controls",
      "model_module_version": "2.0.0",
      "model_name": "HTMLModel",
      "state": {
       "_dom_classes": [],
       "_model_module": "@jupyter-widgets/controls",
       "_model_module_version": "2.0.0",
       "_model_name": "HTMLModel",
       "_view_count": null,
       "_view_module": "@jupyter-widgets/controls",
       "_view_module_version": "2.0.0",
       "_view_name": "HTMLView",
       "description": "",
       "description_allow_html": false,
       "layout": "IPY_MODEL_ec8e20f9ad604376b1decf2dd6b5000d",
       "placeholder": "​",
       "style": "IPY_MODEL_c8ba83d5f8ce49218fb3c597ddd53db0",
       "tabbable": null,
       "tooltip": null,
       "value": " 26.0/26.0 [00:00&lt;00:00, 2.32kB/s]"
      }
     },
     "78a2693253db441191a0ef18f98fc083": {
      "model_module": "@jupyter-widgets/base",
      "model_module_version": "2.0.0",
      "model_name": "LayoutModel",
      "state": {
       "_model_module": "@jupyter-widgets/base",
       "_model_module_version": "2.0.0",
       "_model_name": "LayoutModel",
       "_view_count": null,
       "_view_module": "@jupyter-widgets/base",
       "_view_module_version": "2.0.0",
       "_view_name": "LayoutView",
       "align_content": null,
       "align_items": null,
       "align_self": null,
       "border_bottom": null,
       "border_left": null,
       "border_right": null,
       "border_top": null,
       "bottom": null,
       "display": null,
       "flex": null,
       "flex_flow": null,
       "grid_area": null,
       "grid_auto_columns": null,
       "grid_auto_flow": null,
       "grid_auto_rows": null,
       "grid_column": null,
       "grid_gap": null,
       "grid_row": null,
       "grid_template_areas": null,
       "grid_template_columns": null,
       "grid_template_rows": null,
       "height": null,
       "justify_content": null,
       "justify_items": null,
       "left": null,
       "margin": null,
       "max_height": null,
       "max_width": null,
       "min_height": null,
       "min_width": null,
       "object_fit": null,
       "object_position": null,
       "order": null,
       "overflow": null,
       "padding": null,
       "right": null,
       "top": null,
       "visibility": null,
       "width": null
      }
     },
     "7ac2e5b2f7954559b74d57b25b3ded4a": {
      "model_module": "@jupyter-widgets/controls",
      "model_module_version": "2.0.0",
      "model_name": "FloatProgressModel",
      "state": {
       "_dom_classes": [],
       "_model_module": "@jupyter-widgets/controls",
       "_model_module_version": "2.0.0",
       "_model_name": "FloatProgressModel",
       "_view_count": null,
       "_view_module": "@jupyter-widgets/controls",
       "_view_module_version": "2.0.0",
       "_view_name": "ProgressView",
       "bar_style": "success",
       "description": "",
       "description_allow_html": false,
       "layout": "IPY_MODEL_979277987fde4f7eb6c425f9ea054a18",
       "max": 26.0,
       "min": 0.0,
       "orientation": "horizontal",
       "style": "IPY_MODEL_ec7757a708994f949b37a48962e85273",
       "tabbable": null,
       "tooltip": null,
       "value": 26.0
      }
     },
     "7e617079785c4574bdd36625d1561212": {
      "model_module": "@jupyter-widgets/controls",
      "model_module_version": "2.0.0",
      "model_name": "HBoxModel",
      "state": {
       "_dom_classes": [],
       "_model_module": "@jupyter-widgets/controls",
       "_model_module_version": "2.0.0",
       "_model_name": "HBoxModel",
       "_view_count": null,
       "_view_module": "@jupyter-widgets/controls",
       "_view_module_version": "2.0.0",
       "_view_name": "HBoxView",
       "box_style": "",
       "children": [
        "IPY_MODEL_a1f3b8f7fa4840ca87cbc3e8d8118efc",
        "IPY_MODEL_c3faf69bcce24077a73982c962c9a596",
        "IPY_MODEL_1e7450f1223a420f88b3136863563163"
       ],
       "layout": "IPY_MODEL_5f82155f8da64b8286da894062935f21",
       "tabbable": null,
       "tooltip": null
      }
     },
     "83f2a953c5564ca89c244f17e31216d9": {
      "model_module": "@jupyter-widgets/controls",
      "model_module_version": "2.0.0",
      "model_name": "HBoxModel",
      "state": {
       "_dom_classes": [],
       "_model_module": "@jupyter-widgets/controls",
       "_model_module_version": "2.0.0",
       "_model_name": "HBoxModel",
       "_view_count": null,
       "_view_module": "@jupyter-widgets/controls",
       "_view_module_version": "2.0.0",
       "_view_name": "HBoxView",
       "box_style": "",
       "children": [
        "IPY_MODEL_ff160a01ac5b47dea185b6957b66a67e",
        "IPY_MODEL_5e6ae6ac94b7408994c1ea2574928e04",
        "IPY_MODEL_f31edc1f30524941beef3afbd33db72a"
       ],
       "layout": "IPY_MODEL_8cda2f7a481e4b8ba6cb3e9d07bfc20b",
       "tabbable": null,
       "tooltip": null
      }
     },
     "83f92ac9f20a4b90abc5d2e26bf6372a": {
      "model_module": "@jupyter-widgets/base",
      "model_module_version": "2.0.0",
      "model_name": "LayoutModel",
      "state": {
       "_model_module": "@jupyter-widgets/base",
       "_model_module_version": "2.0.0",
       "_model_name": "LayoutModel",
       "_view_count": null,
       "_view_module": "@jupyter-widgets/base",
       "_view_module_version": "2.0.0",
       "_view_name": "LayoutView",
       "align_content": null,
       "align_items": null,
       "align_self": null,
       "border_bottom": null,
       "border_left": null,
       "border_right": null,
       "border_top": null,
       "bottom": null,
       "display": null,
       "flex": null,
       "flex_flow": null,
       "grid_area": null,
       "grid_auto_columns": null,
       "grid_auto_flow": null,
       "grid_auto_rows": null,
       "grid_column": null,
       "grid_gap": null,
       "grid_row": null,
       "grid_template_areas": null,
       "grid_template_columns": null,
       "grid_template_rows": null,
       "height": null,
       "justify_content": null,
       "justify_items": null,
       "left": null,
       "margin": null,
       "max_height": null,
       "max_width": null,
       "min_height": null,
       "min_width": null,
       "object_fit": null,
       "object_position": null,
       "order": null,
       "overflow": null,
       "padding": null,
       "right": null,
       "top": null,
       "visibility": null,
       "width": null
      }
     },
     "86f26dcda44d434592b2a8bcf9946db6": {
      "model_module": "@jupyter-widgets/controls",
      "model_module_version": "2.0.0",
      "model_name": "ProgressStyleModel",
      "state": {
       "_model_module": "@jupyter-widgets/controls",
       "_model_module_version": "2.0.0",
       "_model_name": "ProgressStyleModel",
       "_view_count": null,
       "_view_module": "@jupyter-widgets/base",
       "_view_module_version": "2.0.0",
       "_view_name": "StyleView",
       "bar_color": null,
       "description_width": ""
      }
     },
     "8745a61d8283429cb19643816345f0e1": {
      "model_module": "@jupyter-widgets/base",
      "model_module_version": "2.0.0",
      "model_name": "LayoutModel",
      "state": {
       "_model_module": "@jupyter-widgets/base",
       "_model_module_version": "2.0.0",
       "_model_name": "LayoutModel",
       "_view_count": null,
       "_view_module": "@jupyter-widgets/base",
       "_view_module_version": "2.0.0",
       "_view_name": "LayoutView",
       "align_content": null,
       "align_items": null,
       "align_self": null,
       "border_bottom": null,
       "border_left": null,
       "border_right": null,
       "border_top": null,
       "bottom": null,
       "display": null,
       "flex": null,
       "flex_flow": null,
       "grid_area": null,
       "grid_auto_columns": null,
       "grid_auto_flow": null,
       "grid_auto_rows": null,
       "grid_column": null,
       "grid_gap": null,
       "grid_row": null,
       "grid_template_areas": null,
       "grid_template_columns": null,
       "grid_template_rows": null,
       "height": null,
       "justify_content": null,
       "justify_items": null,
       "left": null,
       "margin": null,
       "max_height": null,
       "max_width": null,
       "min_height": null,
       "min_width": null,
       "object_fit": null,
       "object_position": null,
       "order": null,
       "overflow": null,
       "padding": null,
       "right": null,
       "top": null,
       "visibility": null,
       "width": null
      }
     },
     "8904d2327fdf490da2fef3592e72052b": {
      "model_module": "@jupyter-widgets/controls",
      "model_module_version": "2.0.0",
      "model_name": "FloatProgressModel",
      "state": {
       "_dom_classes": [],
       "_model_module": "@jupyter-widgets/controls",
       "_model_module_version": "2.0.0",
       "_model_name": "FloatProgressModel",
       "_view_count": null,
       "_view_module": "@jupyter-widgets/controls",
       "_view_module_version": "2.0.0",
       "_view_name": "ProgressView",
       "bar_style": "success",
       "description": "",
       "description_allow_html": false,
       "layout": "IPY_MODEL_bb95afd2580e4bdfb0314be0de5acd9b",
       "max": 352824413.0,
       "min": 0.0,
       "orientation": "horizontal",
       "style": "IPY_MODEL_f9028b1f892d474e86e2628b9c68d3ac",
       "tabbable": null,
       "tooltip": null,
       "value": 352824413.0
      }
     },
     "89c6f66c4e6d495588c1382924521b33": {
      "model_module": "@jupyter-widgets/controls",
      "model_module_version": "2.0.0",
      "model_name": "HBoxModel",
      "state": {
       "_dom_classes": [],
       "_model_module": "@jupyter-widgets/controls",
       "_model_module_version": "2.0.0",
       "_model_name": "HBoxModel",
       "_view_count": null,
       "_view_module": "@jupyter-widgets/controls",
       "_view_module_version": "2.0.0",
       "_view_name": "HBoxView",
       "box_style": "",
       "children": [
        "IPY_MODEL_415e678a187c446ab0648ee4d27ba816",
        "IPY_MODEL_bdd48651be654ef882b25efa0ee487cb",
        "IPY_MODEL_3cba8d92cbf04a0985c42e2d7e5f7b77"
       ],
       "layout": "IPY_MODEL_57e9cba6502e47f1b8fce496b44f6334",
       "tabbable": null,
       "tooltip": null
      }
     },
     "8b572f076bd94917860b5db46fcc7eb0": {
      "model_module": "@jupyter-widgets/base",
      "model_module_version": "2.0.0",
      "model_name": "LayoutModel",
      "state": {
       "_model_module": "@jupyter-widgets/base",
       "_model_module_version": "2.0.0",
       "_model_name": "LayoutModel",
       "_view_count": null,
       "_view_module": "@jupyter-widgets/base",
       "_view_module_version": "2.0.0",
       "_view_name": "LayoutView",
       "align_content": null,
       "align_items": null,
       "align_self": null,
       "border_bottom": null,
       "border_left": null,
       "border_right": null,
       "border_top": null,
       "bottom": null,
       "display": null,
       "flex": null,
       "flex_flow": null,
       "grid_area": null,
       "grid_auto_columns": null,
       "grid_auto_flow": null,
       "grid_auto_rows": null,
       "grid_column": null,
       "grid_gap": null,
       "grid_row": null,
       "grid_template_areas": null,
       "grid_template_columns": null,
       "grid_template_rows": null,
       "height": null,
       "justify_content": null,
       "justify_items": null,
       "left": null,
       "margin": null,
       "max_height": null,
       "max_width": null,
       "min_height": null,
       "min_width": null,
       "object_fit": null,
       "object_position": null,
       "order": null,
       "overflow": null,
       "padding": null,
       "right": null,
       "top": null,
       "visibility": null,
       "width": null
      }
     },
     "8cda2f7a481e4b8ba6cb3e9d07bfc20b": {
      "model_module": "@jupyter-widgets/base",
      "model_module_version": "2.0.0",
      "model_name": "LayoutModel",
      "state": {
       "_model_module": "@jupyter-widgets/base",
       "_model_module_version": "2.0.0",
       "_model_name": "LayoutModel",
       "_view_count": null,
       "_view_module": "@jupyter-widgets/base",
       "_view_module_version": "2.0.0",
       "_view_name": "LayoutView",
       "align_content": null,
       "align_items": null,
       "align_self": null,
       "border_bottom": null,
       "border_left": null,
       "border_right": null,
       "border_top": null,
       "bottom": null,
       "display": null,
       "flex": null,
       "flex_flow": null,
       "grid_area": null,
       "grid_auto_columns": null,
       "grid_auto_flow": null,
       "grid_auto_rows": null,
       "grid_column": null,
       "grid_gap": null,
       "grid_row": null,
       "grid_template_areas": null,
       "grid_template_columns": null,
       "grid_template_rows": null,
       "height": null,
       "justify_content": null,
       "justify_items": null,
       "left": null,
       "margin": null,
       "max_height": null,
       "max_width": null,
       "min_height": null,
       "min_width": null,
       "object_fit": null,
       "object_position": null,
       "order": null,
       "overflow": null,
       "padding": null,
       "right": null,
       "top": null,
       "visibility": null,
       "width": null
      }
     },
     "979277987fde4f7eb6c425f9ea054a18": {
      "model_module": "@jupyter-widgets/base",
      "model_module_version": "2.0.0",
      "model_name": "LayoutModel",
      "state": {
       "_model_module": "@jupyter-widgets/base",
       "_model_module_version": "2.0.0",
       "_model_name": "LayoutModel",
       "_view_count": null,
       "_view_module": "@jupyter-widgets/base",
       "_view_module_version": "2.0.0",
       "_view_name": "LayoutView",
       "align_content": null,
       "align_items": null,
       "align_self": null,
       "border_bottom": null,
       "border_left": null,
       "border_right": null,
       "border_top": null,
       "bottom": null,
       "display": null,
       "flex": null,
       "flex_flow": null,
       "grid_area": null,
       "grid_auto_columns": null,
       "grid_auto_flow": null,
       "grid_auto_rows": null,
       "grid_column": null,
       "grid_gap": null,
       "grid_row": null,
       "grid_template_areas": null,
       "grid_template_columns": null,
       "grid_template_rows": null,
       "height": null,
       "justify_content": null,
       "justify_items": null,
       "left": null,
       "margin": null,
       "max_height": null,
       "max_width": null,
       "min_height": null,
       "min_width": null,
       "object_fit": null,
       "object_position": null,
       "order": null,
       "overflow": null,
       "padding": null,
       "right": null,
       "top": null,
       "visibility": null,
       "width": null
      }
     },
     "a1f3b8f7fa4840ca87cbc3e8d8118efc": {
      "model_module": "@jupyter-widgets/controls",
      "model_module_version": "2.0.0",
      "model_name": "HTMLModel",
      "state": {
       "_dom_classes": [],
       "_model_module": "@jupyter-widgets/controls",
       "_model_module_version": "2.0.0",
       "_model_name": "HTMLModel",
       "_view_count": null,
       "_view_module": "@jupyter-widgets/controls",
       "_view_module_version": "2.0.0",
       "_view_name": "HTMLView",
       "description": "",
       "description_allow_html": false,
       "layout": "IPY_MODEL_c13e439c9fc941759b5df20fc948dfb7",
       "placeholder": "​",
       "style": "IPY_MODEL_db578962f47646d08e737460c9bf644b",
       "tabbable": null,
       "tooltip": null,
       "value": "generation_config.json: 100%"
      }
     },
     "a73707edd1b44ecfb31043d0d1beaf07": {
      "model_module": "@jupyter-widgets/controls",
      "model_module_version": "2.0.0",
      "model_name": "HTMLModel",
      "state": {
       "_dom_classes": [],
       "_model_module": "@jupyter-widgets/controls",
       "_model_module_version": "2.0.0",
       "_model_name": "HTMLModel",
       "_view_count": null,
       "_view_module": "@jupyter-widgets/controls",
       "_view_module_version": "2.0.0",
       "_view_name": "HTMLView",
       "description": "",
       "description_allow_html": false,
       "layout": "IPY_MODEL_455d738543e149e993712a35ecea1961",
       "placeholder": "​",
       "style": "IPY_MODEL_d765b523f71d4795a5056e4dc2fb4a37",
       "tabbable": null,
       "tooltip": null,
       "value": " 353M/353M [00:01&lt;00:00, 229MB/s]"
      }
     },
     "a85f184edb1a47d2b3073bf59f4d8a3f": {
      "model_module": "@jupyter-widgets/controls",
      "model_module_version": "2.0.0",
      "model_name": "HTMLStyleModel",
      "state": {
       "_model_module": "@jupyter-widgets/controls",
       "_model_module_version": "2.0.0",
       "_model_name": "HTMLStyleModel",
       "_view_count": null,
       "_view_module": "@jupyter-widgets/base",
       "_view_module_version": "2.0.0",
       "_view_name": "StyleView",
       "background": null,
       "description_width": "",
       "font_size": null,
       "text_color": null
      }
     },
     "aeae55f630b742f9a0dc79789e399c58": {
      "model_module": "@jupyter-widgets/controls",
      "model_module_version": "2.0.0",
      "model_name": "HTMLStyleModel",
      "state": {
       "_model_module": "@jupyter-widgets/controls",
       "_model_module_version": "2.0.0",
       "_model_name": "HTMLStyleModel",
       "_view_count": null,
       "_view_module": "@jupyter-widgets/base",
       "_view_module_version": "2.0.0",
       "_view_name": "StyleView",
       "background": null,
       "description_width": "",
       "font_size": null,
       "text_color": null
      }
     },
     "b372e43e3e7b488e9e50844ad1e11697": {
      "model_module": "@jupyter-widgets/base",
      "model_module_version": "2.0.0",
      "model_name": "LayoutModel",
      "state": {
       "_model_module": "@jupyter-widgets/base",
       "_model_module_version": "2.0.0",
       "_model_name": "LayoutModel",
       "_view_count": null,
       "_view_module": "@jupyter-widgets/base",
       "_view_module_version": "2.0.0",
       "_view_name": "LayoutView",
       "align_content": null,
       "align_items": null,
       "align_self": null,
       "border_bottom": null,
       "border_left": null,
       "border_right": null,
       "border_top": null,
       "bottom": null,
       "display": null,
       "flex": null,
       "flex_flow": null,
       "grid_area": null,
       "grid_auto_columns": null,
       "grid_auto_flow": null,
       "grid_auto_rows": null,
       "grid_column": null,
       "grid_gap": null,
       "grid_row": null,
       "grid_template_areas": null,
       "grid_template_columns": null,
       "grid_template_rows": null,
       "height": null,
       "justify_content": null,
       "justify_items": null,
       "left": null,
       "margin": null,
       "max_height": null,
       "max_width": null,
       "min_height": null,
       "min_width": null,
       "object_fit": null,
       "object_position": null,
       "order": null,
       "overflow": null,
       "padding": null,
       "right": null,
       "top": null,
       "visibility": null,
       "width": null
      }
     },
     "b875a8554dec4c1dbf91f08cf220262a": {
      "model_module": "@jupyter-widgets/base",
      "model_module_version": "2.0.0",
      "model_name": "LayoutModel",
      "state": {
       "_model_module": "@jupyter-widgets/base",
       "_model_module_version": "2.0.0",
       "_model_name": "LayoutModel",
       "_view_count": null,
       "_view_module": "@jupyter-widgets/base",
       "_view_module_version": "2.0.0",
       "_view_name": "LayoutView",
       "align_content": null,
       "align_items": null,
       "align_self": null,
       "border_bottom": null,
       "border_left": null,
       "border_right": null,
       "border_top": null,
       "bottom": null,
       "display": null,
       "flex": null,
       "flex_flow": null,
       "grid_area": null,
       "grid_auto_columns": null,
       "grid_auto_flow": null,
       "grid_auto_rows": null,
       "grid_column": null,
       "grid_gap": null,
       "grid_row": null,
       "grid_template_areas": null,
       "grid_template_columns": null,
       "grid_template_rows": null,
       "height": null,
       "justify_content": null,
       "justify_items": null,
       "left": null,
       "margin": null,
       "max_height": null,
       "max_width": null,
       "min_height": null,
       "min_width": null,
       "object_fit": null,
       "object_position": null,
       "order": null,
       "overflow": null,
       "padding": null,
       "right": null,
       "top": null,
       "visibility": null,
       "width": null
      }
     },
     "bb95afd2580e4bdfb0314be0de5acd9b": {
      "model_module": "@jupyter-widgets/base",
      "model_module_version": "2.0.0",
      "model_name": "LayoutModel",
      "state": {
       "_model_module": "@jupyter-widgets/base",
       "_model_module_version": "2.0.0",
       "_model_name": "LayoutModel",
       "_view_count": null,
       "_view_module": "@jupyter-widgets/base",
       "_view_module_version": "2.0.0",
       "_view_name": "LayoutView",
       "align_content": null,
       "align_items": null,
       "align_self": null,
       "border_bottom": null,
       "border_left": null,
       "border_right": null,
       "border_top": null,
       "bottom": null,
       "display": null,
       "flex": null,
       "flex_flow": null,
       "grid_area": null,
       "grid_auto_columns": null,
       "grid_auto_flow": null,
       "grid_auto_rows": null,
       "grid_column": null,
       "grid_gap": null,
       "grid_row": null,
       "grid_template_areas": null,
       "grid_template_columns": null,
       "grid_template_rows": null,
       "height": null,
       "justify_content": null,
       "justify_items": null,
       "left": null,
       "margin": null,
       "max_height": null,
       "max_width": null,
       "min_height": null,
       "min_width": null,
       "object_fit": null,
       "object_position": null,
       "order": null,
       "overflow": null,
       "padding": null,
       "right": null,
       "top": null,
       "visibility": null,
       "width": null
      }
     },
     "bbf1139aa429408fb3a95602eedc8945": {
      "model_module": "@jupyter-widgets/base",
      "model_module_version": "2.0.0",
      "model_name": "LayoutModel",
      "state": {
       "_model_module": "@jupyter-widgets/base",
       "_model_module_version": "2.0.0",
       "_model_name": "LayoutModel",
       "_view_count": null,
       "_view_module": "@jupyter-widgets/base",
       "_view_module_version": "2.0.0",
       "_view_name": "LayoutView",
       "align_content": null,
       "align_items": null,
       "align_self": null,
       "border_bottom": null,
       "border_left": null,
       "border_right": null,
       "border_top": null,
       "bottom": null,
       "display": null,
       "flex": null,
       "flex_flow": null,
       "grid_area": null,
       "grid_auto_columns": null,
       "grid_auto_flow": null,
       "grid_auto_rows": null,
       "grid_column": null,
       "grid_gap": null,
       "grid_row": null,
       "grid_template_areas": null,
       "grid_template_columns": null,
       "grid_template_rows": null,
       "height": null,
       "justify_content": null,
       "justify_items": null,
       "left": null,
       "margin": null,
       "max_height": null,
       "max_width": null,
       "min_height": null,
       "min_width": null,
       "object_fit": null,
       "object_position": null,
       "order": null,
       "overflow": null,
       "padding": null,
       "right": null,
       "top": null,
       "visibility": null,
       "width": null
      }
     },
     "bdd48651be654ef882b25efa0ee487cb": {
      "model_module": "@jupyter-widgets/controls",
      "model_module_version": "2.0.0",
      "model_name": "FloatProgressModel",
      "state": {
       "_dom_classes": [],
       "_model_module": "@jupyter-widgets/controls",
       "_model_module_version": "2.0.0",
       "_model_name": "FloatProgressModel",
       "_view_count": null,
       "_view_module": "@jupyter-widgets/controls",
       "_view_module_version": "2.0.0",
       "_view_name": "ProgressView",
       "bar_style": "success",
       "description": "",
       "description_allow_html": false,
       "layout": "IPY_MODEL_83f92ac9f20a4b90abc5d2e26bf6372a",
       "max": 762.0,
       "min": 0.0,
       "orientation": "horizontal",
       "style": "IPY_MODEL_156b12c8b7184e528e3d2141169905ae",
       "tabbable": null,
       "tooltip": null,
       "value": 762.0
      }
     },
     "c13e439c9fc941759b5df20fc948dfb7": {
      "model_module": "@jupyter-widgets/base",
      "model_module_version": "2.0.0",
      "model_name": "LayoutModel",
      "state": {
       "_model_module": "@jupyter-widgets/base",
       "_model_module_version": "2.0.0",
       "_model_name": "LayoutModel",
       "_view_count": null,
       "_view_module": "@jupyter-widgets/base",
       "_view_module_version": "2.0.0",
       "_view_name": "LayoutView",
       "align_content": null,
       "align_items": null,
       "align_self": null,
       "border_bottom": null,
       "border_left": null,
       "border_right": null,
       "border_top": null,
       "bottom": null,
       "display": null,
       "flex": null,
       "flex_flow": null,
       "grid_area": null,
       "grid_auto_columns": null,
       "grid_auto_flow": null,
       "grid_auto_rows": null,
       "grid_column": null,
       "grid_gap": null,
       "grid_row": null,
       "grid_template_areas": null,
       "grid_template_columns": null,
       "grid_template_rows": null,
       "height": null,
       "justify_content": null,
       "justify_items": null,
       "left": null,
       "margin": null,
       "max_height": null,
       "max_width": null,
       "min_height": null,
       "min_width": null,
       "object_fit": null,
       "object_position": null,
       "order": null,
       "overflow": null,
       "padding": null,
       "right": null,
       "top": null,
       "visibility": null,
       "width": null
      }
     },
     "c2cf7aed9b484123ac522bbbca678bd1": {
      "model_module": "@jupyter-widgets/controls",
      "model_module_version": "2.0.0",
      "model_name": "FloatProgressModel",
      "state": {
       "_dom_classes": [],
       "_model_module": "@jupyter-widgets/controls",
       "_model_module_version": "2.0.0",
       "_model_name": "FloatProgressModel",
       "_view_count": null,
       "_view_module": "@jupyter-widgets/controls",
       "_view_module_version": "2.0.0",
       "_view_name": "ProgressView",
       "bar_style": "success",
       "description": "",
       "description_allow_html": false,
       "layout": "IPY_MODEL_f3dcad9700e84b8e8ee9bc1ee4aea0b1",
       "max": 456318.0,
       "min": 0.0,
       "orientation": "horizontal",
       "style": "IPY_MODEL_86f26dcda44d434592b2a8bcf9946db6",
       "tabbable": null,
       "tooltip": null,
       "value": 456318.0
      }
     },
     "c3faf69bcce24077a73982c962c9a596": {
      "model_module": "@jupyter-widgets/controls",
      "model_module_version": "2.0.0",
      "model_name": "FloatProgressModel",
      "state": {
       "_dom_classes": [],
       "_model_module": "@jupyter-widgets/controls",
       "_model_module_version": "2.0.0",
       "_model_name": "FloatProgressModel",
       "_view_count": null,
       "_view_module": "@jupyter-widgets/controls",
       "_view_module_version": "2.0.0",
       "_view_name": "ProgressView",
       "bar_style": "success",
       "description": "",
       "description_allow_html": false,
       "layout": "IPY_MODEL_04b1b560a6cb4c1db9657c3677dd1658",
       "max": 124.0,
       "min": 0.0,
       "orientation": "horizontal",
       "style": "IPY_MODEL_e68d528c7ae147aea9f0150ee1d371a0",
       "tabbable": null,
       "tooltip": null,
       "value": 124.0
      }
     },
     "c8ba83d5f8ce49218fb3c597ddd53db0": {
      "model_module": "@jupyter-widgets/controls",
      "model_module_version": "2.0.0",
      "model_name": "HTMLStyleModel",
      "state": {
       "_model_module": "@jupyter-widgets/controls",
       "_model_module_version": "2.0.0",
       "_model_name": "HTMLStyleModel",
       "_view_count": null,
       "_view_module": "@jupyter-widgets/base",
       "_view_module_version": "2.0.0",
       "_view_name": "StyleView",
       "background": null,
       "description_width": "",
       "font_size": null,
       "text_color": null
      }
     },
     "cf641c6396c341fa8c49dd84e4e8bbc0": {
      "model_module": "@jupyter-widgets/base",
      "model_module_version": "2.0.0",
      "model_name": "LayoutModel",
      "state": {
       "_model_module": "@jupyter-widgets/base",
       "_model_module_version": "2.0.0",
       "_model_name": "LayoutModel",
       "_view_count": null,
       "_view_module": "@jupyter-widgets/base",
       "_view_module_version": "2.0.0",
       "_view_name": "LayoutView",
       "align_content": null,
       "align_items": null,
       "align_self": null,
       "border_bottom": null,
       "border_left": null,
       "border_right": null,
       "border_top": null,
       "bottom": null,
       "display": null,
       "flex": null,
       "flex_flow": null,
       "grid_area": null,
       "grid_auto_columns": null,
       "grid_auto_flow": null,
       "grid_auto_rows": null,
       "grid_column": null,
       "grid_gap": null,
       "grid_row": null,
       "grid_template_areas": null,
       "grid_template_columns": null,
       "grid_template_rows": null,
       "height": null,
       "justify_content": null,
       "justify_items": null,
       "left": null,
       "margin": null,
       "max_height": null,
       "max_width": null,
       "min_height": null,
       "min_width": null,
       "object_fit": null,
       "object_position": null,
       "order": null,
       "overflow": null,
       "padding": null,
       "right": null,
       "top": null,
       "visibility": null,
       "width": null
      }
     },
     "d765b523f71d4795a5056e4dc2fb4a37": {
      "model_module": "@jupyter-widgets/controls",
      "model_module_version": "2.0.0",
      "model_name": "HTMLStyleModel",
      "state": {
       "_model_module": "@jupyter-widgets/controls",
       "_model_module_version": "2.0.0",
       "_model_name": "HTMLStyleModel",
       "_view_count": null,
       "_view_module": "@jupyter-widgets/base",
       "_view_module_version": "2.0.0",
       "_view_name": "StyleView",
       "background": null,
       "description_width": "",
       "font_size": null,
       "text_color": null
      }
     },
     "db578962f47646d08e737460c9bf644b": {
      "model_module": "@jupyter-widgets/controls",
      "model_module_version": "2.0.0",
      "model_name": "HTMLStyleModel",
      "state": {
       "_model_module": "@jupyter-widgets/controls",
       "_model_module_version": "2.0.0",
       "_model_name": "HTMLStyleModel",
       "_view_count": null,
       "_view_module": "@jupyter-widgets/base",
       "_view_module_version": "2.0.0",
       "_view_name": "StyleView",
       "background": null,
       "description_width": "",
       "font_size": null,
       "text_color": null
      }
     },
     "df7e5c4dfdf9493cb5bbb1ece848866b": {
      "model_module": "@jupyter-widgets/controls",
      "model_module_version": "2.0.0",
      "model_name": "HTMLStyleModel",
      "state": {
       "_model_module": "@jupyter-widgets/controls",
       "_model_module_version": "2.0.0",
       "_model_name": "HTMLStyleModel",
       "_view_count": null,
       "_view_module": "@jupyter-widgets/base",
       "_view_module_version": "2.0.0",
       "_view_name": "StyleView",
       "background": null,
       "description_width": "",
       "font_size": null,
       "text_color": null
      }
     },
     "e68d528c7ae147aea9f0150ee1d371a0": {
      "model_module": "@jupyter-widgets/controls",
      "model_module_version": "2.0.0",
      "model_name": "ProgressStyleModel",
      "state": {
       "_model_module": "@jupyter-widgets/controls",
       "_model_module_version": "2.0.0",
       "_model_name": "ProgressStyleModel",
       "_view_count": null,
       "_view_module": "@jupyter-widgets/base",
       "_view_module_version": "2.0.0",
       "_view_name": "StyleView",
       "bar_color": null,
       "description_width": ""
      }
     },
     "eb4f4c513d8f461eb1b2f49791d30a59": {
      "model_module": "@jupyter-widgets/base",
      "model_module_version": "2.0.0",
      "model_name": "LayoutModel",
      "state": {
       "_model_module": "@jupyter-widgets/base",
       "_model_module_version": "2.0.0",
       "_model_name": "LayoutModel",
       "_view_count": null,
       "_view_module": "@jupyter-widgets/base",
       "_view_module_version": "2.0.0",
       "_view_name": "LayoutView",
       "align_content": null,
       "align_items": null,
       "align_self": null,
       "border_bottom": null,
       "border_left": null,
       "border_right": null,
       "border_top": null,
       "bottom": null,
       "display": null,
       "flex": null,
       "flex_flow": null,
       "grid_area": null,
       "grid_auto_columns": null,
       "grid_auto_flow": null,
       "grid_auto_rows": null,
       "grid_column": null,
       "grid_gap": null,
       "grid_row": null,
       "grid_template_areas": null,
       "grid_template_columns": null,
       "grid_template_rows": null,
       "height": null,
       "justify_content": null,
       "justify_items": null,
       "left": null,
       "margin": null,
       "max_height": null,
       "max_width": null,
       "min_height": null,
       "min_width": null,
       "object_fit": null,
       "object_position": null,
       "order": null,
       "overflow": null,
       "padding": null,
       "right": null,
       "top": null,
       "visibility": null,
       "width": null
      }
     },
     "ec7757a708994f949b37a48962e85273": {
      "model_module": "@jupyter-widgets/controls",
      "model_module_version": "2.0.0",
      "model_name": "ProgressStyleModel",
      "state": {
       "_model_module": "@jupyter-widgets/controls",
       "_model_module_version": "2.0.0",
       "_model_name": "ProgressStyleModel",
       "_view_count": null,
       "_view_module": "@jupyter-widgets/base",
       "_view_module_version": "2.0.0",
       "_view_name": "StyleView",
       "bar_color": null,
       "description_width": ""
      }
     },
     "ec8e20f9ad604376b1decf2dd6b5000d": {
      "model_module": "@jupyter-widgets/base",
      "model_module_version": "2.0.0",
      "model_name": "LayoutModel",
      "state": {
       "_model_module": "@jupyter-widgets/base",
       "_model_module_version": "2.0.0",
       "_model_name": "LayoutModel",
       "_view_count": null,
       "_view_module": "@jupyter-widgets/base",
       "_view_module_version": "2.0.0",
       "_view_name": "LayoutView",
       "align_content": null,
       "align_items": null,
       "align_self": null,
       "border_bottom": null,
       "border_left": null,
       "border_right": null,
       "border_top": null,
       "bottom": null,
       "display": null,
       "flex": null,
       "flex_flow": null,
       "grid_area": null,
       "grid_auto_columns": null,
       "grid_auto_flow": null,
       "grid_auto_rows": null,
       "grid_column": null,
       "grid_gap": null,
       "grid_row": null,
       "grid_template_areas": null,
       "grid_template_columns": null,
       "grid_template_rows": null,
       "height": null,
       "justify_content": null,
       "justify_items": null,
       "left": null,
       "margin": null,
       "max_height": null,
       "max_width": null,
       "min_height": null,
       "min_width": null,
       "object_fit": null,
       "object_position": null,
       "order": null,
       "overflow": null,
       "padding": null,
       "right": null,
       "top": null,
       "visibility": null,
       "width": null
      }
     },
     "f2a9c21c0b8d4c1882ffff93a17fcaf9": {
      "model_module": "@jupyter-widgets/base",
      "model_module_version": "2.0.0",
      "model_name": "LayoutModel",
      "state": {
       "_model_module": "@jupyter-widgets/base",
       "_model_module_version": "2.0.0",
       "_model_name": "LayoutModel",
       "_view_count": null,
       "_view_module": "@jupyter-widgets/base",
       "_view_module_version": "2.0.0",
       "_view_name": "LayoutView",
       "align_content": null,
       "align_items": null,
       "align_self": null,
       "border_bottom": null,
       "border_left": null,
       "border_right": null,
       "border_top": null,
       "bottom": null,
       "display": null,
       "flex": null,
       "flex_flow": null,
       "grid_area": null,
       "grid_auto_columns": null,
       "grid_auto_flow": null,
       "grid_auto_rows": null,
       "grid_column": null,
       "grid_gap": null,
       "grid_row": null,
       "grid_template_areas": null,
       "grid_template_columns": null,
       "grid_template_rows": null,
       "height": null,
       "justify_content": null,
       "justify_items": null,
       "left": null,
       "margin": null,
       "max_height": null,
       "max_width": null,
       "min_height": null,
       "min_width": null,
       "object_fit": null,
       "object_position": null,
       "order": null,
       "overflow": null,
       "padding": null,
       "right": null,
       "top": null,
       "visibility": null,
       "width": null
      }
     },
     "f31edc1f30524941beef3afbd33db72a": {
      "model_module": "@jupyter-widgets/controls",
      "model_module_version": "2.0.0",
      "model_name": "HTMLModel",
      "state": {
       "_dom_classes": [],
       "_model_module": "@jupyter-widgets/controls",
       "_model_module_version": "2.0.0",
       "_model_name": "HTMLModel",
       "_view_count": null,
       "_view_module": "@jupyter-widgets/controls",
       "_view_module_version": "2.0.0",
       "_view_name": "HTMLView",
       "description": "",
       "description_allow_html": false,
       "layout": "IPY_MODEL_cf641c6396c341fa8c49dd84e4e8bbc0",
       "placeholder": "​",
       "style": "IPY_MODEL_a85f184edb1a47d2b3073bf59f4d8a3f",
       "tabbable": null,
       "tooltip": null,
       "value": " 1.04M/1.04M [00:00&lt;00:00, 4.12MB/s]"
      }
     },
     "f3dcad9700e84b8e8ee9bc1ee4aea0b1": {
      "model_module": "@jupyter-widgets/base",
      "model_module_version": "2.0.0",
      "model_name": "LayoutModel",
      "state": {
       "_model_module": "@jupyter-widgets/base",
       "_model_module_version": "2.0.0",
       "_model_name": "LayoutModel",
       "_view_count": null,
       "_view_module": "@jupyter-widgets/base",
       "_view_module_version": "2.0.0",
       "_view_name": "LayoutView",
       "align_content": null,
       "align_items": null,
       "align_self": null,
       "border_bottom": null,
       "border_left": null,
       "border_right": null,
       "border_top": null,
       "bottom": null,
       "display": null,
       "flex": null,
       "flex_flow": null,
       "grid_area": null,
       "grid_auto_columns": null,
       "grid_auto_flow": null,
       "grid_auto_rows": null,
       "grid_column": null,
       "grid_gap": null,
       "grid_row": null,
       "grid_template_areas": null,
       "grid_template_columns": null,
       "grid_template_rows": null,
       "height": null,
       "justify_content": null,
       "justify_items": null,
       "left": null,
       "margin": null,
       "max_height": null,
       "max_width": null,
       "min_height": null,
       "min_width": null,
       "object_fit": null,
       "object_position": null,
       "order": null,
       "overflow": null,
       "padding": null,
       "right": null,
       "top": null,
       "visibility": null,
       "width": null
      }
     },
     "f9028b1f892d474e86e2628b9c68d3ac": {
      "model_module": "@jupyter-widgets/controls",
      "model_module_version": "2.0.0",
      "model_name": "ProgressStyleModel",
      "state": {
       "_model_module": "@jupyter-widgets/controls",
       "_model_module_version": "2.0.0",
       "_model_name": "ProgressStyleModel",
       "_view_count": null,
       "_view_module": "@jupyter-widgets/base",
       "_view_module_version": "2.0.0",
       "_view_name": "StyleView",
       "bar_color": null,
       "description_width": ""
      }
     },
     "fd7ee858c5934c27a87fc3cb43c9b3e2": {
      "model_module": "@jupyter-widgets/base",
      "model_module_version": "2.0.0",
      "model_name": "LayoutModel",
      "state": {
       "_model_module": "@jupyter-widgets/base",
       "_model_module_version": "2.0.0",
       "_model_name": "LayoutModel",
       "_view_count": null,
       "_view_module": "@jupyter-widgets/base",
       "_view_module_version": "2.0.0",
       "_view_name": "LayoutView",
       "align_content": null,
       "align_items": null,
       "align_self": null,
       "border_bottom": null,
       "border_left": null,
       "border_right": null,
       "border_top": null,
       "bottom": null,
       "display": null,
       "flex": null,
       "flex_flow": null,
       "grid_area": null,
       "grid_auto_columns": null,
       "grid_auto_flow": null,
       "grid_auto_rows": null,
       "grid_column": null,
       "grid_gap": null,
       "grid_row": null,
       "grid_template_areas": null,
       "grid_template_columns": null,
       "grid_template_rows": null,
       "height": null,
       "justify_content": null,
       "justify_items": null,
       "left": null,
       "margin": null,
       "max_height": null,
       "max_width": null,
       "min_height": null,
       "min_width": null,
       "object_fit": null,
       "object_position": null,
       "order": null,
       "overflow": null,
       "padding": null,
       "right": null,
       "top": null,
       "visibility": null,
       "width": null
      }
     },
     "fef58582bbff45a08f81f8353f20c39e": {
      "model_module": "@jupyter-widgets/controls",
      "model_module_version": "2.0.0",
      "model_name": "HTMLStyleModel",
      "state": {
       "_model_module": "@jupyter-widgets/controls",
       "_model_module_version": "2.0.0",
       "_model_name": "HTMLStyleModel",
       "_view_count": null,
       "_view_module": "@jupyter-widgets/base",
       "_view_module_version": "2.0.0",
       "_view_name": "StyleView",
       "background": null,
       "description_width": "",
       "font_size": null,
       "text_color": null
      }
     },
     "ff160a01ac5b47dea185b6957b66a67e": {
      "model_module": "@jupyter-widgets/controls",
      "model_module_version": "2.0.0",
      "model_name": "HTMLModel",
      "state": {
       "_dom_classes": [],
       "_model_module": "@jupyter-widgets/controls",
       "_model_module_version": "2.0.0",
       "_model_name": "HTMLModel",
       "_view_count": null,
       "_view_module": "@jupyter-widgets/controls",
       "_view_module_version": "2.0.0",
       "_view_name": "HTMLView",
       "description": "",
       "description_allow_html": false,
       "layout": "IPY_MODEL_629b84d2828f4a1891a80cffedc86249",
       "placeholder": "​",
       "style": "IPY_MODEL_3b18d86a818043738c0275d23020e411",
       "tabbable": null,
       "tooltip": null,
       "value": "vocab.json: 100%"
      }
     }
    },
    "version_major": 2,
    "version_minor": 0
   }
  }
 },
 "nbformat": 4,
 "nbformat_minor": 5
}

{
 "cells": [
  {
   "cell_type": "markdown",
   "id": "35cbc05a",
   "metadata": {
    "papermill": {
     "duration": 0.004444,
     "end_time": "2025-01-26T03:50:40.019855",
     "exception": false,
     "start_time": "2025-01-26T03:50:40.015411",
     "status": "completed"
    },
    "tags": []
   },
   "source": [
    "# Imports"
   ]
  },
  {
   "cell_type": "code",
   "execution_count": 1,
   "id": "b9de794c",
   "metadata": {
    "execution": {
     "iopub.execute_input": "2025-01-26T03:50:40.028058Z",
     "iopub.status.busy": "2025-01-26T03:50:40.027786Z",
     "iopub.status.idle": "2025-01-26T03:50:51.652586Z",
     "shell.execute_reply": "2025-01-26T03:50:51.651696Z"
    },
    "papermill": {
     "duration": 11.630497,
     "end_time": "2025-01-26T03:50:51.654192",
     "exception": false,
     "start_time": "2025-01-26T03:50:40.023695",
     "status": "completed"
    },
    "tags": []
   },
   "outputs": [],
   "source": [
    "import torchvision\n",
    "import torch\n",
    "import pandas as pd\n",
    "import numpy as np\n",
    "from torch.utils.data import Dataset, DataLoader\n",
    "from transformers import AutoTokenizer, AutoModelForCausalLM\n",
    "import torch.nn as nn\n",
    "import torch.optim as optim\n",
    "from sklearn.model_selection import train_test_split\n",
    "from tqdm import tqdm\n",
    "import cv2\n",
    "import json\n",
    "import matplotlib.pyplot as plt\n",
    "from nltk.translate.bleu_score import sentence_bleu, SmoothingFunction \n",
    "import os "
   ]
  },
  {
   "cell_type": "markdown",
   "id": "f7b50a62",
   "metadata": {
    "papermill": {
     "duration": 0.003451,
     "end_time": "2025-01-26T03:50:51.661810",
     "exception": false,
     "start_time": "2025-01-26T03:50:51.658359",
     "status": "completed"
    },
    "tags": []
   },
   "source": [
    "# Configuration"
   ]
  },
  {
   "cell_type": "code",
   "execution_count": 2,
   "id": "7fc1a749",
   "metadata": {
    "execution": {
     "iopub.execute_input": "2025-01-26T03:50:51.669873Z",
     "iopub.status.busy": "2025-01-26T03:50:51.669478Z",
     "iopub.status.idle": "2025-01-26T03:50:51.673937Z",
     "shell.execute_reply": "2025-01-26T03:50:51.673120Z"
    },
    "papermill": {
     "duration": 0.009903,
     "end_time": "2025-01-26T03:50:51.675288",
     "exception": false,
     "start_time": "2025-01-26T03:50:51.665385",
     "status": "completed"
    },
    "tags": []
   },
   "outputs": [],
   "source": [
    "class Config:\n",
    "    decoder_id = \"distilbert/distilgpt2\"\n",
    "    max_length = 128\n",
    "    batch_size = 8\n",
    "    num_frames = 10\n",
    "    img_size = 224\n",
    "    num_epochs = 100  \n",
    "    lr = 3e-5\n",
    "    csv_path = \"/kaggle/input/videocap/processed_data.csv\"  \n",
    "    grad_clip = 1.0\n",
    "    train_ratio = 0.7\n",
    "    val_ratio = 0.15\n",
    "    test_ratio = 0.15\n",
    "    seed = 42\n",
    "    model_save_path = \"video_qa_model.pth\"\n",
    "    results_file = \"training_results.json\"\n",
    "    patience = 10 \n",
    "    bleu_smoothing = SmoothingFunction().method1 \n",
    "    checkpoint_dir = \"checkpoints\" \n",
    "    save_every_epoch = False \n",
    "    final_model_path = \"final_video_qa_model.pth\" \n",
    "    best_checkpoint_path = os.path.join(\"checkpoints\", \"best_checkpoint.pth\") "
   ]
  },
  {
   "cell_type": "markdown",
   "id": "3fafdf0a",
   "metadata": {
    "papermill": {
     "duration": 0.003393,
     "end_time": "2025-01-26T03:50:51.682306",
     "exception": false,
     "start_time": "2025-01-26T03:50:51.678913",
     "status": "completed"
    },
    "tags": []
   },
   "source": [
    "# Dataset"
   ]
  },
  {
   "cell_type": "code",
   "execution_count": 3,
   "id": "eee1b440",
   "metadata": {
    "execution": {
     "iopub.execute_input": "2025-01-26T03:50:51.690127Z",
     "iopub.status.busy": "2025-01-26T03:50:51.689863Z",
     "iopub.status.idle": "2025-01-26T03:50:51.697525Z",
     "shell.execute_reply": "2025-01-26T03:50:51.696736Z"
    },
    "papermill": {
     "duration": 0.012953,
     "end_time": "2025-01-26T03:50:51.698795",
     "exception": false,
     "start_time": "2025-01-26T03:50:51.685842",
     "status": "completed"
    },
    "tags": []
   },
   "outputs": [],
   "source": [
    "# Cell 2: Dataset Class\n",
    "class VideoQADataset(Dataset):\n",
    "    def __init__(self, df, tokenizer):\n",
    "        self.df = df\n",
    "        self.tokenizer = tokenizer\n",
    "        self.tokenizer.pad_token = self.tokenizer.eos_token\n",
    "\n",
    "    def __len__(self):\n",
    "        return len(self.df)\n",
    "\n",
    "    def __getitem__(self, idx):\n",
    "        row = self.df.iloc[idx]\n",
    "        video_tensor = self._load_video_frames(row['path'])\n",
    "\n",
    "        text = f\"Question: {row['questions']} Answer: {row['refined_answer']}\"\n",
    "        encoding = self.tokenizer(\n",
    "            text,\n",
    "            max_length=Config.max_length-1,\n",
    "            padding='max_length',\n",
    "            truncation=True,\n",
    "            return_tensors='pt'\n",
    "        )\n",
    "\n",
    "        return {\n",
    "            'video': video_tensor,\n",
    "            'input_ids': encoding['input_ids'].squeeze(),\n",
    "            'attention_mask': encoding['attention_mask'].squeeze()\n",
    "        }\n",
    "\n",
    "    def _load_video_frames(self, video_path):\n",
    "        frames = []\n",
    "        try:\n",
    "            cap = cv2.VideoCapture(video_path)\n",
    "            while len(frames) < Config.num_frames:\n",
    "                ret, frame = cap.read()\n",
    "                if not ret: break\n",
    "                frame = cv2.cvtColor(frame, cv2.COLOR_BGR2RGB)\n",
    "                frame = cv2.resize(frame, (Config.img_size, Config.img_size))\n",
    "                frames.append(frame)\n",
    "            cap.release()\n",
    "        except Exception as e:\n",
    "            print(f\"Error loading {video_path}: {e}\")\n",
    "            # Handle corrupted video by returning black frames instead of crashing\n",
    "            return torch.zeros((Config.num_frames, 3, Config.img_size, Config.img_size))\n",
    "\n",
    "\n",
    "        if not frames:\n",
    "            frames = [np.zeros((Config.img_size, Config.img_size, 3), dtype=np.uint8)] * Config.num_frames\n",
    "\n",
    "        frames = frames[:Config.num_frames]\n",
    "        if len(frames) < Config.num_frames:\n",
    "            frames += [frames[-1]] * (Config.num_frames - len(frames))\n",
    "\n",
    "        video_tensor = torch.tensor(np.array(frames)).float() / 255.0\n",
    "        return video_tensor.permute(0, 3, 1, 2)\n"
   ]
  },
  {
   "cell_type": "markdown",
   "id": "2db16837",
   "metadata": {
    "papermill": {
     "duration": 0.003465,
     "end_time": "2025-01-26T03:50:51.705968",
     "exception": false,
     "start_time": "2025-01-26T03:50:51.702503",
     "status": "completed"
    },
    "tags": []
   },
   "source": [
    "# Model Architecture"
   ]
  },
  {
   "cell_type": "code",
   "execution_count": 4,
   "id": "fb42cd30",
   "metadata": {
    "execution": {
     "iopub.execute_input": "2025-01-26T03:50:51.713914Z",
     "iopub.status.busy": "2025-01-26T03:50:51.713693Z",
     "iopub.status.idle": "2025-01-26T03:50:51.721852Z",
     "shell.execute_reply": "2025-01-26T03:50:51.721132Z"
    },
    "papermill": {
     "duration": 0.013468,
     "end_time": "2025-01-26T03:50:51.723016",
     "exception": false,
     "start_time": "2025-01-26T03:50:51.709548",
     "status": "completed"
    },
    "tags": []
   },
   "outputs": [],
   "source": [
    "from transformers import AutoModel  # Add this import\n",
    "\n",
    "class VideoEncoder(nn.Module):\n",
    "    def __init__(self):\n",
    "        super().__init__()\n",
    "        # Load pretrained ViT model\n",
    "        self.vit = AutoModel.from_pretrained(\"google/vit-base-patch16-224-in21k\")\n",
    "        \n",
    "        # Freeze all ViT parameters\n",
    "        for param in self.vit.parameters():\n",
    "            param.requires_grad = False\n",
    "            \n",
    "        # Trainable temporal pooling\n",
    "        self.temporal_pool = nn.AdaptiveAvgPool1d(1)\n",
    "\n",
    "    def forward(self, x):\n",
    "        B, T, C, H, W = x.shape\n",
    "        x = x.view(B*T, C, H, W)\n",
    "        \n",
    "        # ViT-specific normalization (different from CNN)\n",
    "        mean = torch.tensor([0.5, 0.5, 0.5]).to(x.device).view(1, 3, 1, 1)\n",
    "        std = torch.tensor([0.5, 0.5, 0.5]).to(x.device).view(1, 3, 1, 1)\n",
    "        x = (x - mean) / std\n",
    "        \n",
    "        # Get features from frozen ViT\n",
    "        with torch.no_grad():\n",
    "            outputs = self.vit(pixel_values=x)\n",
    "            \n",
    "        # Extract CLS token (first token) for each frame\n",
    "        cls_tokens = outputs.last_hidden_state[:, 0, :]  # Shape (B*T, hidden_size)\n",
    "        \n",
    "        # Reshape and pool temporal dimension\n",
    "        features = cls_tokens.view(B, T, -1)  # (B, T, hidden_size)\n",
    "        return self.temporal_pool(features.permute(0, 2, 1)).squeeze()\n",
    "\n",
    "class VideoQAModel(nn.Module):\n",
    "    def __init__(self):\n",
    "        super().__init__()\n",
    "        self.encoder = VideoEncoder()\n",
    "        self.decoder = AutoModelForCausalLM.from_pretrained(Config.decoder_id)\n",
    "        \n",
    "        # Project ViT's 768D features to LM dimension\n",
    "        self.proj = nn.Linear(768, self.decoder.config.hidden_size)\n",
    "        \n",
    "    def forward(self, video, input_ids, attention_mask, labels=None):\n",
    "        video_features = self.encoder(video)\n",
    "        video_features = self.proj(video_features)\n",
    "\n",
    "        text_embeds = self.decoder.get_input_embeddings()(input_ids)\n",
    "        combined_embeds = torch.cat([video_features.unsqueeze(1), text_embeds], dim=1)\n",
    "        \n",
    "        combined_mask = torch.cat([\n",
    "            torch.ones(video.size(0), 1).to(attention_mask.device),\n",
    "            attention_mask\n",
    "        ], dim=1)\n",
    "\n",
    "        if labels is not None:\n",
    "            labels = torch.cat([\n",
    "                torch.full((input_ids.size(0), 1), -100,\n",
    "                          device=labels.device,\n",
    "                          dtype=torch.long),\n",
    "                input_ids\n",
    "            ], dim=1)\n",
    "\n",
    "        return self.decoder(\n",
    "            inputs_embeds=combined_embeds,\n",
    "            attention_mask=combined_mask,\n",
    "            labels=labels\n",
    "        )"
   ]
  },
  {
   "cell_type": "markdown",
   "id": "13e3ed78",
   "metadata": {
    "papermill": {
     "duration": 0.003341,
     "end_time": "2025-01-26T03:50:51.729981",
     "exception": false,
     "start_time": "2025-01-26T03:50:51.726640",
     "status": "completed"
    },
    "tags": []
   },
   "source": [
    "# Data Preparation"
   ]
  },
  {
   "cell_type": "code",
   "execution_count": 5,
   "id": "47000e87",
   "metadata": {
    "execution": {
     "iopub.execute_input": "2025-01-26T03:50:51.737723Z",
     "iopub.status.busy": "2025-01-26T03:50:51.737526Z",
     "iopub.status.idle": "2025-01-26T03:50:51.921206Z",
     "shell.execute_reply": "2025-01-26T03:50:51.920227Z"
    },
    "papermill": {
     "duration": 0.189095,
     "end_time": "2025-01-26T03:50:51.922563",
     "exception": false,
     "start_time": "2025-01-26T03:50:51.733468",
     "status": "completed"
    },
    "tags": []
   },
   "outputs": [
    {
     "name": "stdout",
     "output_type": "stream",
     "text": [
      "Dataset sizes:\n",
      "Train: 4766\n",
      "Validation: 1022\n",
      "Test: 1022\n"
     ]
    }
   ],
   "source": [
    "df = pd.read_csv(Config.csv_path)\n",
    "train_df, test_df = train_test_split(\n",
    "    df,\n",
    "    test_size=1-Config.train_ratio,\n",
    "    stratify=df['class'],\n",
    "    random_state=Config.seed\n",
    ")\n",
    "\n",
    "val_df, test_df = train_test_split(\n",
    "    test_df,\n",
    "    test_size=Config.test_ratio/(Config.test_ratio+Config.val_ratio),\n",
    "    stratify=test_df['class'],\n",
    "    random_state=Config.seed\n",
    ")\n",
    "\n",
    "print(f\"Dataset sizes:\")\n",
    "print(f\"Train: {len(train_df)}\")\n",
    "print(f\"Validation: {len(val_df)}\")\n",
    "print(f\"Test: {len(test_df)}\")"
   ]
  },
  {
   "cell_type": "markdown",
   "id": "eec5688a",
   "metadata": {
    "papermill": {
     "duration": 0.003717,
     "end_time": "2025-01-26T03:50:51.930280",
     "exception": false,
     "start_time": "2025-01-26T03:50:51.926563",
     "status": "completed"
    },
    "tags": []
   },
   "source": [
    "# Training Setup"
   ]
  },
  {
   "cell_type": "code",
   "execution_count": 6,
   "id": "8bc6285c",
   "metadata": {
    "execution": {
     "iopub.execute_input": "2025-01-26T03:50:51.939268Z",
     "iopub.status.busy": "2025-01-26T03:50:51.939030Z",
     "iopub.status.idle": "2025-01-26T03:51:10.934025Z",
     "shell.execute_reply": "2025-01-26T03:51:10.933027Z"
    },
    "papermill": {
     "duration": 19.001012,
     "end_time": "2025-01-26T03:51:10.935530",
     "exception": false,
     "start_time": "2025-01-26T03:50:51.934518",
     "status": "completed"
    },
    "tags": []
   },
   "outputs": [
    {
     "name": "stdout",
     "output_type": "stream",
     "text": [
      "\n",
      "Using device: cuda\n"
     ]
    },
    {
     "data": {
      "application/vnd.jupyter.widget-view+json": {
       "model_id": "3168e21567194fea9d85f8a356b9f5f3",
       "version_major": 2,
       "version_minor": 0
      },
      "text/plain": [
       "tokenizer_config.json:   0%|          | 0.00/26.0 [00:00<?, ?B/s]"
      ]
     },
     "metadata": {},
     "output_type": "display_data"
    },
    {
     "data": {
      "application/vnd.jupyter.widget-view+json": {
       "model_id": "d493c113de92459dbbea3c81328f7178",
       "version_major": 2,
       "version_minor": 0
      },
      "text/plain": [
       "config.json:   0%|          | 0.00/762 [00:00<?, ?B/s]"
      ]
     },
     "metadata": {},
     "output_type": "display_data"
    },
    {
     "data": {
      "application/vnd.jupyter.widget-view+json": {
       "model_id": "c40f69e9fa2a47198f5ba9aa10926b6b",
       "version_major": 2,
       "version_minor": 0
      },
      "text/plain": [
       "vocab.json:   0%|          | 0.00/1.04M [00:00<?, ?B/s]"
      ]
     },
     "metadata": {},
     "output_type": "display_data"
    },
    {
     "data": {
      "application/vnd.jupyter.widget-view+json": {
       "model_id": "025322c300334ebe8739d50c934f77d9",
       "version_major": 2,
       "version_minor": 0
      },
      "text/plain": [
       "merges.txt:   0%|          | 0.00/456k [00:00<?, ?B/s]"
      ]
     },
     "metadata": {},
     "output_type": "display_data"
    },
    {
     "data": {
      "application/vnd.jupyter.widget-view+json": {
       "model_id": "eabd8af01acc4c238a67a55202ed7fbd",
       "version_major": 2,
       "version_minor": 0
      },
      "text/plain": [
       "tokenizer.json:   0%|          | 0.00/1.36M [00:00<?, ?B/s]"
      ]
     },
     "metadata": {},
     "output_type": "display_data"
    },
    {
     "data": {
      "application/vnd.jupyter.widget-view+json": {
       "model_id": "f5b8838a988340108b8f78c5faf481b1",
       "version_major": 2,
       "version_minor": 0
      },
      "text/plain": [
       "config.json:   0%|          | 0.00/502 [00:00<?, ?B/s]"
      ]
     },
     "metadata": {},
     "output_type": "display_data"
    },
    {
     "data": {
      "application/vnd.jupyter.widget-view+json": {
       "model_id": "b0eb8677fa7b4a9aab01b9c1e538d3d0",
       "version_major": 2,
       "version_minor": 0
      },
      "text/plain": [
       "model.safetensors:   0%|          | 0.00/346M [00:00<?, ?B/s]"
      ]
     },
     "metadata": {},
     "output_type": "display_data"
    },
    {
     "data": {
      "application/vnd.jupyter.widget-view+json": {
       "model_id": "c8c1ad087d6c486d8df3707bdc853d05",
       "version_major": 2,
       "version_minor": 0
      },
      "text/plain": [
       "model.safetensors:   0%|          | 0.00/353M [00:00<?, ?B/s]"
      ]
     },
     "metadata": {},
     "output_type": "display_data"
    },
    {
     "data": {
      "application/vnd.jupyter.widget-view+json": {
       "model_id": "bc35db6c752741ed9c8bdb367ee83b2d",
       "version_major": 2,
       "version_minor": 0
      },
      "text/plain": [
       "generation_config.json:   0%|          | 0.00/124 [00:00<?, ?B/s]"
      ]
     },
     "metadata": {},
     "output_type": "display_data"
    },
    {
     "name": "stderr",
     "output_type": "stream",
     "text": [
      "<ipython-input-6-2e7f1552e229>:13: FutureWarning: `torch.cuda.amp.GradScaler(args...)` is deprecated. Please use `torch.amp.GradScaler('cuda', args...)` instead.\n",
      "  scaler = torch.cuda.amp.GradScaler()\n"
     ]
    }
   ],
   "source": [
    "device = torch.device('cuda' if torch.cuda.is_available() else 'cpu')\n",
    "print(f\"\\nUsing device: {device}\")\n",
    "\n",
    "tokenizer = AutoTokenizer.from_pretrained(Config.decoder_id)\n",
    "train_dataset = VideoQADataset(train_df, tokenizer)\n",
    "val_dataset = VideoQADataset(val_df, tokenizer)\n",
    "\n",
    "train_loader = DataLoader(train_dataset, batch_size=Config.batch_size, shuffle=True, num_workers=2) \n",
    "val_loader = DataLoader(val_dataset, batch_size=Config.batch_size, num_workers=2)\n",
    "\n",
    "model = VideoQAModel().to(device)\n",
    "optimizer = optim.AdamW(model.parameters(), lr=Config.lr)\n",
    "scaler = torch.cuda.amp.GradScaler()"
   ]
  },
  {
   "cell_type": "markdown",
   "id": "897a0ef1",
   "metadata": {
    "papermill": {
     "duration": 0.004544,
     "end_time": "2025-01-26T03:51:10.945630",
     "exception": false,
     "start_time": "2025-01-26T03:51:10.941086",
     "status": "completed"
    },
    "tags": []
   },
   "source": [
    "# Training "
   ]
  },
  {
   "cell_type": "code",
   "execution_count": 7,
   "id": "9cccd755",
   "metadata": {
    "execution": {
     "iopub.execute_input": "2025-01-26T03:51:10.956254Z",
     "iopub.status.busy": "2025-01-26T03:51:10.955695Z",
     "iopub.status.idle": "2025-01-26T09:34:31.632737Z",
     "shell.execute_reply": "2025-01-26T09:34:31.631612Z"
    },
    "papermill": {
     "duration": 20600.683949,
     "end_time": "2025-01-26T09:34:31.634276",
     "exception": false,
     "start_time": "2025-01-26T03:51:10.950327",
     "status": "completed"
    },
    "tags": []
   },
   "outputs": [
    {
     "name": "stderr",
     "output_type": "stream",
     "text": [
      "Epoch 1/100 [Training]:   0%|          | 0/596 [00:00<?, ?it/s]<ipython-input-7-718089307c58>:25: FutureWarning: `torch.cuda.amp.autocast(args...)` is deprecated. Please use `torch.amp.autocast('cuda', args...)` instead.\n",
      "  with torch.cuda.amp.autocast():\n",
      "Epoch 1/100 [Training]: 100%|██████████| 596/596 [06:49<00:00,  1.45it/s, loss=0.791]\n",
      "Epoch 1/100 [Validating]: 100%|██████████| 128/128 [01:26<00:00,  1.48it/s, loss=1.19]\n"
     ]
    },
    {
     "name": "stdout",
     "output_type": "stream",
     "text": [
      "\n",
      "Epoch 1: Validation loss improved, saved new best model to video_qa_model.pth and best checkpoint to checkpoints/best_checkpoint.pth\n",
      "\n",
      "Epoch 1 Summary:\n",
      "Train Loss: 1.1641\n",
      "Val Loss: 0.8329\n"
     ]
    },
    {
     "name": "stderr",
     "output_type": "stream",
     "text": [
      "Epoch 2/100 [Training]: 100%|██████████| 596/596 [06:47<00:00,  1.46it/s, loss=0.764]\n",
      "Epoch 2/100 [Validating]: 100%|██████████| 128/128 [01:26<00:00,  1.48it/s, loss=1.11]\n"
     ]
    },
    {
     "name": "stdout",
     "output_type": "stream",
     "text": [
      "\n",
      "Epoch 2: Validation loss improved, saved new best model to video_qa_model.pth and best checkpoint to checkpoints/best_checkpoint.pth\n",
      "\n",
      "Epoch 2 Summary:\n",
      "Train Loss: 0.8183\n",
      "Val Loss: 0.7645\n"
     ]
    },
    {
     "name": "stderr",
     "output_type": "stream",
     "text": [
      "Epoch 3/100 [Training]: 100%|██████████| 596/596 [06:46<00:00,  1.47it/s, loss=0.775]\n",
      "Epoch 3/100 [Validating]: 100%|██████████| 128/128 [01:25<00:00,  1.50it/s, loss=1.08]\n"
     ]
    },
    {
     "name": "stdout",
     "output_type": "stream",
     "text": [
      "\n",
      "Epoch 3: Validation loss improved, saved new best model to video_qa_model.pth and best checkpoint to checkpoints/best_checkpoint.pth\n",
      "\n",
      "Epoch 3 Summary:\n",
      "Train Loss: 0.7515\n",
      "Val Loss: 0.7303\n"
     ]
    },
    {
     "name": "stderr",
     "output_type": "stream",
     "text": [
      "Epoch 4/100 [Training]: 100%|██████████| 596/596 [06:49<00:00,  1.45it/s, loss=0.62]\n",
      "Epoch 4/100 [Validating]: 100%|██████████| 128/128 [01:28<00:00,  1.45it/s, loss=1.05]\n"
     ]
    },
    {
     "name": "stdout",
     "output_type": "stream",
     "text": [
      "\n",
      "Epoch 4: Validation loss improved, saved new best model to video_qa_model.pth and best checkpoint to checkpoints/best_checkpoint.pth\n",
      "\n",
      "Epoch 4 Summary:\n",
      "Train Loss: 0.7087\n",
      "Val Loss: 0.7087\n"
     ]
    },
    {
     "name": "stderr",
     "output_type": "stream",
     "text": [
      "Epoch 5/100 [Training]: 100%|██████████| 596/596 [06:49<00:00,  1.46it/s, loss=0.695]\n",
      "Epoch 5/100 [Validating]: 100%|██████████| 128/128 [01:26<00:00,  1.48it/s, loss=1.05]\n"
     ]
    },
    {
     "name": "stdout",
     "output_type": "stream",
     "text": [
      "\n",
      "Epoch 5: Validation loss improved, saved new best model to video_qa_model.pth and best checkpoint to checkpoints/best_checkpoint.pth\n",
      "\n",
      "Epoch 5 Summary:\n",
      "Train Loss: 0.6833\n",
      "Val Loss: 0.7001\n"
     ]
    },
    {
     "name": "stderr",
     "output_type": "stream",
     "text": [
      "Epoch 6/100 [Training]: 100%|██████████| 596/596 [06:50<00:00,  1.45it/s, loss=0.858]\n",
      "Epoch 6/100 [Validating]: 100%|██████████| 128/128 [01:26<00:00,  1.47it/s, loss=1.04]\n"
     ]
    },
    {
     "name": "stdout",
     "output_type": "stream",
     "text": [
      "\n",
      "Epoch 6: Validation loss improved, saved new best model to video_qa_model.pth and best checkpoint to checkpoints/best_checkpoint.pth\n",
      "\n",
      "Epoch 6 Summary:\n",
      "Train Loss: 0.6665\n",
      "Val Loss: 0.6900\n"
     ]
    },
    {
     "name": "stderr",
     "output_type": "stream",
     "text": [
      "Epoch 7/100 [Training]: 100%|██████████| 596/596 [06:50<00:00,  1.45it/s, loss=0.554]\n",
      "Epoch 7/100 [Validating]: 100%|██████████| 128/128 [01:26<00:00,  1.48it/s, loss=1.03]\n"
     ]
    },
    {
     "name": "stdout",
     "output_type": "stream",
     "text": [
      "\n",
      "Epoch 7: Validation loss improved, saved new best model to video_qa_model.pth and best checkpoint to checkpoints/best_checkpoint.pth\n",
      "\n",
      "Epoch 7 Summary:\n",
      "Train Loss: 0.6496\n",
      "Val Loss: 0.6806\n"
     ]
    },
    {
     "name": "stderr",
     "output_type": "stream",
     "text": [
      "Epoch 8/100 [Training]: 100%|██████████| 596/596 [06:47<00:00,  1.46it/s, loss=0.586]\n",
      "Epoch 8/100 [Validating]: 100%|██████████| 128/128 [01:26<00:00,  1.48it/s, loss=1.02]\n"
     ]
    },
    {
     "name": "stdout",
     "output_type": "stream",
     "text": [
      "\n",
      "Epoch 8: Validation loss improved, saved new best model to video_qa_model.pth and best checkpoint to checkpoints/best_checkpoint.pth\n",
      "\n",
      "Epoch 8 Summary:\n",
      "Train Loss: 0.6319\n",
      "Val Loss: 0.6770\n"
     ]
    },
    {
     "name": "stderr",
     "output_type": "stream",
     "text": [
      "Epoch 9/100 [Training]: 100%|██████████| 596/596 [06:49<00:00,  1.46it/s, loss=0.667]\n",
      "Epoch 9/100 [Validating]: 100%|██████████| 128/128 [01:27<00:00,  1.47it/s, loss=1.02]\n"
     ]
    },
    {
     "name": "stdout",
     "output_type": "stream",
     "text": [
      "\n",
      "Epoch 9: Validation loss improved, saved new best model to video_qa_model.pth and best checkpoint to checkpoints/best_checkpoint.pth\n",
      "\n",
      "Epoch 9 Summary:\n",
      "Train Loss: 0.6237\n",
      "Val Loss: 0.6729\n"
     ]
    },
    {
     "name": "stderr",
     "output_type": "stream",
     "text": [
      "Epoch 10/100 [Training]: 100%|██████████| 596/596 [06:48<00:00,  1.46it/s, loss=0.646]\n",
      "Epoch 10/100 [Validating]: 100%|██████████| 128/128 [01:26<00:00,  1.47it/s, loss=1]\n"
     ]
    },
    {
     "name": "stdout",
     "output_type": "stream",
     "text": [
      "\n",
      "Epoch 10: Validation loss improved, saved new best model to video_qa_model.pth and best checkpoint to checkpoints/best_checkpoint.pth\n",
      "\n",
      "Epoch 10 Summary:\n",
      "Train Loss: 0.6150\n",
      "Val Loss: 0.6698\n"
     ]
    },
    {
     "name": "stderr",
     "output_type": "stream",
     "text": [
      "Epoch 11/100 [Training]: 100%|██████████| 596/596 [06:49<00:00,  1.45it/s, loss=0.582]\n",
      "Epoch 11/100 [Validating]: 100%|██████████| 128/128 [01:26<00:00,  1.48it/s, loss=1.01]\n"
     ]
    },
    {
     "name": "stdout",
     "output_type": "stream",
     "text": [
      "\n",
      "Epoch 11: Validation loss improved, saved new best model to video_qa_model.pth and best checkpoint to checkpoints/best_checkpoint.pth\n",
      "\n",
      "Epoch 11 Summary:\n",
      "Train Loss: 0.6027\n",
      "Val Loss: 0.6652\n"
     ]
    },
    {
     "name": "stderr",
     "output_type": "stream",
     "text": [
      "Epoch 12/100 [Training]: 100%|██████████| 596/596 [06:50<00:00,  1.45it/s, loss=0.597]\n",
      "Epoch 12/100 [Validating]: 100%|██████████| 128/128 [01:27<00:00,  1.47it/s, loss=1]\n"
     ]
    },
    {
     "name": "stdout",
     "output_type": "stream",
     "text": [
      "\n",
      "Epoch 12: Validation loss improved, saved new best model to video_qa_model.pth and best checkpoint to checkpoints/best_checkpoint.pth\n",
      "\n",
      "Epoch 12 Summary:\n",
      "Train Loss: 0.5970\n",
      "Val Loss: 0.6623\n"
     ]
    },
    {
     "name": "stderr",
     "output_type": "stream",
     "text": [
      "Epoch 13/100 [Training]: 100%|██████████| 596/596 [06:49<00:00,  1.46it/s, loss=0.362]\n",
      "Epoch 13/100 [Validating]: 100%|██████████| 128/128 [01:27<00:00,  1.47it/s, loss=1.01]\n"
     ]
    },
    {
     "name": "stdout",
     "output_type": "stream",
     "text": [
      "\n",
      "Epoch 13: Validation loss did not improve (1/10)\n",
      "\n",
      "Epoch 13 Summary:\n",
      "Train Loss: 0.5920\n",
      "Val Loss: 0.6627\n"
     ]
    },
    {
     "name": "stderr",
     "output_type": "stream",
     "text": [
      "Epoch 14/100 [Training]: 100%|██████████| 596/596 [06:50<00:00,  1.45it/s, loss=0.47]\n",
      "Epoch 14/100 [Validating]: 100%|██████████| 128/128 [01:27<00:00,  1.46it/s, loss=0.999]\n"
     ]
    },
    {
     "name": "stdout",
     "output_type": "stream",
     "text": [
      "\n",
      "Epoch 14: Validation loss improved, saved new best model to video_qa_model.pth and best checkpoint to checkpoints/best_checkpoint.pth\n",
      "\n",
      "Epoch 14 Summary:\n",
      "Train Loss: 0.5848\n",
      "Val Loss: 0.6609\n"
     ]
    },
    {
     "name": "stderr",
     "output_type": "stream",
     "text": [
      "Epoch 15/100 [Training]: 100%|██████████| 596/596 [06:51<00:00,  1.45it/s, loss=0.539]\n",
      "Epoch 15/100 [Validating]: 100%|██████████| 128/128 [01:26<00:00,  1.48it/s, loss=1.01]\n"
     ]
    },
    {
     "name": "stdout",
     "output_type": "stream",
     "text": [
      "\n",
      "Epoch 15: Validation loss improved, saved new best model to video_qa_model.pth and best checkpoint to checkpoints/best_checkpoint.pth\n",
      "\n",
      "Epoch 15 Summary:\n",
      "Train Loss: 0.5791\n",
      "Val Loss: 0.6594\n"
     ]
    },
    {
     "name": "stderr",
     "output_type": "stream",
     "text": [
      "Epoch 16/100 [Training]: 100%|██████████| 596/596 [06:49<00:00,  1.45it/s, loss=0.438]\n",
      "Epoch 16/100 [Validating]: 100%|██████████| 128/128 [01:26<00:00,  1.48it/s, loss=1]\n"
     ]
    },
    {
     "name": "stdout",
     "output_type": "stream",
     "text": [
      "\n",
      "Epoch 16: Validation loss did not improve (1/10)\n",
      "\n",
      "Epoch 16 Summary:\n",
      "Train Loss: 0.5750\n",
      "Val Loss: 0.6595\n"
     ]
    },
    {
     "name": "stderr",
     "output_type": "stream",
     "text": [
      "Epoch 17/100 [Training]: 100%|██████████| 596/596 [06:52<00:00,  1.44it/s, loss=0.527]\n",
      "Epoch 17/100 [Validating]: 100%|██████████| 128/128 [01:26<00:00,  1.48it/s, loss=0.997]\n"
     ]
    },
    {
     "name": "stdout",
     "output_type": "stream",
     "text": [
      "\n",
      "Epoch 17: Validation loss improved, saved new best model to video_qa_model.pth and best checkpoint to checkpoints/best_checkpoint.pth\n",
      "\n",
      "Epoch 17 Summary:\n",
      "Train Loss: 0.5719\n",
      "Val Loss: 0.6589\n"
     ]
    },
    {
     "name": "stderr",
     "output_type": "stream",
     "text": [
      "Epoch 18/100 [Training]: 100%|██████████| 596/596 [06:54<00:00,  1.44it/s, loss=0.541]\n",
      "Epoch 18/100 [Validating]: 100%|██████████| 128/128 [01:27<00:00,  1.47it/s, loss=1]\n"
     ]
    },
    {
     "name": "stdout",
     "output_type": "stream",
     "text": [
      "\n",
      "Epoch 18: Validation loss did not improve (1/10)\n",
      "\n",
      "Epoch 18 Summary:\n",
      "Train Loss: 0.5658\n",
      "Val Loss: 0.6596\n"
     ]
    },
    {
     "name": "stderr",
     "output_type": "stream",
     "text": [
      "Epoch 19/100 [Training]: 100%|██████████| 596/596 [06:55<00:00,  1.44it/s, loss=0.435]\n",
      "Epoch 19/100 [Validating]: 100%|██████████| 128/128 [01:27<00:00,  1.46it/s, loss=1]\n"
     ]
    },
    {
     "name": "stdout",
     "output_type": "stream",
     "text": [
      "\n",
      "Epoch 19: Validation loss improved, saved new best model to video_qa_model.pth and best checkpoint to checkpoints/best_checkpoint.pth\n",
      "\n",
      "Epoch 19 Summary:\n",
      "Train Loss: 0.5645\n",
      "Val Loss: 0.6579\n"
     ]
    },
    {
     "name": "stderr",
     "output_type": "stream",
     "text": [
      "Epoch 20/100 [Training]: 100%|██████████| 596/596 [06:52<00:00,  1.45it/s, loss=0.458]\n",
      "Epoch 20/100 [Validating]: 100%|██████████| 128/128 [01:26<00:00,  1.47it/s, loss=1]\n"
     ]
    },
    {
     "name": "stdout",
     "output_type": "stream",
     "text": [
      "\n",
      "Epoch 20: Validation loss did not improve (1/10)\n",
      "\n",
      "Epoch 20 Summary:\n",
      "Train Loss: 0.5633\n",
      "Val Loss: 0.6588\n"
     ]
    },
    {
     "name": "stderr",
     "output_type": "stream",
     "text": [
      "Epoch 21/100 [Training]: 100%|██████████| 596/596 [06:53<00:00,  1.44it/s, loss=0.668]\n",
      "Epoch 21/100 [Validating]: 100%|██████████| 128/128 [01:28<00:00,  1.44it/s, loss=0.999]\n"
     ]
    },
    {
     "name": "stdout",
     "output_type": "stream",
     "text": [
      "\n",
      "Epoch 21: Validation loss did not improve (2/10)\n",
      "\n",
      "Epoch 21 Summary:\n",
      "Train Loss: 0.5605\n",
      "Val Loss: 0.6582\n"
     ]
    },
    {
     "name": "stderr",
     "output_type": "stream",
     "text": [
      "Epoch 22/100 [Training]: 100%|██████████| 596/596 [06:58<00:00,  1.43it/s, loss=0.609]\n",
      "Epoch 22/100 [Validating]: 100%|██████████| 128/128 [01:27<00:00,  1.46it/s, loss=0.997]\n"
     ]
    },
    {
     "name": "stdout",
     "output_type": "stream",
     "text": [
      "\n",
      "Epoch 22: Validation loss improved, saved new best model to video_qa_model.pth and best checkpoint to checkpoints/best_checkpoint.pth\n",
      "\n",
      "Epoch 22 Summary:\n",
      "Train Loss: 0.5590\n",
      "Val Loss: 0.6565\n"
     ]
    },
    {
     "name": "stderr",
     "output_type": "stream",
     "text": [
      "Epoch 23/100 [Training]: 100%|██████████| 596/596 [06:52<00:00,  1.44it/s, loss=0.556]\n",
      "Epoch 23/100 [Validating]: 100%|██████████| 128/128 [01:28<00:00,  1.44it/s, loss=0.999]\n"
     ]
    },
    {
     "name": "stdout",
     "output_type": "stream",
     "text": [
      "\n",
      "Epoch 23: Validation loss did not improve (1/10)\n",
      "\n",
      "Epoch 23 Summary:\n",
      "Train Loss: 0.5566\n",
      "Val Loss: 0.6580\n"
     ]
    },
    {
     "name": "stderr",
     "output_type": "stream",
     "text": [
      "Epoch 24/100 [Training]: 100%|██████████| 596/596 [06:53<00:00,  1.44it/s, loss=0.496]\n",
      "Epoch 24/100 [Validating]: 100%|██████████| 128/128 [01:28<00:00,  1.45it/s, loss=0.997]\n"
     ]
    },
    {
     "name": "stdout",
     "output_type": "stream",
     "text": [
      "\n",
      "Epoch 24: Validation loss improved, saved new best model to video_qa_model.pth and best checkpoint to checkpoints/best_checkpoint.pth\n",
      "\n",
      "Epoch 24 Summary:\n",
      "Train Loss: 0.5547\n",
      "Val Loss: 0.6562\n"
     ]
    },
    {
     "name": "stderr",
     "output_type": "stream",
     "text": [
      "Epoch 25/100 [Training]: 100%|██████████| 596/596 [06:55<00:00,  1.43it/s, loss=0.573]\n",
      "Epoch 25/100 [Validating]: 100%|██████████| 128/128 [01:27<00:00,  1.47it/s, loss=0.999]\n"
     ]
    },
    {
     "name": "stdout",
     "output_type": "stream",
     "text": [
      "\n",
      "Epoch 25: Validation loss improved, saved new best model to video_qa_model.pth and best checkpoint to checkpoints/best_checkpoint.pth\n",
      "\n",
      "Epoch 25 Summary:\n",
      "Train Loss: 0.5523\n",
      "Val Loss: 0.6561\n"
     ]
    },
    {
     "name": "stderr",
     "output_type": "stream",
     "text": [
      "Epoch 26/100 [Training]: 100%|██████████| 596/596 [06:54<00:00,  1.44it/s, loss=0.615]\n",
      "Epoch 26/100 [Validating]: 100%|██████████| 128/128 [01:28<00:00,  1.45it/s, loss=1]\n"
     ]
    },
    {
     "name": "stdout",
     "output_type": "stream",
     "text": [
      "\n",
      "Epoch 26: Validation loss did not improve (1/10)\n",
      "\n",
      "Epoch 26 Summary:\n",
      "Train Loss: 0.5501\n",
      "Val Loss: 0.6568\n"
     ]
    },
    {
     "name": "stderr",
     "output_type": "stream",
     "text": [
      "Epoch 27/100 [Training]: 100%|██████████| 596/596 [06:54<00:00,  1.44it/s, loss=0.595]\n",
      "Epoch 27/100 [Validating]: 100%|██████████| 128/128 [01:28<00:00,  1.44it/s, loss=0.996]\n"
     ]
    },
    {
     "name": "stdout",
     "output_type": "stream",
     "text": [
      "\n",
      "Epoch 27: Validation loss did not improve (2/10)\n",
      "\n",
      "Epoch 27 Summary:\n",
      "Train Loss: 0.5480\n",
      "Val Loss: 0.6565\n"
     ]
    },
    {
     "name": "stderr",
     "output_type": "stream",
     "text": [
      "Epoch 28/100 [Training]: 100%|██████████| 596/596 [06:55<00:00,  1.44it/s, loss=0.611]\n",
      "Epoch 28/100 [Validating]: 100%|██████████| 128/128 [01:28<00:00,  1.45it/s, loss=0.996]\n"
     ]
    },
    {
     "name": "stdout",
     "output_type": "stream",
     "text": [
      "\n",
      "Epoch 28: Validation loss improved, saved new best model to video_qa_model.pth and best checkpoint to checkpoints/best_checkpoint.pth\n",
      "\n",
      "Epoch 28 Summary:\n",
      "Train Loss: 0.5453\n",
      "Val Loss: 0.6555\n"
     ]
    },
    {
     "name": "stderr",
     "output_type": "stream",
     "text": [
      "Epoch 29/100 [Training]: 100%|██████████| 596/596 [06:56<00:00,  1.43it/s, loss=0.642]\n",
      "Epoch 29/100 [Validating]: 100%|██████████| 128/128 [01:27<00:00,  1.46it/s, loss=1]\n"
     ]
    },
    {
     "name": "stdout",
     "output_type": "stream",
     "text": [
      "\n",
      "Epoch 29: Validation loss did not improve (1/10)\n",
      "\n",
      "Epoch 29 Summary:\n",
      "Train Loss: 0.5431\n",
      "Val Loss: 0.6568\n"
     ]
    },
    {
     "name": "stderr",
     "output_type": "stream",
     "text": [
      "Epoch 30/100 [Training]: 100%|██████████| 596/596 [06:56<00:00,  1.43it/s, loss=0.52]\n",
      "Epoch 30/100 [Validating]: 100%|██████████| 128/128 [01:27<00:00,  1.47it/s, loss=0.993]\n"
     ]
    },
    {
     "name": "stdout",
     "output_type": "stream",
     "text": [
      "\n",
      "Epoch 30: Validation loss improved, saved new best model to video_qa_model.pth and best checkpoint to checkpoints/best_checkpoint.pth\n",
      "\n",
      "Epoch 30 Summary:\n",
      "Train Loss: 0.5407\n",
      "Val Loss: 0.6547\n"
     ]
    },
    {
     "name": "stderr",
     "output_type": "stream",
     "text": [
      "Epoch 31/100 [Training]: 100%|██████████| 596/596 [06:57<00:00,  1.43it/s, loss=0.569]\n",
      "Epoch 31/100 [Validating]: 100%|██████████| 128/128 [01:27<00:00,  1.46it/s, loss=0.997]\n"
     ]
    },
    {
     "name": "stdout",
     "output_type": "stream",
     "text": [
      "\n",
      "Epoch 31: Validation loss improved, saved new best model to video_qa_model.pth and best checkpoint to checkpoints/best_checkpoint.pth\n",
      "\n",
      "Epoch 31 Summary:\n",
      "Train Loss: 0.5377\n",
      "Val Loss: 0.6535\n"
     ]
    },
    {
     "name": "stderr",
     "output_type": "stream",
     "text": [
      "Epoch 32/100 [Training]: 100%|██████████| 596/596 [06:57<00:00,  1.43it/s, loss=0.555]\n",
      "Epoch 32/100 [Validating]: 100%|██████████| 128/128 [01:27<00:00,  1.46it/s, loss=1]\n"
     ]
    },
    {
     "name": "stdout",
     "output_type": "stream",
     "text": [
      "\n",
      "Epoch 32: Validation loss did not improve (1/10)\n",
      "\n",
      "Epoch 32 Summary:\n",
      "Train Loss: 0.5364\n",
      "Val Loss: 0.6547\n"
     ]
    },
    {
     "name": "stderr",
     "output_type": "stream",
     "text": [
      "Epoch 33/100 [Training]: 100%|██████████| 596/596 [06:57<00:00,  1.43it/s, loss=0.504]\n",
      "Epoch 33/100 [Validating]: 100%|██████████| 128/128 [01:29<00:00,  1.43it/s, loss=0.997]\n"
     ]
    },
    {
     "name": "stdout",
     "output_type": "stream",
     "text": [
      "\n",
      "Epoch 33: Validation loss did not improve (2/10)\n",
      "\n",
      "Epoch 33 Summary:\n",
      "Train Loss: 0.5336\n",
      "Val Loss: 0.6545\n"
     ]
    },
    {
     "name": "stderr",
     "output_type": "stream",
     "text": [
      "Epoch 34/100 [Training]: 100%|██████████| 596/596 [06:58<00:00,  1.42it/s, loss=0.593]\n",
      "Epoch 34/100 [Validating]: 100%|██████████| 128/128 [01:28<00:00,  1.45it/s, loss=0.996]\n"
     ]
    },
    {
     "name": "stdout",
     "output_type": "stream",
     "text": [
      "\n",
      "Epoch 34: Validation loss did not improve (3/10)\n",
      "\n",
      "Epoch 34 Summary:\n",
      "Train Loss: 0.5309\n",
      "Val Loss: 0.6565\n"
     ]
    },
    {
     "name": "stderr",
     "output_type": "stream",
     "text": [
      "Epoch 35/100 [Training]: 100%|██████████| 596/596 [06:55<00:00,  1.43it/s, loss=0.565]\n",
      "Epoch 35/100 [Validating]: 100%|██████████| 128/128 [01:28<00:00,  1.45it/s, loss=1]\n"
     ]
    },
    {
     "name": "stdout",
     "output_type": "stream",
     "text": [
      "\n",
      "Epoch 35: Validation loss did not improve (4/10)\n",
      "\n",
      "Epoch 35 Summary:\n",
      "Train Loss: 0.5303\n",
      "Val Loss: 0.6538\n"
     ]
    },
    {
     "name": "stderr",
     "output_type": "stream",
     "text": [
      "Epoch 36/100 [Training]: 100%|██████████| 596/596 [06:51<00:00,  1.45it/s, loss=0.662]\n",
      "Epoch 36/100 [Validating]: 100%|██████████| 128/128 [01:26<00:00,  1.48it/s, loss=0.997]\n"
     ]
    },
    {
     "name": "stdout",
     "output_type": "stream",
     "text": [
      "\n",
      "Epoch 36: Validation loss did not improve (5/10)\n",
      "\n",
      "Epoch 36 Summary:\n",
      "Train Loss: 0.5279\n",
      "Val Loss: 0.6537\n"
     ]
    },
    {
     "name": "stderr",
     "output_type": "stream",
     "text": [
      "Epoch 37/100 [Training]: 100%|██████████| 596/596 [06:51<00:00,  1.45it/s, loss=0.728]\n",
      "Epoch 37/100 [Validating]: 100%|██████████| 128/128 [01:27<00:00,  1.47it/s, loss=1]\n"
     ]
    },
    {
     "name": "stdout",
     "output_type": "stream",
     "text": [
      "\n",
      "Epoch 37: Validation loss did not improve (6/10)\n",
      "\n",
      "Epoch 37 Summary:\n",
      "Train Loss: 0.5248\n",
      "Val Loss: 0.6549\n"
     ]
    },
    {
     "name": "stderr",
     "output_type": "stream",
     "text": [
      "Epoch 38/100 [Training]: 100%|██████████| 596/596 [06:52<00:00,  1.45it/s, loss=0.382]\n",
      "Epoch 38/100 [Validating]: 100%|██████████| 128/128 [01:27<00:00,  1.47it/s, loss=1]\n"
     ]
    },
    {
     "name": "stdout",
     "output_type": "stream",
     "text": [
      "\n",
      "Epoch 38: Validation loss did not improve (7/10)\n",
      "\n",
      "Epoch 38 Summary:\n",
      "Train Loss: 0.5231\n",
      "Val Loss: 0.6563\n"
     ]
    },
    {
     "name": "stderr",
     "output_type": "stream",
     "text": [
      "Epoch 39/100 [Training]: 100%|██████████| 596/596 [06:52<00:00,  1.44it/s, loss=0.48]\n",
      "Epoch 39/100 [Validating]: 100%|██████████| 128/128 [01:27<00:00,  1.47it/s, loss=1]\n"
     ]
    },
    {
     "name": "stdout",
     "output_type": "stream",
     "text": [
      "\n",
      "Epoch 39: Validation loss did not improve (8/10)\n",
      "\n",
      "Epoch 39 Summary:\n",
      "Train Loss: 0.5212\n",
      "Val Loss: 0.6571\n"
     ]
    },
    {
     "name": "stderr",
     "output_type": "stream",
     "text": [
      "Epoch 40/100 [Training]: 100%|██████████| 596/596 [06:52<00:00,  1.45it/s, loss=0.529]\n",
      "Epoch 40/100 [Validating]: 100%|██████████| 128/128 [01:27<00:00,  1.46it/s, loss=1]\n"
     ]
    },
    {
     "name": "stdout",
     "output_type": "stream",
     "text": [
      "\n",
      "Epoch 40: Validation loss did not improve (9/10)\n",
      "\n",
      "Epoch 40 Summary:\n",
      "Train Loss: 0.5188\n",
      "Val Loss: 0.6548\n"
     ]
    },
    {
     "name": "stderr",
     "output_type": "stream",
     "text": [
      "Epoch 41/100 [Training]: 100%|██████████| 596/596 [06:52<00:00,  1.44it/s, loss=0.483]\n",
      "Epoch 41/100 [Validating]: 100%|██████████| 128/128 [01:27<00:00,  1.47it/s, loss=1]"
     ]
    },
    {
     "name": "stdout",
     "output_type": "stream",
     "text": [
      "\n",
      "Epoch 41: Validation loss did not improve (10/10)\n",
      "Early stopping triggered after 10 epochs without improvement.\n"
     ]
    },
    {
     "name": "stderr",
     "output_type": "stream",
     "text": [
      "\n"
     ]
    }
   ],
   "source": [
    "best_val_loss = float('inf')\n",
    "training_log = []\n",
    "epochs_no_improve = 0 # Counter for early stopping\n",
    "\n",
    "train_losses = [] \n",
    "val_losses = []\n",
    "\n",
    "# Create checkpoint directory if it doesn't exist\n",
    "os.makedirs(Config.checkpoint_dir, exist_ok=True)\n",
    "\n",
    "for epoch in range(Config.num_epochs):\n",
    "    # Training\n",
    "    model.train()\n",
    "    train_loss = 0\n",
    "    progress_bar = tqdm(train_loader, desc=f\"Epoch {epoch+1}/{Config.num_epochs} [Training]\")\n",
    "\n",
    "    for batch in progress_bar:\n",
    "        optimizer.zero_grad()\n",
    "\n",
    "        video = batch['video'].to(device)\n",
    "        input_ids = batch['input_ids'].to(device)\n",
    "        attention_mask = batch['attention_mask'].to(device)\n",
    "\n",
    "\n",
    "        with torch.cuda.amp.autocast():\n",
    "            outputs = model(video, input_ids, attention_mask, labels=input_ids)\n",
    "            loss = outputs.loss\n",
    "\n",
    "        scaler.scale(loss).backward()\n",
    "        torch.nn.utils.clip_grad_norm_(model.parameters(), Config.grad_clip)\n",
    "        scaler.step(optimizer)\n",
    "        scaler.update()\n",
    "\n",
    "        train_loss += loss.item()\n",
    "        progress_bar.set_postfix({'loss': loss.item()})\n",
    "\n",
    "    avg_train_loss = train_loss / len(train_loader)\n",
    "    train_losses.append(avg_train_loss) \n",
    "\n",
    "\n",
    "    # Validation\n",
    "    model.eval()\n",
    "    val_loss = 0\n",
    "    with torch.no_grad():\n",
    "        val_progress_bar = tqdm(val_loader, desc=f\"Epoch {epoch+1}/{Config.num_epochs} [Validating]\")\n",
    "        for batch in val_progress_bar:\n",
    "            video = batch['video'].to(device)\n",
    "            input_ids = batch['input_ids'].to(device)\n",
    "            attention_mask = batch['attention_mask'].to(device)\n",
    "            outputs = model(video, input_ids, attention_mask, labels=input_ids) \n",
    "            val_loss += outputs.loss.item()\n",
    "            val_progress_bar.set_postfix({'loss': outputs.loss.item()})\n",
    "\n",
    "    avg_val_loss = val_loss / len(val_loader)\n",
    "    val_losses.append(avg_val_loss) \n",
    "\n",
    "\n",
    "    # Early stopping check and Best Checkpoint Saving\n",
    "    if avg_val_loss < best_val_loss:\n",
    "        best_val_loss = avg_val_loss\n",
    "        torch.save(model.state_dict(), Config.model_save_path) # Save best model based on validation loss\n",
    "\n",
    "        # Save best checkpoint\n",
    "        checkpoint_path = Config.best_checkpoint_path\n",
    "        torch.save({\n",
    "            'epoch': epoch+1,\n",
    "            'model_state_dict': model.state_dict(),\n",
    "            'optimizer_state_dict': optimizer.state_dict(),\n",
    "            'train_loss': avg_train_loss,\n",
    "            'val_loss': avg_val_loss,\n",
    "            'best_val_loss': best_val_loss\n",
    "        }, checkpoint_path)\n",
    "        print(f\"\\nEpoch {epoch+1}: Validation loss improved, saved new best model to {Config.model_save_path} and best checkpoint to {checkpoint_path}\")\n",
    "\n",
    "        epochs_no_improve = 0 \n",
    "    else:\n",
    "        epochs_no_improve += 1\n",
    "        print(f\"\\nEpoch {epoch+1}: Validation loss did not improve ({epochs_no_improve}/{Config.patience})\")\n",
    "        if epochs_no_improve >= Config.patience:\n",
    "            print(f\"Early stopping triggered after {Config.patience} epochs without improvement.\")\n",
    "            break # Stop training loop\n",
    "\n",
    "    # Log metrics\n",
    "    epoch_log = {\n",
    "        'epoch': epoch+1,\n",
    "        'train_loss': avg_train_loss,\n",
    "        'val_loss': avg_val_loss\n",
    "    }\n",
    "    training_log.append(epoch_log)\n",
    "\n",
    "    print(f\"\\nEpoch {epoch+1} Summary:\")\n",
    "    print(f\"Train Loss: {epoch_log['train_loss']:.4f}\")\n",
    "    print(f\"Val Loss: {epoch_log['val_loss']:.4f}\")"
   ]
  },
  {
   "cell_type": "markdown",
   "id": "572c0b8f",
   "metadata": {
    "papermill": {
     "duration": 2.935965,
     "end_time": "2025-01-26T09:34:37.419439",
     "exception": false,
     "start_time": "2025-01-26T09:34:34.483474",
     "status": "completed"
    },
    "tags": []
   },
   "source": [
    "# Model Saving"
   ]
  },
  {
   "cell_type": "code",
   "execution_count": 8,
   "id": "d7719397",
   "metadata": {
    "execution": {
     "iopub.execute_input": "2025-01-26T09:34:43.027597Z",
     "iopub.status.busy": "2025-01-26T09:34:43.027280Z",
     "iopub.status.idle": "2025-01-26T09:34:43.961591Z",
     "shell.execute_reply": "2025-01-26T09:34:43.960597Z"
    },
    "papermill": {
     "duration": 3.746196,
     "end_time": "2025-01-26T09:34:43.962822",
     "exception": false,
     "start_time": "2025-01-26T09:34:40.216626",
     "status": "completed"
    },
    "tags": []
   },
   "outputs": [
    {
     "name": "stdout",
     "output_type": "stream",
     "text": [
      "Final model saved to final_video_qa_model.pth\n"
     ]
    }
   ],
   "source": [
    "torch.save(model.state_dict(), Config.final_model_path)\n",
    "print(f\"Final model saved to {Config.final_model_path}\") "
   ]
  },
  {
   "cell_type": "markdown",
   "id": "6f2894eb",
   "metadata": {
    "papermill": {
     "duration": 2.937568,
     "end_time": "2025-01-26T09:34:49.764982",
     "exception": false,
     "start_time": "2025-01-26T09:34:46.827414",
     "status": "completed"
    },
    "tags": []
   },
   "source": [
    "# Loss Graph"
   ]
  },
  {
   "cell_type": "code",
   "execution_count": 9,
   "id": "77f5ea3b",
   "metadata": {
    "execution": {
     "iopub.execute_input": "2025-01-26T09:34:55.405259Z",
     "iopub.status.busy": "2025-01-26T09:34:55.404847Z",
     "iopub.status.idle": "2025-01-26T09:34:55.803107Z",
     "shell.execute_reply": "2025-01-26T09:34:55.802179Z"
    },
    "papermill": {
     "duration": 3.236692,
     "end_time": "2025-01-26T09:34:55.804544",
     "exception": false,
     "start_time": "2025-01-26T09:34:52.567852",
     "status": "completed"
    },
    "tags": []
   },
   "outputs": [
    {
     "data": {
      "image/png": "[encoded data removed]",
      "text/plain": [
       "<Figure size 1000x600 with 1 Axes>"
      ]
     },
     "metadata": {},
     "output_type": "display_data"
    }
   ],
   "source": [
    "plt.figure(figsize=(10, 6))\n",
    "plt.plot(train_losses, label='Training Loss')\n",
    "plt.plot(val_losses, label='Validation Loss')\n",
    "plt.xlabel('Epochs')\n",
    "plt.ylabel('Loss')\n",
    "plt.title('Training and Validation Loss Curve')\n",
    "plt.legend()\n",
    "plt.grid(True)\n",
    "plt.savefig('loss_graph.png')\n",
    "plt.show()"
   ]
  },
  {
   "cell_type": "markdown",
   "id": "cc4bcf96",
   "metadata": {
    "papermill": {
     "duration": 2.933734,
     "end_time": "2025-01-26T09:35:01.553747",
     "exception": false,
     "start_time": "2025-01-26T09:34:58.620013",
     "status": "completed"
    },
    "tags": []
   },
   "source": [
    "# Testing and Evaluation"
   ]
  },
  {
   "cell_type": "code",
   "execution_count": 10,
   "id": "456c358f",
   "metadata": {
    "execution": {
     "iopub.execute_input": "2025-01-26T09:35:07.179444Z",
     "iopub.status.busy": "2025-01-26T09:35:07.179101Z",
     "iopub.status.idle": "2025-01-26T09:37:43.718886Z",
     "shell.execute_reply": "2025-01-26T09:37:43.716650Z"
    },
    "papermill": {
     "duration": 159.334524,
     "end_time": "2025-01-26T09:37:43.720176",
     "exception": false,
     "start_time": "2025-01-26T09:35:04.385652",
     "status": "completed"
    },
    "tags": []
   },
   "outputs": [
    {
     "name": "stderr",
     "output_type": "stream",
     "text": [
      "<ipython-input-10-8e62642c04b3>:1: FutureWarning: You are using `torch.load` with `weights_only=False` (the current default value), which uses the default pickle module implicitly. It is possible to construct malicious pickle data which will execute arbitrary code during unpickling (See https://github.com/pytorch/pytorch/blob/main/SECURITY.md#untrusted-models for more details). In a future release, the default value for `weights_only` will be flipped to `True`. This limits the functions that could be executed during unpickling. Arbitrary objects will no longer be allowed to be loaded via this mode unless they are explicitly allowlisted by the user via `torch.serialization.add_safe_globals`. We recommend you start setting `weights_only=True` for any use case where you don't have full control of the loaded file. Please open an issue on GitHub for any issues related to this experimental feature.\n",
      "  model.load_state_dict(torch.load(Config.model_save_path))\n",
      "Testing: 100%|██████████| 128/128 [02:36<00:00,  1.22s/it]"
     ]
    },
    {
     "name": "stdout",
     "output_type": "stream",
     "text": [
      "\n",
      "Test Results:\n",
      "Loss: 0.6574\n",
      "BLEU Score: 0.1900\n",
      "\n",
      "Example Predictions:\n",
      "\n",
      "Question: How many are dancing in the video?\n",
      "Predicted: Question: What many people dancing in the video? Answer: In video showcases a individuals performing in the Maruni dance performance,\n",
      "Actual: The video showcases six dancers participating in the Maruni dance performance.\n",
      "\n",
      "Question: What type of area is depicted?\n",
      "Predicted: Question: What is of area is depicted? Answer: The area depicted in the video frames is a traditional space or, likely a cultural or a public cultural for cultural performances, as indicated by the presence of a instruments andsuchally the the Dhyabrung drum) and the dressed in traditional Limbu attire,\n",
      "Actual: The area depicted in the video frames is a performing arts area, likely a stage or a designated space for cultural performances, as evidenced by the presence of musical instruments (specifically, the Chyabrung drum) and performers dressed in traditional Limbu attire.\n",
      "\n",
      "Question: Where is the video set?\n",
      "Predicted: Question: What are the video set? Answer: The video is set in a traditional Dh space, likely a a and, enhance it location significant setting of theime Na. The\n",
      "Actual: The video is set in a traditional performance space, likely featuring red curtains to indicate the culturally significant nature of Dhime performances.\n",
      "\n",
      "Saved full results to training_results.json\n",
      "Loss graph saved to loss_graph.png\n",
      "Best checkpoint saved in checkpoints/best_checkpoint.pth\n",
      "Best model saved to video_qa_model.pth\n",
      "Final model saved to final_video_qa_model.pth\n"
     ]
    },
    {
     "name": "stderr",
     "output_type": "stream",
     "text": [
      "\n"
     ]
    }
   ],
   "source": [
    "model.load_state_dict(torch.load(Config.model_save_path))\n",
    "model.eval()\n",
    "\n",
    "test_dataset = VideoQADataset(test_df, tokenizer)\n",
    "test_loader = DataLoader(test_dataset, batch_size=Config.batch_size)\n",
    "\n",
    "all_preds = []\n",
    "all_labels = []\n",
    "test_loss = 0\n",
    "examples = []\n",
    "bleu_scores = [] \n",
    "\n",
    "with torch.no_grad():\n",
    "    test_progress_bar = tqdm(test_loader, desc=\"Testing\")\n",
    "    for batch in test_progress_bar:\n",
    "        video = batch['video'].to(device)\n",
    "        input_ids = batch['input_ids'].to(device)\n",
    "        attention_mask = batch['attention_mask'].to(device)\n",
    "        labels = input_ids \n",
    "\n",
    "        outputs = model(video, input_ids, attention_mask, labels=labels)\n",
    "        test_loss += outputs.loss.item()\n",
    "\n",
    "        preds = torch.argmax(outputs.logits, dim=-1)\n",
    "        predicted_tokens = preds.cpu().numpy()\n",
    "        label_tokens = labels.cpu().numpy()\n",
    "\n",
    "\n",
    "        # Decode tokens and calculate BLEU\n",
    "        for i in range(len(predicted_tokens)):\n",
    "            predicted_answer = tokenizer.decode(predicted_tokens[i], skip_special_tokens=True)\n",
    "            actual_answer = test_df.iloc[test_progress_bar.n * Config.batch_size + i]['refined_answer']\n",
    "\n",
    "            # Calculate BLEU score for each sample\n",
    "            try: \n",
    "                bleu = sentence_bleu([actual_answer.split()], predicted_answer.split(), smoothing_function=Config.bleu_smoothing) # Use smoothing from config\n",
    "                bleu_scores.append(bleu)\n",
    "            except Exception as e:\n",
    "                print(f\"Error calculating BLEU score for example: {e}\")\n",
    "                bleu_scores.append(0.0) \n",
    "\n",
    "        all_preds.extend(predicted_tokens)\n",
    "        all_labels.extend(label_tokens)\n",
    "\n",
    "\n",
    "        # Save first 3 examples\n",
    "        if len(examples) < 3 and test_progress_bar.n < 3 :\n",
    "            for i in range(min(3, len(video))):\n",
    "                examples.append({\n",
    "                    'question': test_df.iloc[test_progress_bar.n * Config.batch_size + i]['questions'],\n",
    "                    'predicted': tokenizer.decode(predicted_tokens[i], skip_special_tokens=True),\n",
    "                    'actual': test_df.iloc[test_progress_bar.n * Config.batch_size + i]['refined_answer']\n",
    "                })\n",
    "\n",
    "# Calculate average BLEU score\n",
    "average_bleu = np.mean(bleu_scores) if bleu_scores else 0.0\n",
    "\n",
    "\n",
    "print(\"\\nTest Results:\")\n",
    "print(f\"Loss: {test_loss/len(test_loader):.4f}\")\n",
    "print(f\"BLEU Score: {average_bleu:.4f}\") \n",
    "\n",
    "\n",
    "print(\"\\nExample Predictions:\")\n",
    "for ex in examples:\n",
    "    print(f\"\\nQuestion: {ex['question']}\")\n",
    "    print(f\"Predicted: {ex['predicted']}\")\n",
    "    print(f\"Actual: {ex['actual']}\")\n",
    "\n",
    "print(f\"\\nSaved full results to {Config.results_file}\")\n",
    "print(f\"Loss graph saved to loss_graph.png\")\n",
    "print(f\"Best checkpoint saved in {Config.best_checkpoint_path}\")\n",
    "print(f\"Best model saved to {Config.model_save_path}\")\n",
    "print(f\"Final model saved to {Config.final_model_path}\")"
   ]
  },
  {
   "cell_type": "code",
   "execution_count": 11,
   "id": "bc3c7e13",
   "metadata": {
    "execution": {
     "iopub.execute_input": "2025-01-26T09:37:49.376551Z",
     "iopub.status.busy": "2025-01-26T09:37:49.376219Z",
     "iopub.status.idle": "2025-01-26T09:37:49.380729Z",
     "shell.execute_reply": "2025-01-26T09:37:49.380041Z"
    },
    "papermill": {
     "duration": 2.809077,
     "end_time": "2025-01-26T09:37:49.382014",
     "exception": false,
     "start_time": "2025-01-26T09:37:46.572937",
     "status": "completed"
    },
    "tags": []
   },
   "outputs": [],
   "source": [
    "results = {\n",
    "    'config': {k: str(v) if not isinstance(v, (int, float, str, bool, list, dict, type(None))) else v for k, v in vars(Config).items()}, # Convert non-serializable config values to strings\n",
    "    'training_log': training_log,\n",
    "    'test_metrics': {\n",
    "        'loss': test_loss/len(test_loader),\n",
    "        'bleu_score': average_bleu # Save BLEU score\n",
    "    },\n",
    "    'examples': examples\n",
    "}\n"
   ]
  },
  {
   "cell_type": "markdown",
   "id": "54319f3b",
   "metadata": {
    "papermill": {
     "duration": 2.84348,
     "end_time": "2025-01-26T09:37:55.157651",
     "exception": false,
     "start_time": "2025-01-26T09:37:52.314171",
     "status": "completed"
    },
    "tags": []
   },
   "source": [
    "# Saving the results"
   ]
  },
  {
   "cell_type": "code",
   "execution_count": 12,
   "id": "b5ac7280",
   "metadata": {
    "execution": {
     "iopub.execute_input": "2025-01-26T09:38:00.762887Z",
     "iopub.status.busy": "2025-01-26T09:38:00.762563Z",
     "iopub.status.idle": "2025-01-26T09:38:00.768654Z",
     "shell.execute_reply": "2025-01-26T09:38:00.767693Z"
    },
    "papermill": {
     "duration": 2.815025,
     "end_time": "2025-01-26T09:38:00.769832",
     "exception": false,
     "start_time": "2025-01-26T09:37:57.954807",
     "status": "completed"
    },
    "tags": []
   },
   "outputs": [
    {
     "name": "stdout",
     "output_type": "stream",
     "text": [
      "\n",
      "Saved full results to training_results.json\n",
      "Loss graph saved to loss_graph.png\n",
      "Checkpoints saved in checkpoints directory\n",
      "Best model saved to video_qa_model.pth\n",
      "Final model saved to final_video_qa_model.pth\n"
     ]
    }
   ],
   "source": [
    "with open(Config.results_file, 'w') as f:\n",
    "    json.dump(results, f, indent=2)\n",
    "\n",
    "print(f\"\\nSaved full results to {Config.results_file}\")\n",
    "print(f\"Loss graph saved to loss_graph.png\")\n",
    "print(f\"Checkpoints saved in {Config.checkpoint_dir} directory\")\n",
    "print(f\"Best model saved to {Config.model_save_path}\")\n",
    "print(f\"Final model saved to {Config.final_model_path}\")"
   ]
  },
  {
   "cell_type": "code",
   "execution_count": null,
   "id": "e3e15ccc",
   "metadata": {
    "papermill": {
     "duration": 2.846019,
     "end_time": "2025-01-26T09:38:06.410599",
     "exception": false,
     "start_time": "2025-01-26T09:38:03.564580",
     "status": "completed"
    },
    "tags": []
   },
   "outputs": [],
   "source": []
  }
 ],
 "metadata": {
  "kaggle": {
   "accelerator": "gpu",
   "dataSources": [
    {
     "datasetId": 5189208,
     "sourceId": 10450035,
     "sourceType": "datasetVersion"
    }
   ],
   "dockerImageVersionId": 30840,
   "isGpuEnabled": true,
   "isInternetEnabled": true,
   "language": "python",
   "sourceType": "notebook"
  },
  "kernelspec": {
   "display_name": "Python 3",
   "language": "python",
   "name": "python3"
  },
  "language_info": {
   "codemirror_mode": {
    "name": "ipython",
    "version": 3
   },
   "file_extension": ".py",
   "mimetype": "text/x-python",
   "name": "python",
   "nbconvert_exporter": "python",
   "pygments_lexer": "ipython3",
   "version": "3.10.12"
  },
  "papermill": {
   "default_parameters": {},
   "duration": 20855.203484,
   "end_time": "2025-01-26T09:38:12.732679",
   "environment_variables": {},
   "exception": null,
   "input_path": "__notebook__.ipynb",
   "output_path": "__notebook__.ipynb",
   "parameters": {},
   "start_time": "2025-01-26T03:50:37.529195",
   "version": "2.6.0"
  },
  "widgets": {
   "application/vnd.jupyter.widget-state+json": {
    "state": {
     "0164bf58c5fa46119ad1ff184bbb23ee": {
      "model_module": "@jupyter-widgets/base",
      "model_module_version": "2.0.0",
      "model_name": "LayoutModel",
      "state": {
       "_model_module": "@jupyter-widgets/base",
       "_model_module_version": "2.0.0",
       "_model_name": "LayoutModel",
       "_view_count": null,
       "_view_module": "@jupyter-widgets/base",
       "_view_module_version": "2.0.0",
       "_view_name": "LayoutView",
       "align_content": null,
       "align_items": null,
       "align_self": null,
       "border_bottom": null,
       "border_left": null,
       "border_right": null,
       "border_top": null,
       "bottom": null,
       "display": null,
       "flex": null,
       "flex_flow": null,
       "grid_area": null,
       "grid_auto_columns": null,
       "grid_auto_flow": null,
       "grid_auto_rows": null,
       "grid_column": null,
       "grid_gap": null,
       "grid_row": null,
       "grid_template_areas": null,
       "grid_template_columns": null,
       "grid_template_rows": null,
       "height": null,
       "justify_content": null,
       "justify_items": null,
       "left": null,
       "margin": null,
       "max_height": null,
       "max_width": null,
       "min_height": null,
       "min_width": null,
       "object_fit": null,
       "object_position": null,
       "order": null,
       "overflow": null,
       "padding": null,
       "right": null,
       "top": null,
       "visibility": null,
       "width": null
      }
     },
     "01d994ad70d24d1083ed0ec0cbbc1645": {
      "model_module": "@jupyter-widgets/controls",
      "model_module_version": "2.0.0",
      "model_name": "FloatProgressModel",
      "state": {
       "_dom_classes": [],
       "_model_module": "@jupyter-widgets/controls",
       "_model_module_version": "2.0.0",
       "_model_name": "FloatProgressModel",
       "_view_count": null,
       "_view_module": "@jupyter-widgets/controls",
       "_view_module_version": "2.0.0",
       "_view_name": "ProgressView",
       "bar_style": "success",
       "description": "",
       "description_allow_html": false,
       "layout": "IPY_MODEL_7c40a2b3b7404e3a87043e5464aa26e7",
       "max": 124.0,
       "min": 0.0,
       "orientation": "horizontal",
       "style": "IPY_MODEL_419795f8ce0e4f61b79b15fccc4d71d2",
       "tabbable": null,
       "tooltip": null,
       "value": 124.0
      }
     },
     "025322c300334ebe8739d50c934f77d9": {
      "model_module": "@jupyter-widgets/controls",
      "model_module_version": "2.0.0",
      "model_name": "HBoxModel",
      "state": {
       "_dom_classes": [],
       "_model_module": "@jupyter-widgets/controls",
       "_model_module_version": "2.0.0",
       "_model_name": "HBoxModel",
       "_view_count": null,
       "_view_module": "@jupyter-widgets/controls",
       "_view_module_version": "2.0.0",
       "_view_name": "HBoxView",
       "box_style": "",
       "children": [
        "IPY_MODEL_0e87f896fdb145bb98b5bd81a33b9183",
        "IPY_MODEL_c1c0c4c583af4049bd7930549d221ca9",
        "IPY_MODEL_ee0fe8c2464e44e0b82acd8429a68f7f"
       ],
       "layout": "IPY_MODEL_e9814f6e537c4b0a8429ffad0c58491a",
       "tabbable": null,
       "tooltip": null
      }
     },
     "054eeb09d14d45b390953b1ee0b77e17": {
      "model_module": "@jupyter-widgets/controls",
      "model_module_version": "2.0.0",
      "model_name": "HTMLStyleModel",
      "state": {
       "_model_module": "@jupyter-widgets/controls",
       "_model_module_version": "2.0.0",
       "_model_name": "HTMLStyleModel",
       "_view_count": null,
       "_view_module": "@jupyter-widgets/base",
       "_view_module_version": "2.0.0",
       "_view_name": "StyleView",
       "background": null,
       "description_width": "",
       "font_size": null,
       "text_color": null
      }
     },
     "080a137bf1084761852163f9804dc316": {
      "model_module": "@jupyter-widgets/base",
      "model_module_version": "2.0.0",
      "model_name": "LayoutModel",
      "state": {
       "_model_module": "@jupyter-widgets/base",
       "_model_module_version": "2.0.0",
       "_model_name": "LayoutModel",
       "_view_count": null,
       "_view_module": "@jupyter-widgets/base",
       "_view_module_version": "2.0.0",
       "_view_name": "LayoutView",
       "align_content": null,
       "align_items": null,
       "align_self": null,
       "border_bottom": null,
       "border_left": null,
       "border_right": null,
       "border_top": null,
       "bottom": null,
       "display": null,
       "flex": null,
       "flex_flow": null,
       "grid_area": null,
       "grid_auto_columns": null,
       "grid_auto_flow": null,
       "grid_auto_rows": null,
       "grid_column": null,
       "grid_gap": null,
       "grid_row": null,
       "grid_template_areas": null,
       "grid_template_columns": null,
       "grid_template_rows": null,
       "height": null,
       "justify_content": null,
       "justify_items": null,
       "left": null,
       "margin": null,
       "max_height": null,
       "max_width": null,
       "min_height": null,
       "min_width": null,
       "object_fit": null,
       "object_position": null,
       "order": null,
       "overflow": null,
       "padding": null,
       "right": null,
       "top": null,
       "visibility": null,
       "width": null
      }
     },
     "0c01b01f7fe54e18b8771ec50d75de84": {
      "model_module": "@jupyter-widgets/controls",
      "model_module_version": "2.0.0",
      "model_name": "FloatProgressModel",
      "state": {
       "_dom_classes": [],
       "_model_module": "@jupyter-widgets/controls",
       "_model_module_version": "2.0.0",
       "_model_name": "FloatProgressModel",
       "_view_count": null,
       "_view_module": "@jupyter-widgets/controls",
       "_view_module_version": "2.0.0",
       "_view_name": "ProgressView",
       "bar_style": "success",
       "description": "",
       "description_allow_html": false,
       "layout": "IPY_MODEL_0164bf58c5fa46119ad1ff184bbb23ee",
       "max": 1355256.0,
       "min": 0.0,
       "orientation": "horizontal",
       "style": "IPY_MODEL_7a06d12d5a5c47b5813296e2bfed9502",
       "tabbable": null,
       "tooltip": null,
       "value": 1355256.0
      }
     },
     "0e3e105e5e4047a7af6785d49f4e1d61": {
      "model_module": "@jupyter-widgets/controls",
      "model_module_version": "2.0.0",
      "model_name": "HTMLStyleModel",
      "state": {
       "_model_module": "@jupyter-widgets/controls",
       "_model_module_version": "2.0.0",
       "_model_name": "HTMLStyleModel",
       "_view_count": null,
       "_view_module": "@jupyter-widgets/base",
       "_view_module_version": "2.0.0",
       "_view_name": "StyleView",
       "background": null,
       "description_width": "",
       "font_size": null,
       "text_color": null
      }
     },
     "0e87f896fdb145bb98b5bd81a33b9183": {
      "model_module": "@jupyter-widgets/controls",
      "model_module_version": "2.0.0",
      "model_name": "HTMLModel",
      "state": {
       "_dom_classes": [],
       "_model_module": "@jupyter-widgets/controls",
       "_model_module_version": "2.0.0",
       "_model_name": "HTMLModel",
       "_view_count": null,
       "_view_module": "@jupyter-widgets/controls",
       "_view_module_version": "2.0.0",
       "_view_name": "HTMLView",
       "description": "",
       "description_allow_html": false,
       "layout": "IPY_MODEL_3e6c5b2f761e4e78a0bee3510446d16a",
       "placeholder": "​",
       "style": "IPY_MODEL_a115f03fc49a4e2e955091067a85cfbb",
       "tabbable": null,
       "tooltip": null,
       "value": "merges.txt: 100%"
      }
     },
     "10dbb0ab512b496da0bd9de8ca720a29": {
      "model_module": "@jupyter-widgets/controls",
      "model_module_version": "2.0.0",
      "model_name": "FloatProgressModel",
      "state": {
       "_dom_classes": [],
       "_model_module": "@jupyter-widgets/controls",
       "_model_module_version": "2.0.0",
       "_model_name": "FloatProgressModel",
       "_view_count": null,
       "_view_module": "@jupyter-widgets/controls",
       "_view_module_version": "2.0.0",
       "_view_name": "ProgressView",
       "bar_style": "success",
       "description": "",
       "description_allow_html": false,
       "layout": "IPY_MODEL_351e7edc1a7a45dea97f790657c9e52d",
       "max": 762.0,
       "min": 0.0,
       "orientation": "horizontal",
       "style": "IPY_MODEL_a1f280f184f24e67b15e0c1fb1e1196b",
       "tabbable": null,
       "tooltip": null,
       "value": 762.0
      }
     },
     "1113aef6f4b54d3c9612b8944e211317": {
      "model_module": "@jupyter-widgets/controls",
      "model_module_version": "2.0.0",
      "model_name": "FloatProgressModel",
      "state": {
       "_dom_classes": [],
       "_model_module": "@jupyter-widgets/controls",
       "_model_module_version": "2.0.0",
       "_model_name": "FloatProgressModel",
       "_view_count": null,
       "_view_module": "@jupyter-widgets/controls",
       "_view_module_version": "2.0.0",
       "_view_name": "ProgressView",
       "bar_style": "success",
       "description": "",
       "description_allow_html": false,
       "layout": "IPY_MODEL_20d7b18919004a73ac365dd6d826a682",
       "max": 352824413.0,
       "min": 0.0,
       "orientation": "horizontal",
       "style": "IPY_MODEL_863fd65c140c48439d9fd1b6623ad78d",
       "tabbable": null,
       "tooltip": null,
       "value": 352824413.0
      }
     },
     "1511d8bd34994e44a343b5be639322dc": {
      "model_module": "@jupyter-widgets/base",
      "model_module_version": "2.0.0",
      "model_name": "LayoutModel",
      "state": {
       "_model_module": "@jupyter-widgets/base",
       "_model_module_version": "2.0.0",
       "_model_name": "LayoutModel",
       "_view_count": null,
       "_view_module": "@jupyter-widgets/base",
       "_view_module_version": "2.0.0",
       "_view_name": "LayoutView",
       "align_content": null,
       "align_items": null,
       "align_self": null,
       "border_bottom": null,
       "border_left": null,
       "border_right": null,
       "border_top": null,
       "bottom": null,
       "display": null,
       "flex": null,
       "flex_flow": null,
       "grid_area": null,
       "grid_auto_columns": null,
       "grid_auto_flow": null,
       "grid_auto_rows": null,
       "grid_column": null,
       "grid_gap": null,
       "grid_row": null,
       "grid_template_areas": null,
       "grid_template_columns": null,
       "grid_template_rows": null,
       "height": null,
       "justify_content": null,
       "justify_items": null,
       "left": null,
       "margin": null,
       "max_height": null,
       "max_width": null,
       "min_height": null,
       "min_width": null,
       "object_fit": null,
       "object_position": null,
       "order": null,
       "overflow": null,
       "padding": null,
       "right": null,
       "top": null,
       "visibility": null,
       "width": null
      }
     },
     "19d170ae54a74892a64361210822634f": {
      "model_module": "@jupyter-widgets/controls",
      "model_module_version": "2.0.0",
      "model_name": "HTMLStyleModel",
      "state": {
       "_model_module": "@jupyter-widgets/controls",
       "_model_module_version": "2.0.0",
       "_model_name": "HTMLStyleModel",
       "_view_count": null,
       "_view_module": "@jupyter-widgets/base",
       "_view_module_version": "2.0.0",
       "_view_name": "StyleView",
       "background": null,
       "description_width": "",
       "font_size": null,
       "text_color": null
      }
     },
     "1a13a75660c847efba1a58213f056e76": {
      "model_module": "@jupyter-widgets/controls",
      "model_module_version": "2.0.0",
      "model_name": "HTMLStyleModel",
      "state": {
       "_model_module": "@jupyter-widgets/controls",
       "_model_module_version": "2.0.0",
       "_model_name": "HTMLStyleModel",
       "_view_count": null,
       "_view_module": "@jupyter-widgets/base",
       "_view_module_version": "2.0.0",
       "_view_name": "StyleView",
       "background": null,
       "description_width": "",
       "font_size": null,
       "text_color": null
      }
     },
     "1b3c7646abae460eb01330ac0787f06c": {
      "model_module": "@jupyter-widgets/controls",
      "model_module_version": "2.0.0",
      "model_name": "HTMLModel",
      "state": {
       "_dom_classes": [],
       "_model_module": "@jupyter-widgets/controls",
       "_model_module_version": "2.0.0",
       "_model_name": "HTMLModel",
       "_view_count": null,
       "_view_module": "@jupyter-widgets/controls",
       "_view_module_version": "2.0.0",
       "_view_name": "HTMLView",
       "description": "",
       "description_allow_html": false,
       "layout": "IPY_MODEL_eebda63766e146f896a347464addbd44",
       "placeholder": "​",
       "style": "IPY_MODEL_f1548af0d3304f16be8d722d02946958",
       "tabbable": null,
       "tooltip": null,
       "value": " 26.0/26.0 [00:00&lt;00:00, 2.14kB/s]"
      }
     },
     "1c4333d0e7664605a8a1868c28369e50": {
      "model_module": "@jupyter-widgets/controls",
      "model_module_version": "2.0.0",
      "model_name": "HTMLStyleModel",
      "state": {
       "_model_module": "@jupyter-widgets/controls",
       "_model_module_version": "2.0.0",
       "_model_name": "HTMLStyleModel",
       "_view_count": null,
       "_view_module": "@jupyter-widgets/base",
       "_view_module_version": "2.0.0",
       "_view_name": "StyleView",
       "background": null,
       "description_width": "",
       "font_size": null,
       "text_color": null
      }
     },
     "20d7b18919004a73ac365dd6d826a682": {
      "model_module": "@jupyter-widgets/base",
      "model_module_version": "2.0.0",
      "model_name": "LayoutModel",
      "state": {
       "_model_module": "@jupyter-widgets/base",
       "_model_module_version": "2.0.0",
       "_model_name": "LayoutModel",
       "_view_count": null,
       "_view_module": "@jupyter-widgets/base",
       "_view_module_version": "2.0.0",
       "_view_name": "LayoutView",
       "align_content": null,
       "align_items": null,
       "align_self": null,
       "border_bottom": null,
       "border_left": null,
       "border_right": null,
       "border_top": null,
       "bottom": null,
       "display": null,
       "flex": null,
       "flex_flow": null,
       "grid_area": null,
       "grid_auto_columns": null,
       "grid_auto_flow": null,
       "grid_auto_rows": null,
       "grid_column": null,
       "grid_gap": null,
       "grid_row": null,
       "grid_template_areas": null,
       "grid_template_columns": null,
       "grid_template_rows": null,
       "height": null,
       "justify_content": null,
       "justify_items": null,
       "left": null,
       "margin": null,
       "max_height": null,
       "max_width": null,
       "min_height": null,
       "min_width": null,
       "object_fit": null,
       "object_position": null,
       "order": null,
       "overflow": null,
       "padding": null,
       "right": null,
       "top": null,
       "visibility": null,
       "width": null
      }
     },
     "2352f2f20aea45fe8f5348841f65816e": {
      "model_module": "@jupyter-widgets/controls",
      "model_module_version": "2.0.0",
      "model_name": "ProgressStyleModel",
      "state": {
       "_model_module": "@jupyter-widgets/controls",
       "_model_module_version": "2.0.0",
       "_model_name": "ProgressStyleModel",
       "_view_count": null,
       "_view_module": "@jupyter-widgets/base",
       "_view_module_version": "2.0.0",
       "_view_name": "StyleView",
       "bar_color": null,
       "description_width": ""
      }
     },
     "23e585c457504528874528656a9b64d7": {
      "model_module": "@jupyter-widgets/base",
      "model_module_version": "2.0.0",
      "model_name": "LayoutModel",
      "state": {
       "_model_module": "@jupyter-widgets/base",
       "_model_module_version": "2.0.0",
       "_model_name": "LayoutModel",
       "_view_count": null,
       "_view_module": "@jupyter-widgets/base",
       "_view_module_version": "2.0.0",
       "_view_name": "LayoutView",
       "align_content": null,
       "align_items": null,
       "align_self": null,
       "border_bottom": null,
       "border_left": null,
       "border_right": null,
       "border_top": null,
       "bottom": null,
       "display": null,
       "flex": null,
       "flex_flow": null,
       "grid_area": null,
       "grid_auto_columns": null,
       "grid_auto_flow": null,
       "grid_auto_rows": null,
       "grid_column": null,
       "grid_gap": null,
       "grid_row": null,
       "grid_template_areas": null,
       "grid_template_columns": null,
       "grid_template_rows": null,
       "height": null,
       "justify_content": null,
       "justify_items": null,
       "left": null,
       "margin": null,
       "max_height": null,
       "max_width": null,
       "min_height": null,
       "min_width": null,
       "object_fit": null,
       "object_position": null,
       "order": null,
       "overflow": null,
       "padding": null,
       "right": null,
       "top": null,
       "visibility": null,
       "width": null
      }
     },
     "2b675ecea0bf4d618f532b38d44b5636": {
      "model_module": "@jupyter-widgets/controls",
      "model_module_version": "2.0.0",
      "model_name": "HTMLModel",
      "state": {
       "_dom_classes": [],
       "_model_module": "@jupyter-widgets/controls",
       "_model_module_version": "2.0.0",
       "_model_name": "HTMLModel",
       "_view_count": null,
       "_view_module": "@jupyter-widgets/controls",
       "_view_module_version": "2.0.0",
       "_view_name": "HTMLView",
       "description": "",
       "description_allow_html": false,
       "layout": "IPY_MODEL_f9a0bf41b9a8418aafa9550c384a85da",
       "placeholder": "​",
       "style": "IPY_MODEL_e9ed7baec3e843cbb265b0e33016e556",
       "tabbable": null,
       "tooltip": null,
       "value": " 1.36M/1.36M [00:00&lt;00:00, 10.1MB/s]"
      }
     },
     "2c7e100d5eae45abb8a220e5102bfffe": {
      "model_module": "@jupyter-widgets/controls",
      "model_module_version": "2.0.0",
      "model_name": "HTMLModel",
      "state": {
       "_dom_classes": [],
       "_model_module": "@jupyter-widgets/controls",
       "_model_module_version": "2.0.0",
       "_model_name": "HTMLModel",
       "_view_count": null,
       "_view_module": "@jupyter-widgets/controls",
       "_view_module_version": "2.0.0",
       "_view_name": "HTMLView",
       "description": "",
       "description_allow_html": false,
       "layout": "IPY_MODEL_3cad697b5c504bcd8bd520ed9c49e366",
       "placeholder": "​",
       "style": "IPY_MODEL_4173a5f008ee409f90173220a3eca171",
       "tabbable": null,
       "tooltip": null,
       "value": "vocab.json: 100%"
      }
     },
     "2d6d80cdb1664920bcf3023744e3cd82": {
      "model_module": "@jupyter-widgets/controls",
      "model_module_version": "2.0.0",
      "model_name": "ProgressStyleModel",
      "state": {
       "_model_module": "@jupyter-widgets/controls",
       "_model_module_version": "2.0.0",
       "_model_name": "ProgressStyleModel",
       "_view_count": null,
       "_view_module": "@jupyter-widgets/base",
       "_view_module_version": "2.0.0",
       "_view_name": "StyleView",
       "bar_color": null,
       "description_width": ""
      }
     },
     "2efbb2e982fb4dc889c6483f07ca939f": {
      "model_module": "@jupyter-widgets/base",
      "model_module_version": "2.0.0",
      "model_name": "LayoutModel",
      "state": {
       "_model_module": "@jupyter-widgets/base",
       "_model_module_version": "2.0.0",
       "_model_name": "LayoutModel",
       "_view_count": null,
       "_view_module": "@jupyter-widgets/base",
       "_view_module_version": "2.0.0",
       "_view_name": "LayoutView",
       "align_content": null,
       "align_items": null,
       "align_self": null,
       "border_bottom": null,
       "border_left": null,
       "border_right": null,
       "border_top": null,
       "bottom": null,
       "display": null,
       "flex": null,
       "flex_flow": null,
       "grid_area": null,
       "grid_auto_columns": null,
       "grid_auto_flow": null,
       "grid_auto_rows": null,
       "grid_column": null,
       "grid_gap": null,
       "grid_row": null,
       "grid_template_areas": null,
       "grid_template_columns": null,
       "grid_template_rows": null,
       "height": null,
       "justify_content": null,
       "justify_items": null,
       "left": null,
       "margin": null,
       "max_height": null,
       "max_width": null,
       "min_height": null,
       "min_width": null,
       "object_fit": null,
       "object_position": null,
       "order": null,
       "overflow": null,
       "padding": null,
       "right": null,
       "top": null,
       "visibility": null,
       "width": null
      }
     },
     "3168e21567194fea9d85f8a356b9f5f3": {
      "model_module": "@jupyter-widgets/controls",
      "model_module_version": "2.0.0",
      "model_name": "HBoxModel",
      "state": {
       "_dom_classes": [],
       "_model_module": "@jupyter-widgets/controls",
       "_model_module_version": "2.0.0",
       "_model_name": "HBoxModel",
       "_view_count": null,
       "_view_module": "@jupyter-widgets/controls",
       "_view_module_version": "2.0.0",
       "_view_name": "HBoxView",
       "box_style": "",
       "children": [
        "IPY_MODEL_b9bc7c2e9fa748239d1faf25a0d0ea71",
        "IPY_MODEL_a6acc7b659f9470db38002179d7d9add",
        "IPY_MODEL_1b3c7646abae460eb01330ac0787f06c"
       ],
       "layout": "IPY_MODEL_2efbb2e982fb4dc889c6483f07ca939f",
       "tabbable": null,
       "tooltip": null
      }
     },
     "33e9d0a66dbb463f8eddc7dd991369e6": {
      "model_module": "@jupyter-widgets/controls",
      "model_module_version": "2.0.0",
      "model_name": "FloatProgressModel",
      "state": {
       "_dom_classes": [],
       "_model_module": "@jupyter-widgets/controls",
       "_model_module_version": "2.0.0",
       "_model_name": "FloatProgressModel",
       "_view_count": null,
       "_view_module": "@jupyter-widgets/controls",
       "_view_module_version": "2.0.0",
       "_view_name": "ProgressView",
       "bar_style": "success",
       "description": "",
       "description_allow_html": false,
       "layout": "IPY_MODEL_35d3090b5bef4cb9b5677832bafe3bac",
       "max": 1042301.0,
       "min": 0.0,
       "orientation": "horizontal",
       "style": "IPY_MODEL_3794bbdf699c40fb98dd5a04caab648b",
       "tabbable": null,
       "tooltip": null,
       "value": 1042301.0
      }
     },
     "351e7edc1a7a45dea97f790657c9e52d": {
      "model_module": "@jupyter-widgets/base",
      "model_module_version": "2.0.0",
      "model_name": "LayoutModel",
      "state": {
       "_model_module": "@jupyter-widgets/base",
       "_model_module_version": "2.0.0",
       "_model_name": "LayoutModel",
       "_view_count": null,
       "_view_module": "@jupyter-widgets/base",
       "_view_module_version": "2.0.0",
       "_view_name": "LayoutView",
       "align_content": null,
       "align_items": null,
       "align_self": null,
       "border_bottom": null,
       "border_left": null,
       "border_right": null,
       "border_top": null,
       "bottom": null,
       "display": null,
       "flex": null,
       "flex_flow": null,
       "grid_area": null,
       "grid_auto_columns": null,
       "grid_auto_flow": null,
       "grid_auto_rows": null,
       "grid_column": null,
       "grid_gap": null,
       "grid_row": null,
       "grid_template_areas": null,
       "grid_template_columns": null,
       "grid_template_rows": null,
       "height": null,
       "justify_content": null,
       "justify_items": null,
       "left": null,
       "margin": null,
       "max_height": null,
       "max_width": null,
       "min_height": null,
       "min_width": null,
       "object_fit": null,
       "object_position": null,
       "order": null,
       "overflow": null,
       "padding": null,
       "right": null,
       "top": null,
       "visibility": null,
       "width": null
      }
     },
     "35a9b6dedcbc44b393490d2580f3fd17": {
      "model_module": "@jupyter-widgets/controls",
      "model_module_version": "2.0.0",
      "model_name": "HTMLModel",
      "state": {
       "_dom_classes": [],
       "_model_module": "@jupyter-widgets/controls",
       "_model_module_version": "2.0.0",
       "_model_name": "HTMLModel",
       "_view_count": null,
       "_view_module": "@jupyter-widgets/controls",
       "_view_module_version": "2.0.0",
       "_view_name": "HTMLView",
       "description": "",
       "description_allow_html": false,
       "layout": "IPY_MODEL_777cc4b5de684da7afdba4a951417074",
       "placeholder": "​",
       "style": "IPY_MODEL_90ae4e154dca4bdfba0ecb0675c3774e",
       "tabbable": null,
       "tooltip": null,
       "value": "generation_config.json: 100%"
      }
     },
     "35d3090b5bef4cb9b5677832bafe3bac": {
      "model_module": "@jupyter-widgets/base",
      "model_module_version": "2.0.0",
      "model_name": "LayoutModel",
      "state": {
       "_model_module": "@jupyter-widgets/base",
       "_model_module_version": "2.0.0",
       "_model_name": "LayoutModel",
       "_view_count": null,
       "_view_module": "@jupyter-widgets/base",
       "_view_module_version": "2.0.0",
       "_view_name": "LayoutView",
       "align_content": null,
       "align_items": null,
       "align_self": null,
       "border_bottom": null,
       "border_left": null,
       "border_right": null,
       "border_top": null,
       "bottom": null,
       "display": null,
       "flex": null,
       "flex_flow": null,
       "grid_area": null,
       "grid_auto_columns": null,
       "grid_auto_flow": null,
       "grid_auto_rows": null,
       "grid_column": null,
       "grid_gap": null,
       "grid_row": null,
       "grid_template_areas": null,
       "grid_template_columns": null,
       "grid_template_rows": null,
       "height": null,
       "justify_content": null,
       "justify_items": null,
       "left": null,
       "margin": null,
       "max_height": null,
       "max_width": null,
       "min_height": null,
       "min_width": null,
       "object_fit": null,
       "object_position": null,
       "order": null,
       "overflow": null,
       "padding": null,
       "right": null,
       "top": null,
       "visibility": null,
       "width": null
      }
     },
     "3794bbdf699c40fb98dd5a04caab648b": {
      "model_module": "@jupyter-widgets/controls",
      "model_module_version": "2.0.0",
      "model_name": "ProgressStyleModel",
      "state": {
       "_model_module": "@jupyter-widgets/controls",
       "_model_module_version": "2.0.0",
       "_model_name": "ProgressStyleModel",
       "_view_count": null,
       "_view_module": "@jupyter-widgets/base",
       "_view_module_version": "2.0.0",
       "_view_name": "StyleView",
       "bar_color": null,
       "description_width": ""
      }
     },
     "392df79a46ae46ccbaaa5a33dfb230d2": {
      "model_module": "@jupyter-widgets/base",
      "model_module_version": "2.0.0",
      "model_name": "LayoutModel",
      "state": {
       "_model_module": "@jupyter-widgets/base",
       "_model_module_version": "2.0.0",
       "_model_name": "LayoutModel",
       "_view_count": null,
       "_view_module": "@jupyter-widgets/base",
       "_view_module_version": "2.0.0",
       "_view_name": "LayoutView",
       "align_content": null,
       "align_items": null,
       "align_self": null,
       "border_bottom": null,
       "border_left": null,
       "border_right": null,
       "border_top": null,
       "bottom": null,
       "display": null,
       "flex": null,
       "flex_flow": null,
       "grid_area": null,
       "grid_auto_columns": null,
       "grid_auto_flow": null,
       "grid_auto_rows": null,
       "grid_column": null,
       "grid_gap": null,
       "grid_row": null,
       "grid_template_areas": null,
       "grid_template_columns": null,
       "grid_template_rows": null,
       "height": null,
       "justify_content": null,
       "justify_items": null,
       "left": null,
       "margin": null,
       "max_height": null,
       "max_width": null,
       "min_height": null,
       "min_width": null,
       "object_fit": null,
       "object_position": null,
       "order": null,
       "overflow": null,
       "padding": null,
       "right": null,
       "top": null,
       "visibility": null,
       "width": null
      }
     },
     "3aee35bcb40245acb56d4957c8db5bbd": {
      "model_module": "@jupyter-widgets/controls",
      "model_module_version": "2.0.0",
      "model_name": "HTMLModel",
      "state": {
       "_dom_classes": [],
       "_model_module": "@jupyter-widgets/controls",
       "_model_module_version": "2.0.0",
       "_model_name": "HTMLModel",
       "_view_count": null,
       "_view_module": "@jupyter-widgets/controls",
       "_view_module_version": "2.0.0",
       "_view_name": "HTMLView",
       "description": "",
       "description_allow_html": false,
       "layout": "IPY_MODEL_bc0913e6546949dca1a097cb2f33358e",
       "placeholder": "​",
       "style": "IPY_MODEL_a9dcddc99f6f463eb171383fc0775d1f",
       "tabbable": null,
       "tooltip": null,
       "value": "model.safetensors: 100%"
      }
     },
     "3cad697b5c504bcd8bd520ed9c49e366": {
      "model_module": "@jupyter-widgets/base",
      "model_module_version": "2.0.0",
      "model_name": "LayoutModel",
      "state": {
       "_model_module": "@jupyter-widgets/base",
       "_model_module_version": "2.0.0",
       "_model_name": "LayoutModel",
       "_view_count": null,
       "_view_module": "@jupyter-widgets/base",
       "_view_module_version": "2.0.0",
       "_view_name": "LayoutView",
       "align_content": null,
       "align_items": null,
       "align_self": null,
       "border_bottom": null,
       "border_left": null,
       "border_right": null,
       "border_top": null,
       "bottom": null,
       "display": null,
       "flex": null,
       "flex_flow": null,
       "grid_area": null,
       "grid_auto_columns": null,
       "grid_auto_flow": null,
       "grid_auto_rows": null,
       "grid_column": null,
       "grid_gap": null,
       "grid_row": null,
       "grid_template_areas": null,
       "grid_template_columns": null,
       "grid_template_rows": null,
       "height": null,
       "justify_content": null,
       "justify_items": null,
       "left": null,
       "margin": null,
       "max_height": null,
       "max_width": null,
       "min_height": null,
       "min_width": null,
       "object_fit": null,
       "object_position": null,
       "order": null,
       "overflow": null,
       "padding": null,
       "right": null,
       "top": null,
       "visibility": null,
       "width": null
      }
     },
     "3e6c5b2f761e4e78a0bee3510446d16a": {
      "model_module": "@jupyter-widgets/base",
      "model_module_version": "2.0.0",
      "model_name": "LayoutModel",
      "state": {
       "_model_module": "@jupyter-widgets/base",
       "_model_module_version": "2.0.0",
       "_model_name": "LayoutModel",
       "_view_count": null,
       "_view_module": "@jupyter-widgets/base",
       "_view_module_version": "2.0.0",
       "_view_name": "LayoutView",
       "align_content": null,
       "align_items": null,
       "align_self": null,
       "border_bottom": null,
       "border_left": null,
       "border_right": null,
       "border_top": null,
       "bottom": null,
       "display": null,
       "flex": null,
       "flex_flow": null,
       "grid_area": null,
       "grid_auto_columns": null,
       "grid_auto_flow": null,
       "grid_auto_rows": null,
       "grid_column": null,
       "grid_gap": null,
       "grid_row": null,
       "grid_template_areas": null,
       "grid_template_columns": null,
       "grid_template_rows": null,
       "height": null,
       "justify_content": null,
       "justify_items": null,
       "left": null,
       "margin": null,
       "max_height": null,
       "max_width": null,
       "min_height": null,
       "min_width": null,
       "object_fit": null,
       "object_position": null,
       "order": null,
       "overflow": null,
       "padding": null,
       "right": null,
       "top": null,
       "visibility": null,
       "width": null
      }
     },
     "3e9c1643eee44b1baba8d531a0d5e137": {
      "model_module": "@jupyter-widgets/controls",
      "model_module_version": "2.0.0",
      "model_name": "HTMLModel",
      "state": {
       "_dom_classes": [],
       "_model_module": "@jupyter-widgets/controls",
       "_model_module_version": "2.0.0",
       "_model_name": "HTMLModel",
       "_view_count": null,
       "_view_module": "@jupyter-widgets/controls",
       "_view_module_version": "2.0.0",
       "_view_name": "HTMLView",
       "description": "",
       "description_allow_html": false,
       "layout": "IPY_MODEL_75f8b15b273547b086801ce54f624d4d",
       "placeholder": "​",
       "style": "IPY_MODEL_0e3e105e5e4047a7af6785d49f4e1d61",
       "tabbable": null,
       "tooltip": null,
       "value": " 346M/346M [00:01&lt;00:00, 220MB/s]"
      }
     },
     "4124876cc92b4c658a9e35369aa229fb": {
      "model_module": "@jupyter-widgets/controls",
      "model_module_version": "2.0.0",
      "model_name": "HTMLModel",
      "state": {
       "_dom_classes": [],
       "_model_module": "@jupyter-widgets/controls",
       "_model_module_version": "2.0.0",
       "_model_name": "HTMLModel",
       "_view_count": null,
       "_view_module": "@jupyter-widgets/controls",
       "_view_module_version": "2.0.0",
       "_view_name": "HTMLView",
       "description": "",
       "description_allow_html": false,
       "layout": "IPY_MODEL_d0399b57130047be83827615aaedad11",
       "placeholder": "​",
       "style": "IPY_MODEL_5d5581d0754444c9980fc1e0f24c426e",
       "tabbable": null,
       "tooltip": null,
       "value": "tokenizer.json: 100%"
      }
     },
     "4173a5f008ee409f90173220a3eca171": {
      "model_module": "@jupyter-widgets/controls",
      "model_module_version": "2.0.0",
      "model_name": "HTMLStyleModel",
      "state": {
       "_model_module": "@jupyter-widgets/controls",
       "_model_module_version": "2.0.0",
       "_model_name": "HTMLStyleModel",
       "_view_count": null,
       "_view_module": "@jupyter-widgets/base",
       "_view_module_version": "2.0.0",
       "_view_name": "StyleView",
       "background": null,
       "description_width": "",
       "font_size": null,
       "text_color": null
      }
     },
     "418a67b26756445082d839abfd8a99a2": {
      "model_module": "@jupyter-widgets/controls",
      "model_module_version": "2.0.0",
      "model_name": "ProgressStyleModel",
      "state": {
       "_model_module": "@jupyter-widgets/controls",
       "_model_module_version": "2.0.0",
       "_model_name": "ProgressStyleModel",
       "_view_count": null,
       "_view_module": "@jupyter-widgets/base",
       "_view_module_version": "2.0.0",
       "_view_name": "StyleView",
       "bar_color": null,
       "description_width": ""
      }
     },
     "419795f8ce0e4f61b79b15fccc4d71d2": {
      "model_module": "@jupyter-widgets/controls",
      "model_module_version": "2.0.0",
      "model_name": "ProgressStyleModel",
      "state": {
       "_model_module": "@jupyter-widgets/controls",
       "_model_module_version": "2.0.0",
       "_model_name": "ProgressStyleModel",
       "_view_count": null,
       "_view_module": "@jupyter-widgets/base",
       "_view_module_version": "2.0.0",
       "_view_name": "StyleView",
       "bar_color": null,
       "description_width": ""
      }
     },
     "4fc77d9f3955413d80220de74a479b0f": {
      "model_module": "@jupyter-widgets/base",
      "model_module_version": "2.0.0",
      "model_name": "LayoutModel",
      "state": {
       "_model_module": "@jupyter-widgets/base",
       "_model_module_version": "2.0.0",
       "_model_name": "LayoutModel",
       "_view_count": null,
       "_view_module": "@jupyter-widgets/base",
       "_view_module_version": "2.0.0",
       "_view_name": "LayoutView",
       "align_content": null,
       "align_items": null,
       "align_self": null,
       "border_bottom": null,
       "border_left": null,
       "border_right": null,
       "border_top": null,
       "bottom": null,
       "display": null,
       "flex": null,
       "flex_flow": null,
       "grid_area": null,
       "grid_auto_columns": null,
       "grid_auto_flow": null,
       "grid_auto_rows": null,
       "grid_column": null,
       "grid_gap": null,
       "grid_row": null,
       "grid_template_areas": null,
       "grid_template_columns": null,
       "grid_template_rows": null,
       "height": null,
       "justify_content": null,
       "justify_items": null,
       "left": null,
       "margin": null,
       "max_height": null,
       "max_width": null,
       "min_height": null,
       "min_width": null,
       "object_fit": null,
       "object_position": null,
       "order": null,
       "overflow": null,
       "padding": null,
       "right": null,
       "top": null,
       "visibility": null,
       "width": null
      }
     },
     "57ef2bc876f34b879910b513985abe6e": {
      "model_module": "@jupyter-widgets/base",
      "model_module_version": "2.0.0",
      "model_name": "LayoutModel",
      "state": {
       "_model_module": "@jupyter-widgets/base",
       "_model_module_version": "2.0.0",
       "_model_name": "LayoutModel",
       "_view_count": null,
       "_view_module": "@jupyter-widgets/base",
       "_view_module_version": "2.0.0",
       "_view_name": "LayoutView",
       "align_content": null,
       "align_items": null,
       "align_self": null,
       "border_bottom": null,
       "border_left": null,
       "border_right": null,
       "border_top": null,
       "bottom": null,
       "display": null,
       "flex": null,
       "flex_flow": null,
       "grid_area": null,
       "grid_auto_columns": null,
       "grid_auto_flow": null,
       "grid_auto_rows": null,
       "grid_column": null,
       "grid_gap": null,
       "grid_row": null,
       "grid_template_areas": null,
       "grid_template_columns": null,
       "grid_template_rows": null,
       "height": null,
       "justify_content": null,
       "justify_items": null,
       "left": null,
       "margin": null,
       "max_height": null,
       "max_width": null,
       "min_height": null,
       "min_width": null,
       "object_fit": null,
       "object_position": null,
       "order": null,
       "overflow": null,
       "padding": null,
       "right": null,
       "top": null,
       "visibility": null,
       "width": null
      }
     },
     "5d5581d0754444c9980fc1e0f24c426e": {
      "model_module": "@jupyter-widgets/controls",
      "model_module_version": "2.0.0",
      "model_name": "HTMLStyleModel",
      "state": {
       "_model_module": "@jupyter-widgets/controls",
       "_model_module_version": "2.0.0",
       "_model_name": "HTMLStyleModel",
       "_view_count": null,
       "_view_module": "@jupyter-widgets/base",
       "_view_module_version": "2.0.0",
       "_view_name": "StyleView",
       "background": null,
       "description_width": "",
       "font_size": null,
       "text_color": null
      }
     },
     "6a446affbf7c4db9a7c06881dace07a0": {
      "model_module": "@jupyter-widgets/base",
      "model_module_version": "2.0.0",
      "model_name": "LayoutModel",
      "state": {
       "_model_module": "@jupyter-widgets/base",
       "_model_module_version": "2.0.0",
       "_model_name": "LayoutModel",
       "_view_count": null,
       "_view_module": "@jupyter-widgets/base",
       "_view_module_version": "2.0.0",
       "_view_name": "LayoutView",
       "align_content": null,
       "align_items": null,
       "align_self": null,
       "border_bottom": null,
       "border_left": null,
       "border_right": null,
       "border_top": null,
       "bottom": null,
       "display": null,
       "flex": null,
       "flex_flow": null,
       "grid_area": null,
       "grid_auto_columns": null,
       "grid_auto_flow": null,
       "grid_auto_rows": null,
       "grid_column": null,
       "grid_gap": null,
       "grid_row": null,
       "grid_template_areas": null,
       "grid_template_columns": null,
       "grid_template_rows": null,
       "height": null,
       "justify_content": null,
       "justify_items": null,
       "left": null,
       "margin": null,
       "max_height": null,
       "max_width": null,
       "min_height": null,
       "min_width": null,
       "object_fit": null,
       "object_position": null,
       "order": null,
       "overflow": null,
       "padding": null,
       "right": null,
       "top": null,
       "visibility": null,
       "width": null
      }
     },
     "6a947d6e0e9a41a5a5cfe3774c826cb6": {
      "model_module": "@jupyter-widgets/base",
      "model_module_version": "2.0.0",
      "model_name": "LayoutModel",
      "state": {
       "_model_module": "@jupyter-widgets/base",
       "_model_module_version": "2.0.0",
       "_model_name": "LayoutModel",
       "_view_count": null,
       "_view_module": "@jupyter-widgets/base",
       "_view_module_version": "2.0.0",
       "_view_name": "LayoutView",
       "align_content": null,
       "align_items": null,
       "align_self": null,
       "border_bottom": null,
       "border_left": null,
       "border_right": null,
       "border_top": null,
       "bottom": null,
       "display": null,
       "flex": null,
       "flex_flow": null,
       "grid_area": null,
       "grid_auto_columns": null,
       "grid_auto_flow": null,
       "grid_auto_rows": null,
       "grid_column": null,
       "grid_gap": null,
       "grid_row": null,
       "grid_template_areas": null,
       "grid_template_columns": null,
       "grid_template_rows": null,
       "height": null,
       "justify_content": null,
       "justify_items": null,
       "left": null,
       "margin": null,
       "max_height": null,
       "max_width": null,
       "min_height": null,
       "min_width": null,
       "object_fit": null,
       "object_position": null,
       "order": null,
       "overflow": null,
       "padding": null,
       "right": null,
       "top": null,
       "visibility": null,
       "width": null
      }
     },
     "703aad79acc141d0b7fb4a5918cdc489": {
      "model_module": "@jupyter-widgets/base",
      "model_module_version": "2.0.0",
      "model_name": "LayoutModel",
      "state": {
       "_model_module": "@jupyter-widgets/base",
       "_model_module_version": "2.0.0",
       "_model_name": "LayoutModel",
       "_view_count": null,
       "_view_module": "@jupyter-widgets/base",
       "_view_module_version": "2.0.0",
       "_view_name": "LayoutView",
       "align_content": null,
       "align_items": null,
       "align_self": null,
       "border_bottom": null,
       "border_left": null,
       "border_right": null,
       "border_top": null,
       "bottom": null,
       "display": null,
       "flex": null,
       "flex_flow": null,
       "grid_area": null,
       "grid_auto_columns": null,
       "grid_auto_flow": null,
       "grid_auto_rows": null,
       "grid_column": null,
       "grid_gap": null,
       "grid_row": null,
       "grid_template_areas": null,
       "grid_template_columns": null,
       "grid_template_rows": null,
       "height": null,
       "justify_content": null,
       "justify_items": null,
       "left": null,
       "margin": null,
       "max_height": null,
       "max_width": null,
       "min_height": null,
       "min_width": null,
       "object_fit": null,
       "object_position": null,
       "order": null,
       "overflow": null,
       "padding": null,
       "right": null,
       "top": null,
       "visibility": null,
       "width": null
      }
     },
     "75f8b15b273547b086801ce54f624d4d": {
      "model_module": "@jupyter-widgets/base",
      "model_module_version": "2.0.0",
      "model_name": "LayoutModel",
      "state": {
       "_model_module": "@jupyter-widgets/base",
       "_model_module_version": "2.0.0",
       "_model_name": "LayoutModel",
       "_view_count": null,
       "_view_module": "@jupyter-widgets/base",
       "_view_module_version": "2.0.0",
       "_view_name": "LayoutView",
       "align_content": null,
       "align_items": null,
       "align_self": null,
       "border_bottom": null,
       "border_left": null,
       "border_right": null,
       "border_top": null,
       "bottom": null,
       "display": null,
       "flex": null,
       "flex_flow": null,
       "grid_area": null,
       "grid_auto_columns": null,
       "grid_auto_flow": null,
       "grid_auto_rows": null,
       "grid_column": null,
       "grid_gap": null,
       "grid_row": null,
       "grid_template_areas": null,
       "grid_template_columns": null,
       "grid_template_rows": null,
       "height": null,
       "justify_content": null,
       "justify_items": null,
       "left": null,
       "margin": null,
       "max_height": null,
       "max_width": null,
       "min_height": null,
       "min_width": null,
       "object_fit": null,
       "object_position": null,
       "order": null,
       "overflow": null,
       "padding": null,
       "right": null,
       "top": null,
       "visibility": null,
       "width": null
      }
     },
     "777cc4b5de684da7afdba4a951417074": {
      "model_module": "@jupyter-widgets/base",
      "model_module_version": "2.0.0",
      "model_name": "LayoutModel",
      "state": {
       "_model_module": "@jupyter-widgets/base",
       "_model_module_version": "2.0.0",
       "_model_name": "LayoutModel",
       "_view_count": null,
       "_view_module": "@jupyter-widgets/base",
       "_view_module_version": "2.0.0",
       "_view_name": "LayoutView",
       "align_content": null,
       "align_items": null,
       "align_self": null,
       "border_bottom": null,
       "border_left": null,
       "border_right": null,
       "border_top": null,
       "bottom": null,
       "display": null,
       "flex": null,
       "flex_flow": null,
       "grid_area": null,
       "grid_auto_columns": null,
       "grid_auto_flow": null,
       "grid_auto_rows": null,
       "grid_column": null,
       "grid_gap": null,
       "grid_row": null,
       "grid_template_areas": null,
       "grid_template_columns": null,
       "grid_template_rows": null,
       "height": null,
       "justify_content": null,
       "justify_items": null,
       "left": null,
       "margin": null,
       "max_height": null,
       "max_width": null,
       "min_height": null,
       "min_width": null,
       "object_fit": null,
       "object_position": null,
       "order": null,
       "overflow": null,
       "padding": null,
       "right": null,
       "top": null,
       "visibility": null,
       "width": null
      }
     },
     "7a06d12d5a5c47b5813296e2bfed9502": {
      "model_module": "@jupyter-widgets/controls",
      "model_module_version": "2.0.0",
      "model_name": "ProgressStyleModel",
      "state": {
       "_model_module": "@jupyter-widgets/controls",
       "_model_module_version": "2.0.0",
       "_model_name": "ProgressStyleModel",
       "_view_count": null,
       "_view_module": "@jupyter-widgets/base",
       "_view_module_version": "2.0.0",
       "_view_name": "StyleView",
       "bar_color": null,
       "description_width": ""
      }
     },
     "7a7f5977fcf2436dbf9e1aca75bdea6f": {
      "model_module": "@jupyter-widgets/base",
      "model_module_version": "2.0.0",
      "model_name": "LayoutModel",
      "state": {
       "_model_module": "@jupyter-widgets/base",
       "_model_module_version": "2.0.0",
       "_model_name": "LayoutModel",
       "_view_count": null,
       "_view_module": "@jupyter-widgets/base",
       "_view_module_version": "2.0.0",
       "_view_name": "LayoutView",
       "align_content": null,
       "align_items": null,
       "align_self": null,
       "border_bottom": null,
       "border_left": null,
       "border_right": null,
       "border_top": null,
       "bottom": null,
       "display": null,
       "flex": null,
       "flex_flow": null,
       "grid_area": null,
       "grid_auto_columns": null,
       "grid_auto_flow": null,
       "grid_auto_rows": null,
       "grid_column": null,
       "grid_gap": null,
       "grid_row": null,
       "grid_template_areas": null,
       "grid_template_columns": null,
       "grid_template_rows": null,
       "height": null,
       "justify_content": null,
       "justify_items": null,
       "left": null,
       "margin": null,
       "max_height": null,
       "max_width": null,
       "min_height": null,
       "min_width": null,
       "object_fit": null,
       "object_position": null,
       "order": null,
       "overflow": null,
       "padding": null,
       "right": null,
       "top": null,
       "visibility": null,
       "width": null
      }
     },
     "7c40a2b3b7404e3a87043e5464aa26e7": {
      "model_module": "@jupyter-widgets/base",
      "model_module_version": "2.0.0",
      "model_name": "LayoutModel",
      "state": {
       "_model_module": "@jupyter-widgets/base",
       "_model_module_version": "2.0.0",
       "_model_name": "LayoutModel",
       "_view_count": null,
       "_view_module": "@jupyter-widgets/base",
       "_view_module_version": "2.0.0",
       "_view_name": "LayoutView",
       "align_content": null,
       "align_items": null,
       "align_self": null,
       "border_bottom": null,
       "border_left": null,
       "border_right": null,
       "border_top": null,
       "bottom": null,
       "display": null,
       "flex": null,
       "flex_flow": null,
       "grid_area": null,
       "grid_auto_columns": null,
       "grid_auto_flow": null,
       "grid_auto_rows": null,
       "grid_column": null,
       "grid_gap": null,
       "grid_row": null,
       "grid_template_areas": null,
       "grid_template_columns": null,
       "grid_template_rows": null,
       "height": null,
       "justify_content": null,
       "justify_items": null,
       "left": null,
       "margin": null,
       "max_height": null,
       "max_width": null,
       "min_height": null,
       "min_width": null,
       "object_fit": null,
       "object_position": null,
       "order": null,
       "overflow": null,
       "padding": null,
       "right": null,
       "top": null,
       "visibility": null,
       "width": null
      }
     },
     "8543de7f3b0b4dd48a091535b349ff21": {
      "model_module": "@jupyter-widgets/controls",
      "model_module_version": "2.0.0",
      "model_name": "HTMLModel",
      "state": {
       "_dom_classes": [],
       "_model_module": "@jupyter-widgets/controls",
       "_model_module_version": "2.0.0",
       "_model_name": "HTMLModel",
       "_view_count": null,
       "_view_module": "@jupyter-widgets/controls",
       "_view_module_version": "2.0.0",
       "_view_name": "HTMLView",
       "description": "",
       "description_allow_html": false,
       "layout": "IPY_MODEL_23e585c457504528874528656a9b64d7",
       "placeholder": "​",
       "style": "IPY_MODEL_ff3a205d15da41559edd72d33b1c8aff",
       "tabbable": null,
       "tooltip": null,
       "value": "model.safetensors: 100%"
      }
     },
     "863fd65c140c48439d9fd1b6623ad78d": {
      "model_module": "@jupyter-widgets/controls",
      "model_module_version": "2.0.0",
      "model_name": "ProgressStyleModel",
      "state": {
       "_model_module": "@jupyter-widgets/controls",
       "_model_module_version": "2.0.0",
       "_model_name": "ProgressStyleModel",
       "_view_count": null,
       "_view_module": "@jupyter-widgets/base",
       "_view_module_version": "2.0.0",
       "_view_name": "StyleView",
       "bar_color": null,
       "description_width": ""
      }
     },
     "87421c5b77b14e219540d837b37344d8": {
      "model_module": "@jupyter-widgets/base",
      "model_module_version": "2.0.0",
      "model_name": "LayoutModel",
      "state": {
       "_model_module": "@jupyter-widgets/base",
       "_model_module_version": "2.0.0",
       "_model_name": "LayoutModel",
       "_view_count": null,
       "_view_module": "@jupyter-widgets/base",
       "_view_module_version": "2.0.0",
       "_view_name": "LayoutView",
       "align_content": null,
       "align_items": null,
       "align_self": null,
       "border_bottom": null,
       "border_left": null,
       "border_right": null,
       "border_top": null,
       "bottom": null,
       "display": null,
       "flex": null,
       "flex_flow": null,
       "grid_area": null,
       "grid_auto_columns": null,
       "grid_auto_flow": null,
       "grid_auto_rows": null,
       "grid_column": null,
       "grid_gap": null,
       "grid_row": null,
       "grid_template_areas": null,
       "grid_template_columns": null,
       "grid_template_rows": null,
       "height": null,
       "justify_content": null,
       "justify_items": null,
       "left": null,
       "margin": null,
       "max_height": null,
       "max_width": null,
       "min_height": null,
       "min_width": null,
       "object_fit": null,
       "object_position": null,
       "order": null,
       "overflow": null,
       "padding": null,
       "right": null,
       "top": null,
       "visibility": null,
       "width": null
      }
     },
     "874fa1479304442a9f43a9ee396236b3": {
      "model_module": "@jupyter-widgets/controls",
      "model_module_version": "2.0.0",
      "model_name": "HTMLModel",
      "state": {
       "_dom_classes": [],
       "_model_module": "@jupyter-widgets/controls",
       "_model_module_version": "2.0.0",
       "_model_name": "HTMLModel",
       "_view_count": null,
       "_view_module": "@jupyter-widgets/controls",
       "_view_module_version": "2.0.0",
       "_view_name": "HTMLView",
       "description": "",
       "description_allow_html": false,
       "layout": "IPY_MODEL_703aad79acc141d0b7fb4a5918cdc489",
       "placeholder": "​",
       "style": "IPY_MODEL_9b161adf8a9c4915bb3467397a9119bc",
       "tabbable": null,
       "tooltip": null,
       "value": " 502/502 [00:00&lt;00:00, 48.6kB/s]"
      }
     },
     "89ad73cc30754d259bea3acf165557f4": {
      "model_module": "@jupyter-widgets/controls",
      "model_module_version": "2.0.0",
      "model_name": "HTMLModel",
      "state": {
       "_dom_classes": [],
       "_model_module": "@jupyter-widgets/controls",
       "_model_module_version": "2.0.0",
       "_model_name": "HTMLModel",
       "_view_count": null,
       "_view_module": "@jupyter-widgets/controls",
       "_view_module_version": "2.0.0",
       "_view_name": "HTMLView",
       "description": "",
       "description_allow_html": false,
       "layout": "IPY_MODEL_57ef2bc876f34b879910b513985abe6e",
       "placeholder": "​",
       "style": "IPY_MODEL_19d170ae54a74892a64361210822634f",
       "tabbable": null,
       "tooltip": null,
       "value": " 1.04M/1.04M [00:00&lt;00:00, 15.2MB/s]"
      }
     },
     "8b1bdfda989a4ad1890a8d61bcf622ee": {
      "model_module": "@jupyter-widgets/base",
      "model_module_version": "2.0.0",
      "model_name": "LayoutModel",
      "state": {
       "_model_module": "@jupyter-widgets/base",
       "_model_module_version": "2.0.0",
       "_model_name": "LayoutModel",
       "_view_count": null,
       "_view_module": "@jupyter-widgets/base",
       "_view_module_version": "2.0.0",
       "_view_name": "LayoutView",
       "align_content": null,
       "align_items": null,
       "align_self": null,
       "border_bottom": null,
       "border_left": null,
       "border_right": null,
       "border_top": null,
       "bottom": null,
       "display": null,
       "flex": null,
       "flex_flow": null,
       "grid_area": null,
       "grid_auto_columns": null,
       "grid_auto_flow": null,
       "grid_auto_rows": null,
       "grid_column": null,
       "grid_gap": null,
       "grid_row": null,
       "grid_template_areas": null,
       "grid_template_columns": null,
       "grid_template_rows": null,
       "height": null,
       "justify_content": null,
       "justify_items": null,
       "left": null,
       "margin": null,
       "max_height": null,
       "max_width": null,
       "min_height": null,
       "min_width": null,
       "object_fit": null,
       "object_position": null,
       "order": null,
       "overflow": null,
       "padding": null,
       "right": null,
       "top": null,
       "visibility": null,
       "width": null
      }
     },
     "8ea03106489f4e45bd900e393154f1a4": {
      "model_module": "@jupyter-widgets/controls",
      "model_module_version": "2.0.0",
      "model_name": "HTMLStyleModel",
      "state": {
       "_model_module": "@jupyter-widgets/controls",
       "_model_module_version": "2.0.0",
       "_model_name": "HTMLStyleModel",
       "_view_count": null,
       "_view_module": "@jupyter-widgets/base",
       "_view_module_version": "2.0.0",
       "_view_name": "StyleView",
       "background": null,
       "description_width": "",
       "font_size": null,
       "text_color": null
      }
     },
     "90ae4e154dca4bdfba0ecb0675c3774e": {
      "model_module": "@jupyter-widgets/controls",
      "model_module_version": "2.0.0",
      "model_name": "HTMLStyleModel",
      "state": {
       "_model_module": "@jupyter-widgets/controls",
       "_model_module_version": "2.0.0",
       "_model_name": "HTMLStyleModel",
       "_view_count": null,
       "_view_module": "@jupyter-widgets/base",
       "_view_module_version": "2.0.0",
       "_view_name": "StyleView",
       "background": null,
       "description_width": "",
       "font_size": null,
       "text_color": null
      }
     },
     "91a40f4d474c485a97a852e1f5ac7f8c": {
      "model_module": "@jupyter-widgets/base",
      "model_module_version": "2.0.0",
      "model_name": "LayoutModel",
      "state": {
       "_model_module": "@jupyter-widgets/base",
       "_model_module_version": "2.0.0",
       "_model_name": "LayoutModel",
       "_view_count": null,
       "_view_module": "@jupyter-widgets/base",
       "_view_module_version": "2.0.0",
       "_view_name": "LayoutView",
       "align_content": null,
       "align_items": null,
       "align_self": null,
       "border_bottom": null,
       "border_left": null,
       "border_right": null,
       "border_top": null,
       "bottom": null,
       "display": null,
       "flex": null,
       "flex_flow": null,
       "grid_area": null,
       "grid_auto_columns": null,
       "grid_auto_flow": null,
       "grid_auto_rows": null,
       "grid_column": null,
       "grid_gap": null,
       "grid_row": null,
       "grid_template_areas": null,
       "grid_template_columns": null,
       "grid_template_rows": null,
       "height": null,
       "justify_content": null,
       "justify_items": null,
       "left": null,
       "margin": null,
       "max_height": null,
       "max_width": null,
       "min_height": null,
       "min_width": null,
       "object_fit": null,
       "object_position": null,
       "order": null,
       "overflow": null,
       "padding": null,
       "right": null,
       "top": null,
       "visibility": null,
       "width": null
      }
     },
     "9b161adf8a9c4915bb3467397a9119bc": {
      "model_module": "@jupyter-widgets/controls",
      "model_module_version": "2.0.0",
      "model_name": "HTMLStyleModel",
      "state": {
       "_model_module": "@jupyter-widgets/controls",
       "_model_module_version": "2.0.0",
       "_model_name": "HTMLStyleModel",
       "_view_count": null,
       "_view_module": "@jupyter-widgets/base",
       "_view_module_version": "2.0.0",
       "_view_name": "StyleView",
       "background": null,
       "description_width": "",
       "font_size": null,
       "text_color": null
      }
     },
     "9ff4018386f748b4ad4affc3fb0ecaab": {
      "model_module": "@jupyter-widgets/controls",
      "model_module_version": "2.0.0",
      "model_name": "HTMLStyleModel",
      "state": {
       "_model_module": "@jupyter-widgets/controls",
       "_model_module_version": "2.0.0",
       "_model_name": "HTMLStyleModel",
       "_view_count": null,
       "_view_module": "@jupyter-widgets/base",
       "_view_module_version": "2.0.0",
       "_view_name": "StyleView",
       "background": null,
       "description_width": "",
       "font_size": null,
       "text_color": null
      }
     },
     "a115f03fc49a4e2e955091067a85cfbb": {
      "model_module": "@jupyter-widgets/controls",
      "model_module_version": "2.0.0",
      "model_name": "HTMLStyleModel",
      "state": {
       "_model_module": "@jupyter-widgets/controls",
       "_model_module_version": "2.0.0",
       "_model_name": "HTMLStyleModel",
       "_view_count": null,
       "_view_module": "@jupyter-widgets/base",
       "_view_module_version": "2.0.0",
       "_view_name": "StyleView",
       "background": null,
       "description_width": "",
       "font_size": null,
       "text_color": null
      }
     },
     "a1f280f184f24e67b15e0c1fb1e1196b": {
      "model_module": "@jupyter-widgets/controls",
      "model_module_version": "2.0.0",
      "model_name": "ProgressStyleModel",
      "state": {
       "_model_module": "@jupyter-widgets/controls",
       "_model_module_version": "2.0.0",
       "_model_name": "ProgressStyleModel",
       "_view_count": null,
       "_view_module": "@jupyter-widgets/base",
       "_view_module_version": "2.0.0",
       "_view_name": "StyleView",
       "bar_color": null,
       "description_width": ""
      }
     },
     "a6acc7b659f9470db38002179d7d9add": {
      "model_module": "@jupyter-widgets/controls",
      "model_module_version": "2.0.0",
      "model_name": "FloatProgressModel",
      "state": {
       "_dom_classes": [],
       "_model_module": "@jupyter-widgets/controls",
       "_model_module_version": "2.0.0",
       "_model_name": "FloatProgressModel",
       "_view_count": null,
       "_view_module": "@jupyter-widgets/controls",
       "_view_module_version": "2.0.0",
       "_view_name": "ProgressView",
       "bar_style": "success",
       "description": "",
       "description_allow_html": false,
       "layout": "IPY_MODEL_e1730d1623734dda9666dcb830f32f02",
       "max": 26.0,
       "min": 0.0,
       "orientation": "horizontal",
       "style": "IPY_MODEL_418a67b26756445082d839abfd8a99a2",
       "tabbable": null,
       "tooltip": null,
       "value": 26.0
      }
     },
     "a70a1727a066471fa19692f73c401391": {
      "model_module": "@jupyter-widgets/base",
      "model_module_version": "2.0.0",
      "model_name": "LayoutModel",
      "state": {
       "_model_module": "@jupyter-widgets/base",
       "_model_module_version": "2.0.0",
       "_model_name": "LayoutModel",
       "_view_count": null,
       "_view_module": "@jupyter-widgets/base",
       "_view_module_version": "2.0.0",
       "_view_name": "LayoutView",
       "align_content": null,
       "align_items": null,
       "align_self": null,
       "border_bottom": null,
       "border_left": null,
       "border_right": null,
       "border_top": null,
       "bottom": null,
       "display": null,
       "flex": null,
       "flex_flow": null,
       "grid_area": null,
       "grid_auto_columns": null,
       "grid_auto_flow": null,
       "grid_auto_rows": null,
       "grid_column": null,
       "grid_gap": null,
       "grid_row": null,
       "grid_template_areas": null,
       "grid_template_columns": null,
       "grid_template_rows": null,
       "height": null,
       "justify_content": null,
       "justify_items": null,
       "left": null,
       "margin": null,
       "max_height": null,
       "max_width": null,
       "min_height": null,
       "min_width": null,
       "object_fit": null,
       "object_position": null,
       "order": null,
       "overflow": null,
       "padding": null,
       "right": null,
       "top": null,
       "visibility": null,
       "width": null
      }
     },
     "a9dcddc99f6f463eb171383fc0775d1f": {
      "model_module": "@jupyter-widgets/controls",
      "model_module_version": "2.0.0",
      "model_name": "HTMLStyleModel",
      "state": {
       "_model_module": "@jupyter-widgets/controls",
       "_model_module_version": "2.0.0",
       "_model_name": "HTMLStyleModel",
       "_view_count": null,
       "_view_module": "@jupyter-widgets/base",
       "_view_module_version": "2.0.0",
       "_view_name": "StyleView",
       "background": null,
       "description_width": "",
       "font_size": null,
       "text_color": null
      }
     },
     "af50aef6ae8345998141b230c9f87052": {
      "model_module": "@jupyter-widgets/controls",
      "model_module_version": "2.0.0",
      "model_name": "HTMLModel",
      "state": {
       "_dom_classes": [],
       "_model_module": "@jupyter-widgets/controls",
       "_model_module_version": "2.0.0",
       "_model_name": "HTMLModel",
       "_view_count": null,
       "_view_module": "@jupyter-widgets/controls",
       "_view_module_version": "2.0.0",
       "_view_name": "HTMLView",
       "description": "",
       "description_allow_html": false,
       "layout": "IPY_MODEL_6a947d6e0e9a41a5a5cfe3774c826cb6",
       "placeholder": "​",
       "style": "IPY_MODEL_1a13a75660c847efba1a58213f056e76",
       "tabbable": null,
       "tooltip": null,
       "value": "config.json: 100%"
      }
     },
     "b0eb8677fa7b4a9aab01b9c1e538d3d0": {
      "model_module": "@jupyter-widgets/controls",
      "model_module_version": "2.0.0",
      "model_name": "HBoxModel",
      "state": {
       "_dom_classes": [],
       "_model_module": "@jupyter-widgets/controls",
       "_model_module_version": "2.0.0",
       "_model_name": "HBoxModel",
       "_view_count": null,
       "_view_module": "@jupyter-widgets/controls",
       "_view_module_version": "2.0.0",
       "_view_name": "HBoxView",
       "box_style": "",
       "children": [
        "IPY_MODEL_3aee35bcb40245acb56d4957c8db5bbd",
        "IPY_MODEL_d54a11c8bb75483798f57c3d0e6c52bb",
        "IPY_MODEL_3e9c1643eee44b1baba8d531a0d5e137"
       ],
       "layout": "IPY_MODEL_392df79a46ae46ccbaaa5a33dfb230d2",
       "tabbable": null,
       "tooltip": null
      }
     },
     "b15e1ef5f1cd4eeeb394d5602571f3d3": {
      "model_module": "@jupyter-widgets/controls",
      "model_module_version": "2.0.0",
      "model_name": "HTMLModel",
      "state": {
       "_dom_classes": [],
       "_model_module": "@jupyter-widgets/controls",
       "_model_module_version": "2.0.0",
       "_model_name": "HTMLModel",
       "_view_count": null,
       "_view_module": "@jupyter-widgets/controls",
       "_view_module_version": "2.0.0",
       "_view_name": "HTMLView",
       "description": "",
       "description_allow_html": false,
       "layout": "IPY_MODEL_4fc77d9f3955413d80220de74a479b0f",
       "placeholder": "​",
       "style": "IPY_MODEL_b66b7d9651c848a2a8f708ee24bc70c1",
       "tabbable": null,
       "tooltip": null,
       "value": "config.json: 100%"
      }
     },
     "b66b7d9651c848a2a8f708ee24bc70c1": {
      "model_module": "@jupyter-widgets/controls",
      "model_module_version": "2.0.0",
      "model_name": "HTMLStyleModel",
      "state": {
       "_model_module": "@jupyter-widgets/controls",
       "_model_module_version": "2.0.0",
       "_model_name": "HTMLStyleModel",
       "_view_count": null,
       "_view_module": "@jupyter-widgets/base",
       "_view_module_version": "2.0.0",
       "_view_name": "StyleView",
       "background": null,
       "description_width": "",
       "font_size": null,
       "text_color": null
      }
     },
     "b755298a992443198a62bf9de91a8b85": {
      "model_module": "@jupyter-widgets/base",
      "model_module_version": "2.0.0",
      "model_name": "LayoutModel",
      "state": {
       "_model_module": "@jupyter-widgets/base",
       "_model_module_version": "2.0.0",
       "_model_name": "LayoutModel",
       "_view_count": null,
       "_view_module": "@jupyter-widgets/base",
       "_view_module_version": "2.0.0",
       "_view_name": "LayoutView",
       "align_content": null,
       "align_items": null,
       "align_self": null,
       "border_bottom": null,
       "border_left": null,
       "border_right": null,
       "border_top": null,
       "bottom": null,
       "display": null,
       "flex": null,
       "flex_flow": null,
       "grid_area": null,
       "grid_auto_columns": null,
       "grid_auto_flow": null,
       "grid_auto_rows": null,
       "grid_column": null,
       "grid_gap": null,
       "grid_row": null,
       "grid_template_areas": null,
       "grid_template_columns": null,
       "grid_template_rows": null,
       "height": null,
       "justify_content": null,
       "justify_items": null,
       "left": null,
       "margin": null,
       "max_height": null,
       "max_width": null,
       "min_height": null,
       "min_width": null,
       "object_fit": null,
       "object_position": null,
       "order": null,
       "overflow": null,
       "padding": null,
       "right": null,
       "top": null,
       "visibility": null,
       "width": null
      }
     },
     "b9bc7c2e9fa748239d1faf25a0d0ea71": {
      "model_module": "@jupyter-widgets/controls",
      "model_module_version": "2.0.0",
      "model_name": "HTMLModel",
      "state": {
       "_dom_classes": [],
       "_model_module": "@jupyter-widgets/controls",
       "_model_module_version": "2.0.0",
       "_model_name": "HTMLModel",
       "_view_count": null,
       "_view_module": "@jupyter-widgets/controls",
       "_view_module_version": "2.0.0",
       "_view_name": "HTMLView",
       "description": "",
       "description_allow_html": false,
       "layout": "IPY_MODEL_080a137bf1084761852163f9804dc316",
       "placeholder": "​",
       "style": "IPY_MODEL_054eeb09d14d45b390953b1ee0b77e17",
       "tabbable": null,
       "tooltip": null,
       "value": "tokenizer_config.json: 100%"
      }
     },
     "bc0913e6546949dca1a097cb2f33358e": {
      "model_module": "@jupyter-widgets/base",
      "model_module_version": "2.0.0",
      "model_name": "LayoutModel",
      "state": {
       "_model_module": "@jupyter-widgets/base",
       "_model_module_version": "2.0.0",
       "_model_name": "LayoutModel",
       "_view_count": null,
       "_view_module": "@jupyter-widgets/base",
       "_view_module_version": "2.0.0",
       "_view_name": "LayoutView",
       "align_content": null,
       "align_items": null,
       "align_self": null,
       "border_bottom": null,
       "border_left": null,
       "border_right": null,
       "border_top": null,
       "bottom": null,
       "display": null,
       "flex": null,
       "flex_flow": null,
       "grid_area": null,
       "grid_auto_columns": null,
       "grid_auto_flow": null,
       "grid_auto_rows": null,
       "grid_column": null,
       "grid_gap": null,
       "grid_row": null,
       "grid_template_areas": null,
       "grid_template_columns": null,
       "grid_template_rows": null,
       "height": null,
       "justify_content": null,
       "justify_items": null,
       "left": null,
       "margin": null,
       "max_height": null,
       "max_width": null,
       "min_height": null,
       "min_width": null,
       "object_fit": null,
       "object_position": null,
       "order": null,
       "overflow": null,
       "padding": null,
       "right": null,
       "top": null,
       "visibility": null,
       "width": null
      }
     },
     "bc35db6c752741ed9c8bdb367ee83b2d": {
      "model_module": "@jupyter-widgets/controls",
      "model_module_version": "2.0.0",
      "model_name": "HBoxModel",
      "state": {
       "_dom_classes": [],
       "_model_module": "@jupyter-widgets/controls",
       "_model_module_version": "2.0.0",
       "_model_name": "HBoxModel",
       "_view_count": null,
       "_view_module": "@jupyter-widgets/controls",
       "_view_module_version": "2.0.0",
       "_view_name": "HBoxView",
       "box_style": "",
       "children": [
        "IPY_MODEL_35a9b6dedcbc44b393490d2580f3fd17",
        "IPY_MODEL_01d994ad70d24d1083ed0ec0cbbc1645",
        "IPY_MODEL_e3d9a164101043da82f51a65a44f5d01"
       ],
       "layout": "IPY_MODEL_a70a1727a066471fa19692f73c401391",
       "tabbable": null,
       "tooltip": null
      }
     },
     "bff4c06d2ef0418b9ad16e4d31ff209f": {
      "model_module": "@jupyter-widgets/base",
      "model_module_version": "2.0.0",
      "model_name": "LayoutModel",
      "state": {
       "_model_module": "@jupyter-widgets/base",
       "_model_module_version": "2.0.0",
       "_model_name": "LayoutModel",
       "_view_count": null,
       "_view_module": "@jupyter-widgets/base",
       "_view_module_version": "2.0.0",
       "_view_name": "LayoutView",
       "align_content": null,
       "align_items": null,
       "align_self": null,
       "border_bottom": null,
       "border_left": null,
       "border_right": null,
       "border_top": null,
       "bottom": null,
       "display": null,
       "flex": null,
       "flex_flow": null,
       "grid_area": null,
       "grid_auto_columns": null,
       "grid_auto_flow": null,
       "grid_auto_rows": null,
       "grid_column": null,
       "grid_gap": null,
       "grid_row": null,
       "grid_template_areas": null,
       "grid_template_columns": null,
       "grid_template_rows": null,
       "height": null,
       "justify_content": null,
       "justify_items": null,
       "left": null,
       "margin": null,
       "max_height": null,
       "max_width": null,
       "min_height": null,
       "min_width": null,
       "object_fit": null,
       "object_position": null,
       "order": null,
       "overflow": null,
       "padding": null,
       "right": null,
       "top": null,
       "visibility": null,
       "width": null
      }
     },
     "c1c0c4c583af4049bd7930549d221ca9": {
      "model_module": "@jupyter-widgets/controls",
      "model_module_version": "2.0.0",
      "model_name": "FloatProgressModel",
      "state": {
       "_dom_classes": [],
       "_model_module": "@jupyter-widgets/controls",
       "_model_module_version": "2.0.0",
       "_model_name": "FloatProgressModel",
       "_view_count": null,
       "_view_module": "@jupyter-widgets/controls",
       "_view_module_version": "2.0.0",
       "_view_name": "ProgressView",
       "bar_style": "success",
       "description": "",
       "description_allow_html": false,
       "layout": "IPY_MODEL_bff4c06d2ef0418b9ad16e4d31ff209f",
       "max": 456318.0,
       "min": 0.0,
       "orientation": "horizontal",
       "style": "IPY_MODEL_2d6d80cdb1664920bcf3023744e3cd82",
       "tabbable": null,
       "tooltip": null,
       "value": 456318.0
      }
     },
     "c40f69e9fa2a47198f5ba9aa10926b6b": {
      "model_module": "@jupyter-widgets/controls",
      "model_module_version": "2.0.0",
      "model_name": "HBoxModel",
      "state": {
       "_dom_classes": [],
       "_model_module": "@jupyter-widgets/controls",
       "_model_module_version": "2.0.0",
       "_model_name": "HBoxModel",
       "_view_count": null,
       "_view_module": "@jupyter-widgets/controls",
       "_view_module_version": "2.0.0",
       "_view_name": "HBoxView",
       "box_style": "",
       "children": [
        "IPY_MODEL_2c7e100d5eae45abb8a220e5102bfffe",
        "IPY_MODEL_33e9d0a66dbb463f8eddc7dd991369e6",
        "IPY_MODEL_89ad73cc30754d259bea3acf165557f4"
       ],
       "layout": "IPY_MODEL_b755298a992443198a62bf9de91a8b85",
       "tabbable": null,
       "tooltip": null
      }
     },
     "c8c1ad087d6c486d8df3707bdc853d05": {
      "model_module": "@jupyter-widgets/controls",
      "model_module_version": "2.0.0",
      "model_name": "HBoxModel",
      "state": {
       "_dom_classes": [],
       "_model_module": "@jupyter-widgets/controls",
       "_model_module_version": "2.0.0",
       "_model_name": "HBoxModel",
       "_view_count": null,
       "_view_module": "@jupyter-widgets/controls",
       "_view_module_version": "2.0.0",
       "_view_name": "HBoxView",
       "box_style": "",
       "children": [
        "IPY_MODEL_8543de7f3b0b4dd48a091535b349ff21",
        "IPY_MODEL_1113aef6f4b54d3c9612b8944e211317",
        "IPY_MODEL_ec00a16e8eaf486aa4015aa5efe6b287"
       ],
       "layout": "IPY_MODEL_91a40f4d474c485a97a852e1f5ac7f8c",
       "tabbable": null,
       "tooltip": null
      }
     },
     "d0399b57130047be83827615aaedad11": {
      "model_module": "@jupyter-widgets/base",
      "model_module_version": "2.0.0",
      "model_name": "LayoutModel",
      "state": {
       "_model_module": "@jupyter-widgets/base",
       "_model_module_version": "2.0.0",
       "_model_name": "LayoutModel",
       "_view_count": null,
       "_view_module": "@jupyter-widgets/base",
       "_view_module_version": "2.0.0",
       "_view_name": "LayoutView",
       "align_content": null,
       "align_items": null,
       "align_self": null,
       "border_bottom": null,
       "border_left": null,
       "border_right": null,
       "border_top": null,
       "bottom": null,
       "display": null,
       "flex": null,
       "flex_flow": null,
       "grid_area": null,
       "grid_auto_columns": null,
       "grid_auto_flow": null,
       "grid_auto_rows": null,
       "grid_column": null,
       "grid_gap": null,
       "grid_row": null,
       "grid_template_areas": null,
       "grid_template_columns": null,
       "grid_template_rows": null,
       "height": null,
       "justify_content": null,
       "justify_items": null,
       "left": null,
       "margin": null,
       "max_height": null,
       "max_width": null,
       "min_height": null,
       "min_width": null,
       "object_fit": null,
       "object_position": null,
       "order": null,
       "overflow": null,
       "padding": null,
       "right": null,
       "top": null,
       "visibility": null,
       "width": null
      }
     },
     "d493c113de92459dbbea3c81328f7178": {
      "model_module": "@jupyter-widgets/controls",
      "model_module_version": "2.0.0",
      "model_name": "HBoxModel",
      "state": {
       "_dom_classes": [],
       "_model_module": "@jupyter-widgets/controls",
       "_model_module_version": "2.0.0",
       "_model_name": "HBoxModel",
       "_view_count": null,
       "_view_module": "@jupyter-widgets/controls",
       "_view_module_version": "2.0.0",
       "_view_name": "HBoxView",
       "box_style": "",
       "children": [
        "IPY_MODEL_af50aef6ae8345998141b230c9f87052",
        "IPY_MODEL_10dbb0ab512b496da0bd9de8ca720a29",
        "IPY_MODEL_d94ce413359a419982687c1befb32f8d"
       ],
       "layout": "IPY_MODEL_e1acc132f19746ccbd4ecc4468a9d1ad",
       "tabbable": null,
       "tooltip": null
      }
     },
     "d54a11c8bb75483798f57c3d0e6c52bb": {
      "model_module": "@jupyter-widgets/controls",
      "model_module_version": "2.0.0",
      "model_name": "FloatProgressModel",
      "state": {
       "_dom_classes": [],
       "_model_module": "@jupyter-widgets/controls",
       "_model_module_version": "2.0.0",
       "_model_name": "FloatProgressModel",
       "_view_count": null,
       "_view_module": "@jupyter-widgets/controls",
       "_view_module_version": "2.0.0",
       "_view_name": "ProgressView",
       "bar_style": "success",
       "description": "",
       "description_allow_html": false,
       "layout": "IPY_MODEL_fa8c3d6739a34c4781504bdc950d9503",
       "max": 345579424.0,
       "min": 0.0,
       "orientation": "horizontal",
       "style": "IPY_MODEL_2352f2f20aea45fe8f5348841f65816e",
       "tabbable": null,
       "tooltip": null,
       "value": 345579424.0
      }
     },
     "d5d21124b50b4cb0a99e6bfc126cc9c5": {
      "model_module": "@jupyter-widgets/base",
      "model_module_version": "2.0.0",
      "model_name": "LayoutModel",
      "state": {
       "_model_module": "@jupyter-widgets/base",
       "_model_module_version": "2.0.0",
       "_model_name": "LayoutModel",
       "_view_count": null,
       "_view_module": "@jupyter-widgets/base",
       "_view_module_version": "2.0.0",
       "_view_name": "LayoutView",
       "align_content": null,
       "align_items": null,
       "align_self": null,
       "border_bottom": null,
       "border_left": null,
       "border_right": null,
       "border_top": null,
       "bottom": null,
       "display": null,
       "flex": null,
       "flex_flow": null,
       "grid_area": null,
       "grid_auto_columns": null,
       "grid_auto_flow": null,
       "grid_auto_rows": null,
       "grid_column": null,
       "grid_gap": null,
       "grid_row": null,
       "grid_template_areas": null,
       "grid_template_columns": null,
       "grid_template_rows": null,
       "height": null,
       "justify_content": null,
       "justify_items": null,
       "left": null,
       "margin": null,
       "max_height": null,
       "max_width": null,
       "min_height": null,
       "min_width": null,
       "object_fit": null,
       "object_position": null,
       "order": null,
       "overflow": null,
       "padding": null,
       "right": null,
       "top": null,
       "visibility": null,
       "width": null
      }
     },
     "d6f4d2a0ae8747c69c3a989f1fb3bfe2": {
      "model_module": "@jupyter-widgets/controls",
      "model_module_version": "2.0.0",
      "model_name": "ProgressStyleModel",
      "state": {
       "_model_module": "@jupyter-widgets/controls",
       "_model_module_version": "2.0.0",
       "_model_name": "ProgressStyleModel",
       "_view_count": null,
       "_view_module": "@jupyter-widgets/base",
       "_view_module_version": "2.0.0",
       "_view_name": "StyleView",
       "bar_color": null,
       "description_width": ""
      }
     },
     "d8725c6efba3476c9e5716fb7eda7aef": {
      "model_module": "@jupyter-widgets/base",
      "model_module_version": "2.0.0",
      "model_name": "LayoutModel",
      "state": {
       "_model_module": "@jupyter-widgets/base",
       "_model_module_version": "2.0.0",
       "_model_name": "LayoutModel",
       "_view_count": null,
       "_view_module": "@jupyter-widgets/base",
       "_view_module_version": "2.0.0",
       "_view_name": "LayoutView",
       "align_content": null,
       "align_items": null,
       "align_self": null,
       "border_bottom": null,
       "border_left": null,
       "border_right": null,
       "border_top": null,
       "bottom": null,
       "display": null,
       "flex": null,
       "flex_flow": null,
       "grid_area": null,
       "grid_auto_columns": null,
       "grid_auto_flow": null,
       "grid_auto_rows": null,
       "grid_column": null,
       "grid_gap": null,
       "grid_row": null,
       "grid_template_areas": null,
       "grid_template_columns": null,
       "grid_template_rows": null,
       "height": null,
       "justify_content": null,
       "justify_items": null,
       "left": null,
       "margin": null,
       "max_height": null,
       "max_width": null,
       "min_height": null,
       "min_width": null,
       "object_fit": null,
       "object_position": null,
       "order": null,
       "overflow": null,
       "padding": null,
       "right": null,
       "top": null,
       "visibility": null,
       "width": null
      }
     },
     "d94ce413359a419982687c1befb32f8d": {
      "model_module": "@jupyter-widgets/controls",
      "model_module_version": "2.0.0",
      "model_name": "HTMLModel",
      "state": {
       "_dom_classes": [],
       "_model_module": "@jupyter-widgets/controls",
       "_model_module_version": "2.0.0",
       "_model_name": "HTMLModel",
       "_view_count": null,
       "_view_module": "@jupyter-widgets/controls",
       "_view_module_version": "2.0.0",
       "_view_name": "HTMLView",
       "description": "",
       "description_allow_html": false,
       "layout": "IPY_MODEL_87421c5b77b14e219540d837b37344d8",
       "placeholder": "​",
       "style": "IPY_MODEL_8ea03106489f4e45bd900e393154f1a4",
       "tabbable": null,
       "tooltip": null,
       "value": " 762/762 [00:00&lt;00:00, 75.4kB/s]"
      }
     },
     "e050bcb5c75f4530b75fead22b3c6ef0": {
      "model_module": "@jupyter-widgets/controls",
      "model_module_version": "2.0.0",
      "model_name": "FloatProgressModel",
      "state": {
       "_dom_classes": [],
       "_model_module": "@jupyter-widgets/controls",
       "_model_module_version": "2.0.0",
       "_model_name": "FloatProgressModel",
       "_view_count": null,
       "_view_module": "@jupyter-widgets/controls",
       "_view_module_version": "2.0.0",
       "_view_name": "ProgressView",
       "bar_style": "success",
       "description": "",
       "description_allow_html": false,
       "layout": "IPY_MODEL_7a7f5977fcf2436dbf9e1aca75bdea6f",
       "max": 502.0,
       "min": 0.0,
       "orientation": "horizontal",
       "style": "IPY_MODEL_d6f4d2a0ae8747c69c3a989f1fb3bfe2",
       "tabbable": null,
       "tooltip": null,
       "value": 502.0
      }
     },
     "e1730d1623734dda9666dcb830f32f02": {
      "model_module": "@jupyter-widgets/base",
      "model_module_version": "2.0.0",
      "model_name": "LayoutModel",
      "state": {
       "_model_module": "@jupyter-widgets/base",
       "_model_module_version": "2.0.0",
       "_model_name": "LayoutModel",
       "_view_count": null,
       "_view_module": "@jupyter-widgets/base",
       "_view_module_version": "2.0.0",
       "_view_name": "LayoutView",
       "align_content": null,
       "align_items": null,
       "align_self": null,
       "border_bottom": null,
       "border_left": null,
       "border_right": null,
       "border_top": null,
       "bottom": null,
       "display": null,
       "flex": null,
       "flex_flow": null,
       "grid_area": null,
       "grid_auto_columns": null,
       "grid_auto_flow": null,
       "grid_auto_rows": null,
       "grid_column": null,
       "grid_gap": null,
       "grid_row": null,
       "grid_template_areas": null,
       "grid_template_columns": null,
       "grid_template_rows": null,
       "height": null,
       "justify_content": null,
       "justify_items": null,
       "left": null,
       "margin": null,
       "max_height": null,
       "max_width": null,
       "min_height": null,
       "min_width": null,
       "object_fit": null,
       "object_position": null,
       "order": null,
       "overflow": null,
       "padding": null,
       "right": null,
       "top": null,
       "visibility": null,
       "width": null
      }
     },
     "e1acc132f19746ccbd4ecc4468a9d1ad": {
      "model_module": "@jupyter-widgets/base",
      "model_module_version": "2.0.0",
      "model_name": "LayoutModel",
      "state": {
       "_model_module": "@jupyter-widgets/base",
       "_model_module_version": "2.0.0",
       "_model_name": "LayoutModel",
       "_view_count": null,
       "_view_module": "@jupyter-widgets/base",
       "_view_module_version": "2.0.0",
       "_view_name": "LayoutView",
       "align_content": null,
       "align_items": null,
       "align_self": null,
       "border_bottom": null,
       "border_left": null,
       "border_right": null,
       "border_top": null,
       "bottom": null,
       "display": null,
       "flex": null,
       "flex_flow": null,
       "grid_area": null,
       "grid_auto_columns": null,
       "grid_auto_flow": null,
       "grid_auto_rows": null,
       "grid_column": null,
       "grid_gap": null,
       "grid_row": null,
       "grid_template_areas": null,
       "grid_template_columns": null,
       "grid_template_rows": null,
       "height": null,
       "justify_content": null,
       "justify_items": null,
       "left": null,
       "margin": null,
       "max_height": null,
       "max_width": null,
       "min_height": null,
       "min_width": null,
       "object_fit": null,
       "object_position": null,
       "order": null,
       "overflow": null,
       "padding": null,
       "right": null,
       "top": null,
       "visibility": null,
       "width": null
      }
     },
     "e3d9a164101043da82f51a65a44f5d01": {
      "model_module": "@jupyter-widgets/controls",
      "model_module_version": "2.0.0",
      "model_name": "HTMLModel",
      "state": {
       "_dom_classes": [],
       "_model_module": "@jupyter-widgets/controls",
       "_model_module_version": "2.0.0",
       "_model_name": "HTMLModel",
       "_view_count": null,
       "_view_module": "@jupyter-widgets/controls",
       "_view_module_version": "2.0.0",
       "_view_name": "HTMLView",
       "description": "",
       "description_allow_html": false,
       "layout": "IPY_MODEL_d5d21124b50b4cb0a99e6bfc126cc9c5",
       "placeholder": "​",
       "style": "IPY_MODEL_1c4333d0e7664605a8a1868c28369e50",
       "tabbable": null,
       "tooltip": null,
       "value": " 124/124 [00:00&lt;00:00, 12.7kB/s]"
      }
     },
     "e9814f6e537c4b0a8429ffad0c58491a": {
      "model_module": "@jupyter-widgets/base",
      "model_module_version": "2.0.0",
      "model_name": "LayoutModel",
      "state": {
       "_model_module": "@jupyter-widgets/base",
       "_model_module_version": "2.0.0",
       "_model_name": "LayoutModel",
       "_view_count": null,
       "_view_module": "@jupyter-widgets/base",
       "_view_module_version": "2.0.0",
       "_view_name": "LayoutView",
       "align_content": null,
       "align_items": null,
       "align_self": null,
       "border_bottom": null,
       "border_left": null,
       "border_right": null,
       "border_top": null,
       "bottom": null,
       "display": null,
       "flex": null,
       "flex_flow": null,
       "grid_area": null,
       "grid_auto_columns": null,
       "grid_auto_flow": null,
       "grid_auto_rows": null,
       "grid_column": null,
       "grid_gap": null,
       "grid_row": null,
       "grid_template_areas": null,
       "grid_template_columns": null,
       "grid_template_rows": null,
       "height": null,
       "justify_content": null,
       "justify_items": null,
       "left": null,
       "margin": null,
       "max_height": null,
       "max_width": null,
       "min_height": null,
       "min_width": null,
       "object_fit": null,
       "object_position": null,
       "order": null,
       "overflow": null,
       "padding": null,
       "right": null,
       "top": null,
       "visibility": null,
       "width": null
      }
     },
     "e9ed7baec3e843cbb265b0e33016e556": {
      "model_module": "@jupyter-widgets/controls",
      "model_module_version": "2.0.0",
      "model_name": "HTMLStyleModel",
      "state": {
       "_model_module": "@jupyter-widgets/controls",
       "_model_module_version": "2.0.0",
       "_model_name": "HTMLStyleModel",
       "_view_count": null,
       "_view_module": "@jupyter-widgets/base",
       "_view_module_version": "2.0.0",
       "_view_name": "StyleView",
       "background": null,
       "description_width": "",
       "font_size": null,
       "text_color": null
      }
     },
     "eabd8af01acc4c238a67a55202ed7fbd": {
      "model_module": "@jupyter-widgets/controls",
      "model_module_version": "2.0.0",
      "model_name": "HBoxModel",
      "state": {
       "_dom_classes": [],
       "_model_module": "@jupyter-widgets/controls",
       "_model_module_version": "2.0.0",
       "_model_name": "HBoxModel",
       "_view_count": null,
       "_view_module": "@jupyter-widgets/controls",
       "_view_module_version": "2.0.0",
       "_view_name": "HBoxView",
       "box_style": "",
       "children": [
        "IPY_MODEL_4124876cc92b4c658a9e35369aa229fb",
        "IPY_MODEL_0c01b01f7fe54e18b8771ec50d75de84",
        "IPY_MODEL_2b675ecea0bf4d618f532b38d44b5636"
       ],
       "layout": "IPY_MODEL_d8725c6efba3476c9e5716fb7eda7aef",
       "tabbable": null,
       "tooltip": null
      }
     },
     "ec00a16e8eaf486aa4015aa5efe6b287": {
      "model_module": "@jupyter-widgets/controls",
      "model_module_version": "2.0.0",
      "model_name": "HTMLModel",
      "state": {
       "_dom_classes": [],
       "_model_module": "@jupyter-widgets/controls",
       "_model_module_version": "2.0.0",
       "_model_name": "HTMLModel",
       "_view_count": null,
       "_view_module": "@jupyter-widgets/controls",
       "_view_module_version": "2.0.0",
       "_view_name": "HTMLView",
       "description": "",
       "description_allow_html": false,
       "layout": "IPY_MODEL_6a446affbf7c4db9a7c06881dace07a0",
       "placeholder": "​",
       "style": "IPY_MODEL_fb387e9f3c0c44d090a76cedbbd1f330",
       "tabbable": null,
       "tooltip": null,
       "value": " 353M/353M [00:02&lt;00:00, 155MB/s]"
      }
     },
     "ee0fe8c2464e44e0b82acd8429a68f7f": {
      "model_module": "@jupyter-widgets/controls",
      "model_module_version": "2.0.0",
      "model_name": "HTMLModel",
      "state": {
       "_dom_classes": [],
       "_model_module": "@jupyter-widgets/controls",
       "_model_module_version": "2.0.0",
       "_model_name": "HTMLModel",
       "_view_count": null,
       "_view_module": "@jupyter-widgets/controls",
       "_view_module_version": "2.0.0",
       "_view_name": "HTMLView",
       "description": "",
       "description_allow_html": false,
       "layout": "IPY_MODEL_1511d8bd34994e44a343b5be639322dc",
       "placeholder": "​",
       "style": "IPY_MODEL_9ff4018386f748b4ad4affc3fb0ecaab",
       "tabbable": null,
       "tooltip": null,
       "value": " 456k/456k [00:00&lt;00:00, 25.1MB/s]"
      }
     },
     "eebda63766e146f896a347464addbd44": {
      "model_module": "@jupyter-widgets/base",
      "model_module_version": "2.0.0",
      "model_name": "LayoutModel",
      "state": {
       "_model_module": "@jupyter-widgets/base",
       "_model_module_version": "2.0.0",
       "_model_name": "LayoutModel",
       "_view_count": null,
       "_view_module": "@jupyter-widgets/base",
       "_view_module_version": "2.0.0",
       "_view_name": "LayoutView",
       "align_content": null,
       "align_items": null,
       "align_self": null,
       "border_bottom": null,
       "border_left": null,
       "border_right": null,
       "border_top": null,
       "bottom": null,
       "display": null,
       "flex": null,
       "flex_flow": null,
       "grid_area": null,
       "grid_auto_columns": null,
       "grid_auto_flow": null,
       "grid_auto_rows": null,
       "grid_column": null,
       "grid_gap": null,
       "grid_row": null,
       "grid_template_areas": null,
       "grid_template_columns": null,
       "grid_template_rows": null,
       "height": null,
       "justify_content": null,
       "justify_items": null,
       "left": null,
       "margin": null,
       "max_height": null,
       "max_width": null,
       "min_height": null,
       "min_width": null,
       "object_fit": null,
       "object_position": null,
       "order": null,
       "overflow": null,
       "padding": null,
       "right": null,
       "top": null,
       "visibility": null,
       "width": null
      }
     },
     "f1548af0d3304f16be8d722d02946958": {
      "model_module": "@jupyter-widgets/controls",
      "model_module_version": "2.0.0",
      "model_name": "HTMLStyleModel",
      "state": {
       "_model_module": "@jupyter-widgets/controls",
       "_model_module_version": "2.0.0",
       "_model_name": "HTMLStyleModel",
       "_view_count": null,
       "_view_module": "@jupyter-widgets/base",
       "_view_module_version": "2.0.0",
       "_view_name": "StyleView",
       "background": null,
       "description_width": "",
       "font_size": null,
       "text_color": null
      }
     },
     "f5b8838a988340108b8f78c5faf481b1": {
      "model_module": "@jupyter-widgets/controls",
      "model_module_version": "2.0.0",
      "model_name": "HBoxModel",
      "state": {
       "_dom_classes": [],
       "_model_module": "@jupyter-widgets/controls",
       "_model_module_version": "2.0.0",
       "_model_name": "HBoxModel",
       "_view_count": null,
       "_view_module": "@jupyter-widgets/controls",
       "_view_module_version": "2.0.0",
       "_view_name": "HBoxView",
       "box_style": "",
       "children": [
        "IPY_MODEL_b15e1ef5f1cd4eeeb394d5602571f3d3",
        "IPY_MODEL_e050bcb5c75f4530b75fead22b3c6ef0",
        "IPY_MODEL_874fa1479304442a9f43a9ee396236b3"
       ],
       "layout": "IPY_MODEL_8b1bdfda989a4ad1890a8d61bcf622ee",
       "tabbable": null,
       "tooltip": null
      }
     },
     "f9a0bf41b9a8418aafa9550c384a85da": {
      "model_module": "@jupyter-widgets/base",
      "model_module_version": "2.0.0",
      "model_name": "LayoutModel",
      "state": {
       "_model_module": "@jupyter-widgets/base",
       "_model_module_version": "2.0.0",
       "_model_name": "LayoutModel",
       "_view_count": null,
       "_view_module": "@jupyter-widgets/base",
       "_view_module_version": "2.0.0",
       "_view_name": "LayoutView",
       "align_content": null,
       "align_items": null,
       "align_self": null,
       "border_bottom": null,
       "border_left": null,
       "border_right": null,
       "border_top": null,
       "bottom": null,
       "display": null,
       "flex": null,
       "flex_flow": null,
       "grid_area": null,
       "grid_auto_columns": null,
       "grid_auto_flow": null,
       "grid_auto_rows": null,
       "grid_column": null,
       "grid_gap": null,
       "grid_row": null,
       "grid_template_areas": null,
       "grid_template_columns": null,
       "grid_template_rows": null,
       "height": null,
       "justify_content": null,
       "justify_items": null,
       "left": null,
       "margin": null,
       "max_height": null,
       "max_width": null,
       "min_height": null,
       "min_width": null,
       "object_fit": null,
       "object_position": null,
       "order": null,
       "overflow": null,
       "padding": null,
       "right": null,
       "top": null,
       "visibility": null,
       "width": null
      }
     },
     "fa8c3d6739a34c4781504bdc950d9503": {
      "model_module": "@jupyter-widgets/base",
      "model_module_version": "2.0.0",
      "model_name": "LayoutModel",
      "state": {
       "_model_module": "@jupyter-widgets/base",
       "_model_module_version": "2.0.0",
       "_model_name": "LayoutModel",
       "_view_count": null,
       "_view_module": "@jupyter-widgets/base",
       "_view_module_version": "2.0.0",
       "_view_name": "LayoutView",
       "align_content": null,
       "align_items": null,
       "align_self": null,
       "border_bottom": null,
       "border_left": null,
       "border_right": null,
       "border_top": null,
       "bottom": null,
       "display": null,
       "flex": null,
       "flex_flow": null,
       "grid_area": null,
       "grid_auto_columns": null,
       "grid_auto_flow": null,
       "grid_auto_rows": null,
       "grid_column": null,
       "grid_gap": null,
       "grid_row": null,
       "grid_template_areas": null,
       "grid_template_columns": null,
       "grid_template_rows": null,
       "height": null,
       "justify_content": null,
       "justify_items": null,
       "left": null,
       "margin": null,
       "max_height": null,
       "max_width": null,
       "min_height": null,
       "min_width": null,
       "object_fit": null,
       "object_position": null,
       "order": null,
       "overflow": null,
       "padding": null,
       "right": null,
       "top": null,
       "visibility": null,
       "width": null
      }
     },
     "fb387e9f3c0c44d090a76cedbbd1f330": {
      "model_module": "@jupyter-widgets/controls",
      "model_module_version": "2.0.0",
      "model_name": "HTMLStyleModel",
      "state": {
       "_model_module": "@jupyter-widgets/controls",
       "_model_module_version": "2.0.0",
       "_model_name": "HTMLStyleModel",
       "_view_count": null,
       "_view_module": "@jupyter-widgets/base",
       "_view_module_version": "2.0.0",
       "_view_name": "StyleView",
       "background": null,
       "description_width": "",
       "font_size": null,
       "text_color": null
      }
     },
     "ff3a205d15da41559edd72d33b1c8aff": {
      "model_module": "@jupyter-widgets/controls",
      "model_module_version": "2.0.0",
      "model_name": "HTMLStyleModel",
      "state": {
       "_model_module": "@jupyter-widgets/controls",
       "_model_module_version": "2.0.0",
       "_model_name": "HTMLStyleModel",
       "_view_count": null,
       "_view_module": "@jupyter-widgets/base",
       "_view_module_version": "2.0.0",
       "_view_name": "StyleView",
       "background": null,
       "description_width": "",
       "font_size": null,
       "text_color": null
      }
     }
    },
    "version_major": 2,
    "version_minor": 0
   }
  }
 },
 "nbformat": 4,
 "nbformat_minor": 5
}
